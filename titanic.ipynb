{
 "cells": [
  {
   "cell_type": "code",
   "execution_count": 1,
   "id": "a4d90333",
   "metadata": {
    "execution": {
     "iopub.execute_input": "2024-09-05T12:10:12.748828Z",
     "iopub.status.busy": "2024-09-05T12:10:12.747539Z",
     "iopub.status.idle": "2024-09-05T12:10:31.519747Z",
     "shell.execute_reply": "2024-09-05T12:10:31.518657Z"
    },
    "papermill": {
     "duration": 18.801728,
     "end_time": "2024-09-05T12:10:31.522599",
     "exception": false,
     "start_time": "2024-09-05T12:10:12.720871",
     "status": "completed"
    },
    "tags": []
   },
   "outputs": [],
   "source": [
    "import numpy as np\n",
    "import pandas as pd\n",
    "\n",
    "import matplotlib.pyplot as plt\n",
    "import seaborn as sns\n",
    "\n",
    "from sklearn.preprocessing import OneHotEncoder, OrdinalEncoder\n",
    "from sklearn.impute import SimpleImputer\n",
    "\n",
    "from sklearn.model_selection import train_test_split, GridSearchCV\n",
    "\n",
    "from sklearn.ensemble import RandomForestClassifier\n",
    "from xgboost import XGBClassifier, plot_importance\n",
    "\n",
    "import eli5\n",
    "from eli5.sklearn import PermutationImportance\n",
    "from sklearn.metrics import confusion_matrix, ConfusionMatrixDisplay, accuracy_score"
   ]
  },
  {
   "cell_type": "code",
   "execution_count": 2,
   "id": "18c4527c",
   "metadata": {
    "execution": {
     "iopub.execute_input": "2024-09-05T12:10:31.572837Z",
     "iopub.status.busy": "2024-09-05T12:10:31.571988Z",
     "iopub.status.idle": "2024-09-05T12:10:31.600122Z",
     "shell.execute_reply": "2024-09-05T12:10:31.599022Z"
    },
    "papermill": {
     "duration": 0.056977,
     "end_time": "2024-09-05T12:10:31.602692",
     "exception": false,
     "start_time": "2024-09-05T12:10:31.545715",
     "status": "completed"
    },
    "tags": []
   },
   "outputs": [],
   "source": [
    "pd.set_option('display.max_columns', None)\n",
    "\n",
    "df = pd.read_csv('/kaggle/input/titanic/train.csv')\n",
    "df_test = pd.read_csv('/kaggle/input/titanic/test.csv')"
   ]
  },
  {
   "cell_type": "markdown",
   "id": "c7dbb341",
   "metadata": {
    "papermill": {
     "duration": 0.022372,
     "end_time": "2024-09-05T12:10:31.648001",
     "exception": false,
     "start_time": "2024-09-05T12:10:31.625629",
     "status": "completed"
    },
    "tags": []
   },
   "source": [
    "# Exploratory Data Analysis"
   ]
  },
  {
   "cell_type": "code",
   "execution_count": 3,
   "id": "4761f97c",
   "metadata": {
    "execution": {
     "iopub.execute_input": "2024-09-05T12:10:31.696729Z",
     "iopub.status.busy": "2024-09-05T12:10:31.696326Z",
     "iopub.status.idle": "2024-09-05T12:10:31.727023Z",
     "shell.execute_reply": "2024-09-05T12:10:31.725713Z"
    },
    "papermill": {
     "duration": 0.05943,
     "end_time": "2024-09-05T12:10:31.729867",
     "exception": false,
     "start_time": "2024-09-05T12:10:31.670437",
     "status": "completed"
    },
    "tags": []
   },
   "outputs": [
    {
     "data": {
      "text/html": [
       "<div>\n",
       "<style scoped>\n",
       "    .dataframe tbody tr th:only-of-type {\n",
       "        vertical-align: middle;\n",
       "    }\n",
       "\n",
       "    .dataframe tbody tr th {\n",
       "        vertical-align: top;\n",
       "    }\n",
       "\n",
       "    .dataframe thead th {\n",
       "        text-align: right;\n",
       "    }\n",
       "</style>\n",
       "<table border=\"1\" class=\"dataframe\">\n",
       "  <thead>\n",
       "    <tr style=\"text-align: right;\">\n",
       "      <th></th>\n",
       "      <th>PassengerId</th>\n",
       "      <th>Survived</th>\n",
       "      <th>Pclass</th>\n",
       "      <th>Name</th>\n",
       "      <th>Sex</th>\n",
       "      <th>Age</th>\n",
       "      <th>SibSp</th>\n",
       "      <th>Parch</th>\n",
       "      <th>Ticket</th>\n",
       "      <th>Fare</th>\n",
       "      <th>Cabin</th>\n",
       "      <th>Embarked</th>\n",
       "    </tr>\n",
       "  </thead>\n",
       "  <tbody>\n",
       "    <tr>\n",
       "      <th>0</th>\n",
       "      <td>1</td>\n",
       "      <td>0</td>\n",
       "      <td>3</td>\n",
       "      <td>Braund, Mr. Owen Harris</td>\n",
       "      <td>male</td>\n",
       "      <td>22.0</td>\n",
       "      <td>1</td>\n",
       "      <td>0</td>\n",
       "      <td>A/5 21171</td>\n",
       "      <td>7.2500</td>\n",
       "      <td>NaN</td>\n",
       "      <td>S</td>\n",
       "    </tr>\n",
       "    <tr>\n",
       "      <th>1</th>\n",
       "      <td>2</td>\n",
       "      <td>1</td>\n",
       "      <td>1</td>\n",
       "      <td>Cumings, Mrs. John Bradley (Florence Briggs Th...</td>\n",
       "      <td>female</td>\n",
       "      <td>38.0</td>\n",
       "      <td>1</td>\n",
       "      <td>0</td>\n",
       "      <td>PC 17599</td>\n",
       "      <td>71.2833</td>\n",
       "      <td>C85</td>\n",
       "      <td>C</td>\n",
       "    </tr>\n",
       "    <tr>\n",
       "      <th>2</th>\n",
       "      <td>3</td>\n",
       "      <td>1</td>\n",
       "      <td>3</td>\n",
       "      <td>Heikkinen, Miss. Laina</td>\n",
       "      <td>female</td>\n",
       "      <td>26.0</td>\n",
       "      <td>0</td>\n",
       "      <td>0</td>\n",
       "      <td>STON/O2. 3101282</td>\n",
       "      <td>7.9250</td>\n",
       "      <td>NaN</td>\n",
       "      <td>S</td>\n",
       "    </tr>\n",
       "    <tr>\n",
       "      <th>3</th>\n",
       "      <td>4</td>\n",
       "      <td>1</td>\n",
       "      <td>1</td>\n",
       "      <td>Futrelle, Mrs. Jacques Heath (Lily May Peel)</td>\n",
       "      <td>female</td>\n",
       "      <td>35.0</td>\n",
       "      <td>1</td>\n",
       "      <td>0</td>\n",
       "      <td>113803</td>\n",
       "      <td>53.1000</td>\n",
       "      <td>C123</td>\n",
       "      <td>S</td>\n",
       "    </tr>\n",
       "    <tr>\n",
       "      <th>4</th>\n",
       "      <td>5</td>\n",
       "      <td>0</td>\n",
       "      <td>3</td>\n",
       "      <td>Allen, Mr. William Henry</td>\n",
       "      <td>male</td>\n",
       "      <td>35.0</td>\n",
       "      <td>0</td>\n",
       "      <td>0</td>\n",
       "      <td>373450</td>\n",
       "      <td>8.0500</td>\n",
       "      <td>NaN</td>\n",
       "      <td>S</td>\n",
       "    </tr>\n",
       "    <tr>\n",
       "      <th>5</th>\n",
       "      <td>6</td>\n",
       "      <td>0</td>\n",
       "      <td>3</td>\n",
       "      <td>Moran, Mr. James</td>\n",
       "      <td>male</td>\n",
       "      <td>NaN</td>\n",
       "      <td>0</td>\n",
       "      <td>0</td>\n",
       "      <td>330877</td>\n",
       "      <td>8.4583</td>\n",
       "      <td>NaN</td>\n",
       "      <td>Q</td>\n",
       "    </tr>\n",
       "    <tr>\n",
       "      <th>6</th>\n",
       "      <td>7</td>\n",
       "      <td>0</td>\n",
       "      <td>1</td>\n",
       "      <td>McCarthy, Mr. Timothy J</td>\n",
       "      <td>male</td>\n",
       "      <td>54.0</td>\n",
       "      <td>0</td>\n",
       "      <td>0</td>\n",
       "      <td>17463</td>\n",
       "      <td>51.8625</td>\n",
       "      <td>E46</td>\n",
       "      <td>S</td>\n",
       "    </tr>\n",
       "    <tr>\n",
       "      <th>7</th>\n",
       "      <td>8</td>\n",
       "      <td>0</td>\n",
       "      <td>3</td>\n",
       "      <td>Palsson, Master. Gosta Leonard</td>\n",
       "      <td>male</td>\n",
       "      <td>2.0</td>\n",
       "      <td>3</td>\n",
       "      <td>1</td>\n",
       "      <td>349909</td>\n",
       "      <td>21.0750</td>\n",
       "      <td>NaN</td>\n",
       "      <td>S</td>\n",
       "    </tr>\n",
       "    <tr>\n",
       "      <th>8</th>\n",
       "      <td>9</td>\n",
       "      <td>1</td>\n",
       "      <td>3</td>\n",
       "      <td>Johnson, Mrs. Oscar W (Elisabeth Vilhelmina Berg)</td>\n",
       "      <td>female</td>\n",
       "      <td>27.0</td>\n",
       "      <td>0</td>\n",
       "      <td>2</td>\n",
       "      <td>347742</td>\n",
       "      <td>11.1333</td>\n",
       "      <td>NaN</td>\n",
       "      <td>S</td>\n",
       "    </tr>\n",
       "    <tr>\n",
       "      <th>9</th>\n",
       "      <td>10</td>\n",
       "      <td>1</td>\n",
       "      <td>2</td>\n",
       "      <td>Nasser, Mrs. Nicholas (Adele Achem)</td>\n",
       "      <td>female</td>\n",
       "      <td>14.0</td>\n",
       "      <td>1</td>\n",
       "      <td>0</td>\n",
       "      <td>237736</td>\n",
       "      <td>30.0708</td>\n",
       "      <td>NaN</td>\n",
       "      <td>C</td>\n",
       "    </tr>\n",
       "  </tbody>\n",
       "</table>\n",
       "</div>"
      ],
      "text/plain": [
       "   PassengerId  Survived  Pclass  \\\n",
       "0            1         0       3   \n",
       "1            2         1       1   \n",
       "2            3         1       3   \n",
       "3            4         1       1   \n",
       "4            5         0       3   \n",
       "5            6         0       3   \n",
       "6            7         0       1   \n",
       "7            8         0       3   \n",
       "8            9         1       3   \n",
       "9           10         1       2   \n",
       "\n",
       "                                                Name     Sex   Age  SibSp  \\\n",
       "0                            Braund, Mr. Owen Harris    male  22.0      1   \n",
       "1  Cumings, Mrs. John Bradley (Florence Briggs Th...  female  38.0      1   \n",
       "2                             Heikkinen, Miss. Laina  female  26.0      0   \n",
       "3       Futrelle, Mrs. Jacques Heath (Lily May Peel)  female  35.0      1   \n",
       "4                           Allen, Mr. William Henry    male  35.0      0   \n",
       "5                                   Moran, Mr. James    male   NaN      0   \n",
       "6                            McCarthy, Mr. Timothy J    male  54.0      0   \n",
       "7                     Palsson, Master. Gosta Leonard    male   2.0      3   \n",
       "8  Johnson, Mrs. Oscar W (Elisabeth Vilhelmina Berg)  female  27.0      0   \n",
       "9                Nasser, Mrs. Nicholas (Adele Achem)  female  14.0      1   \n",
       "\n",
       "   Parch            Ticket     Fare Cabin Embarked  \n",
       "0      0         A/5 21171   7.2500   NaN        S  \n",
       "1      0          PC 17599  71.2833   C85        C  \n",
       "2      0  STON/O2. 3101282   7.9250   NaN        S  \n",
       "3      0            113803  53.1000  C123        S  \n",
       "4      0            373450   8.0500   NaN        S  \n",
       "5      0            330877   8.4583   NaN        Q  \n",
       "6      0             17463  51.8625   E46        S  \n",
       "7      1            349909  21.0750   NaN        S  \n",
       "8      2            347742  11.1333   NaN        S  \n",
       "9      0            237736  30.0708   NaN        C  "
      ]
     },
     "execution_count": 3,
     "metadata": {},
     "output_type": "execute_result"
    }
   ],
   "source": [
    "df.head(10)"
   ]
  },
  {
   "cell_type": "code",
   "execution_count": 4,
   "id": "f01a6ac1",
   "metadata": {
    "execution": {
     "iopub.execute_input": "2024-09-05T12:10:31.778283Z",
     "iopub.status.busy": "2024-09-05T12:10:31.777843Z",
     "iopub.status.idle": "2024-09-05T12:10:31.814316Z",
     "shell.execute_reply": "2024-09-05T12:10:31.813157Z"
    },
    "papermill": {
     "duration": 0.063638,
     "end_time": "2024-09-05T12:10:31.816859",
     "exception": false,
     "start_time": "2024-09-05T12:10:31.753221",
     "status": "completed"
    },
    "tags": []
   },
   "outputs": [
    {
     "data": {
      "text/html": [
       "<div>\n",
       "<style scoped>\n",
       "    .dataframe tbody tr th:only-of-type {\n",
       "        vertical-align: middle;\n",
       "    }\n",
       "\n",
       "    .dataframe tbody tr th {\n",
       "        vertical-align: top;\n",
       "    }\n",
       "\n",
       "    .dataframe thead th {\n",
       "        text-align: right;\n",
       "    }\n",
       "</style>\n",
       "<table border=\"1\" class=\"dataframe\">\n",
       "  <thead>\n",
       "    <tr style=\"text-align: right;\">\n",
       "      <th></th>\n",
       "      <th>PassengerId</th>\n",
       "      <th>Survived</th>\n",
       "      <th>Pclass</th>\n",
       "      <th>Age</th>\n",
       "      <th>SibSp</th>\n",
       "      <th>Parch</th>\n",
       "      <th>Fare</th>\n",
       "    </tr>\n",
       "  </thead>\n",
       "  <tbody>\n",
       "    <tr>\n",
       "      <th>count</th>\n",
       "      <td>891.000000</td>\n",
       "      <td>891.000000</td>\n",
       "      <td>891.000000</td>\n",
       "      <td>714.000000</td>\n",
       "      <td>891.000000</td>\n",
       "      <td>891.000000</td>\n",
       "      <td>891.000000</td>\n",
       "    </tr>\n",
       "    <tr>\n",
       "      <th>mean</th>\n",
       "      <td>446.000000</td>\n",
       "      <td>0.383838</td>\n",
       "      <td>2.308642</td>\n",
       "      <td>29.699118</td>\n",
       "      <td>0.523008</td>\n",
       "      <td>0.381594</td>\n",
       "      <td>32.204208</td>\n",
       "    </tr>\n",
       "    <tr>\n",
       "      <th>std</th>\n",
       "      <td>257.353842</td>\n",
       "      <td>0.486592</td>\n",
       "      <td>0.836071</td>\n",
       "      <td>14.526497</td>\n",
       "      <td>1.102743</td>\n",
       "      <td>0.806057</td>\n",
       "      <td>49.693429</td>\n",
       "    </tr>\n",
       "    <tr>\n",
       "      <th>min</th>\n",
       "      <td>1.000000</td>\n",
       "      <td>0.000000</td>\n",
       "      <td>1.000000</td>\n",
       "      <td>0.420000</td>\n",
       "      <td>0.000000</td>\n",
       "      <td>0.000000</td>\n",
       "      <td>0.000000</td>\n",
       "    </tr>\n",
       "    <tr>\n",
       "      <th>25%</th>\n",
       "      <td>223.500000</td>\n",
       "      <td>0.000000</td>\n",
       "      <td>2.000000</td>\n",
       "      <td>20.125000</td>\n",
       "      <td>0.000000</td>\n",
       "      <td>0.000000</td>\n",
       "      <td>7.910400</td>\n",
       "    </tr>\n",
       "    <tr>\n",
       "      <th>50%</th>\n",
       "      <td>446.000000</td>\n",
       "      <td>0.000000</td>\n",
       "      <td>3.000000</td>\n",
       "      <td>28.000000</td>\n",
       "      <td>0.000000</td>\n",
       "      <td>0.000000</td>\n",
       "      <td>14.454200</td>\n",
       "    </tr>\n",
       "    <tr>\n",
       "      <th>75%</th>\n",
       "      <td>668.500000</td>\n",
       "      <td>1.000000</td>\n",
       "      <td>3.000000</td>\n",
       "      <td>38.000000</td>\n",
       "      <td>1.000000</td>\n",
       "      <td>0.000000</td>\n",
       "      <td>31.000000</td>\n",
       "    </tr>\n",
       "    <tr>\n",
       "      <th>max</th>\n",
       "      <td>891.000000</td>\n",
       "      <td>1.000000</td>\n",
       "      <td>3.000000</td>\n",
       "      <td>80.000000</td>\n",
       "      <td>8.000000</td>\n",
       "      <td>6.000000</td>\n",
       "      <td>512.329200</td>\n",
       "    </tr>\n",
       "  </tbody>\n",
       "</table>\n",
       "</div>"
      ],
      "text/plain": [
       "       PassengerId    Survived      Pclass         Age       SibSp  \\\n",
       "count   891.000000  891.000000  891.000000  714.000000  891.000000   \n",
       "mean    446.000000    0.383838    2.308642   29.699118    0.523008   \n",
       "std     257.353842    0.486592    0.836071   14.526497    1.102743   \n",
       "min       1.000000    0.000000    1.000000    0.420000    0.000000   \n",
       "25%     223.500000    0.000000    2.000000   20.125000    0.000000   \n",
       "50%     446.000000    0.000000    3.000000   28.000000    0.000000   \n",
       "75%     668.500000    1.000000    3.000000   38.000000    1.000000   \n",
       "max     891.000000    1.000000    3.000000   80.000000    8.000000   \n",
       "\n",
       "            Parch        Fare  \n",
       "count  891.000000  891.000000  \n",
       "mean     0.381594   32.204208  \n",
       "std      0.806057   49.693429  \n",
       "min      0.000000    0.000000  \n",
       "25%      0.000000    7.910400  \n",
       "50%      0.000000   14.454200  \n",
       "75%      0.000000   31.000000  \n",
       "max      6.000000  512.329200  "
      ]
     },
     "execution_count": 4,
     "metadata": {},
     "output_type": "execute_result"
    }
   ],
   "source": [
    "df.describe()"
   ]
  },
  {
   "cell_type": "code",
   "execution_count": 5,
   "id": "ae3dfa12",
   "metadata": {
    "execution": {
     "iopub.execute_input": "2024-09-05T12:10:31.865969Z",
     "iopub.status.busy": "2024-09-05T12:10:31.864864Z",
     "iopub.status.idle": "2024-09-05T12:10:31.887777Z",
     "shell.execute_reply": "2024-09-05T12:10:31.886691Z"
    },
    "papermill": {
     "duration": 0.050275,
     "end_time": "2024-09-05T12:10:31.890241",
     "exception": false,
     "start_time": "2024-09-05T12:10:31.839966",
     "status": "completed"
    },
    "tags": []
   },
   "outputs": [
    {
     "name": "stdout",
     "output_type": "stream",
     "text": [
      "<class 'pandas.core.frame.DataFrame'>\n",
      "RangeIndex: 891 entries, 0 to 890\n",
      "Data columns (total 12 columns):\n",
      " #   Column       Non-Null Count  Dtype  \n",
      "---  ------       --------------  -----  \n",
      " 0   PassengerId  891 non-null    int64  \n",
      " 1   Survived     891 non-null    int64  \n",
      " 2   Pclass       891 non-null    int64  \n",
      " 3   Name         891 non-null    object \n",
      " 4   Sex          891 non-null    object \n",
      " 5   Age          714 non-null    float64\n",
      " 6   SibSp        891 non-null    int64  \n",
      " 7   Parch        891 non-null    int64  \n",
      " 8   Ticket       891 non-null    object \n",
      " 9   Fare         891 non-null    float64\n",
      " 10  Cabin        204 non-null    object \n",
      " 11  Embarked     889 non-null    object \n",
      "dtypes: float64(2), int64(5), object(5)\n",
      "memory usage: 83.7+ KB\n"
     ]
    }
   ],
   "source": [
    "df.info()"
   ]
  },
  {
   "cell_type": "code",
   "execution_count": 6,
   "id": "2836f86d",
   "metadata": {
    "execution": {
     "iopub.execute_input": "2024-09-05T12:10:31.939451Z",
     "iopub.status.busy": "2024-09-05T12:10:31.939046Z",
     "iopub.status.idle": "2024-09-05T12:10:31.950835Z",
     "shell.execute_reply": "2024-09-05T12:10:31.949726Z"
    },
    "papermill": {
     "duration": 0.039691,
     "end_time": "2024-09-05T12:10:31.953600",
     "exception": false,
     "start_time": "2024-09-05T12:10:31.913909",
     "status": "completed"
    },
    "tags": []
   },
   "outputs": [
    {
     "name": "stdout",
     "output_type": "stream",
     "text": [
      "<class 'pandas.core.frame.DataFrame'>\n",
      "RangeIndex: 418 entries, 0 to 417\n",
      "Data columns (total 11 columns):\n",
      " #   Column       Non-Null Count  Dtype  \n",
      "---  ------       --------------  -----  \n",
      " 0   PassengerId  418 non-null    int64  \n",
      " 1   Pclass       418 non-null    int64  \n",
      " 2   Name         418 non-null    object \n",
      " 3   Sex          418 non-null    object \n",
      " 4   Age          332 non-null    float64\n",
      " 5   SibSp        418 non-null    int64  \n",
      " 6   Parch        418 non-null    int64  \n",
      " 7   Ticket       418 non-null    object \n",
      " 8   Fare         417 non-null    float64\n",
      " 9   Cabin        91 non-null     object \n",
      " 10  Embarked     418 non-null    object \n",
      "dtypes: float64(2), int64(4), object(5)\n",
      "memory usage: 36.0+ KB\n"
     ]
    }
   ],
   "source": [
    "df_test.info()"
   ]
  },
  {
   "cell_type": "code",
   "execution_count": 7,
   "id": "55f4216c",
   "metadata": {
    "execution": {
     "iopub.execute_input": "2024-09-05T12:10:32.004685Z",
     "iopub.status.busy": "2024-09-05T12:10:32.004260Z",
     "iopub.status.idle": "2024-09-05T12:10:32.014503Z",
     "shell.execute_reply": "2024-09-05T12:10:32.012434Z"
    },
    "papermill": {
     "duration": 0.038554,
     "end_time": "2024-09-05T12:10:32.017282",
     "exception": false,
     "start_time": "2024-09-05T12:10:31.978728",
     "status": "completed"
    },
    "tags": []
   },
   "outputs": [
    {
     "data": {
      "text/plain": [
       "(891, 12)"
      ]
     },
     "execution_count": 7,
     "metadata": {},
     "output_type": "execute_result"
    }
   ],
   "source": [
    "df.shape"
   ]
  },
  {
   "cell_type": "code",
   "execution_count": 8,
   "id": "4df350b3",
   "metadata": {
    "execution": {
     "iopub.execute_input": "2024-09-05T12:10:32.068585Z",
     "iopub.status.busy": "2024-09-05T12:10:32.068155Z",
     "iopub.status.idle": "2024-09-05T12:10:32.075234Z",
     "shell.execute_reply": "2024-09-05T12:10:32.074113Z"
    },
    "papermill": {
     "duration": 0.034223,
     "end_time": "2024-09-05T12:10:32.077598",
     "exception": false,
     "start_time": "2024-09-05T12:10:32.043375",
     "status": "completed"
    },
    "tags": []
   },
   "outputs": [
    {
     "data": {
      "text/plain": [
       "(418, 11)"
      ]
     },
     "execution_count": 8,
     "metadata": {},
     "output_type": "execute_result"
    }
   ],
   "source": [
    "df_test.shape"
   ]
  },
  {
   "cell_type": "code",
   "execution_count": 9,
   "id": "5098880c",
   "metadata": {
    "execution": {
     "iopub.execute_input": "2024-09-05T12:10:32.126990Z",
     "iopub.status.busy": "2024-09-05T12:10:32.126552Z",
     "iopub.status.idle": "2024-09-05T12:10:32.135499Z",
     "shell.execute_reply": "2024-09-05T12:10:32.134395Z"
    },
    "papermill": {
     "duration": 0.036742,
     "end_time": "2024-09-05T12:10:32.137898",
     "exception": false,
     "start_time": "2024-09-05T12:10:32.101156",
     "status": "completed"
    },
    "tags": []
   },
   "outputs": [
    {
     "name": "stdout",
     "output_type": "stream",
     "text": [
      "[0 1]\n",
      "[3 1 2]\n",
      "[1 0 3 4 2 5 8]\n",
      "[0 1 2 5 3 4 6]\n"
     ]
    }
   ],
   "source": [
    "print(df.Survived.unique())\n",
    "print(df.Pclass.unique())\n",
    "print(df.SibSp.unique())\n",
    "print(df.Parch.unique())"
   ]
  },
  {
   "cell_type": "code",
   "execution_count": 10,
   "id": "849c744f",
   "metadata": {
    "execution": {
     "iopub.execute_input": "2024-09-05T12:10:32.188170Z",
     "iopub.status.busy": "2024-09-05T12:10:32.187723Z",
     "iopub.status.idle": "2024-09-05T12:10:32.458886Z",
     "shell.execute_reply": "2024-09-05T12:10:32.457689Z"
    },
    "papermill": {
     "duration": 0.299647,
     "end_time": "2024-09-05T12:10:32.461766",
     "exception": false,
     "start_time": "2024-09-05T12:10:32.162119",
     "status": "completed"
    },
    "tags": []
   },
   "outputs": [
    {
     "data": {
      "text/plain": [
       "Text(0.5, 0, 'Survived or Not survived')"
      ]
     },
     "execution_count": 10,
     "metadata": {},
     "output_type": "execute_result"
    },
    {
     "data": {
      "image/png": "[encoded data removed]",
      "text/plain": [
       "<Figure size 640x480 with 1 Axes>"
      ]
     },
     "metadata": {},
     "output_type": "display_data"
    }
   ],
   "source": [
    "sns.countplot(x = df.Survived)\n",
    "plt.title(\"Survival count\")\n",
    "plt.xlabel('Survived or Not survived')"
   ]
  },
  {
   "cell_type": "code",
   "execution_count": 11,
   "id": "7bfece5f",
   "metadata": {
    "execution": {
     "iopub.execute_input": "2024-09-05T12:10:32.512955Z",
     "iopub.status.busy": "2024-09-05T12:10:32.512532Z",
     "iopub.status.idle": "2024-09-05T12:10:32.825743Z",
     "shell.execute_reply": "2024-09-05T12:10:32.824371Z"
    },
    "papermill": {
     "duration": 0.342629,
     "end_time": "2024-09-05T12:10:32.828432",
     "exception": false,
     "start_time": "2024-09-05T12:10:32.485803",
     "status": "completed"
    },
    "tags": []
   },
   "outputs": [
    {
     "data": {
      "text/plain": [
       "<matplotlib.legend.Legend at 0x7c632181da80>"
      ]
     },
     "execution_count": 11,
     "metadata": {},
     "output_type": "execute_result"
    },
    {
     "data": {
      "image/png": "[encoded data removed]",
      "text/plain": [
       "<Figure size 640x480 with 1 Axes>"
      ]
     },
     "metadata": {},
     "output_type": "display_data"
    }
   ],
   "source": [
    "sns.countplot(x = df.Pclass, hue = df.Survived)\n",
    "plt.title(\"Survival by class\")\n",
    "plt.legend(labels = ['Not Survived', 'Survived'])"
   ]
  },
  {
   "cell_type": "code",
   "execution_count": 12,
   "id": "4513fdf3",
   "metadata": {
    "execution": {
     "iopub.execute_input": "2024-09-05T12:10:32.879873Z",
     "iopub.status.busy": "2024-09-05T12:10:32.879454Z",
     "iopub.status.idle": "2024-09-05T12:10:33.107487Z",
     "shell.execute_reply": "2024-09-05T12:10:33.106363Z"
    },
    "papermill": {
     "duration": 0.256843,
     "end_time": "2024-09-05T12:10:33.109984",
     "exception": false,
     "start_time": "2024-09-05T12:10:32.853141",
     "status": "completed"
    },
    "tags": []
   },
   "outputs": [
    {
     "data": {
      "text/plain": [
       "<matplotlib.legend.Legend at 0x7c63215e8a90>"
      ]
     },
     "execution_count": 12,
     "metadata": {},
     "output_type": "execute_result"
    },
    {
     "data": {
      "image/png": "[encoded data removed]",
      "text/plain": [
       "<Figure size 640x480 with 1 Axes>"
      ]
     },
     "metadata": {},
     "output_type": "display_data"
    }
   ],
   "source": [
    "sns.countplot(x = df.Sex, hue = df.Survived)\n",
    "plt.title('Survival by gender')\n",
    "plt.legend(labels = ['Not Survived', 'Survived'])"
   ]
  },
  {
   "cell_type": "code",
   "execution_count": 13,
   "id": "be4a71a2",
   "metadata": {
    "execution": {
     "iopub.execute_input": "2024-09-05T12:10:33.164221Z",
     "iopub.status.busy": "2024-09-05T12:10:33.162820Z",
     "iopub.status.idle": "2024-09-05T12:10:33.463074Z",
     "shell.execute_reply": "2024-09-05T12:10:33.461826Z"
    },
    "papermill": {
     "duration": 0.329818,
     "end_time": "2024-09-05T12:10:33.465717",
     "exception": false,
     "start_time": "2024-09-05T12:10:33.135899",
     "status": "completed"
    },
    "tags": []
   },
   "outputs": [
    {
     "data": {
      "text/plain": [
       "<matplotlib.legend.Legend at 0x7c63216bbf40>"
      ]
     },
     "execution_count": 13,
     "metadata": {},
     "output_type": "execute_result"
    },
    {
     "data": {
      "image/png": "[encoded data removed]",
      "text/plain": [
       "<Figure size 640x480 with 1 Axes>"
      ]
     },
     "metadata": {},
     "output_type": "display_data"
    }
   ],
   "source": [
    "sns.countplot(x = df.Embarked, hue = df.Survived)\n",
    "plt.title('Survival by port of embarkation')\n",
    "plt.legend(labels = ['Not Survived', 'Survived'])"
   ]
  },
  {
   "cell_type": "markdown",
   "id": "d99b4013",
   "metadata": {
    "papermill": {
     "duration": 0.025407,
     "end_time": "2024-09-05T12:10:33.516901",
     "exception": false,
     "start_time": "2024-09-05T12:10:33.491494",
     "status": "completed"
    },
    "tags": []
   },
   "source": [
    "# Data preprocessing"
   ]
  },
  {
   "cell_type": "markdown",
   "id": "4c3b7b2b",
   "metadata": {
    "papermill": {
     "duration": 0.025379,
     "end_time": "2024-09-05T12:10:33.567836",
     "exception": false,
     "start_time": "2024-09-05T12:10:33.542457",
     "status": "completed"
    },
    "tags": []
   },
   "source": [
    "## a) Null values"
   ]
  },
  {
   "cell_type": "code",
   "execution_count": 14,
   "id": "e06f66cb",
   "metadata": {
    "execution": {
     "iopub.execute_input": "2024-09-05T12:10:33.676776Z",
     "iopub.status.busy": "2024-09-05T12:10:33.676336Z",
     "iopub.status.idle": "2024-09-05T12:10:33.685872Z",
     "shell.execute_reply": "2024-09-05T12:10:33.684738Z"
    },
    "papermill": {
     "duration": 0.039253,
     "end_time": "2024-09-05T12:10:33.688143",
     "exception": false,
     "start_time": "2024-09-05T12:10:33.648890",
     "status": "completed"
    },
    "tags": []
   },
   "outputs": [
    {
     "data": {
      "text/plain": [
       "PassengerId      0\n",
       "Survived         0\n",
       "Pclass           0\n",
       "Name             0\n",
       "Sex              0\n",
       "Age            177\n",
       "SibSp            0\n",
       "Parch            0\n",
       "Ticket           0\n",
       "Fare             0\n",
       "Cabin          687\n",
       "Embarked         2\n",
       "dtype: int64"
      ]
     },
     "execution_count": 14,
     "metadata": {},
     "output_type": "execute_result"
    }
   ],
   "source": [
    "df.isna().sum()"
   ]
  },
  {
   "cell_type": "code",
   "execution_count": 15,
   "id": "6a0de277",
   "metadata": {
    "execution": {
     "iopub.execute_input": "2024-09-05T12:10:33.743809Z",
     "iopub.status.busy": "2024-09-05T12:10:33.743393Z",
     "iopub.status.idle": "2024-09-05T12:10:33.752859Z",
     "shell.execute_reply": "2024-09-05T12:10:33.751722Z"
    },
    "papermill": {
     "duration": 0.039573,
     "end_time": "2024-09-05T12:10:33.755128",
     "exception": false,
     "start_time": "2024-09-05T12:10:33.715555",
     "status": "completed"
    },
    "tags": []
   },
   "outputs": [
    {
     "data": {
      "text/plain": [
       "PassengerId      0\n",
       "Pclass           0\n",
       "Name             0\n",
       "Sex              0\n",
       "Age             86\n",
       "SibSp            0\n",
       "Parch            0\n",
       "Ticket           0\n",
       "Fare             1\n",
       "Cabin          327\n",
       "Embarked         0\n",
       "dtype: int64"
      ]
     },
     "execution_count": 15,
     "metadata": {},
     "output_type": "execute_result"
    }
   ],
   "source": [
    "df_test.isna().sum()"
   ]
  },
  {
   "cell_type": "markdown",
   "id": "36aa22a6",
   "metadata": {
    "papermill": {
     "duration": 0.025704,
     "end_time": "2024-09-05T12:10:33.807173",
     "exception": false,
     "start_time": "2024-09-05T12:10:33.781469",
     "status": "completed"
    },
    "tags": []
   },
   "source": [
    "**1. Embarked**"
   ]
  },
  {
   "cell_type": "code",
   "execution_count": 16,
   "id": "e04b7cf2",
   "metadata": {
    "execution": {
     "iopub.execute_input": "2024-09-05T12:10:33.861015Z",
     "iopub.status.busy": "2024-09-05T12:10:33.860570Z",
     "iopub.status.idle": "2024-09-05T12:10:33.879718Z",
     "shell.execute_reply": "2024-09-05T12:10:33.878491Z"
    },
    "papermill": {
     "duration": 0.049198,
     "end_time": "2024-09-05T12:10:33.882419",
     "exception": false,
     "start_time": "2024-09-05T12:10:33.833221",
     "status": "completed"
    },
    "tags": []
   },
   "outputs": [
    {
     "data": {
      "text/html": [
       "<div>\n",
       "<style scoped>\n",
       "    .dataframe tbody tr th:only-of-type {\n",
       "        vertical-align: middle;\n",
       "    }\n",
       "\n",
       "    .dataframe tbody tr th {\n",
       "        vertical-align: top;\n",
       "    }\n",
       "\n",
       "    .dataframe thead th {\n",
       "        text-align: right;\n",
       "    }\n",
       "</style>\n",
       "<table border=\"1\" class=\"dataframe\">\n",
       "  <thead>\n",
       "    <tr style=\"text-align: right;\">\n",
       "      <th></th>\n",
       "      <th>PassengerId</th>\n",
       "      <th>Survived</th>\n",
       "      <th>Pclass</th>\n",
       "      <th>Name</th>\n",
       "      <th>Sex</th>\n",
       "      <th>Age</th>\n",
       "      <th>SibSp</th>\n",
       "      <th>Parch</th>\n",
       "      <th>Ticket</th>\n",
       "      <th>Fare</th>\n",
       "      <th>Cabin</th>\n",
       "      <th>Embarked</th>\n",
       "    </tr>\n",
       "  </thead>\n",
       "  <tbody>\n",
       "    <tr>\n",
       "      <th>61</th>\n",
       "      <td>62</td>\n",
       "      <td>1</td>\n",
       "      <td>1</td>\n",
       "      <td>Icard, Miss. Amelie</td>\n",
       "      <td>female</td>\n",
       "      <td>38.0</td>\n",
       "      <td>0</td>\n",
       "      <td>0</td>\n",
       "      <td>113572</td>\n",
       "      <td>80.0</td>\n",
       "      <td>B28</td>\n",
       "      <td>NaN</td>\n",
       "    </tr>\n",
       "    <tr>\n",
       "      <th>829</th>\n",
       "      <td>830</td>\n",
       "      <td>1</td>\n",
       "      <td>1</td>\n",
       "      <td>Stone, Mrs. George Nelson (Martha Evelyn)</td>\n",
       "      <td>female</td>\n",
       "      <td>62.0</td>\n",
       "      <td>0</td>\n",
       "      <td>0</td>\n",
       "      <td>113572</td>\n",
       "      <td>80.0</td>\n",
       "      <td>B28</td>\n",
       "      <td>NaN</td>\n",
       "    </tr>\n",
       "  </tbody>\n",
       "</table>\n",
       "</div>"
      ],
      "text/plain": [
       "     PassengerId  Survived  Pclass                                       Name  \\\n",
       "61            62         1       1                        Icard, Miss. Amelie   \n",
       "829          830         1       1  Stone, Mrs. George Nelson (Martha Evelyn)   \n",
       "\n",
       "        Sex   Age  SibSp  Parch  Ticket  Fare Cabin Embarked  \n",
       "61   female  38.0      0      0  113572  80.0   B28      NaN  \n",
       "829  female  62.0      0      0  113572  80.0   B28      NaN  "
      ]
     },
     "execution_count": 16,
     "metadata": {},
     "output_type": "execute_result"
    }
   ],
   "source": [
    "embarked_is_null = df[df.Embarked.isnull()]\n",
    "embarked_is_null"
   ]
  },
  {
   "cell_type": "code",
   "execution_count": 17,
   "id": "79dfe3d1",
   "metadata": {
    "execution": {
     "iopub.execute_input": "2024-09-05T12:10:33.943578Z",
     "iopub.status.busy": "2024-09-05T12:10:33.943043Z",
     "iopub.status.idle": "2024-09-05T12:10:33.952368Z",
     "shell.execute_reply": "2024-09-05T12:10:33.950612Z"
    },
    "papermill": {
     "duration": 0.046081,
     "end_time": "2024-09-05T12:10:33.955424",
     "exception": false,
     "start_time": "2024-09-05T12:10:33.909343",
     "status": "completed"
    },
    "tags": []
   },
   "outputs": [],
   "source": [
    "df['Embarked'] = df.Embarked.fillna(df.Embarked.mode()[0])"
   ]
  },
  {
   "cell_type": "code",
   "execution_count": 18,
   "id": "6e302a36",
   "metadata": {
    "execution": {
     "iopub.execute_input": "2024-09-05T12:10:34.040894Z",
     "iopub.status.busy": "2024-09-05T12:10:34.039814Z",
     "iopub.status.idle": "2024-09-05T12:10:34.045769Z",
     "shell.execute_reply": "2024-09-05T12:10:34.044454Z"
    },
    "papermill": {
     "duration": 0.046047,
     "end_time": "2024-09-05T12:10:34.048546",
     "exception": false,
     "start_time": "2024-09-05T12:10:34.002499",
     "status": "completed"
    },
    "tags": []
   },
   "outputs": [],
   "source": [
    "#df.dropna(subset = ['Embarked'], inplace = True)"
   ]
  },
  {
   "cell_type": "markdown",
   "id": "2d623fca",
   "metadata": {
    "papermill": {
     "duration": 0.025971,
     "end_time": "2024-09-05T12:10:34.100646",
     "exception": false,
     "start_time": "2024-09-05T12:10:34.074675",
     "status": "completed"
    },
    "tags": []
   },
   "source": [
    "**2. Age**"
   ]
  },
  {
   "cell_type": "code",
   "execution_count": 19,
   "id": "e0f762b8",
   "metadata": {
    "execution": {
     "iopub.execute_input": "2024-09-05T12:10:34.155002Z",
     "iopub.status.busy": "2024-09-05T12:10:34.154593Z",
     "iopub.status.idle": "2024-09-05T12:10:34.530497Z",
     "shell.execute_reply": "2024-09-05T12:10:34.529414Z"
    },
    "papermill": {
     "duration": 0.405976,
     "end_time": "2024-09-05T12:10:34.532975",
     "exception": false,
     "start_time": "2024-09-05T12:10:34.126999",
     "status": "completed"
    },
    "tags": []
   },
   "outputs": [
    {
     "name": "stderr",
     "output_type": "stream",
     "text": [
      "/opt/conda/lib/python3.10/site-packages/seaborn/_oldcore.py:1119: FutureWarning: use_inf_as_na option is deprecated and will be removed in a future version. Convert inf values to NaN before operating instead.\n",
      "  with pd.option_context('mode.use_inf_as_na', True):\n"
     ]
    },
    {
     "data": {
      "text/plain": [
       "<Axes: xlabel='Age', ylabel='Count'>"
      ]
     },
     "execution_count": 19,
     "metadata": {},
     "output_type": "execute_result"
    },
    {
     "data": {
      "image/png": "[encoded data removed]",
      "text/plain": [
       "<Figure size 640x480 with 1 Axes>"
      ]
     },
     "metadata": {},
     "output_type": "display_data"
    }
   ],
   "source": [
    "sns.histplot(x = 'Age', data = df, bins = 10, kde = True)"
   ]
  },
  {
   "cell_type": "code",
   "execution_count": 20,
   "id": "07acc609",
   "metadata": {
    "execution": {
     "iopub.execute_input": "2024-09-05T12:10:34.590298Z",
     "iopub.status.busy": "2024-09-05T12:10:34.589871Z",
     "iopub.status.idle": "2024-09-05T12:10:34.599300Z",
     "shell.execute_reply": "2024-09-05T12:10:34.598013Z"
    },
    "papermill": {
     "duration": 0.041643,
     "end_time": "2024-09-05T12:10:34.601883",
     "exception": false,
     "start_time": "2024-09-05T12:10:34.560240",
     "status": "completed"
    },
    "tags": []
   },
   "outputs": [
    {
     "data": {
      "text/plain": [
       "24.0"
      ]
     },
     "execution_count": 20,
     "metadata": {},
     "output_type": "execute_result"
    }
   ],
   "source": [
    "age_mode = df.Age.mode()[0]\n",
    "age_mode"
   ]
  },
  {
   "cell_type": "code",
   "execution_count": 21,
   "id": "b2d58b26",
   "metadata": {
    "execution": {
     "iopub.execute_input": "2024-09-05T12:10:34.658518Z",
     "iopub.status.busy": "2024-09-05T12:10:34.658113Z",
     "iopub.status.idle": "2024-09-05T12:10:34.671366Z",
     "shell.execute_reply": "2024-09-05T12:10:34.670139Z"
    },
    "papermill": {
     "duration": 0.044784,
     "end_time": "2024-09-05T12:10:34.674217",
     "exception": false,
     "start_time": "2024-09-05T12:10:34.629433",
     "status": "completed"
    },
    "tags": []
   },
   "outputs": [],
   "source": [
    "imputer_age = SimpleImputer(strategy = 'most_frequent')\n",
    "df['Age'] = imputer_age.fit_transform(df[['Age']])\n",
    "\n",
    "# OR\n",
    "\n",
    "#df.Age = df.Age.fillna(age_mode)"
   ]
  },
  {
   "cell_type": "code",
   "execution_count": 22,
   "id": "27f39f71",
   "metadata": {
    "execution": {
     "iopub.execute_input": "2024-09-05T12:10:34.730174Z",
     "iopub.status.busy": "2024-09-05T12:10:34.729759Z",
     "iopub.status.idle": "2024-09-05T12:10:34.735761Z",
     "shell.execute_reply": "2024-09-05T12:10:34.734581Z"
    },
    "papermill": {
     "duration": 0.036314,
     "end_time": "2024-09-05T12:10:34.738089",
     "exception": false,
     "start_time": "2024-09-05T12:10:34.701775",
     "status": "completed"
    },
    "tags": []
   },
   "outputs": [],
   "source": [
    "df_test.Age = df_test.Age.fillna(age_mode)"
   ]
  },
  {
   "cell_type": "markdown",
   "id": "c463ac8f",
   "metadata": {
    "papermill": {
     "duration": 0.027765,
     "end_time": "2024-09-05T12:10:34.793380",
     "exception": false,
     "start_time": "2024-09-05T12:10:34.765615",
     "status": "completed"
    },
    "tags": []
   },
   "source": [
    "**3. Fare**"
   ]
  },
  {
   "cell_type": "code",
   "execution_count": 23,
   "id": "10a535b5",
   "metadata": {
    "execution": {
     "iopub.execute_input": "2024-09-05T12:10:34.848928Z",
     "iopub.status.busy": "2024-09-05T12:10:34.848520Z",
     "iopub.status.idle": "2024-09-05T12:10:34.856428Z",
     "shell.execute_reply": "2024-09-05T12:10:34.855001Z"
    },
    "papermill": {
     "duration": 0.03879,
     "end_time": "2024-09-05T12:10:34.859055",
     "exception": false,
     "start_time": "2024-09-05T12:10:34.820265",
     "status": "completed"
    },
    "tags": []
   },
   "outputs": [],
   "source": [
    "df_test.dropna(subset = ['Fare'], inplace = True)"
   ]
  },
  {
   "cell_type": "markdown",
   "id": "c4e71c64",
   "metadata": {
    "papermill": {
     "duration": 0.026699,
     "end_time": "2024-09-05T12:10:34.912696",
     "exception": false,
     "start_time": "2024-09-05T12:10:34.885997",
     "status": "completed"
    },
    "tags": []
   },
   "source": [
    "## b) Encoding categorical features"
   ]
  },
  {
   "cell_type": "code",
   "execution_count": 24,
   "id": "940ae3fc",
   "metadata": {
    "execution": {
     "iopub.execute_input": "2024-09-05T12:10:34.968097Z",
     "iopub.status.busy": "2024-09-05T12:10:34.967681Z",
     "iopub.status.idle": "2024-09-05T12:10:34.976726Z",
     "shell.execute_reply": "2024-09-05T12:10:34.975579Z"
    },
    "papermill": {
     "duration": 0.039678,
     "end_time": "2024-09-05T12:10:34.979085",
     "exception": false,
     "start_time": "2024-09-05T12:10:34.939407",
     "status": "completed"
    },
    "tags": []
   },
   "outputs": [
    {
     "data": {
      "text/plain": [
       "['Name', 'Sex', 'Ticket', 'Cabin', 'Embarked']"
      ]
     },
     "execution_count": 24,
     "metadata": {},
     "output_type": "execute_result"
    }
   ],
   "source": [
    "categorical_cols = [df.select_dtypes(include = 'object').columns][0].to_list()\n",
    "categorical_cols"
   ]
  },
  {
   "cell_type": "markdown",
   "id": "ed7d9251",
   "metadata": {
    "papermill": {
     "duration": 0.026642,
     "end_time": "2024-09-05T12:10:35.032904",
     "exception": false,
     "start_time": "2024-09-05T12:10:35.006262",
     "status": "completed"
    },
    "tags": []
   },
   "source": [
    "**1. Dropping name**"
   ]
  },
  {
   "cell_type": "code",
   "execution_count": 25,
   "id": "85617928",
   "metadata": {
    "execution": {
     "iopub.execute_input": "2024-09-05T12:10:35.094242Z",
     "iopub.status.busy": "2024-09-05T12:10:35.093736Z",
     "iopub.status.idle": "2024-09-05T12:10:35.104683Z",
     "shell.execute_reply": "2024-09-05T12:10:35.103433Z"
    },
    "papermill": {
     "duration": 0.04749,
     "end_time": "2024-09-05T12:10:35.107491",
     "exception": false,
     "start_time": "2024-09-05T12:10:35.060001",
     "status": "completed"
    },
    "tags": []
   },
   "outputs": [
    {
     "data": {
      "text/plain": [
       "0                                Braund, Mr. Owen Harris\n",
       "1      Cumings, Mrs. John Bradley (Florence Briggs Th...\n",
       "2                                 Heikkinen, Miss. Laina\n",
       "3           Futrelle, Mrs. Jacques Heath (Lily May Peel)\n",
       "4                               Allen, Mr. William Henry\n",
       "                             ...                        \n",
       "886                                Montvila, Rev. Juozas\n",
       "887                         Graham, Miss. Margaret Edith\n",
       "888             Johnston, Miss. Catherine Helen \"Carrie\"\n",
       "889                                Behr, Mr. Karl Howell\n",
       "890                                  Dooley, Mr. Patrick\n",
       "Name: Name, Length: 891, dtype: object"
      ]
     },
     "execution_count": 25,
     "metadata": {},
     "output_type": "execute_result"
    }
   ],
   "source": [
    "df.pop('Name')"
   ]
  },
  {
   "cell_type": "code",
   "execution_count": 26,
   "id": "5011217f",
   "metadata": {
    "execution": {
     "iopub.execute_input": "2024-09-05T12:10:35.166572Z",
     "iopub.status.busy": "2024-09-05T12:10:35.166132Z",
     "iopub.status.idle": "2024-09-05T12:10:35.176506Z",
     "shell.execute_reply": "2024-09-05T12:10:35.175256Z"
    },
    "papermill": {
     "duration": 0.04324,
     "end_time": "2024-09-05T12:10:35.179366",
     "exception": false,
     "start_time": "2024-09-05T12:10:35.136126",
     "status": "completed"
    },
    "tags": []
   },
   "outputs": [
    {
     "data": {
      "text/plain": [
       "0                                  Kelly, Mr. James\n",
       "1                  Wilkes, Mrs. James (Ellen Needs)\n",
       "2                         Myles, Mr. Thomas Francis\n",
       "3                                  Wirz, Mr. Albert\n",
       "4      Hirvonen, Mrs. Alexander (Helga E Lindqvist)\n",
       "                           ...                     \n",
       "413                              Spector, Mr. Woolf\n",
       "414                    Oliva y Ocana, Dona. Fermina\n",
       "415                    Saether, Mr. Simon Sivertsen\n",
       "416                             Ware, Mr. Frederick\n",
       "417                        Peter, Master. Michael J\n",
       "Name: Name, Length: 417, dtype: object"
      ]
     },
     "execution_count": 26,
     "metadata": {},
     "output_type": "execute_result"
    }
   ],
   "source": [
    "df_test.pop('Name')"
   ]
  },
  {
   "cell_type": "markdown",
   "id": "5c699779",
   "metadata": {
    "papermill": {
     "duration": 0.02725,
     "end_time": "2024-09-05T12:10:35.234469",
     "exception": false,
     "start_time": "2024-09-05T12:10:35.207219",
     "status": "completed"
    },
    "tags": []
   },
   "source": [
    "**2. Encoding sex and embarked features**"
   ]
  },
  {
   "cell_type": "code",
   "execution_count": 27,
   "id": "5466e2ad",
   "metadata": {
    "execution": {
     "iopub.execute_input": "2024-09-05T12:10:35.291149Z",
     "iopub.status.busy": "2024-09-05T12:10:35.290722Z",
     "iopub.status.idle": "2024-09-05T12:10:35.295803Z",
     "shell.execute_reply": "2024-09-05T12:10:35.294527Z"
    },
    "papermill": {
     "duration": 0.035916,
     "end_time": "2024-09-05T12:10:35.298203",
     "exception": false,
     "start_time": "2024-09-05T12:10:35.262287",
     "status": "completed"
    },
    "tags": []
   },
   "outputs": [],
   "source": [
    "onehot_cols = ['Sex', 'Embarked']"
   ]
  },
  {
   "cell_type": "code",
   "execution_count": 28,
   "id": "e0120cd8",
   "metadata": {
    "execution": {
     "iopub.execute_input": "2024-09-05T12:10:35.355923Z",
     "iopub.status.busy": "2024-09-05T12:10:35.355499Z",
     "iopub.status.idle": "2024-09-05T12:10:35.366811Z",
     "shell.execute_reply": "2024-09-05T12:10:35.365604Z"
    },
    "papermill": {
     "duration": 0.042674,
     "end_time": "2024-09-05T12:10:35.369563",
     "exception": false,
     "start_time": "2024-09-05T12:10:35.326889",
     "status": "completed"
    },
    "tags": []
   },
   "outputs": [],
   "source": [
    "df = pd.get_dummies(df, columns = onehot_cols, dtype = int, drop_first = True)"
   ]
  },
  {
   "cell_type": "code",
   "execution_count": 29,
   "id": "0f8929ce",
   "metadata": {
    "execution": {
     "iopub.execute_input": "2024-09-05T12:10:35.426549Z",
     "iopub.status.busy": "2024-09-05T12:10:35.426147Z",
     "iopub.status.idle": "2024-09-05T12:10:35.438216Z",
     "shell.execute_reply": "2024-09-05T12:10:35.437305Z"
    },
    "papermill": {
     "duration": 0.042636,
     "end_time": "2024-09-05T12:10:35.440539",
     "exception": false,
     "start_time": "2024-09-05T12:10:35.397903",
     "status": "completed"
    },
    "tags": []
   },
   "outputs": [],
   "source": [
    "df_test = pd.get_dummies(df_test, columns = onehot_cols, dtype = int, drop_first = True)"
   ]
  },
  {
   "cell_type": "code",
   "execution_count": 30,
   "id": "3c145d95",
   "metadata": {
    "execution": {
     "iopub.execute_input": "2024-09-05T12:10:35.496405Z",
     "iopub.status.busy": "2024-09-05T12:10:35.495998Z",
     "iopub.status.idle": "2024-09-05T12:10:35.501026Z",
     "shell.execute_reply": "2024-09-05T12:10:35.499559Z"
    },
    "papermill": {
     "duration": 0.035836,
     "end_time": "2024-09-05T12:10:35.503577",
     "exception": false,
     "start_time": "2024-09-05T12:10:35.467741",
     "status": "completed"
    },
    "tags": []
   },
   "outputs": [],
   "source": [
    "# OR"
   ]
  },
  {
   "cell_type": "code",
   "execution_count": 31,
   "id": "8bf871aa",
   "metadata": {
    "execution": {
     "iopub.execute_input": "2024-09-05T12:10:35.561062Z",
     "iopub.status.busy": "2024-09-05T12:10:35.560624Z",
     "iopub.status.idle": "2024-09-05T12:10:35.565562Z",
     "shell.execute_reply": "2024-09-05T12:10:35.564463Z"
    },
    "papermill": {
     "duration": 0.036669,
     "end_time": "2024-09-05T12:10:35.568034",
     "exception": false,
     "start_time": "2024-09-05T12:10:35.531365",
     "status": "completed"
    },
    "tags": []
   },
   "outputs": [],
   "source": [
    "#onehotEncoder = OneHotEncoder(handle_unknown  = 'ignore', sparse = False, drop = 'first')"
   ]
  },
  {
   "cell_type": "code",
   "execution_count": 32,
   "id": "0a06ec55",
   "metadata": {
    "execution": {
     "iopub.execute_input": "2024-09-05T12:10:35.626105Z",
     "iopub.status.busy": "2024-09-05T12:10:35.625677Z",
     "iopub.status.idle": "2024-09-05T12:10:35.630623Z",
     "shell.execute_reply": "2024-09-05T12:10:35.629498Z"
    },
    "papermill": {
     "duration": 0.037009,
     "end_time": "2024-09-05T12:10:35.632890",
     "exception": false,
     "start_time": "2024-09-05T12:10:35.595881",
     "status": "completed"
    },
    "tags": []
   },
   "outputs": [],
   "source": [
    "#df_oh = pd.DataFrame(data = onehotEncoder.fit_transform(df[onehot_cols]), columns = onehotEncoder.get_feature_names_out(onehot_cols)).astype(int)\n",
    "\n",
    "#df = df.drop(onehot_cols, axis = 1)\n",
    "#df = pd.concat([df, df_oh], axis = 1)"
   ]
  },
  {
   "cell_type": "code",
   "execution_count": 33,
   "id": "b227b9b1",
   "metadata": {
    "execution": {
     "iopub.execute_input": "2024-09-05T12:10:35.688982Z",
     "iopub.status.busy": "2024-09-05T12:10:35.688579Z",
     "iopub.status.idle": "2024-09-05T12:10:35.693319Z",
     "shell.execute_reply": "2024-09-05T12:10:35.692220Z"
    },
    "papermill": {
     "duration": 0.035736,
     "end_time": "2024-09-05T12:10:35.695733",
     "exception": false,
     "start_time": "2024-09-05T12:10:35.659997",
     "status": "completed"
    },
    "tags": []
   },
   "outputs": [],
   "source": [
    "#df_test_oh = pd.DataFrame(data = onehotEncoder.transform(df_test[onehot_cols]), columns = onehotEncoder.get_feature_names_out(onehot_cols)).astype(int)\n",
    "\n",
    "#df_test = df_test.drop(onehot_cols, axis = 1)\n",
    "#df_test = pd.concat([df_test, df_test_oh], axis = 1)"
   ]
  },
  {
   "cell_type": "markdown",
   "id": "65813922",
   "metadata": {
    "papermill": {
     "duration": 0.027619,
     "end_time": "2024-09-05T12:10:35.751659",
     "exception": false,
     "start_time": "2024-09-05T12:10:35.724040",
     "status": "completed"
    },
    "tags": []
   },
   "source": [
    "## c) Feature engineering"
   ]
  },
  {
   "cell_type": "markdown",
   "id": "d86f9af6",
   "metadata": {
    "papermill": {
     "duration": 0.026854,
     "end_time": "2024-09-05T12:10:35.806468",
     "exception": false,
     "start_time": "2024-09-05T12:10:35.779614",
     "status": "completed"
    },
    "tags": []
   },
   "source": [
    "**Features created :-**\n",
    "1. Cabin_letter (cabin deck)\n",
    "2. Cabin_missing\n",
    "3. Ticket_freq\n",
    "4. Family_size\n",
    "5. Age_group"
   ]
  },
  {
   "cell_type": "code",
   "execution_count": 34,
   "id": "c5e5c335",
   "metadata": {
    "execution": {
     "iopub.execute_input": "2024-09-05T12:10:35.862840Z",
     "iopub.status.busy": "2024-09-05T12:10:35.862404Z",
     "iopub.status.idle": "2024-09-05T12:10:35.869740Z",
     "shell.execute_reply": "2024-09-05T12:10:35.868456Z"
    },
    "papermill": {
     "duration": 0.039017,
     "end_time": "2024-09-05T12:10:35.872396",
     "exception": false,
     "start_time": "2024-09-05T12:10:35.833379",
     "status": "completed"
    },
    "tags": []
   },
   "outputs": [
    {
     "name": "stdout",
     "output_type": "stream",
     "text": [
      "681\n",
      "147\n"
     ]
    }
   ],
   "source": [
    "print(df.Ticket.nunique())\n",
    "print(df.Cabin.nunique())"
   ]
  },
  {
   "cell_type": "code",
   "execution_count": 35,
   "id": "db546cca",
   "metadata": {
    "execution": {
     "iopub.execute_input": "2024-09-05T12:10:35.929568Z",
     "iopub.status.busy": "2024-09-05T12:10:35.929179Z",
     "iopub.status.idle": "2024-09-05T12:10:35.941859Z",
     "shell.execute_reply": "2024-09-05T12:10:35.940803Z"
    },
    "papermill": {
     "duration": 0.043387,
     "end_time": "2024-09-05T12:10:35.944129",
     "exception": false,
     "start_time": "2024-09-05T12:10:35.900742",
     "status": "completed"
    },
    "tags": []
   },
   "outputs": [
    {
     "data": {
      "text/html": [
       "<div>\n",
       "<style scoped>\n",
       "    .dataframe tbody tr th:only-of-type {\n",
       "        vertical-align: middle;\n",
       "    }\n",
       "\n",
       "    .dataframe tbody tr th {\n",
       "        vertical-align: top;\n",
       "    }\n",
       "\n",
       "    .dataframe thead th {\n",
       "        text-align: right;\n",
       "    }\n",
       "</style>\n",
       "<table border=\"1\" class=\"dataframe\">\n",
       "  <thead>\n",
       "    <tr style=\"text-align: right;\">\n",
       "      <th></th>\n",
       "      <th>Pclass</th>\n",
       "      <th>Ticket</th>\n",
       "      <th>Cabin</th>\n",
       "    </tr>\n",
       "  </thead>\n",
       "  <tbody>\n",
       "    <tr>\n",
       "      <th>0</th>\n",
       "      <td>3</td>\n",
       "      <td>A/5 21171</td>\n",
       "      <td>NaN</td>\n",
       "    </tr>\n",
       "    <tr>\n",
       "      <th>1</th>\n",
       "      <td>1</td>\n",
       "      <td>PC 17599</td>\n",
       "      <td>C85</td>\n",
       "    </tr>\n",
       "    <tr>\n",
       "      <th>2</th>\n",
       "      <td>3</td>\n",
       "      <td>STON/O2. 3101282</td>\n",
       "      <td>NaN</td>\n",
       "    </tr>\n",
       "    <tr>\n",
       "      <th>3</th>\n",
       "      <td>1</td>\n",
       "      <td>113803</td>\n",
       "      <td>C123</td>\n",
       "    </tr>\n",
       "    <tr>\n",
       "      <th>4</th>\n",
       "      <td>3</td>\n",
       "      <td>373450</td>\n",
       "      <td>NaN</td>\n",
       "    </tr>\n",
       "    <tr>\n",
       "      <th>5</th>\n",
       "      <td>3</td>\n",
       "      <td>330877</td>\n",
       "      <td>NaN</td>\n",
       "    </tr>\n",
       "    <tr>\n",
       "      <th>6</th>\n",
       "      <td>1</td>\n",
       "      <td>17463</td>\n",
       "      <td>E46</td>\n",
       "    </tr>\n",
       "    <tr>\n",
       "      <th>7</th>\n",
       "      <td>3</td>\n",
       "      <td>349909</td>\n",
       "      <td>NaN</td>\n",
       "    </tr>\n",
       "    <tr>\n",
       "      <th>8</th>\n",
       "      <td>3</td>\n",
       "      <td>347742</td>\n",
       "      <td>NaN</td>\n",
       "    </tr>\n",
       "    <tr>\n",
       "      <th>9</th>\n",
       "      <td>2</td>\n",
       "      <td>237736</td>\n",
       "      <td>NaN</td>\n",
       "    </tr>\n",
       "    <tr>\n",
       "      <th>10</th>\n",
       "      <td>3</td>\n",
       "      <td>PP 9549</td>\n",
       "      <td>G6</td>\n",
       "    </tr>\n",
       "    <tr>\n",
       "      <th>11</th>\n",
       "      <td>1</td>\n",
       "      <td>113783</td>\n",
       "      <td>C103</td>\n",
       "    </tr>\n",
       "    <tr>\n",
       "      <th>12</th>\n",
       "      <td>3</td>\n",
       "      <td>A/5. 2151</td>\n",
       "      <td>NaN</td>\n",
       "    </tr>\n",
       "    <tr>\n",
       "      <th>13</th>\n",
       "      <td>3</td>\n",
       "      <td>347082</td>\n",
       "      <td>NaN</td>\n",
       "    </tr>\n",
       "    <tr>\n",
       "      <th>14</th>\n",
       "      <td>3</td>\n",
       "      <td>350406</td>\n",
       "      <td>NaN</td>\n",
       "    </tr>\n",
       "    <tr>\n",
       "      <th>15</th>\n",
       "      <td>2</td>\n",
       "      <td>248706</td>\n",
       "      <td>NaN</td>\n",
       "    </tr>\n",
       "    <tr>\n",
       "      <th>16</th>\n",
       "      <td>3</td>\n",
       "      <td>382652</td>\n",
       "      <td>NaN</td>\n",
       "    </tr>\n",
       "    <tr>\n",
       "      <th>17</th>\n",
       "      <td>2</td>\n",
       "      <td>244373</td>\n",
       "      <td>NaN</td>\n",
       "    </tr>\n",
       "    <tr>\n",
       "      <th>18</th>\n",
       "      <td>3</td>\n",
       "      <td>345763</td>\n",
       "      <td>NaN</td>\n",
       "    </tr>\n",
       "    <tr>\n",
       "      <th>19</th>\n",
       "      <td>3</td>\n",
       "      <td>2649</td>\n",
       "      <td>NaN</td>\n",
       "    </tr>\n",
       "  </tbody>\n",
       "</table>\n",
       "</div>"
      ],
      "text/plain": [
       "    Pclass            Ticket Cabin\n",
       "0        3         A/5 21171   NaN\n",
       "1        1          PC 17599   C85\n",
       "2        3  STON/O2. 3101282   NaN\n",
       "3        1            113803  C123\n",
       "4        3            373450   NaN\n",
       "5        3            330877   NaN\n",
       "6        1             17463   E46\n",
       "7        3            349909   NaN\n",
       "8        3            347742   NaN\n",
       "9        2            237736   NaN\n",
       "10       3           PP 9549    G6\n",
       "11       1            113783  C103\n",
       "12       3         A/5. 2151   NaN\n",
       "13       3            347082   NaN\n",
       "14       3            350406   NaN\n",
       "15       2            248706   NaN\n",
       "16       3            382652   NaN\n",
       "17       2            244373   NaN\n",
       "18       3            345763   NaN\n",
       "19       3              2649   NaN"
      ]
     },
     "execution_count": 35,
     "metadata": {},
     "output_type": "execute_result"
    }
   ],
   "source": [
    "df[['Pclass', 'Ticket', 'Cabin']].head(20)"
   ]
  },
  {
   "cell_type": "markdown",
   "id": "37f0707f",
   "metadata": {
    "papermill": {
     "duration": 0.027756,
     "end_time": "2024-09-05T12:10:35.999580",
     "exception": false,
     "start_time": "2024-09-05T12:10:35.971824",
     "status": "completed"
    },
    "tags": []
   },
   "source": [
    "**1. Cabin_letter**"
   ]
  },
  {
   "cell_type": "code",
   "execution_count": 36,
   "id": "54208f36",
   "metadata": {
    "execution": {
     "iopub.execute_input": "2024-09-05T12:10:36.057891Z",
     "iopub.status.busy": "2024-09-05T12:10:36.057032Z",
     "iopub.status.idle": "2024-09-05T12:10:36.065924Z",
     "shell.execute_reply": "2024-09-05T12:10:36.064764Z"
    },
    "papermill": {
     "duration": 0.040273,
     "end_time": "2024-09-05T12:10:36.068271",
     "exception": false,
     "start_time": "2024-09-05T12:10:36.027998",
     "status": "completed"
    },
    "tags": []
   },
   "outputs": [
    {
     "data": {
      "text/plain": [
       "0"
      ]
     },
     "execution_count": 36,
     "metadata": {},
     "output_type": "execute_result"
    }
   ],
   "source": [
    "flag = 0\n",
    "\n",
    "for cabin_num in df.Cabin:\n",
    "    if not(('A' <= str(cabin_num)[0] <= 'Z') or ('a' <= str(cabin_num)[0] <= 'z')):\n",
    "        flag = 1\n",
    "        break\n",
    "\n",
    "flag"
   ]
  },
  {
   "cell_type": "code",
   "execution_count": 37,
   "id": "8adf4397",
   "metadata": {
    "execution": {
     "iopub.execute_input": "2024-09-05T12:10:36.126125Z",
     "iopub.status.busy": "2024-09-05T12:10:36.125722Z",
     "iopub.status.idle": "2024-09-05T12:10:36.132583Z",
     "shell.execute_reply": "2024-09-05T12:10:36.131209Z"
    },
    "papermill": {
     "duration": 0.039016,
     "end_time": "2024-09-05T12:10:36.135095",
     "exception": false,
     "start_time": "2024-09-05T12:10:36.096079",
     "status": "completed"
    },
    "tags": []
   },
   "outputs": [],
   "source": [
    "df['Cabin_letter'] = df.Cabin.str[0]"
   ]
  },
  {
   "cell_type": "code",
   "execution_count": 38,
   "id": "a9b2ba74",
   "metadata": {
    "execution": {
     "iopub.execute_input": "2024-09-05T12:10:36.194053Z",
     "iopub.status.busy": "2024-09-05T12:10:36.192891Z",
     "iopub.status.idle": "2024-09-05T12:10:36.200654Z",
     "shell.execute_reply": "2024-09-05T12:10:36.199315Z"
    },
    "papermill": {
     "duration": 0.03977,
     "end_time": "2024-09-05T12:10:36.202920",
     "exception": false,
     "start_time": "2024-09-05T12:10:36.163150",
     "status": "completed"
    },
    "tags": []
   },
   "outputs": [],
   "source": [
    "df_test['Cabin_letter'] = df_test.Cabin.str[0]"
   ]
  },
  {
   "cell_type": "code",
   "execution_count": 39,
   "id": "43ce4226",
   "metadata": {
    "execution": {
     "iopub.execute_input": "2024-09-05T12:10:36.262293Z",
     "iopub.status.busy": "2024-09-05T12:10:36.261867Z",
     "iopub.status.idle": "2024-09-05T12:10:36.521244Z",
     "shell.execute_reply": "2024-09-05T12:10:36.520012Z"
    },
    "papermill": {
     "duration": 0.292097,
     "end_time": "2024-09-05T12:10:36.523862",
     "exception": false,
     "start_time": "2024-09-05T12:10:36.231765",
     "status": "completed"
    },
    "tags": []
   },
   "outputs": [
    {
     "data": {
      "text/plain": [
       "Text(0.5, 1.0, 'Passengers in cabin')"
      ]
     },
     "execution_count": 39,
     "metadata": {},
     "output_type": "execute_result"
    },
    {
     "data": {
      "image/png": "[encoded data removed]",
      "text/plain": [
       "<Figure size 640x480 with 1 Axes>"
      ]
     },
     "metadata": {},
     "output_type": "display_data"
    }
   ],
   "source": [
    "cabin_freq = df.Cabin_letter.value_counts()\n",
    "\n",
    "sns.countplot(x = df.Cabin_letter, order = cabin_freq.index)\n",
    "plt.title('Passengers in cabin')"
   ]
  },
  {
   "cell_type": "code",
   "execution_count": 40,
   "id": "bfc13e56",
   "metadata": {
    "execution": {
     "iopub.execute_input": "2024-09-05T12:10:36.584975Z",
     "iopub.status.busy": "2024-09-05T12:10:36.584551Z",
     "iopub.status.idle": "2024-09-05T12:10:36.909842Z",
     "shell.execute_reply": "2024-09-05T12:10:36.908730Z"
    },
    "papermill": {
     "duration": 0.358366,
     "end_time": "2024-09-05T12:10:36.912403",
     "exception": false,
     "start_time": "2024-09-05T12:10:36.554037",
     "status": "completed"
    },
    "tags": []
   },
   "outputs": [
    {
     "data": {
      "text/plain": [
       "<matplotlib.legend.Legend at 0x7c63218bb430>"
      ]
     },
     "execution_count": 40,
     "metadata": {},
     "output_type": "execute_result"
    },
    {
     "data": {
      "image/png": "[encoded data removed]",
      "text/plain": [
       "<Figure size 640x480 with 1 Axes>"
      ]
     },
     "metadata": {},
     "output_type": "display_data"
    }
   ],
   "source": [
    "sns.countplot(x = df.Cabin_letter, hue = df.Survived, order = cabin_freq.index)\n",
    "plt.title('Survival by Cabin')\n",
    "plt.legend(labels = ['Not survived', 'Survived'])"
   ]
  },
  {
   "cell_type": "markdown",
   "id": "55b0535d",
   "metadata": {
    "papermill": {
     "duration": 0.027968,
     "end_time": "2024-09-05T12:10:36.968716",
     "exception": false,
     "start_time": "2024-09-05T12:10:36.940748",
     "status": "completed"
    },
    "tags": []
   },
   "source": [
    "*Removing cabin letter T and G, as they are outliers*"
   ]
  },
  {
   "cell_type": "code",
   "execution_count": 41,
   "id": "9e76a454",
   "metadata": {
    "execution": {
     "iopub.execute_input": "2024-09-05T12:10:37.027227Z",
     "iopub.status.busy": "2024-09-05T12:10:37.026320Z",
     "iopub.status.idle": "2024-09-05T12:10:37.035552Z",
     "shell.execute_reply": "2024-09-05T12:10:37.034447Z"
    },
    "papermill": {
     "duration": 0.040944,
     "end_time": "2024-09-05T12:10:37.037772",
     "exception": false,
     "start_time": "2024-09-05T12:10:36.996828",
     "status": "completed"
    },
    "tags": []
   },
   "outputs": [
    {
     "data": {
      "text/plain": [
       "Cabin_letter\n",
       "C    59\n",
       "B    47\n",
       "D    33\n",
       "E    32\n",
       "A    15\n",
       "F    13\n",
       "G     4\n",
       "T     1\n",
       "Name: count, dtype: int64"
      ]
     },
     "execution_count": 41,
     "metadata": {},
     "output_type": "execute_result"
    }
   ],
   "source": [
    "df.Cabin_letter.value_counts()"
   ]
  },
  {
   "cell_type": "code",
   "execution_count": 42,
   "id": "b5227de0",
   "metadata": {
    "execution": {
     "iopub.execute_input": "2024-09-05T12:10:37.096898Z",
     "iopub.status.busy": "2024-09-05T12:10:37.096485Z",
     "iopub.status.idle": "2024-09-05T12:10:37.106695Z",
     "shell.execute_reply": "2024-09-05T12:10:37.105507Z"
    },
    "papermill": {
     "duration": 0.042898,
     "end_time": "2024-09-05T12:10:37.109377",
     "exception": false,
     "start_time": "2024-09-05T12:10:37.066479",
     "status": "completed"
    },
    "tags": []
   },
   "outputs": [],
   "source": [
    "df = df[(df.Cabin_letter != 'T') & (df.Cabin_letter != 'G')]\n",
    "df_test = df_test[(df_test.Cabin_letter != 'T') & (df_test.Cabin_letter != 'G')]"
   ]
  },
  {
   "cell_type": "markdown",
   "id": "d1481996",
   "metadata": {
    "papermill": {
     "duration": 0.028349,
     "end_time": "2024-09-05T12:10:37.166708",
     "exception": false,
     "start_time": "2024-09-05T12:10:37.138359",
     "status": "completed"
    },
    "tags": []
   },
   "source": [
    "*Encoding cabin letter*"
   ]
  },
  {
   "cell_type": "code",
   "execution_count": 43,
   "id": "75710f4b",
   "metadata": {
    "execution": {
     "iopub.execute_input": "2024-09-05T12:10:37.225537Z",
     "iopub.status.busy": "2024-09-05T12:10:37.225126Z",
     "iopub.status.idle": "2024-09-05T12:10:37.234239Z",
     "shell.execute_reply": "2024-09-05T12:10:37.233171Z"
    },
    "papermill": {
     "duration": 0.041268,
     "end_time": "2024-09-05T12:10:37.236639",
     "exception": false,
     "start_time": "2024-09-05T12:10:37.195371",
     "status": "completed"
    },
    "tags": []
   },
   "outputs": [],
   "source": [
    "df = pd.get_dummies(df, columns = ['Cabin_letter'], dtype = int, drop_first = True)"
   ]
  },
  {
   "cell_type": "code",
   "execution_count": 44,
   "id": "cdb05d10",
   "metadata": {
    "execution": {
     "iopub.execute_input": "2024-09-05T12:10:37.296372Z",
     "iopub.status.busy": "2024-09-05T12:10:37.295979Z",
     "iopub.status.idle": "2024-09-05T12:10:37.305755Z",
     "shell.execute_reply": "2024-09-05T12:10:37.304582Z"
    },
    "papermill": {
     "duration": 0.042014,
     "end_time": "2024-09-05T12:10:37.307970",
     "exception": false,
     "start_time": "2024-09-05T12:10:37.265956",
     "status": "completed"
    },
    "tags": []
   },
   "outputs": [],
   "source": [
    "df_test = pd.get_dummies(df_test, columns = ['Cabin_letter'], dtype = int, drop_first = True)"
   ]
  },
  {
   "cell_type": "markdown",
   "id": "95aa5375",
   "metadata": {
    "papermill": {
     "duration": 0.028533,
     "end_time": "2024-09-05T12:10:37.367077",
     "exception": false,
     "start_time": "2024-09-05T12:10:37.338544",
     "status": "completed"
    },
    "tags": []
   },
   "source": [
    "**2. Cabin_missing**"
   ]
  },
  {
   "cell_type": "code",
   "execution_count": 45,
   "id": "edaf6aa9",
   "metadata": {
    "execution": {
     "iopub.execute_input": "2024-09-05T12:10:37.426804Z",
     "iopub.status.busy": "2024-09-05T12:10:37.426395Z",
     "iopub.status.idle": "2024-09-05T12:10:37.432783Z",
     "shell.execute_reply": "2024-09-05T12:10:37.431616Z"
    },
    "papermill": {
     "duration": 0.03938,
     "end_time": "2024-09-05T12:10:37.435143",
     "exception": false,
     "start_time": "2024-09-05T12:10:37.395763",
     "status": "completed"
    },
    "tags": []
   },
   "outputs": [],
   "source": [
    "df['Cabin_missing'] = df.Cabin.isna().astype(int)"
   ]
  },
  {
   "cell_type": "code",
   "execution_count": 46,
   "id": "41fc3afa",
   "metadata": {
    "execution": {
     "iopub.execute_input": "2024-09-05T12:10:37.495545Z",
     "iopub.status.busy": "2024-09-05T12:10:37.494466Z",
     "iopub.status.idle": "2024-09-05T12:10:37.501250Z",
     "shell.execute_reply": "2024-09-05T12:10:37.499916Z"
    },
    "papermill": {
     "duration": 0.039729,
     "end_time": "2024-09-05T12:10:37.503621",
     "exception": false,
     "start_time": "2024-09-05T12:10:37.463892",
     "status": "completed"
    },
    "tags": []
   },
   "outputs": [],
   "source": [
    "df_test['Cabin_missing'] = df_test.Cabin.isna().astype(int)"
   ]
  },
  {
   "cell_type": "code",
   "execution_count": 47,
   "id": "a30075a9",
   "metadata": {
    "execution": {
     "iopub.execute_input": "2024-09-05T12:10:37.566187Z",
     "iopub.status.busy": "2024-09-05T12:10:37.565727Z",
     "iopub.status.idle": "2024-09-05T12:10:37.575076Z",
     "shell.execute_reply": "2024-09-05T12:10:37.573947Z"
    },
    "papermill": {
     "duration": 0.044296,
     "end_time": "2024-09-05T12:10:37.577632",
     "exception": false,
     "start_time": "2024-09-05T12:10:37.533336",
     "status": "completed"
    },
    "tags": []
   },
   "outputs": [
    {
     "data": {
      "text/plain": [
       "0       NaN\n",
       "1       C85\n",
       "2       NaN\n",
       "3      C123\n",
       "4       NaN\n",
       "       ... \n",
       "886     NaN\n",
       "887     B42\n",
       "888     NaN\n",
       "889    C148\n",
       "890     NaN\n",
       "Name: Cabin, Length: 886, dtype: object"
      ]
     },
     "execution_count": 47,
     "metadata": {},
     "output_type": "execute_result"
    }
   ],
   "source": [
    "df.pop('Cabin')"
   ]
  },
  {
   "cell_type": "code",
   "execution_count": 48,
   "id": "bdc26f8d",
   "metadata": {
    "execution": {
     "iopub.execute_input": "2024-09-05T12:10:37.639646Z",
     "iopub.status.busy": "2024-09-05T12:10:37.638856Z",
     "iopub.status.idle": "2024-09-05T12:10:37.648608Z",
     "shell.execute_reply": "2024-09-05T12:10:37.647264Z"
    },
    "papermill": {
     "duration": 0.043325,
     "end_time": "2024-09-05T12:10:37.650903",
     "exception": false,
     "start_time": "2024-09-05T12:10:37.607578",
     "status": "completed"
    },
    "tags": []
   },
   "outputs": [
    {
     "data": {
      "text/plain": [
       "0       NaN\n",
       "1       NaN\n",
       "2       NaN\n",
       "3       NaN\n",
       "4       NaN\n",
       "       ... \n",
       "413     NaN\n",
       "414    C105\n",
       "415     NaN\n",
       "416     NaN\n",
       "417     NaN\n",
       "Name: Cabin, Length: 416, dtype: object"
      ]
     },
     "execution_count": 48,
     "metadata": {},
     "output_type": "execute_result"
    }
   ],
   "source": [
    "df_test.pop('Cabin')"
   ]
  },
  {
   "cell_type": "markdown",
   "id": "6f407960",
   "metadata": {
    "papermill": {
     "duration": 0.029417,
     "end_time": "2024-09-05T12:10:37.710299",
     "exception": false,
     "start_time": "2024-09-05T12:10:37.680882",
     "status": "completed"
    },
    "tags": []
   },
   "source": [
    "**3. Ticket_freq**"
   ]
  },
  {
   "cell_type": "code",
   "execution_count": 49,
   "id": "a14bc6e8",
   "metadata": {
    "execution": {
     "iopub.execute_input": "2024-09-05T12:10:37.770485Z",
     "iopub.status.busy": "2024-09-05T12:10:37.770007Z",
     "iopub.status.idle": "2024-09-05T12:10:37.779288Z",
     "shell.execute_reply": "2024-09-05T12:10:37.777950Z"
    },
    "papermill": {
     "duration": 0.042304,
     "end_time": "2024-09-05T12:10:37.781668",
     "exception": false,
     "start_time": "2024-09-05T12:10:37.739364",
     "status": "completed"
    },
    "tags": []
   },
   "outputs": [],
   "source": [
    "ticket_freq = df['Ticket'].value_counts().to_dict()\n",
    "df['Ticket_freq'] = df['Ticket'].map(ticket_freq)"
   ]
  },
  {
   "cell_type": "code",
   "execution_count": 50,
   "id": "b89d6252",
   "metadata": {
    "execution": {
     "iopub.execute_input": "2024-09-05T12:10:37.842716Z",
     "iopub.status.busy": "2024-09-05T12:10:37.841854Z",
     "iopub.status.idle": "2024-09-05T12:10:37.849503Z",
     "shell.execute_reply": "2024-09-05T12:10:37.848405Z"
    },
    "papermill": {
     "duration": 0.040622,
     "end_time": "2024-09-05T12:10:37.851919",
     "exception": false,
     "start_time": "2024-09-05T12:10:37.811297",
     "status": "completed"
    },
    "tags": []
   },
   "outputs": [],
   "source": [
    "ticket_freq_test = df_test.Ticket.value_counts().to_dict()\n",
    "df_test['Ticket_freq'] = df_test.Ticket.map(ticket_freq_test)"
   ]
  },
  {
   "cell_type": "code",
   "execution_count": 51,
   "id": "d8f4615e",
   "metadata": {
    "execution": {
     "iopub.execute_input": "2024-09-05T12:10:37.913405Z",
     "iopub.status.busy": "2024-09-05T12:10:37.912973Z",
     "iopub.status.idle": "2024-09-05T12:10:37.922791Z",
     "shell.execute_reply": "2024-09-05T12:10:37.921605Z"
    },
    "papermill": {
     "duration": 0.042794,
     "end_time": "2024-09-05T12:10:37.925137",
     "exception": false,
     "start_time": "2024-09-05T12:10:37.882343",
     "status": "completed"
    },
    "tags": []
   },
   "outputs": [
    {
     "data": {
      "text/plain": [
       "0             A/5 21171\n",
       "1              PC 17599\n",
       "2      STON/O2. 3101282\n",
       "3                113803\n",
       "4                373450\n",
       "             ...       \n",
       "886              211536\n",
       "887              112053\n",
       "888          W./C. 6607\n",
       "889              111369\n",
       "890              370376\n",
       "Name: Ticket, Length: 886, dtype: object"
      ]
     },
     "execution_count": 51,
     "metadata": {},
     "output_type": "execute_result"
    }
   ],
   "source": [
    "df.pop('Ticket')"
   ]
  },
  {
   "cell_type": "code",
   "execution_count": 52,
   "id": "2953320b",
   "metadata": {
    "execution": {
     "iopub.execute_input": "2024-09-05T12:10:37.985286Z",
     "iopub.status.busy": "2024-09-05T12:10:37.984827Z",
     "iopub.status.idle": "2024-09-05T12:10:37.994436Z",
     "shell.execute_reply": "2024-09-05T12:10:37.993267Z"
    },
    "papermill": {
     "duration": 0.042598,
     "end_time": "2024-09-05T12:10:37.996970",
     "exception": false,
     "start_time": "2024-09-05T12:10:37.954372",
     "status": "completed"
    },
    "tags": []
   },
   "outputs": [
    {
     "data": {
      "text/plain": [
       "0                  330911\n",
       "1                  363272\n",
       "2                  240276\n",
       "3                  315154\n",
       "4                 3101298\n",
       "              ...        \n",
       "413             A.5. 3236\n",
       "414              PC 17758\n",
       "415    SOTON/O.Q. 3101262\n",
       "416                359309\n",
       "417                  2668\n",
       "Name: Ticket, Length: 416, dtype: object"
      ]
     },
     "execution_count": 52,
     "metadata": {},
     "output_type": "execute_result"
    }
   ],
   "source": [
    "df_test.pop('Ticket')"
   ]
  },
  {
   "cell_type": "markdown",
   "id": "bc2e0973",
   "metadata": {
    "papermill": {
     "duration": 0.044045,
     "end_time": "2024-09-05T12:10:38.076331",
     "exception": false,
     "start_time": "2024-09-05T12:10:38.032286",
     "status": "completed"
    },
    "tags": []
   },
   "source": [
    "**4. Family_size**"
   ]
  },
  {
   "cell_type": "code",
   "execution_count": 53,
   "id": "d92f47bb",
   "metadata": {
    "execution": {
     "iopub.execute_input": "2024-09-05T12:10:38.136601Z",
     "iopub.status.busy": "2024-09-05T12:10:38.136163Z",
     "iopub.status.idle": "2024-09-05T12:10:38.142634Z",
     "shell.execute_reply": "2024-09-05T12:10:38.141465Z"
    },
    "papermill": {
     "duration": 0.039437,
     "end_time": "2024-09-05T12:10:38.144931",
     "exception": false,
     "start_time": "2024-09-05T12:10:38.105494",
     "status": "completed"
    },
    "tags": []
   },
   "outputs": [],
   "source": [
    "df['Family_size'] = df.SibSp + df.Parch + 1"
   ]
  },
  {
   "cell_type": "code",
   "execution_count": 54,
   "id": "a20acd5d",
   "metadata": {
    "execution": {
     "iopub.execute_input": "2024-09-05T12:10:38.205191Z",
     "iopub.status.busy": "2024-09-05T12:10:38.204777Z",
     "iopub.status.idle": "2024-09-05T12:10:38.211233Z",
     "shell.execute_reply": "2024-09-05T12:10:38.210139Z"
    },
    "papermill": {
     "duration": 0.039094,
     "end_time": "2024-09-05T12:10:38.213486",
     "exception": false,
     "start_time": "2024-09-05T12:10:38.174392",
     "status": "completed"
    },
    "tags": []
   },
   "outputs": [],
   "source": [
    "df_test['Family_size'] = df_test.SibSp + df_test.Parch + 1"
   ]
  },
  {
   "cell_type": "markdown",
   "id": "25a2939e",
   "metadata": {
    "papermill": {
     "duration": 0.02883,
     "end_time": "2024-09-05T12:10:38.271716",
     "exception": false,
     "start_time": "2024-09-05T12:10:38.242886",
     "status": "completed"
    },
    "tags": []
   },
   "source": [
    "**5. Age_group**"
   ]
  },
  {
   "cell_type": "code",
   "execution_count": 55,
   "id": "f19b5fe9",
   "metadata": {
    "execution": {
     "iopub.execute_input": "2024-09-05T12:10:38.333423Z",
     "iopub.status.busy": "2024-09-05T12:10:38.332888Z",
     "iopub.status.idle": "2024-09-05T12:10:38.344425Z",
     "shell.execute_reply": "2024-09-05T12:10:38.343367Z"
    },
    "papermill": {
     "duration": 0.045902,
     "end_time": "2024-09-05T12:10:38.346777",
     "exception": false,
     "start_time": "2024-09-05T12:10:38.300875",
     "status": "completed"
    },
    "tags": []
   },
   "outputs": [
    {
     "data": {
      "text/plain": [
       "count    886.000000\n",
       "mean      28.610801\n",
       "std       13.168247\n",
       "min        0.420000\n",
       "25%       22.000000\n",
       "50%       24.000000\n",
       "75%       35.000000\n",
       "max       80.000000\n",
       "Name: Age, dtype: float64"
      ]
     },
     "execution_count": 55,
     "metadata": {},
     "output_type": "execute_result"
    }
   ],
   "source": [
    "df.Age.describe()"
   ]
  },
  {
   "cell_type": "code",
   "execution_count": 56,
   "id": "3885cb33",
   "metadata": {
    "execution": {
     "iopub.execute_input": "2024-09-05T12:10:38.408948Z",
     "iopub.status.busy": "2024-09-05T12:10:38.408326Z",
     "iopub.status.idle": "2024-09-05T12:10:38.432722Z",
     "shell.execute_reply": "2024-09-05T12:10:38.431658Z"
    },
    "papermill": {
     "duration": 0.059148,
     "end_time": "2024-09-05T12:10:38.435252",
     "exception": false,
     "start_time": "2024-09-05T12:10:38.376104",
     "status": "completed"
    },
    "tags": []
   },
   "outputs": [
    {
     "data": {
      "text/html": [
       "<div>\n",
       "<style scoped>\n",
       "    .dataframe tbody tr th:only-of-type {\n",
       "        vertical-align: middle;\n",
       "    }\n",
       "\n",
       "    .dataframe tbody tr th {\n",
       "        vertical-align: top;\n",
       "    }\n",
       "\n",
       "    .dataframe thead th {\n",
       "        text-align: right;\n",
       "    }\n",
       "</style>\n",
       "<table border=\"1\" class=\"dataframe\">\n",
       "  <thead>\n",
       "    <tr style=\"text-align: right;\">\n",
       "      <th></th>\n",
       "      <th>PassengerId</th>\n",
       "      <th>Survived</th>\n",
       "      <th>Pclass</th>\n",
       "      <th>Age</th>\n",
       "      <th>SibSp</th>\n",
       "      <th>Parch</th>\n",
       "      <th>Fare</th>\n",
       "      <th>Sex_male</th>\n",
       "      <th>Embarked_Q</th>\n",
       "      <th>Embarked_S</th>\n",
       "      <th>Cabin_letter_B</th>\n",
       "      <th>Cabin_letter_C</th>\n",
       "      <th>Cabin_letter_D</th>\n",
       "      <th>Cabin_letter_E</th>\n",
       "      <th>Cabin_letter_F</th>\n",
       "      <th>Cabin_missing</th>\n",
       "      <th>Ticket_freq</th>\n",
       "      <th>Family_size</th>\n",
       "      <th>Age_group</th>\n",
       "    </tr>\n",
       "  </thead>\n",
       "  <tbody>\n",
       "    <tr>\n",
       "      <th>0</th>\n",
       "      <td>1</td>\n",
       "      <td>0</td>\n",
       "      <td>3</td>\n",
       "      <td>22.0</td>\n",
       "      <td>1</td>\n",
       "      <td>0</td>\n",
       "      <td>7.2500</td>\n",
       "      <td>1</td>\n",
       "      <td>0</td>\n",
       "      <td>1</td>\n",
       "      <td>0</td>\n",
       "      <td>0</td>\n",
       "      <td>0</td>\n",
       "      <td>0</td>\n",
       "      <td>0</td>\n",
       "      <td>1</td>\n",
       "      <td>1</td>\n",
       "      <td>2</td>\n",
       "      <td>young adult</td>\n",
       "    </tr>\n",
       "    <tr>\n",
       "      <th>1</th>\n",
       "      <td>2</td>\n",
       "      <td>1</td>\n",
       "      <td>1</td>\n",
       "      <td>38.0</td>\n",
       "      <td>1</td>\n",
       "      <td>0</td>\n",
       "      <td>71.2833</td>\n",
       "      <td>0</td>\n",
       "      <td>0</td>\n",
       "      <td>0</td>\n",
       "      <td>0</td>\n",
       "      <td>1</td>\n",
       "      <td>0</td>\n",
       "      <td>0</td>\n",
       "      <td>0</td>\n",
       "      <td>0</td>\n",
       "      <td>1</td>\n",
       "      <td>2</td>\n",
       "      <td>adult</td>\n",
       "    </tr>\n",
       "    <tr>\n",
       "      <th>2</th>\n",
       "      <td>3</td>\n",
       "      <td>1</td>\n",
       "      <td>3</td>\n",
       "      <td>26.0</td>\n",
       "      <td>0</td>\n",
       "      <td>0</td>\n",
       "      <td>7.9250</td>\n",
       "      <td>0</td>\n",
       "      <td>0</td>\n",
       "      <td>1</td>\n",
       "      <td>0</td>\n",
       "      <td>0</td>\n",
       "      <td>0</td>\n",
       "      <td>0</td>\n",
       "      <td>0</td>\n",
       "      <td>1</td>\n",
       "      <td>1</td>\n",
       "      <td>1</td>\n",
       "      <td>young adult</td>\n",
       "    </tr>\n",
       "    <tr>\n",
       "      <th>3</th>\n",
       "      <td>4</td>\n",
       "      <td>1</td>\n",
       "      <td>1</td>\n",
       "      <td>35.0</td>\n",
       "      <td>1</td>\n",
       "      <td>0</td>\n",
       "      <td>53.1000</td>\n",
       "      <td>0</td>\n",
       "      <td>0</td>\n",
       "      <td>1</td>\n",
       "      <td>0</td>\n",
       "      <td>1</td>\n",
       "      <td>0</td>\n",
       "      <td>0</td>\n",
       "      <td>0</td>\n",
       "      <td>0</td>\n",
       "      <td>2</td>\n",
       "      <td>2</td>\n",
       "      <td>young adult</td>\n",
       "    </tr>\n",
       "    <tr>\n",
       "      <th>4</th>\n",
       "      <td>5</td>\n",
       "      <td>0</td>\n",
       "      <td>3</td>\n",
       "      <td>35.0</td>\n",
       "      <td>0</td>\n",
       "      <td>0</td>\n",
       "      <td>8.0500</td>\n",
       "      <td>1</td>\n",
       "      <td>0</td>\n",
       "      <td>1</td>\n",
       "      <td>0</td>\n",
       "      <td>0</td>\n",
       "      <td>0</td>\n",
       "      <td>0</td>\n",
       "      <td>0</td>\n",
       "      <td>1</td>\n",
       "      <td>1</td>\n",
       "      <td>1</td>\n",
       "      <td>young adult</td>\n",
       "    </tr>\n",
       "  </tbody>\n",
       "</table>\n",
       "</div>"
      ],
      "text/plain": [
       "   PassengerId  Survived  Pclass   Age  SibSp  Parch     Fare  Sex_male  \\\n",
       "0            1         0       3  22.0      1      0   7.2500         1   \n",
       "1            2         1       1  38.0      1      0  71.2833         0   \n",
       "2            3         1       3  26.0      0      0   7.9250         0   \n",
       "3            4         1       1  35.0      1      0  53.1000         0   \n",
       "4            5         0       3  35.0      0      0   8.0500         1   \n",
       "\n",
       "   Embarked_Q  Embarked_S  Cabin_letter_B  Cabin_letter_C  Cabin_letter_D  \\\n",
       "0           0           1               0               0               0   \n",
       "1           0           0               0               1               0   \n",
       "2           0           1               0               0               0   \n",
       "3           0           1               0               1               0   \n",
       "4           0           1               0               0               0   \n",
       "\n",
       "   Cabin_letter_E  Cabin_letter_F  Cabin_missing  Ticket_freq  Family_size  \\\n",
       "0               0               0              1            1            2   \n",
       "1               0               0              0            1            2   \n",
       "2               0               0              1            1            1   \n",
       "3               0               0              0            2            2   \n",
       "4               0               0              1            1            1   \n",
       "\n",
       "     Age_group  \n",
       "0  young adult  \n",
       "1        adult  \n",
       "2  young adult  \n",
       "3  young adult  \n",
       "4  young adult  "
      ]
     },
     "execution_count": 56,
     "metadata": {},
     "output_type": "execute_result"
    }
   ],
   "source": [
    "age_bins = [0, 12, 19, 35, 50, 70, 100]\n",
    "age_labels = ['child', 'teen', 'young adult', 'adult', 'senior', 'old']\n",
    "\n",
    "df['Age_group'] = pd.cut(df.Age, bins = age_bins, labels = age_labels,  right = True)\n",
    "df.head()"
   ]
  },
  {
   "cell_type": "code",
   "execution_count": 57,
   "id": "6221c600",
   "metadata": {
    "execution": {
     "iopub.execute_input": "2024-09-05T12:10:38.498050Z",
     "iopub.status.busy": "2024-09-05T12:10:38.497577Z",
     "iopub.status.idle": "2024-09-05T12:10:38.518249Z",
     "shell.execute_reply": "2024-09-05T12:10:38.516964Z"
    },
    "papermill": {
     "duration": 0.055192,
     "end_time": "2024-09-05T12:10:38.520923",
     "exception": false,
     "start_time": "2024-09-05T12:10:38.465731",
     "status": "completed"
    },
    "tags": []
   },
   "outputs": [
    {
     "data": {
      "text/html": [
       "<div>\n",
       "<style scoped>\n",
       "    .dataframe tbody tr th:only-of-type {\n",
       "        vertical-align: middle;\n",
       "    }\n",
       "\n",
       "    .dataframe tbody tr th {\n",
       "        vertical-align: top;\n",
       "    }\n",
       "\n",
       "    .dataframe thead th {\n",
       "        text-align: right;\n",
       "    }\n",
       "</style>\n",
       "<table border=\"1\" class=\"dataframe\">\n",
       "  <thead>\n",
       "    <tr style=\"text-align: right;\">\n",
       "      <th></th>\n",
       "      <th>PassengerId</th>\n",
       "      <th>Pclass</th>\n",
       "      <th>Age</th>\n",
       "      <th>SibSp</th>\n",
       "      <th>Parch</th>\n",
       "      <th>Fare</th>\n",
       "      <th>Sex_male</th>\n",
       "      <th>Embarked_Q</th>\n",
       "      <th>Embarked_S</th>\n",
       "      <th>Cabin_letter_B</th>\n",
       "      <th>Cabin_letter_C</th>\n",
       "      <th>Cabin_letter_D</th>\n",
       "      <th>Cabin_letter_E</th>\n",
       "      <th>Cabin_letter_F</th>\n",
       "      <th>Cabin_missing</th>\n",
       "      <th>Ticket_freq</th>\n",
       "      <th>Family_size</th>\n",
       "      <th>Age_group</th>\n",
       "    </tr>\n",
       "  </thead>\n",
       "  <tbody>\n",
       "    <tr>\n",
       "      <th>0</th>\n",
       "      <td>892</td>\n",
       "      <td>3</td>\n",
       "      <td>34.5</td>\n",
       "      <td>0</td>\n",
       "      <td>0</td>\n",
       "      <td>7.8292</td>\n",
       "      <td>1</td>\n",
       "      <td>1</td>\n",
       "      <td>0</td>\n",
       "      <td>0</td>\n",
       "      <td>0</td>\n",
       "      <td>0</td>\n",
       "      <td>0</td>\n",
       "      <td>0</td>\n",
       "      <td>1</td>\n",
       "      <td>1</td>\n",
       "      <td>1</td>\n",
       "      <td>young adult</td>\n",
       "    </tr>\n",
       "    <tr>\n",
       "      <th>1</th>\n",
       "      <td>893</td>\n",
       "      <td>3</td>\n",
       "      <td>47.0</td>\n",
       "      <td>1</td>\n",
       "      <td>0</td>\n",
       "      <td>7.0000</td>\n",
       "      <td>0</td>\n",
       "      <td>0</td>\n",
       "      <td>1</td>\n",
       "      <td>0</td>\n",
       "      <td>0</td>\n",
       "      <td>0</td>\n",
       "      <td>0</td>\n",
       "      <td>0</td>\n",
       "      <td>1</td>\n",
       "      <td>1</td>\n",
       "      <td>2</td>\n",
       "      <td>adult</td>\n",
       "    </tr>\n",
       "    <tr>\n",
       "      <th>2</th>\n",
       "      <td>894</td>\n",
       "      <td>2</td>\n",
       "      <td>62.0</td>\n",
       "      <td>0</td>\n",
       "      <td>0</td>\n",
       "      <td>9.6875</td>\n",
       "      <td>1</td>\n",
       "      <td>1</td>\n",
       "      <td>0</td>\n",
       "      <td>0</td>\n",
       "      <td>0</td>\n",
       "      <td>0</td>\n",
       "      <td>0</td>\n",
       "      <td>0</td>\n",
       "      <td>1</td>\n",
       "      <td>1</td>\n",
       "      <td>1</td>\n",
       "      <td>senior</td>\n",
       "    </tr>\n",
       "    <tr>\n",
       "      <th>3</th>\n",
       "      <td>895</td>\n",
       "      <td>3</td>\n",
       "      <td>27.0</td>\n",
       "      <td>0</td>\n",
       "      <td>0</td>\n",
       "      <td>8.6625</td>\n",
       "      <td>1</td>\n",
       "      <td>0</td>\n",
       "      <td>1</td>\n",
       "      <td>0</td>\n",
       "      <td>0</td>\n",
       "      <td>0</td>\n",
       "      <td>0</td>\n",
       "      <td>0</td>\n",
       "      <td>1</td>\n",
       "      <td>1</td>\n",
       "      <td>1</td>\n",
       "      <td>young adult</td>\n",
       "    </tr>\n",
       "    <tr>\n",
       "      <th>4</th>\n",
       "      <td>896</td>\n",
       "      <td>3</td>\n",
       "      <td>22.0</td>\n",
       "      <td>1</td>\n",
       "      <td>1</td>\n",
       "      <td>12.2875</td>\n",
       "      <td>0</td>\n",
       "      <td>0</td>\n",
       "      <td>1</td>\n",
       "      <td>0</td>\n",
       "      <td>0</td>\n",
       "      <td>0</td>\n",
       "      <td>0</td>\n",
       "      <td>0</td>\n",
       "      <td>1</td>\n",
       "      <td>1</td>\n",
       "      <td>3</td>\n",
       "      <td>young adult</td>\n",
       "    </tr>\n",
       "  </tbody>\n",
       "</table>\n",
       "</div>"
      ],
      "text/plain": [
       "   PassengerId  Pclass   Age  SibSp  Parch     Fare  Sex_male  Embarked_Q  \\\n",
       "0          892       3  34.5      0      0   7.8292         1           1   \n",
       "1          893       3  47.0      1      0   7.0000         0           0   \n",
       "2          894       2  62.0      0      0   9.6875         1           1   \n",
       "3          895       3  27.0      0      0   8.6625         1           0   \n",
       "4          896       3  22.0      1      1  12.2875         0           0   \n",
       "\n",
       "   Embarked_S  Cabin_letter_B  Cabin_letter_C  Cabin_letter_D  Cabin_letter_E  \\\n",
       "0           0               0               0               0               0   \n",
       "1           1               0               0               0               0   \n",
       "2           0               0               0               0               0   \n",
       "3           1               0               0               0               0   \n",
       "4           1               0               0               0               0   \n",
       "\n",
       "   Cabin_letter_F  Cabin_missing  Ticket_freq  Family_size    Age_group  \n",
       "0               0              1            1            1  young adult  \n",
       "1               0              1            1            2        adult  \n",
       "2               0              1            1            1       senior  \n",
       "3               0              1            1            1  young adult  \n",
       "4               0              1            1            3  young adult  "
      ]
     },
     "execution_count": 57,
     "metadata": {},
     "output_type": "execute_result"
    }
   ],
   "source": [
    "df_test['Age_group'] = pd.cut(df_test.Age, labels = age_labels, bins = age_bins, right = True)\n",
    "df_test.head()"
   ]
  },
  {
   "cell_type": "markdown",
   "id": "60c9c4fa",
   "metadata": {
    "papermill": {
     "duration": 0.0312,
     "end_time": "2024-09-05T12:10:38.582778",
     "exception": false,
     "start_time": "2024-09-05T12:10:38.551578",
     "status": "completed"
    },
    "tags": []
   },
   "source": [
    "*Encoding Age_group*"
   ]
  },
  {
   "cell_type": "code",
   "execution_count": 58,
   "id": "cb66698b",
   "metadata": {
    "execution": {
     "iopub.execute_input": "2024-09-05T12:10:38.645040Z",
     "iopub.status.busy": "2024-09-05T12:10:38.644238Z",
     "iopub.status.idle": "2024-09-05T12:10:38.654217Z",
     "shell.execute_reply": "2024-09-05T12:10:38.653004Z"
    },
    "papermill": {
     "duration": 0.044085,
     "end_time": "2024-09-05T12:10:38.656957",
     "exception": false,
     "start_time": "2024-09-05T12:10:38.612872",
     "status": "completed"
    },
    "tags": []
   },
   "outputs": [],
   "source": [
    "df = pd.get_dummies(df, columns = ['Age_group'], dtype = int, drop_first = True)"
   ]
  },
  {
   "cell_type": "code",
   "execution_count": 59,
   "id": "558e763c",
   "metadata": {
    "execution": {
     "iopub.execute_input": "2024-09-05T12:10:38.718800Z",
     "iopub.status.busy": "2024-09-05T12:10:38.718373Z",
     "iopub.status.idle": "2024-09-05T12:10:38.728549Z",
     "shell.execute_reply": "2024-09-05T12:10:38.727455Z"
    },
    "papermill": {
     "duration": 0.044238,
     "end_time": "2024-09-05T12:10:38.731231",
     "exception": false,
     "start_time": "2024-09-05T12:10:38.686993",
     "status": "completed"
    },
    "tags": []
   },
   "outputs": [],
   "source": [
    "df_test = pd.get_dummies(df_test, columns = ['Age_group'], dtype = int, drop_first = True)"
   ]
  },
  {
   "cell_type": "code",
   "execution_count": 60,
   "id": "2687362e",
   "metadata": {
    "execution": {
     "iopub.execute_input": "2024-09-05T12:10:38.795374Z",
     "iopub.status.busy": "2024-09-05T12:10:38.794954Z",
     "iopub.status.idle": "2024-09-05T12:10:38.814550Z",
     "shell.execute_reply": "2024-09-05T12:10:38.813245Z"
    },
    "papermill": {
     "duration": 0.055289,
     "end_time": "2024-09-05T12:10:38.817158",
     "exception": false,
     "start_time": "2024-09-05T12:10:38.761869",
     "status": "completed"
    },
    "tags": []
   },
   "outputs": [
    {
     "data": {
      "text/html": [
       "<div>\n",
       "<style scoped>\n",
       "    .dataframe tbody tr th:only-of-type {\n",
       "        vertical-align: middle;\n",
       "    }\n",
       "\n",
       "    .dataframe tbody tr th {\n",
       "        vertical-align: top;\n",
       "    }\n",
       "\n",
       "    .dataframe thead th {\n",
       "        text-align: right;\n",
       "    }\n",
       "</style>\n",
       "<table border=\"1\" class=\"dataframe\">\n",
       "  <thead>\n",
       "    <tr style=\"text-align: right;\">\n",
       "      <th></th>\n",
       "      <th>PassengerId</th>\n",
       "      <th>Survived</th>\n",
       "      <th>Pclass</th>\n",
       "      <th>Age</th>\n",
       "      <th>SibSp</th>\n",
       "      <th>Parch</th>\n",
       "      <th>Fare</th>\n",
       "      <th>Sex_male</th>\n",
       "      <th>Embarked_Q</th>\n",
       "      <th>Embarked_S</th>\n",
       "      <th>Cabin_letter_B</th>\n",
       "      <th>Cabin_letter_C</th>\n",
       "      <th>Cabin_letter_D</th>\n",
       "      <th>Cabin_letter_E</th>\n",
       "      <th>Cabin_letter_F</th>\n",
       "      <th>Cabin_missing</th>\n",
       "      <th>Ticket_freq</th>\n",
       "      <th>Family_size</th>\n",
       "      <th>Age_group_teen</th>\n",
       "      <th>Age_group_young adult</th>\n",
       "      <th>Age_group_adult</th>\n",
       "      <th>Age_group_senior</th>\n",
       "      <th>Age_group_old</th>\n",
       "    </tr>\n",
       "  </thead>\n",
       "  <tbody>\n",
       "    <tr>\n",
       "      <th>0</th>\n",
       "      <td>1</td>\n",
       "      <td>0</td>\n",
       "      <td>3</td>\n",
       "      <td>22.0</td>\n",
       "      <td>1</td>\n",
       "      <td>0</td>\n",
       "      <td>7.2500</td>\n",
       "      <td>1</td>\n",
       "      <td>0</td>\n",
       "      <td>1</td>\n",
       "      <td>0</td>\n",
       "      <td>0</td>\n",
       "      <td>0</td>\n",
       "      <td>0</td>\n",
       "      <td>0</td>\n",
       "      <td>1</td>\n",
       "      <td>1</td>\n",
       "      <td>2</td>\n",
       "      <td>0</td>\n",
       "      <td>1</td>\n",
       "      <td>0</td>\n",
       "      <td>0</td>\n",
       "      <td>0</td>\n",
       "    </tr>\n",
       "    <tr>\n",
       "      <th>1</th>\n",
       "      <td>2</td>\n",
       "      <td>1</td>\n",
       "      <td>1</td>\n",
       "      <td>38.0</td>\n",
       "      <td>1</td>\n",
       "      <td>0</td>\n",
       "      <td>71.2833</td>\n",
       "      <td>0</td>\n",
       "      <td>0</td>\n",
       "      <td>0</td>\n",
       "      <td>0</td>\n",
       "      <td>1</td>\n",
       "      <td>0</td>\n",
       "      <td>0</td>\n",
       "      <td>0</td>\n",
       "      <td>0</td>\n",
       "      <td>1</td>\n",
       "      <td>2</td>\n",
       "      <td>0</td>\n",
       "      <td>0</td>\n",
       "      <td>1</td>\n",
       "      <td>0</td>\n",
       "      <td>0</td>\n",
       "    </tr>\n",
       "    <tr>\n",
       "      <th>2</th>\n",
       "      <td>3</td>\n",
       "      <td>1</td>\n",
       "      <td>3</td>\n",
       "      <td>26.0</td>\n",
       "      <td>0</td>\n",
       "      <td>0</td>\n",
       "      <td>7.9250</td>\n",
       "      <td>0</td>\n",
       "      <td>0</td>\n",
       "      <td>1</td>\n",
       "      <td>0</td>\n",
       "      <td>0</td>\n",
       "      <td>0</td>\n",
       "      <td>0</td>\n",
       "      <td>0</td>\n",
       "      <td>1</td>\n",
       "      <td>1</td>\n",
       "      <td>1</td>\n",
       "      <td>0</td>\n",
       "      <td>1</td>\n",
       "      <td>0</td>\n",
       "      <td>0</td>\n",
       "      <td>0</td>\n",
       "    </tr>\n",
       "    <tr>\n",
       "      <th>3</th>\n",
       "      <td>4</td>\n",
       "      <td>1</td>\n",
       "      <td>1</td>\n",
       "      <td>35.0</td>\n",
       "      <td>1</td>\n",
       "      <td>0</td>\n",
       "      <td>53.1000</td>\n",
       "      <td>0</td>\n",
       "      <td>0</td>\n",
       "      <td>1</td>\n",
       "      <td>0</td>\n",
       "      <td>1</td>\n",
       "      <td>0</td>\n",
       "      <td>0</td>\n",
       "      <td>0</td>\n",
       "      <td>0</td>\n",
       "      <td>2</td>\n",
       "      <td>2</td>\n",
       "      <td>0</td>\n",
       "      <td>1</td>\n",
       "      <td>0</td>\n",
       "      <td>0</td>\n",
       "      <td>0</td>\n",
       "    </tr>\n",
       "    <tr>\n",
       "      <th>4</th>\n",
       "      <td>5</td>\n",
       "      <td>0</td>\n",
       "      <td>3</td>\n",
       "      <td>35.0</td>\n",
       "      <td>0</td>\n",
       "      <td>0</td>\n",
       "      <td>8.0500</td>\n",
       "      <td>1</td>\n",
       "      <td>0</td>\n",
       "      <td>1</td>\n",
       "      <td>0</td>\n",
       "      <td>0</td>\n",
       "      <td>0</td>\n",
       "      <td>0</td>\n",
       "      <td>0</td>\n",
       "      <td>1</td>\n",
       "      <td>1</td>\n",
       "      <td>1</td>\n",
       "      <td>0</td>\n",
       "      <td>1</td>\n",
       "      <td>0</td>\n",
       "      <td>0</td>\n",
       "      <td>0</td>\n",
       "    </tr>\n",
       "  </tbody>\n",
       "</table>\n",
       "</div>"
      ],
      "text/plain": [
       "   PassengerId  Survived  Pclass   Age  SibSp  Parch     Fare  Sex_male  \\\n",
       "0            1         0       3  22.0      1      0   7.2500         1   \n",
       "1            2         1       1  38.0      1      0  71.2833         0   \n",
       "2            3         1       3  26.0      0      0   7.9250         0   \n",
       "3            4         1       1  35.0      1      0  53.1000         0   \n",
       "4            5         0       3  35.0      0      0   8.0500         1   \n",
       "\n",
       "   Embarked_Q  Embarked_S  Cabin_letter_B  Cabin_letter_C  Cabin_letter_D  \\\n",
       "0           0           1               0               0               0   \n",
       "1           0           0               0               1               0   \n",
       "2           0           1               0               0               0   \n",
       "3           0           1               0               1               0   \n",
       "4           0           1               0               0               0   \n",
       "\n",
       "   Cabin_letter_E  Cabin_letter_F  Cabin_missing  Ticket_freq  Family_size  \\\n",
       "0               0               0              1            1            2   \n",
       "1               0               0              0            1            2   \n",
       "2               0               0              1            1            1   \n",
       "3               0               0              0            2            2   \n",
       "4               0               0              1            1            1   \n",
       "\n",
       "   Age_group_teen  Age_group_young adult  Age_group_adult  Age_group_senior  \\\n",
       "0               0                      1                0                 0   \n",
       "1               0                      0                1                 0   \n",
       "2               0                      1                0                 0   \n",
       "3               0                      1                0                 0   \n",
       "4               0                      1                0                 0   \n",
       "\n",
       "   Age_group_old  \n",
       "0              0  \n",
       "1              0  \n",
       "2              0  \n",
       "3              0  \n",
       "4              0  "
      ]
     },
     "execution_count": 60,
     "metadata": {},
     "output_type": "execute_result"
    }
   ],
   "source": [
    "df.head()"
   ]
  },
  {
   "cell_type": "code",
   "execution_count": 61,
   "id": "d5b81a2c",
   "metadata": {
    "execution": {
     "iopub.execute_input": "2024-09-05T12:10:38.881240Z",
     "iopub.status.busy": "2024-09-05T12:10:38.880810Z",
     "iopub.status.idle": "2024-09-05T12:10:38.901244Z",
     "shell.execute_reply": "2024-09-05T12:10:38.900132Z"
    },
    "papermill": {
     "duration": 0.055321,
     "end_time": "2024-09-05T12:10:38.903741",
     "exception": false,
     "start_time": "2024-09-05T12:10:38.848420",
     "status": "completed"
    },
    "tags": []
   },
   "outputs": [
    {
     "data": {
      "text/html": [
       "<div>\n",
       "<style scoped>\n",
       "    .dataframe tbody tr th:only-of-type {\n",
       "        vertical-align: middle;\n",
       "    }\n",
       "\n",
       "    .dataframe tbody tr th {\n",
       "        vertical-align: top;\n",
       "    }\n",
       "\n",
       "    .dataframe thead th {\n",
       "        text-align: right;\n",
       "    }\n",
       "</style>\n",
       "<table border=\"1\" class=\"dataframe\">\n",
       "  <thead>\n",
       "    <tr style=\"text-align: right;\">\n",
       "      <th></th>\n",
       "      <th>PassengerId</th>\n",
       "      <th>Pclass</th>\n",
       "      <th>Age</th>\n",
       "      <th>SibSp</th>\n",
       "      <th>Parch</th>\n",
       "      <th>Fare</th>\n",
       "      <th>Sex_male</th>\n",
       "      <th>Embarked_Q</th>\n",
       "      <th>Embarked_S</th>\n",
       "      <th>Cabin_letter_B</th>\n",
       "      <th>Cabin_letter_C</th>\n",
       "      <th>Cabin_letter_D</th>\n",
       "      <th>Cabin_letter_E</th>\n",
       "      <th>Cabin_letter_F</th>\n",
       "      <th>Cabin_missing</th>\n",
       "      <th>Ticket_freq</th>\n",
       "      <th>Family_size</th>\n",
       "      <th>Age_group_teen</th>\n",
       "      <th>Age_group_young adult</th>\n",
       "      <th>Age_group_adult</th>\n",
       "      <th>Age_group_senior</th>\n",
       "      <th>Age_group_old</th>\n",
       "    </tr>\n",
       "  </thead>\n",
       "  <tbody>\n",
       "    <tr>\n",
       "      <th>0</th>\n",
       "      <td>892</td>\n",
       "      <td>3</td>\n",
       "      <td>34.5</td>\n",
       "      <td>0</td>\n",
       "      <td>0</td>\n",
       "      <td>7.8292</td>\n",
       "      <td>1</td>\n",
       "      <td>1</td>\n",
       "      <td>0</td>\n",
       "      <td>0</td>\n",
       "      <td>0</td>\n",
       "      <td>0</td>\n",
       "      <td>0</td>\n",
       "      <td>0</td>\n",
       "      <td>1</td>\n",
       "      <td>1</td>\n",
       "      <td>1</td>\n",
       "      <td>0</td>\n",
       "      <td>1</td>\n",
       "      <td>0</td>\n",
       "      <td>0</td>\n",
       "      <td>0</td>\n",
       "    </tr>\n",
       "    <tr>\n",
       "      <th>1</th>\n",
       "      <td>893</td>\n",
       "      <td>3</td>\n",
       "      <td>47.0</td>\n",
       "      <td>1</td>\n",
       "      <td>0</td>\n",
       "      <td>7.0000</td>\n",
       "      <td>0</td>\n",
       "      <td>0</td>\n",
       "      <td>1</td>\n",
       "      <td>0</td>\n",
       "      <td>0</td>\n",
       "      <td>0</td>\n",
       "      <td>0</td>\n",
       "      <td>0</td>\n",
       "      <td>1</td>\n",
       "      <td>1</td>\n",
       "      <td>2</td>\n",
       "      <td>0</td>\n",
       "      <td>0</td>\n",
       "      <td>1</td>\n",
       "      <td>0</td>\n",
       "      <td>0</td>\n",
       "    </tr>\n",
       "    <tr>\n",
       "      <th>2</th>\n",
       "      <td>894</td>\n",
       "      <td>2</td>\n",
       "      <td>62.0</td>\n",
       "      <td>0</td>\n",
       "      <td>0</td>\n",
       "      <td>9.6875</td>\n",
       "      <td>1</td>\n",
       "      <td>1</td>\n",
       "      <td>0</td>\n",
       "      <td>0</td>\n",
       "      <td>0</td>\n",
       "      <td>0</td>\n",
       "      <td>0</td>\n",
       "      <td>0</td>\n",
       "      <td>1</td>\n",
       "      <td>1</td>\n",
       "      <td>1</td>\n",
       "      <td>0</td>\n",
       "      <td>0</td>\n",
       "      <td>0</td>\n",
       "      <td>1</td>\n",
       "      <td>0</td>\n",
       "    </tr>\n",
       "    <tr>\n",
       "      <th>3</th>\n",
       "      <td>895</td>\n",
       "      <td>3</td>\n",
       "      <td>27.0</td>\n",
       "      <td>0</td>\n",
       "      <td>0</td>\n",
       "      <td>8.6625</td>\n",
       "      <td>1</td>\n",
       "      <td>0</td>\n",
       "      <td>1</td>\n",
       "      <td>0</td>\n",
       "      <td>0</td>\n",
       "      <td>0</td>\n",
       "      <td>0</td>\n",
       "      <td>0</td>\n",
       "      <td>1</td>\n",
       "      <td>1</td>\n",
       "      <td>1</td>\n",
       "      <td>0</td>\n",
       "      <td>1</td>\n",
       "      <td>0</td>\n",
       "      <td>0</td>\n",
       "      <td>0</td>\n",
       "    </tr>\n",
       "    <tr>\n",
       "      <th>4</th>\n",
       "      <td>896</td>\n",
       "      <td>3</td>\n",
       "      <td>22.0</td>\n",
       "      <td>1</td>\n",
       "      <td>1</td>\n",
       "      <td>12.2875</td>\n",
       "      <td>0</td>\n",
       "      <td>0</td>\n",
       "      <td>1</td>\n",
       "      <td>0</td>\n",
       "      <td>0</td>\n",
       "      <td>0</td>\n",
       "      <td>0</td>\n",
       "      <td>0</td>\n",
       "      <td>1</td>\n",
       "      <td>1</td>\n",
       "      <td>3</td>\n",
       "      <td>0</td>\n",
       "      <td>1</td>\n",
       "      <td>0</td>\n",
       "      <td>0</td>\n",
       "      <td>0</td>\n",
       "    </tr>\n",
       "  </tbody>\n",
       "</table>\n",
       "</div>"
      ],
      "text/plain": [
       "   PassengerId  Pclass   Age  SibSp  Parch     Fare  Sex_male  Embarked_Q  \\\n",
       "0          892       3  34.5      0      0   7.8292         1           1   \n",
       "1          893       3  47.0      1      0   7.0000         0           0   \n",
       "2          894       2  62.0      0      0   9.6875         1           1   \n",
       "3          895       3  27.0      0      0   8.6625         1           0   \n",
       "4          896       3  22.0      1      1  12.2875         0           0   \n",
       "\n",
       "   Embarked_S  Cabin_letter_B  Cabin_letter_C  Cabin_letter_D  Cabin_letter_E  \\\n",
       "0           0               0               0               0               0   \n",
       "1           1               0               0               0               0   \n",
       "2           0               0               0               0               0   \n",
       "3           1               0               0               0               0   \n",
       "4           1               0               0               0               0   \n",
       "\n",
       "   Cabin_letter_F  Cabin_missing  Ticket_freq  Family_size  Age_group_teen  \\\n",
       "0               0              1            1            1               0   \n",
       "1               0              1            1            2               0   \n",
       "2               0              1            1            1               0   \n",
       "3               0              1            1            1               0   \n",
       "4               0              1            1            3               0   \n",
       "\n",
       "   Age_group_young adult  Age_group_adult  Age_group_senior  Age_group_old  \n",
       "0                      1                0                 0              0  \n",
       "1                      0                1                 0              0  \n",
       "2                      0                0                 1              0  \n",
       "3                      1                0                 0              0  \n",
       "4                      1                0                 0              0  "
      ]
     },
     "execution_count": 61,
     "metadata": {},
     "output_type": "execute_result"
    }
   ],
   "source": [
    "df_test.head()"
   ]
  },
  {
   "cell_type": "markdown",
   "id": "04ee473a",
   "metadata": {
    "papermill": {
     "duration": 0.030258,
     "end_time": "2024-09-05T12:10:38.964615",
     "exception": false,
     "start_time": "2024-09-05T12:10:38.934357",
     "status": "completed"
    },
    "tags": []
   },
   "source": [
    "## d) Removing PassengerId"
   ]
  },
  {
   "cell_type": "code",
   "execution_count": 62,
   "id": "8fe996c7",
   "metadata": {
    "execution": {
     "iopub.execute_input": "2024-09-05T12:10:39.029845Z",
     "iopub.status.busy": "2024-09-05T12:10:39.028958Z",
     "iopub.status.idle": "2024-09-05T12:10:39.035157Z",
     "shell.execute_reply": "2024-09-05T12:10:39.034225Z"
    },
    "papermill": {
     "duration": 0.040914,
     "end_time": "2024-09-05T12:10:39.037500",
     "exception": false,
     "start_time": "2024-09-05T12:10:38.996586",
     "status": "completed"
    },
    "tags": []
   },
   "outputs": [],
   "source": [
    "df_copy = df.copy()\n",
    "df_test_copy = df_test.copy()"
   ]
  },
  {
   "cell_type": "code",
   "execution_count": 63,
   "id": "e3438986",
   "metadata": {
    "execution": {
     "iopub.execute_input": "2024-09-05T12:10:39.107662Z",
     "iopub.status.busy": "2024-09-05T12:10:39.107277Z",
     "iopub.status.idle": "2024-09-05T12:10:39.129768Z",
     "shell.execute_reply": "2024-09-05T12:10:39.128430Z"
    },
    "papermill": {
     "duration": 0.057957,
     "end_time": "2024-09-05T12:10:39.132548",
     "exception": false,
     "start_time": "2024-09-05T12:10:39.074591",
     "status": "completed"
    },
    "tags": []
   },
   "outputs": [
    {
     "data": {
      "text/html": [
       "<div>\n",
       "<style scoped>\n",
       "    .dataframe tbody tr th:only-of-type {\n",
       "        vertical-align: middle;\n",
       "    }\n",
       "\n",
       "    .dataframe tbody tr th {\n",
       "        vertical-align: top;\n",
       "    }\n",
       "\n",
       "    .dataframe thead th {\n",
       "        text-align: right;\n",
       "    }\n",
       "</style>\n",
       "<table border=\"1\" class=\"dataframe\">\n",
       "  <thead>\n",
       "    <tr style=\"text-align: right;\">\n",
       "      <th></th>\n",
       "      <th>Survived</th>\n",
       "      <th>Pclass</th>\n",
       "      <th>Age</th>\n",
       "      <th>SibSp</th>\n",
       "      <th>Parch</th>\n",
       "      <th>Fare</th>\n",
       "      <th>Sex_male</th>\n",
       "      <th>Embarked_Q</th>\n",
       "      <th>Embarked_S</th>\n",
       "      <th>Cabin_letter_B</th>\n",
       "      <th>Cabin_letter_C</th>\n",
       "      <th>Cabin_letter_D</th>\n",
       "      <th>Cabin_letter_E</th>\n",
       "      <th>Cabin_letter_F</th>\n",
       "      <th>Cabin_missing</th>\n",
       "      <th>Ticket_freq</th>\n",
       "      <th>Family_size</th>\n",
       "      <th>Age_group_teen</th>\n",
       "      <th>Age_group_young adult</th>\n",
       "      <th>Age_group_adult</th>\n",
       "      <th>Age_group_senior</th>\n",
       "      <th>Age_group_old</th>\n",
       "    </tr>\n",
       "  </thead>\n",
       "  <tbody>\n",
       "    <tr>\n",
       "      <th>0</th>\n",
       "      <td>0</td>\n",
       "      <td>3</td>\n",
       "      <td>22.0</td>\n",
       "      <td>1</td>\n",
       "      <td>0</td>\n",
       "      <td>7.2500</td>\n",
       "      <td>1</td>\n",
       "      <td>0</td>\n",
       "      <td>1</td>\n",
       "      <td>0</td>\n",
       "      <td>0</td>\n",
       "      <td>0</td>\n",
       "      <td>0</td>\n",
       "      <td>0</td>\n",
       "      <td>1</td>\n",
       "      <td>1</td>\n",
       "      <td>2</td>\n",
       "      <td>0</td>\n",
       "      <td>1</td>\n",
       "      <td>0</td>\n",
       "      <td>0</td>\n",
       "      <td>0</td>\n",
       "    </tr>\n",
       "    <tr>\n",
       "      <th>1</th>\n",
       "      <td>1</td>\n",
       "      <td>1</td>\n",
       "      <td>38.0</td>\n",
       "      <td>1</td>\n",
       "      <td>0</td>\n",
       "      <td>71.2833</td>\n",
       "      <td>0</td>\n",
       "      <td>0</td>\n",
       "      <td>0</td>\n",
       "      <td>0</td>\n",
       "      <td>1</td>\n",
       "      <td>0</td>\n",
       "      <td>0</td>\n",
       "      <td>0</td>\n",
       "      <td>0</td>\n",
       "      <td>1</td>\n",
       "      <td>2</td>\n",
       "      <td>0</td>\n",
       "      <td>0</td>\n",
       "      <td>1</td>\n",
       "      <td>0</td>\n",
       "      <td>0</td>\n",
       "    </tr>\n",
       "    <tr>\n",
       "      <th>2</th>\n",
       "      <td>1</td>\n",
       "      <td>3</td>\n",
       "      <td>26.0</td>\n",
       "      <td>0</td>\n",
       "      <td>0</td>\n",
       "      <td>7.9250</td>\n",
       "      <td>0</td>\n",
       "      <td>0</td>\n",
       "      <td>1</td>\n",
       "      <td>0</td>\n",
       "      <td>0</td>\n",
       "      <td>0</td>\n",
       "      <td>0</td>\n",
       "      <td>0</td>\n",
       "      <td>1</td>\n",
       "      <td>1</td>\n",
       "      <td>1</td>\n",
       "      <td>0</td>\n",
       "      <td>1</td>\n",
       "      <td>0</td>\n",
       "      <td>0</td>\n",
       "      <td>0</td>\n",
       "    </tr>\n",
       "    <tr>\n",
       "      <th>3</th>\n",
       "      <td>1</td>\n",
       "      <td>1</td>\n",
       "      <td>35.0</td>\n",
       "      <td>1</td>\n",
       "      <td>0</td>\n",
       "      <td>53.1000</td>\n",
       "      <td>0</td>\n",
       "      <td>0</td>\n",
       "      <td>1</td>\n",
       "      <td>0</td>\n",
       "      <td>1</td>\n",
       "      <td>0</td>\n",
       "      <td>0</td>\n",
       "      <td>0</td>\n",
       "      <td>0</td>\n",
       "      <td>2</td>\n",
       "      <td>2</td>\n",
       "      <td>0</td>\n",
       "      <td>1</td>\n",
       "      <td>0</td>\n",
       "      <td>0</td>\n",
       "      <td>0</td>\n",
       "    </tr>\n",
       "    <tr>\n",
       "      <th>4</th>\n",
       "      <td>0</td>\n",
       "      <td>3</td>\n",
       "      <td>35.0</td>\n",
       "      <td>0</td>\n",
       "      <td>0</td>\n",
       "      <td>8.0500</td>\n",
       "      <td>1</td>\n",
       "      <td>0</td>\n",
       "      <td>1</td>\n",
       "      <td>0</td>\n",
       "      <td>0</td>\n",
       "      <td>0</td>\n",
       "      <td>0</td>\n",
       "      <td>0</td>\n",
       "      <td>1</td>\n",
       "      <td>1</td>\n",
       "      <td>1</td>\n",
       "      <td>0</td>\n",
       "      <td>1</td>\n",
       "      <td>0</td>\n",
       "      <td>0</td>\n",
       "      <td>0</td>\n",
       "    </tr>\n",
       "  </tbody>\n",
       "</table>\n",
       "</div>"
      ],
      "text/plain": [
       "   Survived  Pclass   Age  SibSp  Parch     Fare  Sex_male  Embarked_Q  \\\n",
       "0         0       3  22.0      1      0   7.2500         1           0   \n",
       "1         1       1  38.0      1      0  71.2833         0           0   \n",
       "2         1       3  26.0      0      0   7.9250         0           0   \n",
       "3         1       1  35.0      1      0  53.1000         0           0   \n",
       "4         0       3  35.0      0      0   8.0500         1           0   \n",
       "\n",
       "   Embarked_S  Cabin_letter_B  Cabin_letter_C  Cabin_letter_D  Cabin_letter_E  \\\n",
       "0           1               0               0               0               0   \n",
       "1           0               0               1               0               0   \n",
       "2           1               0               0               0               0   \n",
       "3           1               0               1               0               0   \n",
       "4           1               0               0               0               0   \n",
       "\n",
       "   Cabin_letter_F  Cabin_missing  Ticket_freq  Family_size  Age_group_teen  \\\n",
       "0               0              1            1            2               0   \n",
       "1               0              0            1            2               0   \n",
       "2               0              1            1            1               0   \n",
       "3               0              0            2            2               0   \n",
       "4               0              1            1            1               0   \n",
       "\n",
       "   Age_group_young adult  Age_group_adult  Age_group_senior  Age_group_old  \n",
       "0                      1                0                 0              0  \n",
       "1                      0                1                 0              0  \n",
       "2                      1                0                 0              0  \n",
       "3                      1                0                 0              0  \n",
       "4                      1                0                 0              0  "
      ]
     },
     "execution_count": 63,
     "metadata": {},
     "output_type": "execute_result"
    }
   ],
   "source": [
    "df.pop('PassengerId')\n",
    "df.head()"
   ]
  },
  {
   "cell_type": "code",
   "execution_count": 64,
   "id": "4bbb66d9",
   "metadata": {
    "execution": {
     "iopub.execute_input": "2024-09-05T12:10:39.202481Z",
     "iopub.status.busy": "2024-09-05T12:10:39.201903Z",
     "iopub.status.idle": "2024-09-05T12:10:39.223514Z",
     "shell.execute_reply": "2024-09-05T12:10:39.222271Z"
    },
    "papermill": {
     "duration": 0.059991,
     "end_time": "2024-09-05T12:10:39.226000",
     "exception": false,
     "start_time": "2024-09-05T12:10:39.166009",
     "status": "completed"
    },
    "tags": []
   },
   "outputs": [
    {
     "data": {
      "text/html": [
       "<div>\n",
       "<style scoped>\n",
       "    .dataframe tbody tr th:only-of-type {\n",
       "        vertical-align: middle;\n",
       "    }\n",
       "\n",
       "    .dataframe tbody tr th {\n",
       "        vertical-align: top;\n",
       "    }\n",
       "\n",
       "    .dataframe thead th {\n",
       "        text-align: right;\n",
       "    }\n",
       "</style>\n",
       "<table border=\"1\" class=\"dataframe\">\n",
       "  <thead>\n",
       "    <tr style=\"text-align: right;\">\n",
       "      <th></th>\n",
       "      <th>Pclass</th>\n",
       "      <th>Age</th>\n",
       "      <th>SibSp</th>\n",
       "      <th>Parch</th>\n",
       "      <th>Fare</th>\n",
       "      <th>Sex_male</th>\n",
       "      <th>Embarked_Q</th>\n",
       "      <th>Embarked_S</th>\n",
       "      <th>Cabin_letter_B</th>\n",
       "      <th>Cabin_letter_C</th>\n",
       "      <th>Cabin_letter_D</th>\n",
       "      <th>Cabin_letter_E</th>\n",
       "      <th>Cabin_letter_F</th>\n",
       "      <th>Cabin_missing</th>\n",
       "      <th>Ticket_freq</th>\n",
       "      <th>Family_size</th>\n",
       "      <th>Age_group_teen</th>\n",
       "      <th>Age_group_young adult</th>\n",
       "      <th>Age_group_adult</th>\n",
       "      <th>Age_group_senior</th>\n",
       "      <th>Age_group_old</th>\n",
       "    </tr>\n",
       "  </thead>\n",
       "  <tbody>\n",
       "    <tr>\n",
       "      <th>0</th>\n",
       "      <td>3</td>\n",
       "      <td>34.5</td>\n",
       "      <td>0</td>\n",
       "      <td>0</td>\n",
       "      <td>7.8292</td>\n",
       "      <td>1</td>\n",
       "      <td>1</td>\n",
       "      <td>0</td>\n",
       "      <td>0</td>\n",
       "      <td>0</td>\n",
       "      <td>0</td>\n",
       "      <td>0</td>\n",
       "      <td>0</td>\n",
       "      <td>1</td>\n",
       "      <td>1</td>\n",
       "      <td>1</td>\n",
       "      <td>0</td>\n",
       "      <td>1</td>\n",
       "      <td>0</td>\n",
       "      <td>0</td>\n",
       "      <td>0</td>\n",
       "    </tr>\n",
       "    <tr>\n",
       "      <th>1</th>\n",
       "      <td>3</td>\n",
       "      <td>47.0</td>\n",
       "      <td>1</td>\n",
       "      <td>0</td>\n",
       "      <td>7.0000</td>\n",
       "      <td>0</td>\n",
       "      <td>0</td>\n",
       "      <td>1</td>\n",
       "      <td>0</td>\n",
       "      <td>0</td>\n",
       "      <td>0</td>\n",
       "      <td>0</td>\n",
       "      <td>0</td>\n",
       "      <td>1</td>\n",
       "      <td>1</td>\n",
       "      <td>2</td>\n",
       "      <td>0</td>\n",
       "      <td>0</td>\n",
       "      <td>1</td>\n",
       "      <td>0</td>\n",
       "      <td>0</td>\n",
       "    </tr>\n",
       "    <tr>\n",
       "      <th>2</th>\n",
       "      <td>2</td>\n",
       "      <td>62.0</td>\n",
       "      <td>0</td>\n",
       "      <td>0</td>\n",
       "      <td>9.6875</td>\n",
       "      <td>1</td>\n",
       "      <td>1</td>\n",
       "      <td>0</td>\n",
       "      <td>0</td>\n",
       "      <td>0</td>\n",
       "      <td>0</td>\n",
       "      <td>0</td>\n",
       "      <td>0</td>\n",
       "      <td>1</td>\n",
       "      <td>1</td>\n",
       "      <td>1</td>\n",
       "      <td>0</td>\n",
       "      <td>0</td>\n",
       "      <td>0</td>\n",
       "      <td>1</td>\n",
       "      <td>0</td>\n",
       "    </tr>\n",
       "    <tr>\n",
       "      <th>3</th>\n",
       "      <td>3</td>\n",
       "      <td>27.0</td>\n",
       "      <td>0</td>\n",
       "      <td>0</td>\n",
       "      <td>8.6625</td>\n",
       "      <td>1</td>\n",
       "      <td>0</td>\n",
       "      <td>1</td>\n",
       "      <td>0</td>\n",
       "      <td>0</td>\n",
       "      <td>0</td>\n",
       "      <td>0</td>\n",
       "      <td>0</td>\n",
       "      <td>1</td>\n",
       "      <td>1</td>\n",
       "      <td>1</td>\n",
       "      <td>0</td>\n",
       "      <td>1</td>\n",
       "      <td>0</td>\n",
       "      <td>0</td>\n",
       "      <td>0</td>\n",
       "    </tr>\n",
       "    <tr>\n",
       "      <th>4</th>\n",
       "      <td>3</td>\n",
       "      <td>22.0</td>\n",
       "      <td>1</td>\n",
       "      <td>1</td>\n",
       "      <td>12.2875</td>\n",
       "      <td>0</td>\n",
       "      <td>0</td>\n",
       "      <td>1</td>\n",
       "      <td>0</td>\n",
       "      <td>0</td>\n",
       "      <td>0</td>\n",
       "      <td>0</td>\n",
       "      <td>0</td>\n",
       "      <td>1</td>\n",
       "      <td>1</td>\n",
       "      <td>3</td>\n",
       "      <td>0</td>\n",
       "      <td>1</td>\n",
       "      <td>0</td>\n",
       "      <td>0</td>\n",
       "      <td>0</td>\n",
       "    </tr>\n",
       "  </tbody>\n",
       "</table>\n",
       "</div>"
      ],
      "text/plain": [
       "   Pclass   Age  SibSp  Parch     Fare  Sex_male  Embarked_Q  Embarked_S  \\\n",
       "0       3  34.5      0      0   7.8292         1           1           0   \n",
       "1       3  47.0      1      0   7.0000         0           0           1   \n",
       "2       2  62.0      0      0   9.6875         1           1           0   \n",
       "3       3  27.0      0      0   8.6625         1           0           1   \n",
       "4       3  22.0      1      1  12.2875         0           0           1   \n",
       "\n",
       "   Cabin_letter_B  Cabin_letter_C  Cabin_letter_D  Cabin_letter_E  \\\n",
       "0               0               0               0               0   \n",
       "1               0               0               0               0   \n",
       "2               0               0               0               0   \n",
       "3               0               0               0               0   \n",
       "4               0               0               0               0   \n",
       "\n",
       "   Cabin_letter_F  Cabin_missing  Ticket_freq  Family_size  Age_group_teen  \\\n",
       "0               0              1            1            1               0   \n",
       "1               0              1            1            2               0   \n",
       "2               0              1            1            1               0   \n",
       "3               0              1            1            1               0   \n",
       "4               0              1            1            3               0   \n",
       "\n",
       "   Age_group_young adult  Age_group_adult  Age_group_senior  Age_group_old  \n",
       "0                      1                0                 0              0  \n",
       "1                      0                1                 0              0  \n",
       "2                      0                0                 1              0  \n",
       "3                      1                0                 0              0  \n",
       "4                      1                0                 0              0  "
      ]
     },
     "execution_count": 64,
     "metadata": {},
     "output_type": "execute_result"
    }
   ],
   "source": [
    "df_test.pop('PassengerId')\n",
    "df_test.head()"
   ]
  },
  {
   "cell_type": "markdown",
   "id": "e05873c0",
   "metadata": {
    "papermill": {
     "duration": 0.031166,
     "end_time": "2024-09-05T12:10:39.288808",
     "exception": false,
     "start_time": "2024-09-05T12:10:39.257642",
     "status": "completed"
    },
    "tags": []
   },
   "source": [
    "# Model building and evaluation"
   ]
  },
  {
   "cell_type": "markdown",
   "id": "d7cdbafe",
   "metadata": {
    "papermill": {
     "duration": 0.039981,
     "end_time": "2024-09-05T12:10:39.362245",
     "exception": false,
     "start_time": "2024-09-05T12:10:39.322264",
     "status": "completed"
    },
    "tags": []
   },
   "source": [
    "**Splitting the dataset**"
   ]
  },
  {
   "cell_type": "code",
   "execution_count": 65,
   "id": "05fe15bd",
   "metadata": {
    "execution": {
     "iopub.execute_input": "2024-09-05T12:10:39.442874Z",
     "iopub.status.busy": "2024-09-05T12:10:39.441977Z",
     "iopub.status.idle": "2024-09-05T12:10:39.448138Z",
     "shell.execute_reply": "2024-09-05T12:10:39.447178Z"
    },
    "papermill": {
     "duration": 0.042513,
     "end_time": "2024-09-05T12:10:39.450229",
     "exception": false,
     "start_time": "2024-09-05T12:10:39.407716",
     "status": "completed"
    },
    "tags": []
   },
   "outputs": [],
   "source": [
    "X = df.drop(['Survived'], axis = 1)\n",
    "y = df['Survived']"
   ]
  },
  {
   "cell_type": "code",
   "execution_count": 66,
   "id": "1fede0d0",
   "metadata": {
    "execution": {
     "iopub.execute_input": "2024-09-05T12:10:39.514967Z",
     "iopub.status.busy": "2024-09-05T12:10:39.514551Z",
     "iopub.status.idle": "2024-09-05T12:10:39.525279Z",
     "shell.execute_reply": "2024-09-05T12:10:39.524251Z"
    },
    "papermill": {
     "duration": 0.046522,
     "end_time": "2024-09-05T12:10:39.527812",
     "exception": false,
     "start_time": "2024-09-05T12:10:39.481290",
     "status": "completed"
    },
    "tags": []
   },
   "outputs": [],
   "source": [
    "X_train, X_val, y_train, y_val = train_test_split(X, y, test_size = 0.2, random_state = 42, stratify = y)"
   ]
  },
  {
   "cell_type": "markdown",
   "id": "c4df6741",
   "metadata": {
    "papermill": {
     "duration": 0.031269,
     "end_time": "2024-09-05T12:10:39.591592",
     "exception": false,
     "start_time": "2024-09-05T12:10:39.560323",
     "status": "completed"
    },
    "tags": []
   },
   "source": [
    "## a) Random Forest"
   ]
  },
  {
   "cell_type": "markdown",
   "id": "7f2f0c89",
   "metadata": {
    "papermill": {
     "duration": 0.031043,
     "end_time": "2024-09-05T12:10:39.654549",
     "exception": false,
     "start_time": "2024-09-05T12:10:39.623506",
     "status": "completed"
    },
    "tags": []
   },
   "source": [
    "**Hyperparameter Tuning**"
   ]
  },
  {
   "cell_type": "code",
   "execution_count": 67,
   "id": "374ca0a1",
   "metadata": {
    "execution": {
     "iopub.execute_input": "2024-09-05T12:10:39.721391Z",
     "iopub.status.busy": "2024-09-05T12:10:39.720963Z",
     "iopub.status.idle": "2024-09-05T12:10:39.727211Z",
     "shell.execute_reply": "2024-09-05T12:10:39.725853Z"
    },
    "papermill": {
     "duration": 0.042087,
     "end_time": "2024-09-05T12:10:39.729824",
     "exception": false,
     "start_time": "2024-09-05T12:10:39.687737",
     "status": "completed"
    },
    "tags": []
   },
   "outputs": [],
   "source": [
    "param_grid = {\n",
    "    'n_estimators': [100, 200],\n",
    "    'max_features': ['sqrt', 'log2', None],\n",
    "    'max_depth': [None, 10, 20],\n",
    "    'min_samples_split': [2, 5],\n",
    "    'min_samples_leaf': [1, 2]\n",
    "}"
   ]
  },
  {
   "cell_type": "code",
   "execution_count": 68,
   "id": "93641b94",
   "metadata": {
    "execution": {
     "iopub.execute_input": "2024-09-05T12:10:39.797054Z",
     "iopub.status.busy": "2024-09-05T12:10:39.796582Z",
     "iopub.status.idle": "2024-09-05T12:10:39.802069Z",
     "shell.execute_reply": "2024-09-05T12:10:39.800899Z"
    },
    "papermill": {
     "duration": 0.042375,
     "end_time": "2024-09-05T12:10:39.804735",
     "exception": false,
     "start_time": "2024-09-05T12:10:39.762360",
     "status": "completed"
    },
    "tags": []
   },
   "outputs": [],
   "source": [
    "rf = RandomForestClassifier(random_state = 42)"
   ]
  },
  {
   "cell_type": "code",
   "execution_count": 69,
   "id": "e427fb6c",
   "metadata": {
    "execution": {
     "iopub.execute_input": "2024-09-05T12:10:39.869287Z",
     "iopub.status.busy": "2024-09-05T12:10:39.868827Z",
     "iopub.status.idle": "2024-09-05T12:12:49.315821Z",
     "shell.execute_reply": "2024-09-05T12:12:49.314758Z"
    },
    "papermill": {
     "duration": 129.52506,
     "end_time": "2024-09-05T12:12:49.361336",
     "exception": false,
     "start_time": "2024-09-05T12:10:39.836276",
     "status": "completed"
    },
    "tags": []
   },
   "outputs": [
    {
     "name": "stdout",
     "output_type": "stream",
     "text": [
      "CPU times: user 2min 8s, sys: 946 ms, total: 2min 9s\n",
      "Wall time: 2min 9s\n"
     ]
    },
    {
     "data": {
      "text/html": [
       "<style>#sk-container-id-1 {color: black;background-color: white;}#sk-container-id-1 pre{padding: 0;}#sk-container-id-1 div.sk-toggleable {background-color: white;}#sk-container-id-1 label.sk-toggleable__label {cursor: pointer;display: block;width: 100%;margin-bottom: 0;padding: 0.3em;box-sizing: border-box;text-align: center;}#sk-container-id-1 label.sk-toggleable__label-arrow:before {content: \"▸\";float: left;margin-right: 0.25em;color: #696969;}#sk-container-id-1 label.sk-toggleable__label-arrow:hover:before {color: black;}#sk-container-id-1 div.sk-estimator:hover label.sk-toggleable__label-arrow:before {color: black;}#sk-container-id-1 div.sk-toggleable__content {max-height: 0;max-width: 0;overflow: hidden;text-align: left;background-color: #f0f8ff;}#sk-container-id-1 div.sk-toggleable__content pre {margin: 0.2em;color: black;border-radius: 0.25em;background-color: #f0f8ff;}#sk-container-id-1 input.sk-toggleable__control:checked~div.sk-toggleable__content {max-height: 200px;max-width: 100%;overflow: auto;}#sk-container-id-1 input.sk-toggleable__control:checked~label.sk-toggleable__label-arrow:before {content: \"▾\";}#sk-container-id-1 div.sk-estimator input.sk-toggleable__control:checked~label.sk-toggleable__label {background-color: #d4ebff;}#sk-container-id-1 div.sk-label input.sk-toggleable__control:checked~label.sk-toggleable__label {background-color: #d4ebff;}#sk-container-id-1 input.sk-hidden--visually {border: 0;clip: rect(1px 1px 1px 1px);clip: rect(1px, 1px, 1px, 1px);height: 1px;margin: -1px;overflow: hidden;padding: 0;position: absolute;width: 1px;}#sk-container-id-1 div.sk-estimator {font-family: monospace;background-color: #f0f8ff;border: 1px dotted black;border-radius: 0.25em;box-sizing: border-box;margin-bottom: 0.5em;}#sk-container-id-1 div.sk-estimator:hover {background-color: #d4ebff;}#sk-container-id-1 div.sk-parallel-item::after {content: \"\";width: 100%;border-bottom: 1px solid gray;flex-grow: 1;}#sk-container-id-1 div.sk-label:hover label.sk-toggleable__label {background-color: #d4ebff;}#sk-container-id-1 div.sk-serial::before {content: \"\";position: absolute;border-left: 1px solid gray;box-sizing: border-box;top: 0;bottom: 0;left: 50%;z-index: 0;}#sk-container-id-1 div.sk-serial {display: flex;flex-direction: column;align-items: center;background-color: white;padding-right: 0.2em;padding-left: 0.2em;position: relative;}#sk-container-id-1 div.sk-item {position: relative;z-index: 1;}#sk-container-id-1 div.sk-parallel {display: flex;align-items: stretch;justify-content: center;background-color: white;position: relative;}#sk-container-id-1 div.sk-item::before, #sk-container-id-1 div.sk-parallel-item::before {content: \"\";position: absolute;border-left: 1px solid gray;box-sizing: border-box;top: 0;bottom: 0;left: 50%;z-index: -1;}#sk-container-id-1 div.sk-parallel-item {display: flex;flex-direction: column;z-index: 1;position: relative;background-color: white;}#sk-container-id-1 div.sk-parallel-item:first-child::after {align-self: flex-end;width: 50%;}#sk-container-id-1 div.sk-parallel-item:last-child::after {align-self: flex-start;width: 50%;}#sk-container-id-1 div.sk-parallel-item:only-child::after {width: 0;}#sk-container-id-1 div.sk-dashed-wrapped {border: 1px dashed gray;margin: 0 0.4em 0.5em 0.4em;box-sizing: border-box;padding-bottom: 0.4em;background-color: white;}#sk-container-id-1 div.sk-label label {font-family: monospace;font-weight: bold;display: inline-block;line-height: 1.2em;}#sk-container-id-1 div.sk-label-container {text-align: center;}#sk-container-id-1 div.sk-container {/* jupyter's `normalize.less` sets `[hidden] { display: none; }` but bootstrap.min.css set `[hidden] { display: none !important; }` so we also need the `!important` here to be able to override the default hidden behavior on the sphinx rendered scikit-learn.org. See: https://github.com/scikit-learn/scikit-learn/issues/21755 */display: inline-block !important;position: relative;}#sk-container-id-1 div.sk-text-repr-fallback {display: none;}</style><div id=\"sk-container-id-1\" class=\"sk-top-container\"><div class=\"sk-text-repr-fallback\"><pre>GridSearchCV(cv=5, estimator=RandomForestClassifier(random_state=42),\n",
       "             param_grid={&#x27;max_depth&#x27;: [None, 10, 20],\n",
       "                         &#x27;max_features&#x27;: [&#x27;sqrt&#x27;, &#x27;log2&#x27;, None],\n",
       "                         &#x27;min_samples_leaf&#x27;: [1, 2],\n",
       "                         &#x27;min_samples_split&#x27;: [2, 5],\n",
       "                         &#x27;n_estimators&#x27;: [100, 200]},\n",
       "             scoring=&#x27;accuracy&#x27;)</pre><b>In a Jupyter environment, please rerun this cell to show the HTML representation or trust the notebook. <br />On GitHub, the HTML representation is unable to render, please try loading this page with nbviewer.org.</b></div><div class=\"sk-container\" hidden><div class=\"sk-item sk-dashed-wrapped\"><div class=\"sk-label-container\"><div class=\"sk-label sk-toggleable\"><input class=\"sk-toggleable__control sk-hidden--visually\" id=\"sk-estimator-id-1\" type=\"checkbox\" ><label for=\"sk-estimator-id-1\" class=\"sk-toggleable__label sk-toggleable__label-arrow\">GridSearchCV</label><div class=\"sk-toggleable__content\"><pre>GridSearchCV(cv=5, estimator=RandomForestClassifier(random_state=42),\n",
       "             param_grid={&#x27;max_depth&#x27;: [None, 10, 20],\n",
       "                         &#x27;max_features&#x27;: [&#x27;sqrt&#x27;, &#x27;log2&#x27;, None],\n",
       "                         &#x27;min_samples_leaf&#x27;: [1, 2],\n",
       "                         &#x27;min_samples_split&#x27;: [2, 5],\n",
       "                         &#x27;n_estimators&#x27;: [100, 200]},\n",
       "             scoring=&#x27;accuracy&#x27;)</pre></div></div></div><div class=\"sk-parallel\"><div class=\"sk-parallel-item\"><div class=\"sk-item\"><div class=\"sk-label-container\"><div class=\"sk-label sk-toggleable\"><input class=\"sk-toggleable__control sk-hidden--visually\" id=\"sk-estimator-id-2\" type=\"checkbox\" ><label for=\"sk-estimator-id-2\" class=\"sk-toggleable__label sk-toggleable__label-arrow\">estimator: RandomForestClassifier</label><div class=\"sk-toggleable__content\"><pre>RandomForestClassifier(random_state=42)</pre></div></div></div><div class=\"sk-serial\"><div class=\"sk-item\"><div class=\"sk-estimator sk-toggleable\"><input class=\"sk-toggleable__control sk-hidden--visually\" id=\"sk-estimator-id-3\" type=\"checkbox\" ><label for=\"sk-estimator-id-3\" class=\"sk-toggleable__label sk-toggleable__label-arrow\">RandomForestClassifier</label><div class=\"sk-toggleable__content\"><pre>RandomForestClassifier(random_state=42)</pre></div></div></div></div></div></div></div></div></div></div>"
      ],
      "text/plain": [
       "GridSearchCV(cv=5, estimator=RandomForestClassifier(random_state=42),\n",
       "             param_grid={'max_depth': [None, 10, 20],\n",
       "                         'max_features': ['sqrt', 'log2', None],\n",
       "                         'min_samples_leaf': [1, 2],\n",
       "                         'min_samples_split': [2, 5],\n",
       "                         'n_estimators': [100, 200]},\n",
       "             scoring='accuracy')"
      ]
     },
     "execution_count": 69,
     "metadata": {},
     "output_type": "execute_result"
    }
   ],
   "source": [
    "%%time\n",
    "\n",
    "grid_search = GridSearchCV(\n",
    "    estimator = rf,\n",
    "    param_grid = param_grid,\n",
    "    cv = 5,\n",
    "    scoring = 'accuracy'\n",
    ")\n",
    "\n",
    "grid_search.fit(X_train, y_train)"
   ]
  },
  {
   "cell_type": "code",
   "execution_count": 70,
   "id": "0fb20675",
   "metadata": {
    "execution": {
     "iopub.execute_input": "2024-09-05T12:12:49.446759Z",
     "iopub.status.busy": "2024-09-05T12:12:49.446324Z",
     "iopub.status.idle": "2024-09-05T12:12:49.452825Z",
     "shell.execute_reply": "2024-09-05T12:12:49.451562Z"
    },
    "papermill": {
     "duration": 0.04565,
     "end_time": "2024-09-05T12:12:49.455870",
     "exception": false,
     "start_time": "2024-09-05T12:12:49.410220",
     "status": "completed"
    },
    "tags": []
   },
   "outputs": [
    {
     "name": "stdout",
     "output_type": "stream",
     "text": [
      "0.8502347417840376\n",
      "{'max_depth': None, 'max_features': 'sqrt', 'min_samples_leaf': 2, 'min_samples_split': 2, 'n_estimators': 100}\n",
      "RandomForestClassifier(min_samples_leaf=2, random_state=42)\n"
     ]
    }
   ],
   "source": [
    "print(grid_search.best_score_)\n",
    "print(grid_search.best_params_)\n",
    "print(grid_search.best_estimator_)"
   ]
  },
  {
   "cell_type": "code",
   "execution_count": 71,
   "id": "11cbb0a4",
   "metadata": {
    "execution": {
     "iopub.execute_input": "2024-09-05T12:12:49.525773Z",
     "iopub.status.busy": "2024-09-05T12:12:49.525291Z",
     "iopub.status.idle": "2024-09-05T12:12:49.531048Z",
     "shell.execute_reply": "2024-09-05T12:12:49.529703Z"
    },
    "papermill": {
     "duration": 0.043482,
     "end_time": "2024-09-05T12:12:49.533630",
     "exception": false,
     "start_time": "2024-09-05T12:12:49.490148",
     "status": "completed"
    },
    "tags": []
   },
   "outputs": [],
   "source": [
    "best_rf = grid_search.best_estimator_"
   ]
  },
  {
   "cell_type": "code",
   "execution_count": 72,
   "id": "c993abdc",
   "metadata": {
    "execution": {
     "iopub.execute_input": "2024-09-05T12:12:49.601407Z",
     "iopub.status.busy": "2024-09-05T12:12:49.600920Z",
     "iopub.status.idle": "2024-09-05T12:12:49.618296Z",
     "shell.execute_reply": "2024-09-05T12:12:49.617254Z"
    },
    "papermill": {
     "duration": 0.054189,
     "end_time": "2024-09-05T12:12:49.620970",
     "exception": false,
     "start_time": "2024-09-05T12:12:49.566781",
     "status": "completed"
    },
    "tags": []
   },
   "outputs": [],
   "source": [
    "y_pred = best_rf.predict(X_val)"
   ]
  },
  {
   "cell_type": "markdown",
   "id": "dc23cbf5",
   "metadata": {
    "papermill": {
     "duration": 0.032106,
     "end_time": "2024-09-05T12:12:49.685890",
     "exception": false,
     "start_time": "2024-09-05T12:12:49.653784",
     "status": "completed"
    },
    "tags": []
   },
   "source": [
    "### Evaluation"
   ]
  },
  {
   "cell_type": "markdown",
   "id": "3f88b77a",
   "metadata": {
    "papermill": {
     "duration": 0.034325,
     "end_time": "2024-09-05T12:12:49.753147",
     "exception": false,
     "start_time": "2024-09-05T12:12:49.718822",
     "status": "completed"
    },
    "tags": []
   },
   "source": [
    "**1. Permutation importance**"
   ]
  },
  {
   "cell_type": "code",
   "execution_count": 73,
   "id": "f8d3320c",
   "metadata": {
    "execution": {
     "iopub.execute_input": "2024-09-05T12:12:49.822000Z",
     "iopub.status.busy": "2024-09-05T12:12:49.821561Z",
     "iopub.status.idle": "2024-09-05T12:12:50.959123Z",
     "shell.execute_reply": "2024-09-05T12:12:50.957732Z"
    },
    "papermill": {
     "duration": 1.174452,
     "end_time": "2024-09-05T12:12:50.961795",
     "exception": false,
     "start_time": "2024-09-05T12:12:49.787343",
     "status": "completed"
    },
    "tags": []
   },
   "outputs": [
    {
     "data": {
      "text/html": [
       "<style>#sk-container-id-2 {color: black;background-color: white;}#sk-container-id-2 pre{padding: 0;}#sk-container-id-2 div.sk-toggleable {background-color: white;}#sk-container-id-2 label.sk-toggleable__label {cursor: pointer;display: block;width: 100%;margin-bottom: 0;padding: 0.3em;box-sizing: border-box;text-align: center;}#sk-container-id-2 label.sk-toggleable__label-arrow:before {content: \"▸\";float: left;margin-right: 0.25em;color: #696969;}#sk-container-id-2 label.sk-toggleable__label-arrow:hover:before {color: black;}#sk-container-id-2 div.sk-estimator:hover label.sk-toggleable__label-arrow:before {color: black;}#sk-container-id-2 div.sk-toggleable__content {max-height: 0;max-width: 0;overflow: hidden;text-align: left;background-color: #f0f8ff;}#sk-container-id-2 div.sk-toggleable__content pre {margin: 0.2em;color: black;border-radius: 0.25em;background-color: #f0f8ff;}#sk-container-id-2 input.sk-toggleable__control:checked~div.sk-toggleable__content {max-height: 200px;max-width: 100%;overflow: auto;}#sk-container-id-2 input.sk-toggleable__control:checked~label.sk-toggleable__label-arrow:before {content: \"▾\";}#sk-container-id-2 div.sk-estimator input.sk-toggleable__control:checked~label.sk-toggleable__label {background-color: #d4ebff;}#sk-container-id-2 div.sk-label input.sk-toggleable__control:checked~label.sk-toggleable__label {background-color: #d4ebff;}#sk-container-id-2 input.sk-hidden--visually {border: 0;clip: rect(1px 1px 1px 1px);clip: rect(1px, 1px, 1px, 1px);height: 1px;margin: -1px;overflow: hidden;padding: 0;position: absolute;width: 1px;}#sk-container-id-2 div.sk-estimator {font-family: monospace;background-color: #f0f8ff;border: 1px dotted black;border-radius: 0.25em;box-sizing: border-box;margin-bottom: 0.5em;}#sk-container-id-2 div.sk-estimator:hover {background-color: #d4ebff;}#sk-container-id-2 div.sk-parallel-item::after {content: \"\";width: 100%;border-bottom: 1px solid gray;flex-grow: 1;}#sk-container-id-2 div.sk-label:hover label.sk-toggleable__label {background-color: #d4ebff;}#sk-container-id-2 div.sk-serial::before {content: \"\";position: absolute;border-left: 1px solid gray;box-sizing: border-box;top: 0;bottom: 0;left: 50%;z-index: 0;}#sk-container-id-2 div.sk-serial {display: flex;flex-direction: column;align-items: center;background-color: white;padding-right: 0.2em;padding-left: 0.2em;position: relative;}#sk-container-id-2 div.sk-item {position: relative;z-index: 1;}#sk-container-id-2 div.sk-parallel {display: flex;align-items: stretch;justify-content: center;background-color: white;position: relative;}#sk-container-id-2 div.sk-item::before, #sk-container-id-2 div.sk-parallel-item::before {content: \"\";position: absolute;border-left: 1px solid gray;box-sizing: border-box;top: 0;bottom: 0;left: 50%;z-index: -1;}#sk-container-id-2 div.sk-parallel-item {display: flex;flex-direction: column;z-index: 1;position: relative;background-color: white;}#sk-container-id-2 div.sk-parallel-item:first-child::after {align-self: flex-end;width: 50%;}#sk-container-id-2 div.sk-parallel-item:last-child::after {align-self: flex-start;width: 50%;}#sk-container-id-2 div.sk-parallel-item:only-child::after {width: 0;}#sk-container-id-2 div.sk-dashed-wrapped {border: 1px dashed gray;margin: 0 0.4em 0.5em 0.4em;box-sizing: border-box;padding-bottom: 0.4em;background-color: white;}#sk-container-id-2 div.sk-label label {font-family: monospace;font-weight: bold;display: inline-block;line-height: 1.2em;}#sk-container-id-2 div.sk-label-container {text-align: center;}#sk-container-id-2 div.sk-container {/* jupyter's `normalize.less` sets `[hidden] { display: none; }` but bootstrap.min.css set `[hidden] { display: none !important; }` so we also need the `!important` here to be able to override the default hidden behavior on the sphinx rendered scikit-learn.org. See: https://github.com/scikit-learn/scikit-learn/issues/21755 */display: inline-block !important;position: relative;}#sk-container-id-2 div.sk-text-repr-fallback {display: none;}</style><div id=\"sk-container-id-2\" class=\"sk-top-container\"><div class=\"sk-text-repr-fallback\"><pre>PermutationImportance(estimator=RandomForestClassifier(min_samples_leaf=2,\n",
       "                                                       random_state=42),\n",
       "                      random_state=42)</pre><b>In a Jupyter environment, please rerun this cell to show the HTML representation or trust the notebook. <br />On GitHub, the HTML representation is unable to render, please try loading this page with nbviewer.org.</b></div><div class=\"sk-container\" hidden><div class=\"sk-item sk-dashed-wrapped\"><div class=\"sk-label-container\"><div class=\"sk-label sk-toggleable\"><input class=\"sk-toggleable__control sk-hidden--visually\" id=\"sk-estimator-id-4\" type=\"checkbox\" ><label for=\"sk-estimator-id-4\" class=\"sk-toggleable__label sk-toggleable__label-arrow\">PermutationImportance</label><div class=\"sk-toggleable__content\"><pre>PermutationImportance(estimator=RandomForestClassifier(min_samples_leaf=2,\n",
       "                                                       random_state=42),\n",
       "                      random_state=42)</pre></div></div></div><div class=\"sk-parallel\"><div class=\"sk-parallel-item\"><div class=\"sk-item\"><div class=\"sk-label-container\"><div class=\"sk-label sk-toggleable\"><input class=\"sk-toggleable__control sk-hidden--visually\" id=\"sk-estimator-id-5\" type=\"checkbox\" ><label for=\"sk-estimator-id-5\" class=\"sk-toggleable__label sk-toggleable__label-arrow\">estimator: RandomForestClassifier</label><div class=\"sk-toggleable__content\"><pre>RandomForestClassifier(min_samples_leaf=2, random_state=42)</pre></div></div></div><div class=\"sk-serial\"><div class=\"sk-item\"><div class=\"sk-estimator sk-toggleable\"><input class=\"sk-toggleable__control sk-hidden--visually\" id=\"sk-estimator-id-6\" type=\"checkbox\" ><label for=\"sk-estimator-id-6\" class=\"sk-toggleable__label sk-toggleable__label-arrow\">RandomForestClassifier</label><div class=\"sk-toggleable__content\"><pre>RandomForestClassifier(min_samples_leaf=2, random_state=42)</pre></div></div></div></div></div></div></div></div></div></div>"
      ],
      "text/plain": [
       "PermutationImportance(estimator=RandomForestClassifier(min_samples_leaf=2,\n",
       "                                                       random_state=42),\n",
       "                      random_state=42)"
      ]
     },
     "execution_count": 73,
     "metadata": {},
     "output_type": "execute_result"
    }
   ],
   "source": [
    "perm = PermutationImportance(best_rf, random_state = 42)\n",
    "perm.fit(X_val, y_val)"
   ]
  },
  {
   "cell_type": "code",
   "execution_count": 74,
   "id": "bae551a7",
   "metadata": {
    "execution": {
     "iopub.execute_input": "2024-09-05T12:12:51.028692Z",
     "iopub.status.busy": "2024-09-05T12:12:51.028268Z",
     "iopub.status.idle": "2024-09-05T12:12:51.063235Z",
     "shell.execute_reply": "2024-09-05T12:12:51.061776Z"
    },
    "papermill": {
     "duration": 0.071413,
     "end_time": "2024-09-05T12:12:51.066023",
     "exception": false,
     "start_time": "2024-09-05T12:12:50.994610",
     "status": "completed"
    },
    "tags": []
   },
   "outputs": [
    {
     "data": {
      "text/html": [
       "\n",
       "    <style>\n",
       "    table.eli5-weights tr:hover {\n",
       "        filter: brightness(85%);\n",
       "    }\n",
       "</style>\n",
       "\n",
       "\n",
       "\n",
       "    \n",
       "\n",
       "    \n",
       "\n",
       "    \n",
       "\n",
       "    \n",
       "\n",
       "    \n",
       "\n",
       "    \n",
       "\n",
       "\n",
       "    \n",
       "\n",
       "    \n",
       "\n",
       "    \n",
       "\n",
       "    \n",
       "\n",
       "    \n",
       "\n",
       "    \n",
       "\n",
       "\n",
       "    \n",
       "\n",
       "    \n",
       "\n",
       "    \n",
       "\n",
       "    \n",
       "\n",
       "    \n",
       "        <table class=\"eli5-weights eli5-feature-importances\" style=\"border-collapse: collapse; border: none; margin-top: 0em; table-layout: auto;\">\n",
       "    <thead>\n",
       "    <tr style=\"border: none;\">\n",
       "        <th style=\"padding: 0 1em 0 0.5em; text-align: right; border: none;\">Weight</th>\n",
       "        <th style=\"padding: 0 0.5em 0 0.5em; text-align: left; border: none;\">Feature</th>\n",
       "    </tr>\n",
       "    </thead>\n",
       "    <tbody>\n",
       "    \n",
       "        <tr style=\"background-color: hsl(120, 100.00%, 80.00%); border: none;\">\n",
       "            <td style=\"padding: 0 1em 0 0.5em; text-align: right; border: none;\">\n",
       "                0.1258\n",
       "                \n",
       "                    &plusmn; 0.0495\n",
       "                \n",
       "            </td>\n",
       "            <td style=\"padding: 0 0.5em 0 0.5em; text-align: left; border: none;\">\n",
       "                Sex_male\n",
       "            </td>\n",
       "        </tr>\n",
       "    \n",
       "        <tr style=\"background-color: hsl(120, 100.00%, 94.88%); border: none;\">\n",
       "            <td style=\"padding: 0 1em 0 0.5em; text-align: right; border: none;\">\n",
       "                0.0180\n",
       "                \n",
       "                    &plusmn; 0.0131\n",
       "                \n",
       "            </td>\n",
       "            <td style=\"padding: 0 0.5em 0 0.5em; text-align: left; border: none;\">\n",
       "                Age\n",
       "            </td>\n",
       "        </tr>\n",
       "    \n",
       "        <tr style=\"background-color: hsl(120, 100.00%, 95.33%); border: none;\">\n",
       "            <td style=\"padding: 0 1em 0 0.5em; text-align: right; border: none;\">\n",
       "                0.0157\n",
       "                \n",
       "                    &plusmn; 0.0045\n",
       "                \n",
       "            </td>\n",
       "            <td style=\"padding: 0 0.5em 0 0.5em; text-align: left; border: none;\">\n",
       "                Pclass\n",
       "            </td>\n",
       "        </tr>\n",
       "    \n",
       "        <tr style=\"background-color: hsl(120, 100.00%, 96.06%); border: none;\">\n",
       "            <td style=\"padding: 0 1em 0 0.5em; text-align: right; border: none;\">\n",
       "                0.0124\n",
       "                \n",
       "                    &plusmn; 0.0218\n",
       "                \n",
       "            </td>\n",
       "            <td style=\"padding: 0 0.5em 0 0.5em; text-align: left; border: none;\">\n",
       "                Age_group_young adult\n",
       "            </td>\n",
       "        </tr>\n",
       "    \n",
       "        <tr style=\"background-color: hsl(120, 100.00%, 96.58%); border: none;\">\n",
       "            <td style=\"padding: 0 1em 0 0.5em; text-align: right; border: none;\">\n",
       "                0.0101\n",
       "                \n",
       "                    &plusmn; 0.0131\n",
       "                \n",
       "            </td>\n",
       "            <td style=\"padding: 0 0.5em 0 0.5em; text-align: left; border: none;\">\n",
       "                Ticket_freq\n",
       "            </td>\n",
       "        </tr>\n",
       "    \n",
       "        <tr style=\"background-color: hsl(120, 100.00%, 97.13%); border: none;\">\n",
       "            <td style=\"padding: 0 1em 0 0.5em; text-align: right; border: none;\">\n",
       "                0.0079\n",
       "                \n",
       "                    &plusmn; 0.0115\n",
       "                \n",
       "            </td>\n",
       "            <td style=\"padding: 0 0.5em 0 0.5em; text-align: left; border: none;\">\n",
       "                Embarked_S\n",
       "            </td>\n",
       "        </tr>\n",
       "    \n",
       "        <tr style=\"background-color: hsl(120, 100.00%, 97.73%); border: none;\">\n",
       "            <td style=\"padding: 0 1em 0 0.5em; text-align: right; border: none;\">\n",
       "                0.0056\n",
       "                \n",
       "                    &plusmn; 0.0071\n",
       "                \n",
       "            </td>\n",
       "            <td style=\"padding: 0 0.5em 0 0.5em; text-align: left; border: none;\">\n",
       "                Parch\n",
       "            </td>\n",
       "        </tr>\n",
       "    \n",
       "        <tr style=\"background-color: hsl(120, 100.00%, 97.73%); border: none;\">\n",
       "            <td style=\"padding: 0 1em 0 0.5em; text-align: right; border: none;\">\n",
       "                0.0056\n",
       "                \n",
       "                    &plusmn; 0.0000\n",
       "                \n",
       "            </td>\n",
       "            <td style=\"padding: 0 0.5em 0 0.5em; text-align: left; border: none;\">\n",
       "                Age_group_senior\n",
       "            </td>\n",
       "        </tr>\n",
       "    \n",
       "        <tr style=\"background-color: hsl(120, 100.00%, 98.06%); border: none;\">\n",
       "            <td style=\"padding: 0 1em 0 0.5em; text-align: right; border: none;\">\n",
       "                0.0045\n",
       "                \n",
       "                    &plusmn; 0.0045\n",
       "                \n",
       "            </td>\n",
       "            <td style=\"padding: 0 0.5em 0 0.5em; text-align: left; border: none;\">\n",
       "                Cabin_letter_E\n",
       "            </td>\n",
       "        </tr>\n",
       "    \n",
       "        <tr style=\"background-color: hsl(120, 100.00%, 98.06%); border: none;\">\n",
       "            <td style=\"padding: 0 1em 0 0.5em; text-align: right; border: none;\">\n",
       "                0.0045\n",
       "                \n",
       "                    &plusmn; 0.0110\n",
       "                \n",
       "            </td>\n",
       "            <td style=\"padding: 0 0.5em 0 0.5em; text-align: left; border: none;\">\n",
       "                Cabin_missing\n",
       "            </td>\n",
       "        </tr>\n",
       "    \n",
       "        <tr style=\"background-color: hsl(120, 100.00%, 98.41%); border: none;\">\n",
       "            <td style=\"padding: 0 1em 0 0.5em; text-align: right; border: none;\">\n",
       "                0.0034\n",
       "                \n",
       "                    &plusmn; 0.0055\n",
       "                \n",
       "            </td>\n",
       "            <td style=\"padding: 0 0.5em 0 0.5em; text-align: left; border: none;\">\n",
       "                Age_group_adult\n",
       "            </td>\n",
       "        </tr>\n",
       "    \n",
       "        <tr style=\"background-color: hsl(120, 100.00%, 98.81%); border: none;\">\n",
       "            <td style=\"padding: 0 1em 0 0.5em; text-align: right; border: none;\">\n",
       "                0.0022\n",
       "                \n",
       "                    &plusmn; 0.0055\n",
       "                \n",
       "            </td>\n",
       "            <td style=\"padding: 0 0.5em 0 0.5em; text-align: left; border: none;\">\n",
       "                Embarked_Q\n",
       "            </td>\n",
       "        </tr>\n",
       "    \n",
       "        <tr style=\"background-color: hsl(120, 100.00%, 98.81%); border: none;\">\n",
       "            <td style=\"padding: 0 1em 0 0.5em; text-align: right; border: none;\">\n",
       "                0.0022\n",
       "                \n",
       "                    &plusmn; 0.0115\n",
       "                \n",
       "            </td>\n",
       "            <td style=\"padding: 0 0.5em 0 0.5em; text-align: left; border: none;\">\n",
       "                Family_size\n",
       "            </td>\n",
       "        </tr>\n",
       "    \n",
       "        <tr style=\"background-color: hsl(120, 100.00%, 99.26%); border: none;\">\n",
       "            <td style=\"padding: 0 1em 0 0.5em; text-align: right; border: none;\">\n",
       "                0.0011\n",
       "                \n",
       "                    &plusmn; 0.0045\n",
       "                \n",
       "            </td>\n",
       "            <td style=\"padding: 0 0.5em 0 0.5em; text-align: left; border: none;\">\n",
       "                Cabin_letter_C\n",
       "            </td>\n",
       "        </tr>\n",
       "    \n",
       "        <tr style=\"background-color: hsl(0, 100.00%, 100.00%); border: none;\">\n",
       "            <td style=\"padding: 0 1em 0 0.5em; text-align: right; border: none;\">\n",
       "                0\n",
       "                \n",
       "                    &plusmn; 0.0000\n",
       "                \n",
       "            </td>\n",
       "            <td style=\"padding: 0 0.5em 0 0.5em; text-align: left; border: none;\">\n",
       "                Cabin_letter_B\n",
       "            </td>\n",
       "        </tr>\n",
       "    \n",
       "        <tr style=\"background-color: hsl(0, 100.00%, 100.00%); border: none;\">\n",
       "            <td style=\"padding: 0 1em 0 0.5em; text-align: right; border: none;\">\n",
       "                0\n",
       "                \n",
       "                    &plusmn; 0.0000\n",
       "                \n",
       "            </td>\n",
       "            <td style=\"padding: 0 0.5em 0 0.5em; text-align: left; border: none;\">\n",
       "                Age_group_teen\n",
       "            </td>\n",
       "        </tr>\n",
       "    \n",
       "        <tr style=\"background-color: hsl(0, 100.00%, 100.00%); border: none;\">\n",
       "            <td style=\"padding: 0 1em 0 0.5em; text-align: right; border: none;\">\n",
       "                0\n",
       "                \n",
       "                    &plusmn; 0.0000\n",
       "                \n",
       "            </td>\n",
       "            <td style=\"padding: 0 0.5em 0 0.5em; text-align: left; border: none;\">\n",
       "                Cabin_letter_F\n",
       "            </td>\n",
       "        </tr>\n",
       "    \n",
       "        <tr style=\"background-color: hsl(0, 100.00%, 100.00%); border: none;\">\n",
       "            <td style=\"padding: 0 1em 0 0.5em; text-align: right; border: none;\">\n",
       "                0\n",
       "                \n",
       "                    &plusmn; 0.0000\n",
       "                \n",
       "            </td>\n",
       "            <td style=\"padding: 0 0.5em 0 0.5em; text-align: left; border: none;\">\n",
       "                Age_group_old\n",
       "            </td>\n",
       "        </tr>\n",
       "    \n",
       "        <tr style=\"background-color: hsl(0, 100.00%, 99.26%); border: none;\">\n",
       "            <td style=\"padding: 0 1em 0 0.5em; text-align: right; border: none;\">\n",
       "                -0.0011\n",
       "                \n",
       "                    &plusmn; 0.0045\n",
       "                \n",
       "            </td>\n",
       "            <td style=\"padding: 0 0.5em 0 0.5em; text-align: left; border: none;\">\n",
       "                Cabin_letter_D\n",
       "            </td>\n",
       "        </tr>\n",
       "    \n",
       "        <tr style=\"background-color: hsl(0, 100.00%, 96.31%); border: none;\">\n",
       "            <td style=\"padding: 0 1em 0 0.5em; text-align: right; border: none;\">\n",
       "                -0.0112\n",
       "                \n",
       "                    &plusmn; 0.0142\n",
       "                \n",
       "            </td>\n",
       "            <td style=\"padding: 0 0.5em 0 0.5em; text-align: left; border: none;\">\n",
       "                Fare\n",
       "            </td>\n",
       "        </tr>\n",
       "    \n",
       "    \n",
       "        \n",
       "            <tr style=\"background-color: hsl(0, 100.00%, 96.31%); border: none;\">\n",
       "                <td colspan=\"2\" style=\"padding: 0 0.5em 0 0.5em; text-align: center; border: none; white-space: nowrap;\">\n",
       "                    <i>&hellip; 1 more &hellip;</i>\n",
       "                </td>\n",
       "            </tr>\n",
       "        \n",
       "    \n",
       "    </tbody>\n",
       "</table>\n",
       "    \n",
       "\n",
       "    \n",
       "\n",
       "\n",
       "    \n",
       "\n",
       "    \n",
       "\n",
       "    \n",
       "\n",
       "    \n",
       "\n",
       "    \n",
       "\n",
       "    \n",
       "\n",
       "\n",
       "\n"
      ],
      "text/plain": [
       "<IPython.core.display.HTML object>"
      ]
     },
     "execution_count": 74,
     "metadata": {},
     "output_type": "execute_result"
    }
   ],
   "source": [
    "eli5.show_weights(perm, feature_names = X_val.columns.tolist())"
   ]
  },
  {
   "cell_type": "markdown",
   "id": "660ac1f9",
   "metadata": {
    "papermill": {
     "duration": 0.032399,
     "end_time": "2024-09-05T12:12:51.131819",
     "exception": false,
     "start_time": "2024-09-05T12:12:51.099420",
     "status": "completed"
    },
    "tags": []
   },
   "source": [
    "**2. Feature importance**"
   ]
  },
  {
   "cell_type": "code",
   "execution_count": 75,
   "id": "c65ec40c",
   "metadata": {
    "execution": {
     "iopub.execute_input": "2024-09-05T12:12:51.199504Z",
     "iopub.status.busy": "2024-09-05T12:12:51.199108Z",
     "iopub.status.idle": "2024-09-05T12:12:51.218526Z",
     "shell.execute_reply": "2024-09-05T12:12:51.217339Z"
    },
    "papermill": {
     "duration": 0.056664,
     "end_time": "2024-09-05T12:12:51.221222",
     "exception": false,
     "start_time": "2024-09-05T12:12:51.164558",
     "status": "completed"
    },
    "tags": []
   },
   "outputs": [
    {
     "data": {
      "text/html": [
       "<div>\n",
       "<style scoped>\n",
       "    .dataframe tbody tr th:only-of-type {\n",
       "        vertical-align: middle;\n",
       "    }\n",
       "\n",
       "    .dataframe tbody tr th {\n",
       "        vertical-align: top;\n",
       "    }\n",
       "\n",
       "    .dataframe thead th {\n",
       "        text-align: right;\n",
       "    }\n",
       "</style>\n",
       "<table border=\"1\" class=\"dataframe\">\n",
       "  <thead>\n",
       "    <tr style=\"text-align: right;\">\n",
       "      <th></th>\n",
       "      <th>gini_importance</th>\n",
       "    </tr>\n",
       "  </thead>\n",
       "  <tbody>\n",
       "    <tr>\n",
       "      <th>Sex_male</th>\n",
       "      <td>0.312410</td>\n",
       "    </tr>\n",
       "    <tr>\n",
       "      <th>Fare</th>\n",
       "      <td>0.185116</td>\n",
       "    </tr>\n",
       "    <tr>\n",
       "      <th>Age</th>\n",
       "      <td>0.131943</td>\n",
       "    </tr>\n",
       "    <tr>\n",
       "      <th>Pclass</th>\n",
       "      <td>0.078812</td>\n",
       "    </tr>\n",
       "    <tr>\n",
       "      <th>Ticket_freq</th>\n",
       "      <td>0.057696</td>\n",
       "    </tr>\n",
       "    <tr>\n",
       "      <th>Family_size</th>\n",
       "      <td>0.048612</td>\n",
       "    </tr>\n",
       "    <tr>\n",
       "      <th>Cabin_missing</th>\n",
       "      <td>0.034392</td>\n",
       "    </tr>\n",
       "    <tr>\n",
       "      <th>SibSp</th>\n",
       "      <td>0.028460</td>\n",
       "    </tr>\n",
       "    <tr>\n",
       "      <th>Parch</th>\n",
       "      <td>0.022121</td>\n",
       "    </tr>\n",
       "    <tr>\n",
       "      <th>Embarked_S</th>\n",
       "      <td>0.020408</td>\n",
       "    </tr>\n",
       "  </tbody>\n",
       "</table>\n",
       "</div>"
      ],
      "text/plain": [
       "               gini_importance\n",
       "Sex_male              0.312410\n",
       "Fare                  0.185116\n",
       "Age                   0.131943\n",
       "Pclass                0.078812\n",
       "Ticket_freq           0.057696\n",
       "Family_size           0.048612\n",
       "Cabin_missing         0.034392\n",
       "SibSp                 0.028460\n",
       "Parch                 0.022121\n",
       "Embarked_S            0.020408"
      ]
     },
     "execution_count": 75,
     "metadata": {},
     "output_type": "execute_result"
    }
   ],
   "source": [
    "forest_importance = pd.DataFrame(grid_search.best_estimator_.feature_importances_, \n",
    "                                 columns = ['gini_importance'], \n",
    "                                 index = X.columns\n",
    "                                )\n",
    "forest_importance = forest_importance.sort_values(by = 'gini_importance', ascending = False)\n",
    "\n",
    "#Only extracting the features with importances > 0 and only taking the first 10 features\n",
    "forest_importance = forest_importance[forest_importance['gini_importance'] != 0]\n",
    "forest_importance = forest_importance.head(10)\n",
    "forest_importance"
   ]
  },
  {
   "cell_type": "code",
   "execution_count": 76,
   "id": "e4c5c16d",
   "metadata": {
    "execution": {
     "iopub.execute_input": "2024-09-05T12:12:51.291009Z",
     "iopub.status.busy": "2024-09-05T12:12:51.290577Z",
     "iopub.status.idle": "2024-09-05T12:12:51.583907Z",
     "shell.execute_reply": "2024-09-05T12:12:51.582330Z"
    },
    "papermill": {
     "duration": 0.331514,
     "end_time": "2024-09-05T12:12:51.586789",
     "exception": false,
     "start_time": "2024-09-05T12:12:51.255275",
     "status": "completed"
    },
    "tags": []
   },
   "outputs": [
    {
     "data": {
      "text/plain": [
       "Text(0.5, 0, 'Importance')"
      ]
     },
     "execution_count": 76,
     "metadata": {},
     "output_type": "execute_result"
    },
    {
     "data": {
      "image/png": "[encoded data removed]",
      "text/plain": [
       "<Figure size 640x480 with 1 Axes>"
      ]
     },
     "metadata": {},
     "output_type": "display_data"
    }
   ],
   "source": [
    "sns.barplot(data = forest_importance, x = \"gini_importance\", y = forest_importance.index, orient = 'h')\n",
    "plt.title(\"Feature importance\")\n",
    "plt.ylabel(\"Feature\")\n",
    "plt.xlabel(\"Importance\")"
   ]
  },
  {
   "cell_type": "markdown",
   "id": "059575df",
   "metadata": {
    "papermill": {
     "duration": 0.033411,
     "end_time": "2024-09-05T12:12:51.654034",
     "exception": false,
     "start_time": "2024-09-05T12:12:51.620623",
     "status": "completed"
    },
    "tags": []
   },
   "source": [
    "**3. Confusion matrix**"
   ]
  },
  {
   "cell_type": "code",
   "execution_count": 77,
   "id": "d2c407ea",
   "metadata": {
    "execution": {
     "iopub.execute_input": "2024-09-05T12:12:51.725104Z",
     "iopub.status.busy": "2024-09-05T12:12:51.724689Z",
     "iopub.status.idle": "2024-09-05T12:12:52.040868Z",
     "shell.execute_reply": "2024-09-05T12:12:52.039014Z"
    },
    "papermill": {
     "duration": 0.354007,
     "end_time": "2024-09-05T12:12:52.043546",
     "exception": false,
     "start_time": "2024-09-05T12:12:51.689539",
     "status": "completed"
    },
    "tags": []
   },
   "outputs": [
    {
     "data": {
      "text/plain": [
       "<sklearn.metrics._plot.confusion_matrix.ConfusionMatrixDisplay at 0x7c629ca89d20>"
      ]
     },
     "execution_count": 77,
     "metadata": {},
     "output_type": "execute_result"
    },
    {
     "data": {
      "image/png": "[encoded data removed]",
      "text/plain": [
       "<Figure size 640x480 with 2 Axes>"
      ]
     },
     "metadata": {},
     "output_type": "display_data"
    }
   ],
   "source": [
    "cm = confusion_matrix(y_val, y_pred, labels = best_rf.classes_)\n",
    "disp = ConfusionMatrixDisplay(cm, display_labels = best_rf.classes_)\n",
    "disp.plot(values_format = '')"
   ]
  },
  {
   "cell_type": "markdown",
   "id": "d6d480b4",
   "metadata": {
    "papermill": {
     "duration": 0.034148,
     "end_time": "2024-09-05T12:12:52.112735",
     "exception": false,
     "start_time": "2024-09-05T12:12:52.078587",
     "status": "completed"
    },
    "tags": []
   },
   "source": [
    "**4. Accuracy**"
   ]
  },
  {
   "cell_type": "code",
   "execution_count": 78,
   "id": "647212ef",
   "metadata": {
    "execution": {
     "iopub.execute_input": "2024-09-05T12:12:52.183767Z",
     "iopub.status.busy": "2024-09-05T12:12:52.183329Z",
     "iopub.status.idle": "2024-09-05T12:12:52.192543Z",
     "shell.execute_reply": "2024-09-05T12:12:52.191234Z"
    },
    "papermill": {
     "duration": 0.048349,
     "end_time": "2024-09-05T12:12:52.195280",
     "exception": false,
     "start_time": "2024-09-05T12:12:52.146931",
     "status": "completed"
    },
    "tags": []
   },
   "outputs": [
    {
     "data": {
      "text/plain": [
       "77.52808988764045"
      ]
     },
     "execution_count": 78,
     "metadata": {},
     "output_type": "execute_result"
    }
   ],
   "source": [
    "accuracy_score(y_val, y_pred) * 100"
   ]
  },
  {
   "cell_type": "markdown",
   "id": "5bfdf420",
   "metadata": {
    "papermill": {
     "duration": 0.034751,
     "end_time": "2024-09-05T12:12:52.264730",
     "exception": false,
     "start_time": "2024-09-05T12:12:52.229979",
     "status": "completed"
    },
    "tags": []
   },
   "source": [
    "## b) XGBoost"
   ]
  },
  {
   "cell_type": "code",
   "execution_count": 79,
   "id": "f84d28bf",
   "metadata": {
    "execution": {
     "iopub.execute_input": "2024-09-05T12:12:52.335646Z",
     "iopub.status.busy": "2024-09-05T12:12:52.335216Z",
     "iopub.status.idle": "2024-09-05T12:12:52.340864Z",
     "shell.execute_reply": "2024-09-05T12:12:52.339740Z"
    },
    "papermill": {
     "duration": 0.044005,
     "end_time": "2024-09-05T12:12:52.343248",
     "exception": false,
     "start_time": "2024-09-05T12:12:52.299243",
     "status": "completed"
    },
    "tags": []
   },
   "outputs": [],
   "source": [
    "param_grid_xgb = {\n",
    "    'n_estimators': [50, 100, 200],\n",
    "    'learning_rate': [0.01, 0.1, 0.2],\n",
    "    'max_depth': [3, 5, 7],\n",
    "    'min_child_weight': [1, 3, 5],\n",
    "    'subsample': [0.6, 0.8, 1.0]\n",
    "}"
   ]
  },
  {
   "cell_type": "code",
   "execution_count": 80,
   "id": "b5d9c4df",
   "metadata": {
    "execution": {
     "iopub.execute_input": "2024-09-05T12:12:52.415375Z",
     "iopub.status.busy": "2024-09-05T12:12:52.414922Z",
     "iopub.status.idle": "2024-09-05T12:12:52.420160Z",
     "shell.execute_reply": "2024-09-05T12:12:52.418998Z"
    },
    "papermill": {
     "duration": 0.044301,
     "end_time": "2024-09-05T12:12:52.422515",
     "exception": false,
     "start_time": "2024-09-05T12:12:52.378214",
     "status": "completed"
    },
    "tags": []
   },
   "outputs": [],
   "source": [
    "xgb = XGBClassifier(random_state = 42)"
   ]
  },
  {
   "cell_type": "code",
   "execution_count": 81,
   "id": "62c15d0b",
   "metadata": {
    "execution": {
     "iopub.execute_input": "2024-09-05T12:12:52.494591Z",
     "iopub.status.busy": "2024-09-05T12:12:52.493717Z",
     "iopub.status.idle": "2024-09-05T12:14:37.693119Z",
     "shell.execute_reply": "2024-09-05T12:14:37.691997Z"
    },
    "papermill": {
     "duration": 105.272582,
     "end_time": "2024-09-05T12:14:37.729824",
     "exception": false,
     "start_time": "2024-09-05T12:12:52.457242",
     "status": "completed"
    },
    "tags": []
   },
   "outputs": [
    {
     "name": "stdout",
     "output_type": "stream",
     "text": [
      "CPU times: user 6min 30s, sys: 8.83 s, total: 6min 39s\n",
      "Wall time: 1min 45s\n"
     ]
    },
    {
     "data": {
      "text/html": [
       "<style>#sk-container-id-3 {color: black;background-color: white;}#sk-container-id-3 pre{padding: 0;}#sk-container-id-3 div.sk-toggleable {background-color: white;}#sk-container-id-3 label.sk-toggleable__label {cursor: pointer;display: block;width: 100%;margin-bottom: 0;padding: 0.3em;box-sizing: border-box;text-align: center;}#sk-container-id-3 label.sk-toggleable__label-arrow:before {content: \"▸\";float: left;margin-right: 0.25em;color: #696969;}#sk-container-id-3 label.sk-toggleable__label-arrow:hover:before {color: black;}#sk-container-id-3 div.sk-estimator:hover label.sk-toggleable__label-arrow:before {color: black;}#sk-container-id-3 div.sk-toggleable__content {max-height: 0;max-width: 0;overflow: hidden;text-align: left;background-color: #f0f8ff;}#sk-container-id-3 div.sk-toggleable__content pre {margin: 0.2em;color: black;border-radius: 0.25em;background-color: #f0f8ff;}#sk-container-id-3 input.sk-toggleable__control:checked~div.sk-toggleable__content {max-height: 200px;max-width: 100%;overflow: auto;}#sk-container-id-3 input.sk-toggleable__control:checked~label.sk-toggleable__label-arrow:before {content: \"▾\";}#sk-container-id-3 div.sk-estimator input.sk-toggleable__control:checked~label.sk-toggleable__label {background-color: #d4ebff;}#sk-container-id-3 div.sk-label input.sk-toggleable__control:checked~label.sk-toggleable__label {background-color: #d4ebff;}#sk-container-id-3 input.sk-hidden--visually {border: 0;clip: rect(1px 1px 1px 1px);clip: rect(1px, 1px, 1px, 1px);height: 1px;margin: -1px;overflow: hidden;padding: 0;position: absolute;width: 1px;}#sk-container-id-3 div.sk-estimator {font-family: monospace;background-color: #f0f8ff;border: 1px dotted black;border-radius: 0.25em;box-sizing: border-box;margin-bottom: 0.5em;}#sk-container-id-3 div.sk-estimator:hover {background-color: #d4ebff;}#sk-container-id-3 div.sk-parallel-item::after {content: \"\";width: 100%;border-bottom: 1px solid gray;flex-grow: 1;}#sk-container-id-3 div.sk-label:hover label.sk-toggleable__label {background-color: #d4ebff;}#sk-container-id-3 div.sk-serial::before {content: \"\";position: absolute;border-left: 1px solid gray;box-sizing: border-box;top: 0;bottom: 0;left: 50%;z-index: 0;}#sk-container-id-3 div.sk-serial {display: flex;flex-direction: column;align-items: center;background-color: white;padding-right: 0.2em;padding-left: 0.2em;position: relative;}#sk-container-id-3 div.sk-item {position: relative;z-index: 1;}#sk-container-id-3 div.sk-parallel {display: flex;align-items: stretch;justify-content: center;background-color: white;position: relative;}#sk-container-id-3 div.sk-item::before, #sk-container-id-3 div.sk-parallel-item::before {content: \"\";position: absolute;border-left: 1px solid gray;box-sizing: border-box;top: 0;bottom: 0;left: 50%;z-index: -1;}#sk-container-id-3 div.sk-parallel-item {display: flex;flex-direction: column;z-index: 1;position: relative;background-color: white;}#sk-container-id-3 div.sk-parallel-item:first-child::after {align-self: flex-end;width: 50%;}#sk-container-id-3 div.sk-parallel-item:last-child::after {align-self: flex-start;width: 50%;}#sk-container-id-3 div.sk-parallel-item:only-child::after {width: 0;}#sk-container-id-3 div.sk-dashed-wrapped {border: 1px dashed gray;margin: 0 0.4em 0.5em 0.4em;box-sizing: border-box;padding-bottom: 0.4em;background-color: white;}#sk-container-id-3 div.sk-label label {font-family: monospace;font-weight: bold;display: inline-block;line-height: 1.2em;}#sk-container-id-3 div.sk-label-container {text-align: center;}#sk-container-id-3 div.sk-container {/* jupyter's `normalize.less` sets `[hidden] { display: none; }` but bootstrap.min.css set `[hidden] { display: none !important; }` so we also need the `!important` here to be able to override the default hidden behavior on the sphinx rendered scikit-learn.org. See: https://github.com/scikit-learn/scikit-learn/issues/21755 */display: inline-block !important;position: relative;}#sk-container-id-3 div.sk-text-repr-fallback {display: none;}</style><div id=\"sk-container-id-3\" class=\"sk-top-container\"><div class=\"sk-text-repr-fallback\"><pre>GridSearchCV(cv=5,\n",
       "             estimator=XGBClassifier(base_score=None, booster=None,\n",
       "                                     callbacks=None, colsample_bylevel=None,\n",
       "                                     colsample_bynode=None,\n",
       "                                     colsample_bytree=None, device=None,\n",
       "                                     early_stopping_rounds=None,\n",
       "                                     enable_categorical=False, eval_metric=None,\n",
       "                                     feature_types=None, gamma=None,\n",
       "                                     grow_policy=None, importance_type=None,\n",
       "                                     interaction_constraints=None,\n",
       "                                     learning_rate=None,...\n",
       "                                     max_delta_step=None, max_depth=None,\n",
       "                                     max_leaves=None, min_child_weight=None,\n",
       "                                     missing=nan, monotone_constraints=None,\n",
       "                                     multi_strategy=None, n_estimators=None,\n",
       "                                     n_jobs=None, num_parallel_tree=None,\n",
       "                                     random_state=42, ...),\n",
       "             param_grid={&#x27;learning_rate&#x27;: [0.01, 0.1, 0.2],\n",
       "                         &#x27;max_depth&#x27;: [3, 5, 7], &#x27;min_child_weight&#x27;: [1, 3, 5],\n",
       "                         &#x27;n_estimators&#x27;: [50, 100, 200],\n",
       "                         &#x27;subsample&#x27;: [0.6, 0.8, 1.0]},\n",
       "             scoring=&#x27;accuracy&#x27;)</pre><b>In a Jupyter environment, please rerun this cell to show the HTML representation or trust the notebook. <br />On GitHub, the HTML representation is unable to render, please try loading this page with nbviewer.org.</b></div><div class=\"sk-container\" hidden><div class=\"sk-item sk-dashed-wrapped\"><div class=\"sk-label-container\"><div class=\"sk-label sk-toggleable\"><input class=\"sk-toggleable__control sk-hidden--visually\" id=\"sk-estimator-id-7\" type=\"checkbox\" ><label for=\"sk-estimator-id-7\" class=\"sk-toggleable__label sk-toggleable__label-arrow\">GridSearchCV</label><div class=\"sk-toggleable__content\"><pre>GridSearchCV(cv=5,\n",
       "             estimator=XGBClassifier(base_score=None, booster=None,\n",
       "                                     callbacks=None, colsample_bylevel=None,\n",
       "                                     colsample_bynode=None,\n",
       "                                     colsample_bytree=None, device=None,\n",
       "                                     early_stopping_rounds=None,\n",
       "                                     enable_categorical=False, eval_metric=None,\n",
       "                                     feature_types=None, gamma=None,\n",
       "                                     grow_policy=None, importance_type=None,\n",
       "                                     interaction_constraints=None,\n",
       "                                     learning_rate=None,...\n",
       "                                     max_delta_step=None, max_depth=None,\n",
       "                                     max_leaves=None, min_child_weight=None,\n",
       "                                     missing=nan, monotone_constraints=None,\n",
       "                                     multi_strategy=None, n_estimators=None,\n",
       "                                     n_jobs=None, num_parallel_tree=None,\n",
       "                                     random_state=42, ...),\n",
       "             param_grid={&#x27;learning_rate&#x27;: [0.01, 0.1, 0.2],\n",
       "                         &#x27;max_depth&#x27;: [3, 5, 7], &#x27;min_child_weight&#x27;: [1, 3, 5],\n",
       "                         &#x27;n_estimators&#x27;: [50, 100, 200],\n",
       "                         &#x27;subsample&#x27;: [0.6, 0.8, 1.0]},\n",
       "             scoring=&#x27;accuracy&#x27;)</pre></div></div></div><div class=\"sk-parallel\"><div class=\"sk-parallel-item\"><div class=\"sk-item\"><div class=\"sk-label-container\"><div class=\"sk-label sk-toggleable\"><input class=\"sk-toggleable__control sk-hidden--visually\" id=\"sk-estimator-id-8\" type=\"checkbox\" ><label for=\"sk-estimator-id-8\" class=\"sk-toggleable__label sk-toggleable__label-arrow\">estimator: XGBClassifier</label><div class=\"sk-toggleable__content\"><pre>XGBClassifier(base_score=None, booster=None, callbacks=None,\n",
       "              colsample_bylevel=None, colsample_bynode=None,\n",
       "              colsample_bytree=None, device=None, early_stopping_rounds=None,\n",
       "              enable_categorical=False, eval_metric=None, feature_types=None,\n",
       "              gamma=None, grow_policy=None, importance_type=None,\n",
       "              interaction_constraints=None, learning_rate=None, max_bin=None,\n",
       "              max_cat_threshold=None, max_cat_to_onehot=None,\n",
       "              max_delta_step=None, max_depth=None, max_leaves=None,\n",
       "              min_child_weight=None, missing=nan, monotone_constraints=None,\n",
       "              multi_strategy=None, n_estimators=None, n_jobs=None,\n",
       "              num_parallel_tree=None, random_state=42, ...)</pre></div></div></div><div class=\"sk-serial\"><div class=\"sk-item\"><div class=\"sk-estimator sk-toggleable\"><input class=\"sk-toggleable__control sk-hidden--visually\" id=\"sk-estimator-id-9\" type=\"checkbox\" ><label for=\"sk-estimator-id-9\" class=\"sk-toggleable__label sk-toggleable__label-arrow\">XGBClassifier</label><div class=\"sk-toggleable__content\"><pre>XGBClassifier(base_score=None, booster=None, callbacks=None,\n",
       "              colsample_bylevel=None, colsample_bynode=None,\n",
       "              colsample_bytree=None, device=None, early_stopping_rounds=None,\n",
       "              enable_categorical=False, eval_metric=None, feature_types=None,\n",
       "              gamma=None, grow_policy=None, importance_type=None,\n",
       "              interaction_constraints=None, learning_rate=None, max_bin=None,\n",
       "              max_cat_threshold=None, max_cat_to_onehot=None,\n",
       "              max_delta_step=None, max_depth=None, max_leaves=None,\n",
       "              min_child_weight=None, missing=nan, monotone_constraints=None,\n",
       "              multi_strategy=None, n_estimators=None, n_jobs=None,\n",
       "              num_parallel_tree=None, random_state=42, ...)</pre></div></div></div></div></div></div></div></div></div></div>"
      ],
      "text/plain": [
       "GridSearchCV(cv=5,\n",
       "             estimator=XGBClassifier(base_score=None, booster=None,\n",
       "                                     callbacks=None, colsample_bylevel=None,\n",
       "                                     colsample_bynode=None,\n",
       "                                     colsample_bytree=None, device=None,\n",
       "                                     early_stopping_rounds=None,\n",
       "                                     enable_categorical=False, eval_metric=None,\n",
       "                                     feature_types=None, gamma=None,\n",
       "                                     grow_policy=None, importance_type=None,\n",
       "                                     interaction_constraints=None,\n",
       "                                     learning_rate=None,...\n",
       "                                     max_delta_step=None, max_depth=None,\n",
       "                                     max_leaves=None, min_child_weight=None,\n",
       "                                     missing=nan, monotone_constraints=None,\n",
       "                                     multi_strategy=None, n_estimators=None,\n",
       "                                     n_jobs=None, num_parallel_tree=None,\n",
       "                                     random_state=42, ...),\n",
       "             param_grid={'learning_rate': [0.01, 0.1, 0.2],\n",
       "                         'max_depth': [3, 5, 7], 'min_child_weight': [1, 3, 5],\n",
       "                         'n_estimators': [50, 100, 200],\n",
       "                         'subsample': [0.6, 0.8, 1.0]},\n",
       "             scoring='accuracy')"
      ]
     },
     "execution_count": 81,
     "metadata": {},
     "output_type": "execute_result"
    }
   ],
   "source": [
    "%%time\n",
    "\n",
    "grid_search_xgb = GridSearchCV(\n",
    "    estimator = xgb,\n",
    "    param_grid = param_grid_xgb,\n",
    "    cv = 5,\n",
    "    scoring = 'accuracy'\n",
    "    )\n",
    "\n",
    "grid_search_xgb.fit(X_train, y_train)"
   ]
  },
  {
   "cell_type": "code",
   "execution_count": 82,
   "id": "5bd12afd",
   "metadata": {
    "execution": {
     "iopub.execute_input": "2024-09-05T12:14:37.805007Z",
     "iopub.status.busy": "2024-09-05T12:14:37.803862Z",
     "iopub.status.idle": "2024-09-05T12:14:37.811275Z",
     "shell.execute_reply": "2024-09-05T12:14:37.810173Z"
    },
    "papermill": {
     "duration": 0.048423,
     "end_time": "2024-09-05T12:14:37.813751",
     "exception": false,
     "start_time": "2024-09-05T12:14:37.765328",
     "status": "completed"
    },
    "tags": []
   },
   "outputs": [
    {
     "name": "stdout",
     "output_type": "stream",
     "text": [
      "0.8445809609429628\n",
      "{'learning_rate': 0.2, 'max_depth': 3, 'min_child_weight': 5, 'n_estimators': 200, 'subsample': 0.8}\n",
      "XGBClassifier(base_score=None, booster=None, callbacks=None,\n",
      "              colsample_bylevel=None, colsample_bynode=None,\n",
      "              colsample_bytree=None, device=None, early_stopping_rounds=None,\n",
      "              enable_categorical=False, eval_metric=None, feature_types=None,\n",
      "              gamma=None, grow_policy=None, importance_type=None,\n",
      "              interaction_constraints=None, learning_rate=0.2, max_bin=None,\n",
      "              max_cat_threshold=None, max_cat_to_onehot=None,\n",
      "              max_delta_step=None, max_depth=3, max_leaves=None,\n",
      "              min_child_weight=5, missing=nan, monotone_constraints=None,\n",
      "              multi_strategy=None, n_estimators=200, n_jobs=None,\n",
      "              num_parallel_tree=None, random_state=42, ...)\n"
     ]
    }
   ],
   "source": [
    "print(grid_search_xgb.best_score_)\n",
    "print(grid_search_xgb.best_params_)\n",
    "print(grid_search_xgb.best_estimator_)"
   ]
  },
  {
   "cell_type": "code",
   "execution_count": 83,
   "id": "2c68fa49",
   "metadata": {
    "execution": {
     "iopub.execute_input": "2024-09-05T12:14:37.889968Z",
     "iopub.status.busy": "2024-09-05T12:14:37.889569Z",
     "iopub.status.idle": "2024-09-05T12:14:37.894861Z",
     "shell.execute_reply": "2024-09-05T12:14:37.893560Z"
    },
    "papermill": {
     "duration": 0.046665,
     "end_time": "2024-09-05T12:14:37.897320",
     "exception": false,
     "start_time": "2024-09-05T12:14:37.850655",
     "status": "completed"
    },
    "tags": []
   },
   "outputs": [],
   "source": [
    "best_xgb = grid_search_xgb.best_estimator_"
   ]
  },
  {
   "cell_type": "code",
   "execution_count": 84,
   "id": "4d6fe0bc",
   "metadata": {
    "execution": {
     "iopub.execute_input": "2024-09-05T12:14:37.973840Z",
     "iopub.status.busy": "2024-09-05T12:14:37.973414Z",
     "iopub.status.idle": "2024-09-05T12:14:37.985333Z",
     "shell.execute_reply": "2024-09-05T12:14:37.984257Z"
    },
    "papermill": {
     "duration": 0.054188,
     "end_time": "2024-09-05T12:14:37.988931",
     "exception": false,
     "start_time": "2024-09-05T12:14:37.934743",
     "status": "completed"
    },
    "tags": []
   },
   "outputs": [],
   "source": [
    "y_pred_xgb = best_xgb.predict(X_val)"
   ]
  },
  {
   "cell_type": "markdown",
   "id": "6c3fdd2d",
   "metadata": {
    "papermill": {
     "duration": 0.035686,
     "end_time": "2024-09-05T12:14:38.060753",
     "exception": false,
     "start_time": "2024-09-05T12:14:38.025067",
     "status": "completed"
    },
    "tags": []
   },
   "source": [
    "### Evaluation"
   ]
  },
  {
   "cell_type": "markdown",
   "id": "f61749a6",
   "metadata": {
    "papermill": {
     "duration": 0.035361,
     "end_time": "2024-09-05T12:14:38.131911",
     "exception": false,
     "start_time": "2024-09-05T12:14:38.096550",
     "status": "completed"
    },
    "tags": []
   },
   "source": [
    "**1. Permutation importance**"
   ]
  },
  {
   "cell_type": "code",
   "execution_count": 85,
   "id": "558627e5",
   "metadata": {
    "execution": {
     "iopub.execute_input": "2024-09-05T12:14:38.206954Z",
     "iopub.status.busy": "2024-09-05T12:14:38.206538Z",
     "iopub.status.idle": "2024-09-05T12:14:38.817576Z",
     "shell.execute_reply": "2024-09-05T12:14:38.816521Z"
    },
    "papermill": {
     "duration": 0.652509,
     "end_time": "2024-09-05T12:14:38.820127",
     "exception": false,
     "start_time": "2024-09-05T12:14:38.167618",
     "status": "completed"
    },
    "tags": []
   },
   "outputs": [
    {
     "data": {
      "text/html": [
       "<style>#sk-container-id-4 {color: black;background-color: white;}#sk-container-id-4 pre{padding: 0;}#sk-container-id-4 div.sk-toggleable {background-color: white;}#sk-container-id-4 label.sk-toggleable__label {cursor: pointer;display: block;width: 100%;margin-bottom: 0;padding: 0.3em;box-sizing: border-box;text-align: center;}#sk-container-id-4 label.sk-toggleable__label-arrow:before {content: \"▸\";float: left;margin-right: 0.25em;color: #696969;}#sk-container-id-4 label.sk-toggleable__label-arrow:hover:before {color: black;}#sk-container-id-4 div.sk-estimator:hover label.sk-toggleable__label-arrow:before {color: black;}#sk-container-id-4 div.sk-toggleable__content {max-height: 0;max-width: 0;overflow: hidden;text-align: left;background-color: #f0f8ff;}#sk-container-id-4 div.sk-toggleable__content pre {margin: 0.2em;color: black;border-radius: 0.25em;background-color: #f0f8ff;}#sk-container-id-4 input.sk-toggleable__control:checked~div.sk-toggleable__content {max-height: 200px;max-width: 100%;overflow: auto;}#sk-container-id-4 input.sk-toggleable__control:checked~label.sk-toggleable__label-arrow:before {content: \"▾\";}#sk-container-id-4 div.sk-estimator input.sk-toggleable__control:checked~label.sk-toggleable__label {background-color: #d4ebff;}#sk-container-id-4 div.sk-label input.sk-toggleable__control:checked~label.sk-toggleable__label {background-color: #d4ebff;}#sk-container-id-4 input.sk-hidden--visually {border: 0;clip: rect(1px 1px 1px 1px);clip: rect(1px, 1px, 1px, 1px);height: 1px;margin: -1px;overflow: hidden;padding: 0;position: absolute;width: 1px;}#sk-container-id-4 div.sk-estimator {font-family: monospace;background-color: #f0f8ff;border: 1px dotted black;border-radius: 0.25em;box-sizing: border-box;margin-bottom: 0.5em;}#sk-container-id-4 div.sk-estimator:hover {background-color: #d4ebff;}#sk-container-id-4 div.sk-parallel-item::after {content: \"\";width: 100%;border-bottom: 1px solid gray;flex-grow: 1;}#sk-container-id-4 div.sk-label:hover label.sk-toggleable__label {background-color: #d4ebff;}#sk-container-id-4 div.sk-serial::before {content: \"\";position: absolute;border-left: 1px solid gray;box-sizing: border-box;top: 0;bottom: 0;left: 50%;z-index: 0;}#sk-container-id-4 div.sk-serial {display: flex;flex-direction: column;align-items: center;background-color: white;padding-right: 0.2em;padding-left: 0.2em;position: relative;}#sk-container-id-4 div.sk-item {position: relative;z-index: 1;}#sk-container-id-4 div.sk-parallel {display: flex;align-items: stretch;justify-content: center;background-color: white;position: relative;}#sk-container-id-4 div.sk-item::before, #sk-container-id-4 div.sk-parallel-item::before {content: \"\";position: absolute;border-left: 1px solid gray;box-sizing: border-box;top: 0;bottom: 0;left: 50%;z-index: -1;}#sk-container-id-4 div.sk-parallel-item {display: flex;flex-direction: column;z-index: 1;position: relative;background-color: white;}#sk-container-id-4 div.sk-parallel-item:first-child::after {align-self: flex-end;width: 50%;}#sk-container-id-4 div.sk-parallel-item:last-child::after {align-self: flex-start;width: 50%;}#sk-container-id-4 div.sk-parallel-item:only-child::after {width: 0;}#sk-container-id-4 div.sk-dashed-wrapped {border: 1px dashed gray;margin: 0 0.4em 0.5em 0.4em;box-sizing: border-box;padding-bottom: 0.4em;background-color: white;}#sk-container-id-4 div.sk-label label {font-family: monospace;font-weight: bold;display: inline-block;line-height: 1.2em;}#sk-container-id-4 div.sk-label-container {text-align: center;}#sk-container-id-4 div.sk-container {/* jupyter's `normalize.less` sets `[hidden] { display: none; }` but bootstrap.min.css set `[hidden] { display: none !important; }` so we also need the `!important` here to be able to override the default hidden behavior on the sphinx rendered scikit-learn.org. See: https://github.com/scikit-learn/scikit-learn/issues/21755 */display: inline-block !important;position: relative;}#sk-container-id-4 div.sk-text-repr-fallback {display: none;}</style><div id=\"sk-container-id-4\" class=\"sk-top-container\"><div class=\"sk-text-repr-fallback\"><pre>PermutationImportance(estimator=XGBClassifier(base_score=None, booster=None,\n",
       "                                              callbacks=None,\n",
       "                                              colsample_bylevel=None,\n",
       "                                              colsample_bynode=None,\n",
       "                                              colsample_bytree=None,\n",
       "                                              device=None,\n",
       "                                              early_stopping_rounds=None,\n",
       "                                              enable_categorical=False,\n",
       "                                              eval_metric=None,\n",
       "                                              feature_types=None, gamma=None,\n",
       "                                              grow_policy=None,\n",
       "                                              importance_type=None,\n",
       "                                              interaction_constraints=None,\n",
       "                                              learning_rate=0.2, max_bin=None,\n",
       "                                              max_cat_threshold=None,\n",
       "                                              max_cat_to_onehot=None,\n",
       "                                              max_delta_step=None, max_depth=3,\n",
       "                                              max_leaves=None,\n",
       "                                              min_child_weight=5, missing=nan,\n",
       "                                              monotone_constraints=None,\n",
       "                                              multi_strategy=None,\n",
       "                                              n_estimators=200, n_jobs=None,\n",
       "                                              num_parallel_tree=None,\n",
       "                                              random_state=42, ...),\n",
       "                      random_state=42)</pre><b>In a Jupyter environment, please rerun this cell to show the HTML representation or trust the notebook. <br />On GitHub, the HTML representation is unable to render, please try loading this page with nbviewer.org.</b></div><div class=\"sk-container\" hidden><div class=\"sk-item sk-dashed-wrapped\"><div class=\"sk-label-container\"><div class=\"sk-label sk-toggleable\"><input class=\"sk-toggleable__control sk-hidden--visually\" id=\"sk-estimator-id-10\" type=\"checkbox\" ><label for=\"sk-estimator-id-10\" class=\"sk-toggleable__label sk-toggleable__label-arrow\">PermutationImportance</label><div class=\"sk-toggleable__content\"><pre>PermutationImportance(estimator=XGBClassifier(base_score=None, booster=None,\n",
       "                                              callbacks=None,\n",
       "                                              colsample_bylevel=None,\n",
       "                                              colsample_bynode=None,\n",
       "                                              colsample_bytree=None,\n",
       "                                              device=None,\n",
       "                                              early_stopping_rounds=None,\n",
       "                                              enable_categorical=False,\n",
       "                                              eval_metric=None,\n",
       "                                              feature_types=None, gamma=None,\n",
       "                                              grow_policy=None,\n",
       "                                              importance_type=None,\n",
       "                                              interaction_constraints=None,\n",
       "                                              learning_rate=0.2, max_bin=None,\n",
       "                                              max_cat_threshold=None,\n",
       "                                              max_cat_to_onehot=None,\n",
       "                                              max_delta_step=None, max_depth=3,\n",
       "                                              max_leaves=None,\n",
       "                                              min_child_weight=5, missing=nan,\n",
       "                                              monotone_constraints=None,\n",
       "                                              multi_strategy=None,\n",
       "                                              n_estimators=200, n_jobs=None,\n",
       "                                              num_parallel_tree=None,\n",
       "                                              random_state=42, ...),\n",
       "                      random_state=42)</pre></div></div></div><div class=\"sk-parallel\"><div class=\"sk-parallel-item\"><div class=\"sk-item\"><div class=\"sk-label-container\"><div class=\"sk-label sk-toggleable\"><input class=\"sk-toggleable__control sk-hidden--visually\" id=\"sk-estimator-id-11\" type=\"checkbox\" ><label for=\"sk-estimator-id-11\" class=\"sk-toggleable__label sk-toggleable__label-arrow\">estimator: XGBClassifier</label><div class=\"sk-toggleable__content\"><pre>XGBClassifier(base_score=None, booster=None, callbacks=None,\n",
       "              colsample_bylevel=None, colsample_bynode=None,\n",
       "              colsample_bytree=None, device=None, early_stopping_rounds=None,\n",
       "              enable_categorical=False, eval_metric=None, feature_types=None,\n",
       "              gamma=None, grow_policy=None, importance_type=None,\n",
       "              interaction_constraints=None, learning_rate=0.2, max_bin=None,\n",
       "              max_cat_threshold=None, max_cat_to_onehot=None,\n",
       "              max_delta_step=None, max_depth=3, max_leaves=None,\n",
       "              min_child_weight=5, missing=nan, monotone_constraints=None,\n",
       "              multi_strategy=None, n_estimators=200, n_jobs=None,\n",
       "              num_parallel_tree=None, random_state=42, ...)</pre></div></div></div><div class=\"sk-serial\"><div class=\"sk-item\"><div class=\"sk-estimator sk-toggleable\"><input class=\"sk-toggleable__control sk-hidden--visually\" id=\"sk-estimator-id-12\" type=\"checkbox\" ><label for=\"sk-estimator-id-12\" class=\"sk-toggleable__label sk-toggleable__label-arrow\">XGBClassifier</label><div class=\"sk-toggleable__content\"><pre>XGBClassifier(base_score=None, booster=None, callbacks=None,\n",
       "              colsample_bylevel=None, colsample_bynode=None,\n",
       "              colsample_bytree=None, device=None, early_stopping_rounds=None,\n",
       "              enable_categorical=False, eval_metric=None, feature_types=None,\n",
       "              gamma=None, grow_policy=None, importance_type=None,\n",
       "              interaction_constraints=None, learning_rate=0.2, max_bin=None,\n",
       "              max_cat_threshold=None, max_cat_to_onehot=None,\n",
       "              max_delta_step=None, max_depth=3, max_leaves=None,\n",
       "              min_child_weight=5, missing=nan, monotone_constraints=None,\n",
       "              multi_strategy=None, n_estimators=200, n_jobs=None,\n",
       "              num_parallel_tree=None, random_state=42, ...)</pre></div></div></div></div></div></div></div></div></div></div>"
      ],
      "text/plain": [
       "PermutationImportance(estimator=XGBClassifier(base_score=None, booster=None,\n",
       "                                              callbacks=None,\n",
       "                                              colsample_bylevel=None,\n",
       "                                              colsample_bynode=None,\n",
       "                                              colsample_bytree=None,\n",
       "                                              device=None,\n",
       "                                              early_stopping_rounds=None,\n",
       "                                              enable_categorical=False,\n",
       "                                              eval_metric=None,\n",
       "                                              feature_types=None, gamma=None,\n",
       "                                              grow_policy=None,\n",
       "                                              importance_type=None,\n",
       "                                              interaction_constraints=None,\n",
       "                                              learning_rate=0.2, max_bin=None,\n",
       "                                              max_cat_threshold=None,\n",
       "                                              max_cat_to_onehot=None,\n",
       "                                              max_delta_step=None, max_depth=3,\n",
       "                                              max_leaves=None,\n",
       "                                              min_child_weight=5, missing=nan,\n",
       "                                              monotone_constraints=None,\n",
       "                                              multi_strategy=None,\n",
       "                                              n_estimators=200, n_jobs=None,\n",
       "                                              num_parallel_tree=None,\n",
       "                                              random_state=42, ...),\n",
       "                      random_state=42)"
      ]
     },
     "execution_count": 85,
     "metadata": {},
     "output_type": "execute_result"
    }
   ],
   "source": [
    "perm = PermutationImportance(best_xgb, random_state = 42)\n",
    "perm.fit(X_val, y_val)"
   ]
  },
  {
   "cell_type": "code",
   "execution_count": 86,
   "id": "e22950ae",
   "metadata": {
    "execution": {
     "iopub.execute_input": "2024-09-05T12:14:38.895398Z",
     "iopub.status.busy": "2024-09-05T12:14:38.894925Z",
     "iopub.status.idle": "2024-09-05T12:14:38.907772Z",
     "shell.execute_reply": "2024-09-05T12:14:38.906692Z"
    },
    "papermill": {
     "duration": 0.052753,
     "end_time": "2024-09-05T12:14:38.910408",
     "exception": false,
     "start_time": "2024-09-05T12:14:38.857655",
     "status": "completed"
    },
    "tags": []
   },
   "outputs": [
    {
     "data": {
      "text/html": [
       "\n",
       "    <style>\n",
       "    table.eli5-weights tr:hover {\n",
       "        filter: brightness(85%);\n",
       "    }\n",
       "</style>\n",
       "\n",
       "\n",
       "\n",
       "    \n",
       "\n",
       "    \n",
       "\n",
       "    \n",
       "\n",
       "    \n",
       "\n",
       "    \n",
       "\n",
       "    \n",
       "\n",
       "\n",
       "    \n",
       "\n",
       "    \n",
       "\n",
       "    \n",
       "\n",
       "    \n",
       "\n",
       "    \n",
       "\n",
       "    \n",
       "\n",
       "\n",
       "    \n",
       "\n",
       "    \n",
       "\n",
       "    \n",
       "\n",
       "    \n",
       "\n",
       "    \n",
       "        <table class=\"eli5-weights eli5-feature-importances\" style=\"border-collapse: collapse; border: none; margin-top: 0em; table-layout: auto;\">\n",
       "    <thead>\n",
       "    <tr style=\"border: none;\">\n",
       "        <th style=\"padding: 0 1em 0 0.5em; text-align: right; border: none;\">Weight</th>\n",
       "        <th style=\"padding: 0 0.5em 0 0.5em; text-align: left; border: none;\">Feature</th>\n",
       "    </tr>\n",
       "    </thead>\n",
       "    <tbody>\n",
       "    \n",
       "        <tr style=\"background-color: hsl(120, 100.00%, 80.00%); border: none;\">\n",
       "            <td style=\"padding: 0 1em 0 0.5em; text-align: right; border: none;\">\n",
       "                0.1022\n",
       "                \n",
       "                    &plusmn; 0.0596\n",
       "                \n",
       "            </td>\n",
       "            <td style=\"padding: 0 0.5em 0 0.5em; text-align: left; border: none;\">\n",
       "                Sex_male\n",
       "            </td>\n",
       "        </tr>\n",
       "    \n",
       "        <tr style=\"background-color: hsl(120, 100.00%, 90.17%); border: none;\">\n",
       "            <td style=\"padding: 0 1em 0 0.5em; text-align: right; border: none;\">\n",
       "                0.0371\n",
       "                \n",
       "                    &plusmn; 0.0220\n",
       "                \n",
       "            </td>\n",
       "            <td style=\"padding: 0 0.5em 0 0.5em; text-align: left; border: none;\">\n",
       "                Pclass\n",
       "            </td>\n",
       "        </tr>\n",
       "    \n",
       "        <tr style=\"background-color: hsl(120, 100.00%, 94.88%); border: none;\">\n",
       "            <td style=\"padding: 0 1em 0 0.5em; text-align: right; border: none;\">\n",
       "                0.0146\n",
       "                \n",
       "                    &plusmn; 0.0490\n",
       "                \n",
       "            </td>\n",
       "            <td style=\"padding: 0 0.5em 0 0.5em; text-align: left; border: none;\">\n",
       "                Fare\n",
       "            </td>\n",
       "        </tr>\n",
       "    \n",
       "        <tr style=\"background-color: hsl(120, 100.00%, 96.35%); border: none;\">\n",
       "            <td style=\"padding: 0 1em 0 0.5em; text-align: right; border: none;\">\n",
       "                0.0090\n",
       "                \n",
       "                    &plusmn; 0.0115\n",
       "                \n",
       "            </td>\n",
       "            <td style=\"padding: 0 0.5em 0 0.5em; text-align: left; border: none;\">\n",
       "                Embarked_S\n",
       "            </td>\n",
       "        </tr>\n",
       "    \n",
       "        <tr style=\"background-color: hsl(120, 100.00%, 97.76%); border: none;\">\n",
       "            <td style=\"padding: 0 1em 0 0.5em; text-align: right; border: none;\">\n",
       "                0.0045\n",
       "                \n",
       "                    &plusmn; 0.0149\n",
       "                \n",
       "            </td>\n",
       "            <td style=\"padding: 0 0.5em 0 0.5em; text-align: left; border: none;\">\n",
       "                Age\n",
       "            </td>\n",
       "        </tr>\n",
       "    \n",
       "        <tr style=\"background-color: hsl(0, 100.00%, 100.00%); border: none;\">\n",
       "            <td style=\"padding: 0 1em 0 0.5em; text-align: right; border: none;\">\n",
       "                0\n",
       "                \n",
       "                    &plusmn; 0.0000\n",
       "                \n",
       "            </td>\n",
       "            <td style=\"padding: 0 0.5em 0 0.5em; text-align: left; border: none;\">\n",
       "                Cabin_letter_D\n",
       "            </td>\n",
       "        </tr>\n",
       "    \n",
       "        <tr style=\"background-color: hsl(0, 100.00%, 100.00%); border: none;\">\n",
       "            <td style=\"padding: 0 1em 0 0.5em; text-align: right; border: none;\">\n",
       "                0\n",
       "                \n",
       "                    &plusmn; 0.0000\n",
       "                \n",
       "            </td>\n",
       "            <td style=\"padding: 0 0.5em 0 0.5em; text-align: left; border: none;\">\n",
       "                Cabin_letter_F\n",
       "            </td>\n",
       "        </tr>\n",
       "    \n",
       "        <tr style=\"background-color: hsl(0, 100.00%, 100.00%); border: none;\">\n",
       "            <td style=\"padding: 0 1em 0 0.5em; text-align: right; border: none;\">\n",
       "                0\n",
       "                \n",
       "                    &plusmn; 0.0000\n",
       "                \n",
       "            </td>\n",
       "            <td style=\"padding: 0 0.5em 0 0.5em; text-align: left; border: none;\">\n",
       "                Cabin_letter_E\n",
       "            </td>\n",
       "        </tr>\n",
       "    \n",
       "        <tr style=\"background-color: hsl(0, 100.00%, 100.00%); border: none;\">\n",
       "            <td style=\"padding: 0 1em 0 0.5em; text-align: right; border: none;\">\n",
       "                0\n",
       "                \n",
       "                    &plusmn; 0.0000\n",
       "                \n",
       "            </td>\n",
       "            <td style=\"padding: 0 0.5em 0 0.5em; text-align: left; border: none;\">\n",
       "                Age_group_senior\n",
       "            </td>\n",
       "        </tr>\n",
       "    \n",
       "        <tr style=\"background-color: hsl(0, 100.00%, 100.00%); border: none;\">\n",
       "            <td style=\"padding: 0 1em 0 0.5em; text-align: right; border: none;\">\n",
       "                0\n",
       "                \n",
       "                    &plusmn; 0.0000\n",
       "                \n",
       "            </td>\n",
       "            <td style=\"padding: 0 0.5em 0 0.5em; text-align: left; border: none;\">\n",
       "                Age_group_old\n",
       "            </td>\n",
       "        </tr>\n",
       "    \n",
       "        <tr style=\"background-color: hsl(0, 100.00%, 100.00%); border: none;\">\n",
       "            <td style=\"padding: 0 1em 0 0.5em; text-align: right; border: none;\">\n",
       "                0\n",
       "                \n",
       "                    &plusmn; 0.0000\n",
       "                \n",
       "            </td>\n",
       "            <td style=\"padding: 0 0.5em 0 0.5em; text-align: left; border: none;\">\n",
       "                Cabin_letter_B\n",
       "            </td>\n",
       "        </tr>\n",
       "    \n",
       "        <tr style=\"background-color: hsl(0, 100.00%, 100.00%); border: none;\">\n",
       "            <td style=\"padding: 0 1em 0 0.5em; text-align: right; border: none;\">\n",
       "                0\n",
       "                \n",
       "                    &plusmn; 0.0000\n",
       "                \n",
       "            </td>\n",
       "            <td style=\"padding: 0 0.5em 0 0.5em; text-align: left; border: none;\">\n",
       "                Cabin_letter_C\n",
       "            </td>\n",
       "        </tr>\n",
       "    \n",
       "        <tr style=\"background-color: hsl(0, 100.00%, 99.15%); border: none;\">\n",
       "            <td style=\"padding: 0 1em 0 0.5em; text-align: right; border: none;\">\n",
       "                -0.0011\n",
       "                \n",
       "                    &plusmn; 0.0045\n",
       "                \n",
       "            </td>\n",
       "            <td style=\"padding: 0 0.5em 0 0.5em; text-align: left; border: none;\">\n",
       "                Embarked_Q\n",
       "            </td>\n",
       "        </tr>\n",
       "    \n",
       "        <tr style=\"background-color: hsl(0, 100.00%, 99.15%); border: none;\">\n",
       "            <td style=\"padding: 0 1em 0 0.5em; text-align: right; border: none;\">\n",
       "                -0.0011\n",
       "                \n",
       "                    &plusmn; 0.0045\n",
       "                \n",
       "            </td>\n",
       "            <td style=\"padding: 0 0.5em 0 0.5em; text-align: left; border: none;\">\n",
       "                Age_group_teen\n",
       "            </td>\n",
       "        </tr>\n",
       "    \n",
       "        <tr style=\"background-color: hsl(0, 100.00%, 98.16%); border: none;\">\n",
       "            <td style=\"padding: 0 1em 0 0.5em; text-align: right; border: none;\">\n",
       "                -0.0034\n",
       "                \n",
       "                    &plusmn; 0.0090\n",
       "                \n",
       "            </td>\n",
       "            <td style=\"padding: 0 0.5em 0 0.5em; text-align: left; border: none;\">\n",
       "                Ticket_freq\n",
       "            </td>\n",
       "        </tr>\n",
       "    \n",
       "        <tr style=\"background-color: hsl(0, 100.00%, 98.16%); border: none;\">\n",
       "            <td style=\"padding: 0 1em 0 0.5em; text-align: right; border: none;\">\n",
       "                -0.0034\n",
       "                \n",
       "                    &plusmn; 0.0055\n",
       "                \n",
       "            </td>\n",
       "            <td style=\"padding: 0 0.5em 0 0.5em; text-align: left; border: none;\">\n",
       "                Age_group_young adult\n",
       "            </td>\n",
       "        </tr>\n",
       "    \n",
       "        <tr style=\"background-color: hsl(0, 100.00%, 97.76%); border: none;\">\n",
       "            <td style=\"padding: 0 1em 0 0.5em; text-align: right; border: none;\">\n",
       "                -0.0045\n",
       "                \n",
       "                    &plusmn; 0.0045\n",
       "                \n",
       "            </td>\n",
       "            <td style=\"padding: 0 0.5em 0 0.5em; text-align: left; border: none;\">\n",
       "                Age_group_adult\n",
       "            </td>\n",
       "        </tr>\n",
       "    \n",
       "        <tr style=\"background-color: hsl(0, 100.00%, 95.74%); border: none;\">\n",
       "            <td style=\"padding: 0 1em 0 0.5em; text-align: right; border: none;\">\n",
       "                -0.0112\n",
       "                \n",
       "                    &plusmn; 0.0100\n",
       "                \n",
       "            </td>\n",
       "            <td style=\"padding: 0 0.5em 0 0.5em; text-align: left; border: none;\">\n",
       "                Cabin_missing\n",
       "            </td>\n",
       "        </tr>\n",
       "    \n",
       "        <tr style=\"background-color: hsl(0, 100.00%, 95.74%); border: none;\">\n",
       "            <td style=\"padding: 0 1em 0 0.5em; text-align: right; border: none;\">\n",
       "                -0.0112\n",
       "                \n",
       "                    &plusmn; 0.0188\n",
       "                \n",
       "            </td>\n",
       "            <td style=\"padding: 0 0.5em 0 0.5em; text-align: left; border: none;\">\n",
       "                Family_size\n",
       "            </td>\n",
       "        </tr>\n",
       "    \n",
       "        <tr style=\"background-color: hsl(0, 100.00%, 95.74%); border: none;\">\n",
       "            <td style=\"padding: 0 1em 0 0.5em; text-align: right; border: none;\">\n",
       "                -0.0112\n",
       "                \n",
       "                    &plusmn; 0.0159\n",
       "                \n",
       "            </td>\n",
       "            <td style=\"padding: 0 0.5em 0 0.5em; text-align: left; border: none;\">\n",
       "                Parch\n",
       "            </td>\n",
       "        </tr>\n",
       "    \n",
       "    \n",
       "        \n",
       "            <tr style=\"background-color: hsl(0, 100.00%, 95.74%); border: none;\">\n",
       "                <td colspan=\"2\" style=\"padding: 0 0.5em 0 0.5em; text-align: center; border: none; white-space: nowrap;\">\n",
       "                    <i>&hellip; 1 more &hellip;</i>\n",
       "                </td>\n",
       "            </tr>\n",
       "        \n",
       "    \n",
       "    </tbody>\n",
       "</table>\n",
       "    \n",
       "\n",
       "    \n",
       "\n",
       "\n",
       "    \n",
       "\n",
       "    \n",
       "\n",
       "    \n",
       "\n",
       "    \n",
       "\n",
       "    \n",
       "\n",
       "    \n",
       "\n",
       "\n",
       "\n"
      ],
      "text/plain": [
       "<IPython.core.display.HTML object>"
      ]
     },
     "execution_count": 86,
     "metadata": {},
     "output_type": "execute_result"
    }
   ],
   "source": [
    "eli5.show_weights(perm, feature_names = X_val.columns.tolist())"
   ]
  },
  {
   "cell_type": "markdown",
   "id": "5e3ff605",
   "metadata": {
    "papermill": {
     "duration": 0.037041,
     "end_time": "2024-09-05T12:14:38.983288",
     "exception": false,
     "start_time": "2024-09-05T12:14:38.946247",
     "status": "completed"
    },
    "tags": []
   },
   "source": [
    "**2. Feature importance**"
   ]
  },
  {
   "cell_type": "code",
   "execution_count": 87,
   "id": "7eb0e455",
   "metadata": {
    "execution": {
     "iopub.execute_input": "2024-09-05T12:14:39.059478Z",
     "iopub.status.busy": "2024-09-05T12:14:39.059074Z",
     "iopub.status.idle": "2024-09-05T12:14:39.526603Z",
     "shell.execute_reply": "2024-09-05T12:14:39.525278Z"
    },
    "papermill": {
     "duration": 0.509333,
     "end_time": "2024-09-05T12:14:39.529955",
     "exception": false,
     "start_time": "2024-09-05T12:14:39.020622",
     "status": "completed"
    },
    "tags": []
   },
   "outputs": [
    {
     "data": {
      "text/plain": [
       "<Axes: title={'center': 'Feature importance'}, xlabel='F score', ylabel='Features'>"
      ]
     },
     "execution_count": 87,
     "metadata": {},
     "output_type": "execute_result"
    },
    {
     "data": {
      "image/png": "[encoded data removed]",
      "text/plain": [
       "<Figure size 640x480 with 1 Axes>"
      ]
     },
     "metadata": {},
     "output_type": "display_data"
    }
   ],
   "source": [
    "plot_importance(grid_search_xgb.best_estimator_)"
   ]
  },
  {
   "cell_type": "markdown",
   "id": "ca5c7a35",
   "metadata": {
    "papermill": {
     "duration": 0.037257,
     "end_time": "2024-09-05T12:14:39.606675",
     "exception": false,
     "start_time": "2024-09-05T12:14:39.569418",
     "status": "completed"
    },
    "tags": []
   },
   "source": [
    "**3. Confusion Matrix**"
   ]
  },
  {
   "cell_type": "code",
   "execution_count": 88,
   "id": "0235a66f",
   "metadata": {
    "execution": {
     "iopub.execute_input": "2024-09-05T12:14:39.684580Z",
     "iopub.status.busy": "2024-09-05T12:14:39.684187Z",
     "iopub.status.idle": "2024-09-05T12:14:39.992823Z",
     "shell.execute_reply": "2024-09-05T12:14:39.991616Z"
    },
    "papermill": {
     "duration": 0.351057,
     "end_time": "2024-09-05T12:14:39.995443",
     "exception": false,
     "start_time": "2024-09-05T12:14:39.644386",
     "status": "completed"
    },
    "tags": []
   },
   "outputs": [
    {
     "data": {
      "text/plain": [
       "<sklearn.metrics._plot.confusion_matrix.ConfusionMatrixDisplay at 0x7c629b095150>"
      ]
     },
     "execution_count": 88,
     "metadata": {},
     "output_type": "execute_result"
    },
    {
     "data": {
      "image/png": "[encoded data removed]",
      "text/plain": [
       "<Figure size 640x480 with 2 Axes>"
      ]
     },
     "metadata": {},
     "output_type": "display_data"
    }
   ],
   "source": [
    "cm_xgb = confusion_matrix(y_val, y_pred_xgb, labels = best_xgb.classes_)\n",
    "disp_xgb = ConfusionMatrixDisplay(cm_xgb, display_labels = best_xgb.classes_)\n",
    "disp_xgb.plot()"
   ]
  },
  {
   "cell_type": "markdown",
   "id": "5ffd17e9",
   "metadata": {
    "papermill": {
     "duration": 0.038962,
     "end_time": "2024-09-05T12:14:40.075439",
     "exception": false,
     "start_time": "2024-09-05T12:14:40.036477",
     "status": "completed"
    },
    "tags": []
   },
   "source": [
    "**4. Accuracy**"
   ]
  },
  {
   "cell_type": "code",
   "execution_count": 89,
   "id": "6591db46",
   "metadata": {
    "execution": {
     "iopub.execute_input": "2024-09-05T12:14:40.152861Z",
     "iopub.status.busy": "2024-09-05T12:14:40.152118Z",
     "iopub.status.idle": "2024-09-05T12:14:40.161439Z",
     "shell.execute_reply": "2024-09-05T12:14:40.159945Z"
    },
    "papermill": {
     "duration": 0.051153,
     "end_time": "2024-09-05T12:14:40.163970",
     "exception": false,
     "start_time": "2024-09-05T12:14:40.112817",
     "status": "completed"
    },
    "tags": []
   },
   "outputs": [
    {
     "data": {
      "text/plain": [
       "76.96629213483146"
      ]
     },
     "execution_count": 89,
     "metadata": {},
     "output_type": "execute_result"
    }
   ],
   "source": [
    "accuracy_score(y_val, y_pred_xgb) * 100"
   ]
  },
  {
   "cell_type": "markdown",
   "id": "fd76bea4",
   "metadata": {
    "papermill": {
     "duration": 0.037827,
     "end_time": "2024-09-05T12:14:40.240437",
     "exception": false,
     "start_time": "2024-09-05T12:14:40.202610",
     "status": "completed"
    },
    "tags": []
   },
   "source": [
    "# Final predictions and Creating submission file"
   ]
  },
  {
   "cell_type": "code",
   "execution_count": 90,
   "id": "32af5472",
   "metadata": {
    "execution": {
     "iopub.execute_input": "2024-09-05T12:14:40.321666Z",
     "iopub.status.busy": "2024-09-05T12:14:40.321231Z",
     "iopub.status.idle": "2024-09-05T12:14:40.339985Z",
     "shell.execute_reply": "2024-09-05T12:14:40.338697Z"
    },
    "papermill": {
     "duration": 0.062365,
     "end_time": "2024-09-05T12:14:40.342830",
     "exception": false,
     "start_time": "2024-09-05T12:14:40.280465",
     "status": "completed"
    },
    "tags": []
   },
   "outputs": [],
   "source": [
    "final_pred = best_rf.predict(df_test)"
   ]
  },
  {
   "cell_type": "code",
   "execution_count": 91,
   "id": "e3f2bd01",
   "metadata": {
    "execution": {
     "iopub.execute_input": "2024-09-05T12:14:40.421832Z",
     "iopub.status.busy": "2024-09-05T12:14:40.421421Z",
     "iopub.status.idle": "2024-09-05T12:14:40.431268Z",
     "shell.execute_reply": "2024-09-05T12:14:40.430131Z"
    },
    "papermill": {
     "duration": 0.051168,
     "end_time": "2024-09-05T12:14:40.433638",
     "exception": false,
     "start_time": "2024-09-05T12:14:40.382470",
     "status": "completed"
    },
    "tags": []
   },
   "outputs": [],
   "source": [
    "submission = pd.DataFrame({\n",
    "    'PassengerId': df_test_copy['PassengerId'],\n",
    "    'Survived': final_pred\n",
    "})\n",
    "\n",
    "submission.to_csv('submission.csv', index = False)"
   ]
  }
 ],
 "metadata": {
  "kaggle": {
   "accelerator": "none",
   "dataSources": [
    {
     "databundleVersionId": 26502,
     "sourceId": 3136,
     "sourceType": "competition"
    }
   ],
   "dockerImageVersionId": 30761,
   "isGpuEnabled": false,
   "isInternetEnabled": true,
   "language": "python",
   "sourceType": "notebook"
  },
  "kernelspec": {
   "display_name": "Python 3",
   "language": "python",
   "name": "python3"
  },
  "language_info": {
   "codemirror_mode": {
    "name": "ipython",
    "version": 3
   },
   "file_extension": ".py",
   "mimetype": "text/x-python",
   "name": "python",
   "nbconvert_exporter": "python",
   "pygments_lexer": "ipython3",
   "version": "3.10.14"
  },
  "papermill": {
   "default_parameters": {},
   "duration": 272.44716,
   "end_time": "2024-09-05T12:14:42.302185",
   "environment_variables": {},
   "exception": null,
   "input_path": "__notebook__.ipynb",
   "output_path": "__notebook__.ipynb",
   "parameters": {},
   "start_time": "2024-09-05T12:10:09.855025",
   "version": "2.6.0"
  }
 },
 "nbformat": 4,
 "nbformat_minor": 5
}
