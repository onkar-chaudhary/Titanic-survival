{
 "cells": [
  {
   "cell_type": "code",
   "execution_count": 1,
   "id": "09871884",
   "metadata": {
    "execution": {
     "iopub.execute_input": "2024-09-05T12:39:59.035707Z",
     "iopub.status.busy": "2024-09-05T12:39:59.035244Z",
     "iopub.status.idle": "2024-09-05T12:40:18.892783Z",
     "shell.execute_reply": "2024-09-05T12:40:18.891507Z"
    },
    "papermill": {
     "duration": 19.897589,
     "end_time": "2024-09-05T12:40:18.895929",
     "exception": false,
     "start_time": "2024-09-05T12:39:58.998340",
     "status": "completed"
    },
    "tags": []
   },
   "outputs": [],
   "source": [
    "import numpy as np\n",
    "import pandas as pd\n",
    "\n",
    "import matplotlib.pyplot as plt\n",
    "import seaborn as sns\n",
    "\n",
    "from sklearn.preprocessing import OneHotEncoder, OrdinalEncoder\n",
    "from sklearn.impute import SimpleImputer\n",
    "\n",
    "from sklearn.model_selection import train_test_split, GridSearchCV\n",
    "\n",
    "from sklearn.ensemble import RandomForestClassifier\n",
    "from xgboost import XGBClassifier, plot_importance\n",
    "\n",
    "import eli5\n",
    "from eli5.sklearn import PermutationImportance\n",
    "from sklearn.metrics import confusion_matrix, ConfusionMatrixDisplay, accuracy_score"
   ]
  },
  {
   "cell_type": "code",
   "execution_count": 2,
   "id": "6170b04f",
   "metadata": {
    "execution": {
     "iopub.execute_input": "2024-09-05T12:40:18.965834Z",
     "iopub.status.busy": "2024-09-05T12:40:18.965011Z",
     "iopub.status.idle": "2024-09-05T12:40:18.999701Z",
     "shell.execute_reply": "2024-09-05T12:40:18.998464Z"
    },
    "papermill": {
     "duration": 0.072946,
     "end_time": "2024-09-05T12:40:19.002606",
     "exception": false,
     "start_time": "2024-09-05T12:40:18.929660",
     "status": "completed"
    },
    "tags": []
   },
   "outputs": [],
   "source": [
    "pd.set_option('display.max_columns', None)\n",
    "\n",
    "df = pd.read_csv('/kaggle/input/titanic/train.csv')\n",
    "df_test = pd.read_csv('/kaggle/input/titanic/test.csv')"
   ]
  },
  {
   "cell_type": "markdown",
   "id": "ea1c4857",
   "metadata": {
    "papermill": {
     "duration": 0.032758,
     "end_time": "2024-09-05T12:40:19.068939",
     "exception": false,
     "start_time": "2024-09-05T12:40:19.036181",
     "status": "completed"
    },
    "tags": []
   },
   "source": [
    "# Exploratory Data Analysis"
   ]
  },
  {
   "cell_type": "code",
   "execution_count": 3,
   "id": "43f6790c",
   "metadata": {
    "execution": {
     "iopub.execute_input": "2024-09-05T12:40:19.137003Z",
     "iopub.status.busy": "2024-09-05T12:40:19.136564Z",
     "iopub.status.idle": "2024-09-05T12:40:19.171335Z",
     "shell.execute_reply": "2024-09-05T12:40:19.170014Z"
    },
    "papermill": {
     "duration": 0.072682,
     "end_time": "2024-09-05T12:40:19.174797",
     "exception": false,
     "start_time": "2024-09-05T12:40:19.102115",
     "status": "completed"
    },
    "tags": []
   },
   "outputs": [
    {
     "data": {
      "text/html": [
       "<div>\n",
       "<style scoped>\n",
       "    .dataframe tbody tr th:only-of-type {\n",
       "        vertical-align: middle;\n",
       "    }\n",
       "\n",
       "    .dataframe tbody tr th {\n",
       "        vertical-align: top;\n",
       "    }\n",
       "\n",
       "    .dataframe thead th {\n",
       "        text-align: right;\n",
       "    }\n",
       "</style>\n",
       "<table border=\"1\" class=\"dataframe\">\n",
       "  <thead>\n",
       "    <tr style=\"text-align: right;\">\n",
       "      <th></th>\n",
       "      <th>PassengerId</th>\n",
       "      <th>Survived</th>\n",
       "      <th>Pclass</th>\n",
       "      <th>Name</th>\n",
       "      <th>Sex</th>\n",
       "      <th>Age</th>\n",
       "      <th>SibSp</th>\n",
       "      <th>Parch</th>\n",
       "      <th>Ticket</th>\n",
       "      <th>Fare</th>\n",
       "      <th>Cabin</th>\n",
       "      <th>Embarked</th>\n",
       "    </tr>\n",
       "  </thead>\n",
       "  <tbody>\n",
       "    <tr>\n",
       "      <th>0</th>\n",
       "      <td>1</td>\n",
       "      <td>0</td>\n",
       "      <td>3</td>\n",
       "      <td>Braund, Mr. Owen Harris</td>\n",
       "      <td>male</td>\n",
       "      <td>22.0</td>\n",
       "      <td>1</td>\n",
       "      <td>0</td>\n",
       "      <td>A/5 21171</td>\n",
       "      <td>7.2500</td>\n",
       "      <td>NaN</td>\n",
       "      <td>S</td>\n",
       "    </tr>\n",
       "    <tr>\n",
       "      <th>1</th>\n",
       "      <td>2</td>\n",
       "      <td>1</td>\n",
       "      <td>1</td>\n",
       "      <td>Cumings, Mrs. John Bradley (Florence Briggs Th...</td>\n",
       "      <td>female</td>\n",
       "      <td>38.0</td>\n",
       "      <td>1</td>\n",
       "      <td>0</td>\n",
       "      <td>PC 17599</td>\n",
       "      <td>71.2833</td>\n",
       "      <td>C85</td>\n",
       "      <td>C</td>\n",
       "    </tr>\n",
       "    <tr>\n",
       "      <th>2</th>\n",
       "      <td>3</td>\n",
       "      <td>1</td>\n",
       "      <td>3</td>\n",
       "      <td>Heikkinen, Miss. Laina</td>\n",
       "      <td>female</td>\n",
       "      <td>26.0</td>\n",
       "      <td>0</td>\n",
       "      <td>0</td>\n",
       "      <td>STON/O2. 3101282</td>\n",
       "      <td>7.9250</td>\n",
       "      <td>NaN</td>\n",
       "      <td>S</td>\n",
       "    </tr>\n",
       "    <tr>\n",
       "      <th>3</th>\n",
       "      <td>4</td>\n",
       "      <td>1</td>\n",
       "      <td>1</td>\n",
       "      <td>Futrelle, Mrs. Jacques Heath (Lily May Peel)</td>\n",
       "      <td>female</td>\n",
       "      <td>35.0</td>\n",
       "      <td>1</td>\n",
       "      <td>0</td>\n",
       "      <td>113803</td>\n",
       "      <td>53.1000</td>\n",
       "      <td>C123</td>\n",
       "      <td>S</td>\n",
       "    </tr>\n",
       "    <tr>\n",
       "      <th>4</th>\n",
       "      <td>5</td>\n",
       "      <td>0</td>\n",
       "      <td>3</td>\n",
       "      <td>Allen, Mr. William Henry</td>\n",
       "      <td>male</td>\n",
       "      <td>35.0</td>\n",
       "      <td>0</td>\n",
       "      <td>0</td>\n",
       "      <td>373450</td>\n",
       "      <td>8.0500</td>\n",
       "      <td>NaN</td>\n",
       "      <td>S</td>\n",
       "    </tr>\n",
       "    <tr>\n",
       "      <th>5</th>\n",
       "      <td>6</td>\n",
       "      <td>0</td>\n",
       "      <td>3</td>\n",
       "      <td>Moran, Mr. James</td>\n",
       "      <td>male</td>\n",
       "      <td>NaN</td>\n",
       "      <td>0</td>\n",
       "      <td>0</td>\n",
       "      <td>330877</td>\n",
       "      <td>8.4583</td>\n",
       "      <td>NaN</td>\n",
       "      <td>Q</td>\n",
       "    </tr>\n",
       "    <tr>\n",
       "      <th>6</th>\n",
       "      <td>7</td>\n",
       "      <td>0</td>\n",
       "      <td>1</td>\n",
       "      <td>McCarthy, Mr. Timothy J</td>\n",
       "      <td>male</td>\n",
       "      <td>54.0</td>\n",
       "      <td>0</td>\n",
       "      <td>0</td>\n",
       "      <td>17463</td>\n",
       "      <td>51.8625</td>\n",
       "      <td>E46</td>\n",
       "      <td>S</td>\n",
       "    </tr>\n",
       "    <tr>\n",
       "      <th>7</th>\n",
       "      <td>8</td>\n",
       "      <td>0</td>\n",
       "      <td>3</td>\n",
       "      <td>Palsson, Master. Gosta Leonard</td>\n",
       "      <td>male</td>\n",
       "      <td>2.0</td>\n",
       "      <td>3</td>\n",
       "      <td>1</td>\n",
       "      <td>349909</td>\n",
       "      <td>21.0750</td>\n",
       "      <td>NaN</td>\n",
       "      <td>S</td>\n",
       "    </tr>\n",
       "    <tr>\n",
       "      <th>8</th>\n",
       "      <td>9</td>\n",
       "      <td>1</td>\n",
       "      <td>3</td>\n",
       "      <td>Johnson, Mrs. Oscar W (Elisabeth Vilhelmina Berg)</td>\n",
       "      <td>female</td>\n",
       "      <td>27.0</td>\n",
       "      <td>0</td>\n",
       "      <td>2</td>\n",
       "      <td>347742</td>\n",
       "      <td>11.1333</td>\n",
       "      <td>NaN</td>\n",
       "      <td>S</td>\n",
       "    </tr>\n",
       "    <tr>\n",
       "      <th>9</th>\n",
       "      <td>10</td>\n",
       "      <td>1</td>\n",
       "      <td>2</td>\n",
       "      <td>Nasser, Mrs. Nicholas (Adele Achem)</td>\n",
       "      <td>female</td>\n",
       "      <td>14.0</td>\n",
       "      <td>1</td>\n",
       "      <td>0</td>\n",
       "      <td>237736</td>\n",
       "      <td>30.0708</td>\n",
       "      <td>NaN</td>\n",
       "      <td>C</td>\n",
       "    </tr>\n",
       "  </tbody>\n",
       "</table>\n",
       "</div>"
      ],
      "text/plain": [
       "   PassengerId  Survived  Pclass  \\\n",
       "0            1         0       3   \n",
       "1            2         1       1   \n",
       "2            3         1       3   \n",
       "3            4         1       1   \n",
       "4            5         0       3   \n",
       "5            6         0       3   \n",
       "6            7         0       1   \n",
       "7            8         0       3   \n",
       "8            9         1       3   \n",
       "9           10         1       2   \n",
       "\n",
       "                                                Name     Sex   Age  SibSp  \\\n",
       "0                            Braund, Mr. Owen Harris    male  22.0      1   \n",
       "1  Cumings, Mrs. John Bradley (Florence Briggs Th...  female  38.0      1   \n",
       "2                             Heikkinen, Miss. Laina  female  26.0      0   \n",
       "3       Futrelle, Mrs. Jacques Heath (Lily May Peel)  female  35.0      1   \n",
       "4                           Allen, Mr. William Henry    male  35.0      0   \n",
       "5                                   Moran, Mr. James    male   NaN      0   \n",
       "6                            McCarthy, Mr. Timothy J    male  54.0      0   \n",
       "7                     Palsson, Master. Gosta Leonard    male   2.0      3   \n",
       "8  Johnson, Mrs. Oscar W (Elisabeth Vilhelmina Berg)  female  27.0      0   \n",
       "9                Nasser, Mrs. Nicholas (Adele Achem)  female  14.0      1   \n",
       "\n",
       "   Parch            Ticket     Fare Cabin Embarked  \n",
       "0      0         A/5 21171   7.2500   NaN        S  \n",
       "1      0          PC 17599  71.2833   C85        C  \n",
       "2      0  STON/O2. 3101282   7.9250   NaN        S  \n",
       "3      0            113803  53.1000  C123        S  \n",
       "4      0            373450   8.0500   NaN        S  \n",
       "5      0            330877   8.4583   NaN        Q  \n",
       "6      0             17463  51.8625   E46        S  \n",
       "7      1            349909  21.0750   NaN        S  \n",
       "8      2            347742  11.1333   NaN        S  \n",
       "9      0            237736  30.0708   NaN        C  "
      ]
     },
     "execution_count": 3,
     "metadata": {},
     "output_type": "execute_result"
    }
   ],
   "source": [
    "df.head(10)"
   ]
  },
  {
   "cell_type": "code",
   "execution_count": 4,
   "id": "cf24a0f1",
   "metadata": {
    "execution": {
     "iopub.execute_input": "2024-09-05T12:40:19.259433Z",
     "iopub.status.busy": "2024-09-05T12:40:19.258544Z",
     "iopub.status.idle": "2024-09-05T12:40:19.300772Z",
     "shell.execute_reply": "2024-09-05T12:40:19.299562Z"
    },
    "papermill": {
     "duration": 0.080038,
     "end_time": "2024-09-05T12:40:19.303463",
     "exception": false,
     "start_time": "2024-09-05T12:40:19.223425",
     "status": "completed"
    },
    "tags": []
   },
   "outputs": [
    {
     "data": {
      "text/html": [
       "<div>\n",
       "<style scoped>\n",
       "    .dataframe tbody tr th:only-of-type {\n",
       "        vertical-align: middle;\n",
       "    }\n",
       "\n",
       "    .dataframe tbody tr th {\n",
       "        vertical-align: top;\n",
       "    }\n",
       "\n",
       "    .dataframe thead th {\n",
       "        text-align: right;\n",
       "    }\n",
       "</style>\n",
       "<table border=\"1\" class=\"dataframe\">\n",
       "  <thead>\n",
       "    <tr style=\"text-align: right;\">\n",
       "      <th></th>\n",
       "      <th>PassengerId</th>\n",
       "      <th>Survived</th>\n",
       "      <th>Pclass</th>\n",
       "      <th>Age</th>\n",
       "      <th>SibSp</th>\n",
       "      <th>Parch</th>\n",
       "      <th>Fare</th>\n",
       "    </tr>\n",
       "  </thead>\n",
       "  <tbody>\n",
       "    <tr>\n",
       "      <th>count</th>\n",
       "      <td>891.000000</td>\n",
       "      <td>891.000000</td>\n",
       "      <td>891.000000</td>\n",
       "      <td>714.000000</td>\n",
       "      <td>891.000000</td>\n",
       "      <td>891.000000</td>\n",
       "      <td>891.000000</td>\n",
       "    </tr>\n",
       "    <tr>\n",
       "      <th>mean</th>\n",
       "      <td>446.000000</td>\n",
       "      <td>0.383838</td>\n",
       "      <td>2.308642</td>\n",
       "      <td>29.699118</td>\n",
       "      <td>0.523008</td>\n",
       "      <td>0.381594</td>\n",
       "      <td>32.204208</td>\n",
       "    </tr>\n",
       "    <tr>\n",
       "      <th>std</th>\n",
       "      <td>257.353842</td>\n",
       "      <td>0.486592</td>\n",
       "      <td>0.836071</td>\n",
       "      <td>14.526497</td>\n",
       "      <td>1.102743</td>\n",
       "      <td>0.806057</td>\n",
       "      <td>49.693429</td>\n",
       "    </tr>\n",
       "    <tr>\n",
       "      <th>min</th>\n",
       "      <td>1.000000</td>\n",
       "      <td>0.000000</td>\n",
       "      <td>1.000000</td>\n",
       "      <td>0.420000</td>\n",
       "      <td>0.000000</td>\n",
       "      <td>0.000000</td>\n",
       "      <td>0.000000</td>\n",
       "    </tr>\n",
       "    <tr>\n",
       "      <th>25%</th>\n",
       "      <td>223.500000</td>\n",
       "      <td>0.000000</td>\n",
       "      <td>2.000000</td>\n",
       "      <td>20.125000</td>\n",
       "      <td>0.000000</td>\n",
       "      <td>0.000000</td>\n",
       "      <td>7.910400</td>\n",
       "    </tr>\n",
       "    <tr>\n",
       "      <th>50%</th>\n",
       "      <td>446.000000</td>\n",
       "      <td>0.000000</td>\n",
       "      <td>3.000000</td>\n",
       "      <td>28.000000</td>\n",
       "      <td>0.000000</td>\n",
       "      <td>0.000000</td>\n",
       "      <td>14.454200</td>\n",
       "    </tr>\n",
       "    <tr>\n",
       "      <th>75%</th>\n",
       "      <td>668.500000</td>\n",
       "      <td>1.000000</td>\n",
       "      <td>3.000000</td>\n",
       "      <td>38.000000</td>\n",
       "      <td>1.000000</td>\n",
       "      <td>0.000000</td>\n",
       "      <td>31.000000</td>\n",
       "    </tr>\n",
       "    <tr>\n",
       "      <th>max</th>\n",
       "      <td>891.000000</td>\n",
       "      <td>1.000000</td>\n",
       "      <td>3.000000</td>\n",
       "      <td>80.000000</td>\n",
       "      <td>8.000000</td>\n",
       "      <td>6.000000</td>\n",
       "      <td>512.329200</td>\n",
       "    </tr>\n",
       "  </tbody>\n",
       "</table>\n",
       "</div>"
      ],
      "text/plain": [
       "       PassengerId    Survived      Pclass         Age       SibSp  \\\n",
       "count   891.000000  891.000000  891.000000  714.000000  891.000000   \n",
       "mean    446.000000    0.383838    2.308642   29.699118    0.523008   \n",
       "std     257.353842    0.486592    0.836071   14.526497    1.102743   \n",
       "min       1.000000    0.000000    1.000000    0.420000    0.000000   \n",
       "25%     223.500000    0.000000    2.000000   20.125000    0.000000   \n",
       "50%     446.000000    0.000000    3.000000   28.000000    0.000000   \n",
       "75%     668.500000    1.000000    3.000000   38.000000    1.000000   \n",
       "max     891.000000    1.000000    3.000000   80.000000    8.000000   \n",
       "\n",
       "            Parch        Fare  \n",
       "count  891.000000  891.000000  \n",
       "mean     0.381594   32.204208  \n",
       "std      0.806057   49.693429  \n",
       "min      0.000000    0.000000  \n",
       "25%      0.000000    7.910400  \n",
       "50%      0.000000   14.454200  \n",
       "75%      0.000000   31.000000  \n",
       "max      6.000000  512.329200  "
      ]
     },
     "execution_count": 4,
     "metadata": {},
     "output_type": "execute_result"
    }
   ],
   "source": [
    "df.describe()"
   ]
  },
  {
   "cell_type": "code",
   "execution_count": 5,
   "id": "b3b4532b",
   "metadata": {
    "execution": {
     "iopub.execute_input": "2024-09-05T12:40:19.374221Z",
     "iopub.status.busy": "2024-09-05T12:40:19.373738Z",
     "iopub.status.idle": "2024-09-05T12:40:19.401599Z",
     "shell.execute_reply": "2024-09-05T12:40:19.400284Z"
    },
    "papermill": {
     "duration": 0.06641,
     "end_time": "2024-09-05T12:40:19.404389",
     "exception": false,
     "start_time": "2024-09-05T12:40:19.337979",
     "status": "completed"
    },
    "tags": []
   },
   "outputs": [
    {
     "name": "stdout",
     "output_type": "stream",
     "text": [
      "<class 'pandas.core.frame.DataFrame'>\n",
      "RangeIndex: 891 entries, 0 to 890\n",
      "Data columns (total 12 columns):\n",
      " #   Column       Non-Null Count  Dtype  \n",
      "---  ------       --------------  -----  \n",
      " 0   PassengerId  891 non-null    int64  \n",
      " 1   Survived     891 non-null    int64  \n",
      " 2   Pclass       891 non-null    int64  \n",
      " 3   Name         891 non-null    object \n",
      " 4   Sex          891 non-null    object \n",
      " 5   Age          714 non-null    float64\n",
      " 6   SibSp        891 non-null    int64  \n",
      " 7   Parch        891 non-null    int64  \n",
      " 8   Ticket       891 non-null    object \n",
      " 9   Fare         891 non-null    float64\n",
      " 10  Cabin        204 non-null    object \n",
      " 11  Embarked     889 non-null    object \n",
      "dtypes: float64(2), int64(5), object(5)\n",
      "memory usage: 83.7+ KB\n"
     ]
    }
   ],
   "source": [
    "df.info()"
   ]
  },
  {
   "cell_type": "code",
   "execution_count": 6,
   "id": "99654a32",
   "metadata": {
    "execution": {
     "iopub.execute_input": "2024-09-05T12:40:19.474936Z",
     "iopub.status.busy": "2024-09-05T12:40:19.474504Z",
     "iopub.status.idle": "2024-09-05T12:40:19.487411Z",
     "shell.execute_reply": "2024-09-05T12:40:19.486142Z"
    },
    "papermill": {
     "duration": 0.051087,
     "end_time": "2024-09-05T12:40:19.490261",
     "exception": false,
     "start_time": "2024-09-05T12:40:19.439174",
     "status": "completed"
    },
    "tags": []
   },
   "outputs": [
    {
     "name": "stdout",
     "output_type": "stream",
     "text": [
      "<class 'pandas.core.frame.DataFrame'>\n",
      "RangeIndex: 418 entries, 0 to 417\n",
      "Data columns (total 11 columns):\n",
      " #   Column       Non-Null Count  Dtype  \n",
      "---  ------       --------------  -----  \n",
      " 0   PassengerId  418 non-null    int64  \n",
      " 1   Pclass       418 non-null    int64  \n",
      " 2   Name         418 non-null    object \n",
      " 3   Sex          418 non-null    object \n",
      " 4   Age          332 non-null    float64\n",
      " 5   SibSp        418 non-null    int64  \n",
      " 6   Parch        418 non-null    int64  \n",
      " 7   Ticket       418 non-null    object \n",
      " 8   Fare         417 non-null    float64\n",
      " 9   Cabin        91 non-null     object \n",
      " 10  Embarked     418 non-null    object \n",
      "dtypes: float64(2), int64(4), object(5)\n",
      "memory usage: 36.0+ KB\n"
     ]
    }
   ],
   "source": [
    "df_test.info()"
   ]
  },
  {
   "cell_type": "code",
   "execution_count": 7,
   "id": "58f064fe",
   "metadata": {
    "execution": {
     "iopub.execute_input": "2024-09-05T12:40:19.560324Z",
     "iopub.status.busy": "2024-09-05T12:40:19.559860Z",
     "iopub.status.idle": "2024-09-05T12:40:19.567525Z",
     "shell.execute_reply": "2024-09-05T12:40:19.566201Z"
    },
    "papermill": {
     "duration": 0.045993,
     "end_time": "2024-09-05T12:40:19.570162",
     "exception": false,
     "start_time": "2024-09-05T12:40:19.524169",
     "status": "completed"
    },
    "tags": []
   },
   "outputs": [
    {
     "data": {
      "text/plain": [
       "(891, 12)"
      ]
     },
     "execution_count": 7,
     "metadata": {},
     "output_type": "execute_result"
    }
   ],
   "source": [
    "df.shape"
   ]
  },
  {
   "cell_type": "code",
   "execution_count": 8,
   "id": "ea8453f0",
   "metadata": {
    "execution": {
     "iopub.execute_input": "2024-09-05T12:40:19.641460Z",
     "iopub.status.busy": "2024-09-05T12:40:19.641008Z",
     "iopub.status.idle": "2024-09-05T12:40:19.648610Z",
     "shell.execute_reply": "2024-09-05T12:40:19.647310Z"
    },
    "papermill": {
     "duration": 0.046269,
     "end_time": "2024-09-05T12:40:19.651217",
     "exception": false,
     "start_time": "2024-09-05T12:40:19.604948",
     "status": "completed"
    },
    "tags": []
   },
   "outputs": [
    {
     "data": {
      "text/plain": [
       "(418, 11)"
      ]
     },
     "execution_count": 8,
     "metadata": {},
     "output_type": "execute_result"
    }
   ],
   "source": [
    "df_test.shape"
   ]
  },
  {
   "cell_type": "code",
   "execution_count": 9,
   "id": "12efa17c",
   "metadata": {
    "execution": {
     "iopub.execute_input": "2024-09-05T12:40:19.722357Z",
     "iopub.status.busy": "2024-09-05T12:40:19.721886Z",
     "iopub.status.idle": "2024-09-05T12:40:19.731569Z",
     "shell.execute_reply": "2024-09-05T12:40:19.730371Z"
    },
    "papermill": {
     "duration": 0.048533,
     "end_time": "2024-09-05T12:40:19.734362",
     "exception": false,
     "start_time": "2024-09-05T12:40:19.685829",
     "status": "completed"
    },
    "tags": []
   },
   "outputs": [
    {
     "name": "stdout",
     "output_type": "stream",
     "text": [
      "[0 1]\n",
      "[3 1 2]\n",
      "[1 0 3 4 2 5 8]\n",
      "[0 1 2 5 3 4 6]\n"
     ]
    }
   ],
   "source": [
    "print(df.Survived.unique())\n",
    "print(df.Pclass.unique())\n",
    "print(df.SibSp.unique())\n",
    "print(df.Parch.unique())"
   ]
  },
  {
   "cell_type": "code",
   "execution_count": 10,
   "id": "13590f4d",
   "metadata": {
    "execution": {
     "iopub.execute_input": "2024-09-05T12:40:19.807913Z",
     "iopub.status.busy": "2024-09-05T12:40:19.807464Z",
     "iopub.status.idle": "2024-09-05T12:40:20.117678Z",
     "shell.execute_reply": "2024-09-05T12:40:20.116435Z"
    },
    "papermill": {
     "duration": 0.351721,
     "end_time": "2024-09-05T12:40:20.120899",
     "exception": false,
     "start_time": "2024-09-05T12:40:19.769178",
     "status": "completed"
    },
    "tags": []
   },
   "outputs": [
    {
     "data": {
      "text/plain": [
       "Text(0.5, 0, 'Survived or Not survived')"
      ]
     },
     "execution_count": 10,
     "metadata": {},
     "output_type": "execute_result"
    },
    {
     "data": {
      "image/png": "[encoded data removed]",
      "text/plain": [
       "<Figure size 640x480 with 1 Axes>"
      ]
     },
     "metadata": {},
     "output_type": "display_data"
    }
   ],
   "source": [
    "sns.countplot(x = df.Survived)\n",
    "plt.title(\"Survival count\")\n",
    "plt.xlabel('Survived or Not survived')"
   ]
  },
  {
   "cell_type": "code",
   "execution_count": 11,
   "id": "aba74461",
   "metadata": {
    "execution": {
     "iopub.execute_input": "2024-09-05T12:40:20.193332Z",
     "iopub.status.busy": "2024-09-05T12:40:20.192887Z",
     "iopub.status.idle": "2024-09-05T12:40:20.552676Z",
     "shell.execute_reply": "2024-09-05T12:40:20.551532Z"
    },
    "papermill": {
     "duration": 0.399133,
     "end_time": "2024-09-05T12:40:20.555195",
     "exception": false,
     "start_time": "2024-09-05T12:40:20.156062",
     "status": "completed"
    },
    "tags": []
   },
   "outputs": [
    {
     "data": {
      "text/plain": [
       "<matplotlib.legend.Legend at 0x7b0d8d2f79a0>"
      ]
     },
     "execution_count": 11,
     "metadata": {},
     "output_type": "execute_result"
    },
    {
     "data": {
      "image/png": "[encoded data removed]",
      "text/plain": [
       "<Figure size 640x480 with 1 Axes>"
      ]
     },
     "metadata": {},
     "output_type": "display_data"
    }
   ],
   "source": [
    "sns.countplot(x = df.Pclass, hue = df.Survived)\n",
    "plt.title(\"Survival by class\")\n",
    "plt.legend(labels = ['Not Survived', 'Survived'])"
   ]
  },
  {
   "cell_type": "code",
   "execution_count": 12,
   "id": "907b0462",
   "metadata": {
    "execution": {
     "iopub.execute_input": "2024-09-05T12:40:20.629435Z",
     "iopub.status.busy": "2024-09-05T12:40:20.628933Z",
     "iopub.status.idle": "2024-09-05T12:40:20.889312Z",
     "shell.execute_reply": "2024-09-05T12:40:20.887999Z"
    },
    "papermill": {
     "duration": 0.300435,
     "end_time": "2024-09-05T12:40:20.892135",
     "exception": false,
     "start_time": "2024-09-05T12:40:20.591700",
     "status": "completed"
    },
    "tags": []
   },
   "outputs": [
    {
     "data": {
      "text/plain": [
       "<matplotlib.legend.Legend at 0x7b0d0e376c20>"
      ]
     },
     "execution_count": 12,
     "metadata": {},
     "output_type": "execute_result"
    },
    {
     "data": {
      "image/png": "[encoded data removed]",
      "text/plain": [
       "<Figure size 640x480 with 1 Axes>"
      ]
     },
     "metadata": {},
     "output_type": "display_data"
    }
   ],
   "source": [
    "sns.countplot(x = df.Sex, hue = df.Survived)\n",
    "plt.title('Survival by gender')\n",
    "plt.legend(labels = ['Not Survived', 'Survived'])"
   ]
  },
  {
   "cell_type": "code",
   "execution_count": 13,
   "id": "bc41243f",
   "metadata": {
    "execution": {
     "iopub.execute_input": "2024-09-05T12:40:20.966727Z",
     "iopub.status.busy": "2024-09-05T12:40:20.966236Z",
     "iopub.status.idle": "2024-09-05T12:40:21.280909Z",
     "shell.execute_reply": "2024-09-05T12:40:21.279378Z"
    },
    "papermill": {
     "duration": 0.355472,
     "end_time": "2024-09-05T12:40:21.283941",
     "exception": false,
     "start_time": "2024-09-05T12:40:20.928469",
     "status": "completed"
    },
    "tags": []
   },
   "outputs": [
    {
     "data": {
      "text/plain": [
       "<matplotlib.legend.Legend at 0x7b0d6047e2c0>"
      ]
     },
     "execution_count": 13,
     "metadata": {},
     "output_type": "execute_result"
    },
    {
     "data": {
      "image/png": "[encoded data removed]",
      "text/plain": [
       "<Figure size 640x480 with 1 Axes>"
      ]
     },
     "metadata": {},
     "output_type": "display_data"
    }
   ],
   "source": [
    "sns.countplot(x = df.Embarked, hue = df.Survived)\n",
    "plt.title('Survival by port of embarkation')\n",
    "plt.legend(labels = ['Not Survived', 'Survived'])"
   ]
  },
  {
   "cell_type": "markdown",
   "id": "05f993eb",
   "metadata": {
    "papermill": {
     "duration": 0.036499,
     "end_time": "2024-09-05T12:40:21.358806",
     "exception": false,
     "start_time": "2024-09-05T12:40:21.322307",
     "status": "completed"
    },
    "tags": []
   },
   "source": [
    "# Data preprocessing"
   ]
  },
  {
   "cell_type": "markdown",
   "id": "808292e1",
   "metadata": {
    "papermill": {
     "duration": 0.037724,
     "end_time": "2024-09-05T12:40:21.433347",
     "exception": false,
     "start_time": "2024-09-05T12:40:21.395623",
     "status": "completed"
    },
    "tags": []
   },
   "source": [
    "## a) Null values"
   ]
  },
  {
   "cell_type": "code",
   "execution_count": 14,
   "id": "dd8abc53",
   "metadata": {
    "execution": {
     "iopub.execute_input": "2024-09-05T12:40:21.567311Z",
     "iopub.status.busy": "2024-09-05T12:40:21.566309Z",
     "iopub.status.idle": "2024-09-05T12:40:21.576647Z",
     "shell.execute_reply": "2024-09-05T12:40:21.575532Z"
    },
    "papermill": {
     "duration": 0.051369,
     "end_time": "2024-09-05T12:40:21.579138",
     "exception": false,
     "start_time": "2024-09-05T12:40:21.527769",
     "status": "completed"
    },
    "tags": []
   },
   "outputs": [
    {
     "data": {
      "text/plain": [
       "PassengerId      0\n",
       "Survived         0\n",
       "Pclass           0\n",
       "Name             0\n",
       "Sex              0\n",
       "Age            177\n",
       "SibSp            0\n",
       "Parch            0\n",
       "Ticket           0\n",
       "Fare             0\n",
       "Cabin          687\n",
       "Embarked         2\n",
       "dtype: int64"
      ]
     },
     "execution_count": 14,
     "metadata": {},
     "output_type": "execute_result"
    }
   ],
   "source": [
    "df.isna().sum()"
   ]
  },
  {
   "cell_type": "code",
   "execution_count": 15,
   "id": "9a1e0506",
   "metadata": {
    "execution": {
     "iopub.execute_input": "2024-09-05T12:40:21.656201Z",
     "iopub.status.busy": "2024-09-05T12:40:21.655729Z",
     "iopub.status.idle": "2024-09-05T12:40:21.665835Z",
     "shell.execute_reply": "2024-09-05T12:40:21.664650Z"
    },
    "papermill": {
     "duration": 0.051436,
     "end_time": "2024-09-05T12:40:21.668383",
     "exception": false,
     "start_time": "2024-09-05T12:40:21.616947",
     "status": "completed"
    },
    "tags": []
   },
   "outputs": [
    {
     "data": {
      "text/plain": [
       "PassengerId      0\n",
       "Pclass           0\n",
       "Name             0\n",
       "Sex              0\n",
       "Age             86\n",
       "SibSp            0\n",
       "Parch            0\n",
       "Ticket           0\n",
       "Fare             1\n",
       "Cabin          327\n",
       "Embarked         0\n",
       "dtype: int64"
      ]
     },
     "execution_count": 15,
     "metadata": {},
     "output_type": "execute_result"
    }
   ],
   "source": [
    "df_test.isna().sum()"
   ]
  },
  {
   "cell_type": "markdown",
   "id": "81a6668f",
   "metadata": {
    "papermill": {
     "duration": 0.037551,
     "end_time": "2024-09-05T12:40:21.742997",
     "exception": false,
     "start_time": "2024-09-05T12:40:21.705446",
     "status": "completed"
    },
    "tags": []
   },
   "source": [
    "**1. Embarked**"
   ]
  },
  {
   "cell_type": "code",
   "execution_count": 16,
   "id": "5611d2c5",
   "metadata": {
    "execution": {
     "iopub.execute_input": "2024-09-05T12:40:21.819384Z",
     "iopub.status.busy": "2024-09-05T12:40:21.818299Z",
     "iopub.status.idle": "2024-09-05T12:40:21.841134Z",
     "shell.execute_reply": "2024-09-05T12:40:21.839827Z"
    },
    "papermill": {
     "duration": 0.063971,
     "end_time": "2024-09-05T12:40:21.843840",
     "exception": false,
     "start_time": "2024-09-05T12:40:21.779869",
     "status": "completed"
    },
    "tags": []
   },
   "outputs": [
    {
     "data": {
      "text/html": [
       "<div>\n",
       "<style scoped>\n",
       "    .dataframe tbody tr th:only-of-type {\n",
       "        vertical-align: middle;\n",
       "    }\n",
       "\n",
       "    .dataframe tbody tr th {\n",
       "        vertical-align: top;\n",
       "    }\n",
       "\n",
       "    .dataframe thead th {\n",
       "        text-align: right;\n",
       "    }\n",
       "</style>\n",
       "<table border=\"1\" class=\"dataframe\">\n",
       "  <thead>\n",
       "    <tr style=\"text-align: right;\">\n",
       "      <th></th>\n",
       "      <th>PassengerId</th>\n",
       "      <th>Survived</th>\n",
       "      <th>Pclass</th>\n",
       "      <th>Name</th>\n",
       "      <th>Sex</th>\n",
       "      <th>Age</th>\n",
       "      <th>SibSp</th>\n",
       "      <th>Parch</th>\n",
       "      <th>Ticket</th>\n",
       "      <th>Fare</th>\n",
       "      <th>Cabin</th>\n",
       "      <th>Embarked</th>\n",
       "    </tr>\n",
       "  </thead>\n",
       "  <tbody>\n",
       "    <tr>\n",
       "      <th>61</th>\n",
       "      <td>62</td>\n",
       "      <td>1</td>\n",
       "      <td>1</td>\n",
       "      <td>Icard, Miss. Amelie</td>\n",
       "      <td>female</td>\n",
       "      <td>38.0</td>\n",
       "      <td>0</td>\n",
       "      <td>0</td>\n",
       "      <td>113572</td>\n",
       "      <td>80.0</td>\n",
       "      <td>B28</td>\n",
       "      <td>NaN</td>\n",
       "    </tr>\n",
       "    <tr>\n",
       "      <th>829</th>\n",
       "      <td>830</td>\n",
       "      <td>1</td>\n",
       "      <td>1</td>\n",
       "      <td>Stone, Mrs. George Nelson (Martha Evelyn)</td>\n",
       "      <td>female</td>\n",
       "      <td>62.0</td>\n",
       "      <td>0</td>\n",
       "      <td>0</td>\n",
       "      <td>113572</td>\n",
       "      <td>80.0</td>\n",
       "      <td>B28</td>\n",
       "      <td>NaN</td>\n",
       "    </tr>\n",
       "  </tbody>\n",
       "</table>\n",
       "</div>"
      ],
      "text/plain": [
       "     PassengerId  Survived  Pclass                                       Name  \\\n",
       "61            62         1       1                        Icard, Miss. Amelie   \n",
       "829          830         1       1  Stone, Mrs. George Nelson (Martha Evelyn)   \n",
       "\n",
       "        Sex   Age  SibSp  Parch  Ticket  Fare Cabin Embarked  \n",
       "61   female  38.0      0      0  113572  80.0   B28      NaN  \n",
       "829  female  62.0      0      0  113572  80.0   B28      NaN  "
      ]
     },
     "execution_count": 16,
     "metadata": {},
     "output_type": "execute_result"
    }
   ],
   "source": [
    "embarked_is_null = df[df.Embarked.isnull()]\n",
    "embarked_is_null"
   ]
  },
  {
   "cell_type": "code",
   "execution_count": 17,
   "id": "420eb17a",
   "metadata": {
    "execution": {
     "iopub.execute_input": "2024-09-05T12:40:21.922239Z",
     "iopub.status.busy": "2024-09-05T12:40:21.921811Z",
     "iopub.status.idle": "2024-09-05T12:40:21.931757Z",
     "shell.execute_reply": "2024-09-05T12:40:21.930654Z"
    },
    "papermill": {
     "duration": 0.051826,
     "end_time": "2024-09-05T12:40:21.934293",
     "exception": false,
     "start_time": "2024-09-05T12:40:21.882467",
     "status": "completed"
    },
    "tags": []
   },
   "outputs": [],
   "source": [
    "df.dropna(subset = ['Embarked'], inplace = True)"
   ]
  },
  {
   "cell_type": "markdown",
   "id": "1e563625",
   "metadata": {
    "papermill": {
     "duration": 0.037063,
     "end_time": "2024-09-05T12:40:22.009238",
     "exception": false,
     "start_time": "2024-09-05T12:40:21.972175",
     "status": "completed"
    },
    "tags": []
   },
   "source": [
    "**2. Age**"
   ]
  },
  {
   "cell_type": "code",
   "execution_count": 18,
   "id": "ee7f1bc4",
   "metadata": {
    "execution": {
     "iopub.execute_input": "2024-09-05T12:40:22.087862Z",
     "iopub.status.busy": "2024-09-05T12:40:22.086864Z",
     "iopub.status.idle": "2024-09-05T12:40:22.497636Z",
     "shell.execute_reply": "2024-09-05T12:40:22.496427Z"
    },
    "papermill": {
     "duration": 0.45296,
     "end_time": "2024-09-05T12:40:22.500633",
     "exception": false,
     "start_time": "2024-09-05T12:40:22.047673",
     "status": "completed"
    },
    "tags": []
   },
   "outputs": [
    {
     "name": "stderr",
     "output_type": "stream",
     "text": [
      "/opt/conda/lib/python3.10/site-packages/seaborn/_oldcore.py:1119: FutureWarning: use_inf_as_na option is deprecated and will be removed in a future version. Convert inf values to NaN before operating instead.\n",
      "  with pd.option_context('mode.use_inf_as_na', True):\n"
     ]
    },
    {
     "data": {
      "text/plain": [
       "<Axes: xlabel='Age', ylabel='Count'>"
      ]
     },
     "execution_count": 18,
     "metadata": {},
     "output_type": "execute_result"
    },
    {
     "data": {
      "image/png": "[encoded data removed]",
      "text/plain": [
       "<Figure size 640x480 with 1 Axes>"
      ]
     },
     "metadata": {},
     "output_type": "display_data"
    }
   ],
   "source": [
    "sns.histplot(x = 'Age', data = df, bins = 10, kde = True)"
   ]
  },
  {
   "cell_type": "code",
   "execution_count": 19,
   "id": "a906168b",
   "metadata": {
    "execution": {
     "iopub.execute_input": "2024-09-05T12:40:22.579547Z",
     "iopub.status.busy": "2024-09-05T12:40:22.579030Z",
     "iopub.status.idle": "2024-09-05T12:40:22.589487Z",
     "shell.execute_reply": "2024-09-05T12:40:22.588183Z"
    },
    "papermill": {
     "duration": 0.052941,
     "end_time": "2024-09-05T12:40:22.592005",
     "exception": false,
     "start_time": "2024-09-05T12:40:22.539064",
     "status": "completed"
    },
    "tags": []
   },
   "outputs": [
    {
     "data": {
      "text/plain": [
       "24.0"
      ]
     },
     "execution_count": 19,
     "metadata": {},
     "output_type": "execute_result"
    }
   ],
   "source": [
    "age_mode = df.Age.mode()[0]\n",
    "age_mode"
   ]
  },
  {
   "cell_type": "code",
   "execution_count": 20,
   "id": "3bd9f3d1",
   "metadata": {
    "execution": {
     "iopub.execute_input": "2024-09-05T12:40:22.671097Z",
     "iopub.status.busy": "2024-09-05T12:40:22.670675Z",
     "iopub.status.idle": "2024-09-05T12:40:22.683642Z",
     "shell.execute_reply": "2024-09-05T12:40:22.682551Z"
    },
    "papermill": {
     "duration": 0.055773,
     "end_time": "2024-09-05T12:40:22.686349",
     "exception": false,
     "start_time": "2024-09-05T12:40:22.630576",
     "status": "completed"
    },
    "tags": []
   },
   "outputs": [],
   "source": [
    "imputer_age = SimpleImputer(strategy = 'most_frequent')\n",
    "df['Age'] = imputer_age.fit_transform(df[['Age']])\n",
    "\n",
    "# OR\n",
    "\n",
    "#df.Age = df.Age.fillna(age_mode)"
   ]
  },
  {
   "cell_type": "code",
   "execution_count": 21,
   "id": "b6cc64b8",
   "metadata": {
    "execution": {
     "iopub.execute_input": "2024-09-05T12:40:22.764962Z",
     "iopub.status.busy": "2024-09-05T12:40:22.764537Z",
     "iopub.status.idle": "2024-09-05T12:40:22.771367Z",
     "shell.execute_reply": "2024-09-05T12:40:22.769900Z"
    },
    "papermill": {
     "duration": 0.049278,
     "end_time": "2024-09-05T12:40:22.774126",
     "exception": false,
     "start_time": "2024-09-05T12:40:22.724848",
     "status": "completed"
    },
    "tags": []
   },
   "outputs": [],
   "source": [
    "df_test.Age = df_test.Age.fillna(age_mode)"
   ]
  },
  {
   "cell_type": "markdown",
   "id": "80ea3354",
   "metadata": {
    "papermill": {
     "duration": 0.038059,
     "end_time": "2024-09-05T12:40:22.850687",
     "exception": false,
     "start_time": "2024-09-05T12:40:22.812628",
     "status": "completed"
    },
    "tags": []
   },
   "source": [
    "**3. Fare**"
   ]
  },
  {
   "cell_type": "code",
   "execution_count": 22,
   "id": "5ec8655d",
   "metadata": {
    "execution": {
     "iopub.execute_input": "2024-09-05T12:40:22.930805Z",
     "iopub.status.busy": "2024-09-05T12:40:22.929843Z",
     "iopub.status.idle": "2024-09-05T12:40:22.936823Z",
     "shell.execute_reply": "2024-09-05T12:40:22.935558Z"
    },
    "papermill": {
     "duration": 0.049941,
     "end_time": "2024-09-05T12:40:22.939532",
     "exception": false,
     "start_time": "2024-09-05T12:40:22.889591",
     "status": "completed"
    },
    "tags": []
   },
   "outputs": [],
   "source": [
    "df_test.Fare = df_test.Fare.fillna(df_test.Fare.mode()[0])"
   ]
  },
  {
   "cell_type": "markdown",
   "id": "748daca9",
   "metadata": {
    "papermill": {
     "duration": 0.038171,
     "end_time": "2024-09-05T12:40:23.017254",
     "exception": false,
     "start_time": "2024-09-05T12:40:22.979083",
     "status": "completed"
    },
    "tags": []
   },
   "source": [
    "## b) Encoding categorical features"
   ]
  },
  {
   "cell_type": "code",
   "execution_count": 23,
   "id": "90ad7240",
   "metadata": {
    "execution": {
     "iopub.execute_input": "2024-09-05T12:40:23.097753Z",
     "iopub.status.busy": "2024-09-05T12:40:23.096833Z",
     "iopub.status.idle": "2024-09-05T12:40:23.105776Z",
     "shell.execute_reply": "2024-09-05T12:40:23.104583Z"
    },
    "papermill": {
     "duration": 0.051629,
     "end_time": "2024-09-05T12:40:23.108261",
     "exception": false,
     "start_time": "2024-09-05T12:40:23.056632",
     "status": "completed"
    },
    "tags": []
   },
   "outputs": [
    {
     "data": {
      "text/plain": [
       "['Name', 'Sex', 'Ticket', 'Cabin', 'Embarked']"
      ]
     },
     "execution_count": 23,
     "metadata": {},
     "output_type": "execute_result"
    }
   ],
   "source": [
    "categorical_cols = [df.select_dtypes(include = 'object').columns][0].to_list()\n",
    "categorical_cols"
   ]
  },
  {
   "cell_type": "markdown",
   "id": "2dc7368f",
   "metadata": {
    "papermill": {
     "duration": 0.039251,
     "end_time": "2024-09-05T12:40:23.186775",
     "exception": false,
     "start_time": "2024-09-05T12:40:23.147524",
     "status": "completed"
    },
    "tags": []
   },
   "source": [
    "**1. Dropping name**"
   ]
  },
  {
   "cell_type": "code",
   "execution_count": 24,
   "id": "ce96e567",
   "metadata": {
    "execution": {
     "iopub.execute_input": "2024-09-05T12:40:23.268281Z",
     "iopub.status.busy": "2024-09-05T12:40:23.267414Z",
     "iopub.status.idle": "2024-09-05T12:40:23.277909Z",
     "shell.execute_reply": "2024-09-05T12:40:23.276777Z"
    },
    "papermill": {
     "duration": 0.054611,
     "end_time": "2024-09-05T12:40:23.280632",
     "exception": false,
     "start_time": "2024-09-05T12:40:23.226021",
     "status": "completed"
    },
    "tags": []
   },
   "outputs": [
    {
     "data": {
      "text/plain": [
       "0                                Braund, Mr. Owen Harris\n",
       "1      Cumings, Mrs. John Bradley (Florence Briggs Th...\n",
       "2                                 Heikkinen, Miss. Laina\n",
       "3           Futrelle, Mrs. Jacques Heath (Lily May Peel)\n",
       "4                               Allen, Mr. William Henry\n",
       "                             ...                        \n",
       "886                                Montvila, Rev. Juozas\n",
       "887                         Graham, Miss. Margaret Edith\n",
       "888             Johnston, Miss. Catherine Helen \"Carrie\"\n",
       "889                                Behr, Mr. Karl Howell\n",
       "890                                  Dooley, Mr. Patrick\n",
       "Name: Name, Length: 889, dtype: object"
      ]
     },
     "execution_count": 24,
     "metadata": {},
     "output_type": "execute_result"
    }
   ],
   "source": [
    "df.pop('Name')"
   ]
  },
  {
   "cell_type": "code",
   "execution_count": 25,
   "id": "38bef7e7",
   "metadata": {
    "execution": {
     "iopub.execute_input": "2024-09-05T12:40:23.362381Z",
     "iopub.status.busy": "2024-09-05T12:40:23.361963Z",
     "iopub.status.idle": "2024-09-05T12:40:23.372541Z",
     "shell.execute_reply": "2024-09-05T12:40:23.371307Z"
    },
    "papermill": {
     "duration": 0.053563,
     "end_time": "2024-09-05T12:40:23.375033",
     "exception": false,
     "start_time": "2024-09-05T12:40:23.321470",
     "status": "completed"
    },
    "tags": []
   },
   "outputs": [
    {
     "data": {
      "text/plain": [
       "0                                  Kelly, Mr. James\n",
       "1                  Wilkes, Mrs. James (Ellen Needs)\n",
       "2                         Myles, Mr. Thomas Francis\n",
       "3                                  Wirz, Mr. Albert\n",
       "4      Hirvonen, Mrs. Alexander (Helga E Lindqvist)\n",
       "                           ...                     \n",
       "413                              Spector, Mr. Woolf\n",
       "414                    Oliva y Ocana, Dona. Fermina\n",
       "415                    Saether, Mr. Simon Sivertsen\n",
       "416                             Ware, Mr. Frederick\n",
       "417                        Peter, Master. Michael J\n",
       "Name: Name, Length: 418, dtype: object"
      ]
     },
     "execution_count": 25,
     "metadata": {},
     "output_type": "execute_result"
    }
   ],
   "source": [
    "df_test.pop('Name')"
   ]
  },
  {
   "cell_type": "markdown",
   "id": "7c135edb",
   "metadata": {
    "papermill": {
     "duration": 0.039954,
     "end_time": "2024-09-05T12:40:23.453775",
     "exception": false,
     "start_time": "2024-09-05T12:40:23.413821",
     "status": "completed"
    },
    "tags": []
   },
   "source": [
    "**2. Encoding sex and embarked features**"
   ]
  },
  {
   "cell_type": "code",
   "execution_count": 26,
   "id": "9906b9ae",
   "metadata": {
    "execution": {
     "iopub.execute_input": "2024-09-05T12:40:23.534230Z",
     "iopub.status.busy": "2024-09-05T12:40:23.533756Z",
     "iopub.status.idle": "2024-09-05T12:40:23.539429Z",
     "shell.execute_reply": "2024-09-05T12:40:23.538266Z"
    },
    "papermill": {
     "duration": 0.048878,
     "end_time": "2024-09-05T12:40:23.542170",
     "exception": false,
     "start_time": "2024-09-05T12:40:23.493292",
     "status": "completed"
    },
    "tags": []
   },
   "outputs": [],
   "source": [
    "onehot_cols = ['Sex', 'Embarked']"
   ]
  },
  {
   "cell_type": "code",
   "execution_count": 27,
   "id": "44dca618",
   "metadata": {
    "execution": {
     "iopub.execute_input": "2024-09-05T12:40:23.624014Z",
     "iopub.status.busy": "2024-09-05T12:40:23.622974Z",
     "iopub.status.idle": "2024-09-05T12:40:23.634900Z",
     "shell.execute_reply": "2024-09-05T12:40:23.633879Z"
    },
    "papermill": {
     "duration": 0.054878,
     "end_time": "2024-09-05T12:40:23.637593",
     "exception": false,
     "start_time": "2024-09-05T12:40:23.582715",
     "status": "completed"
    },
    "tags": []
   },
   "outputs": [],
   "source": [
    "df = pd.get_dummies(df, columns = onehot_cols, dtype = int, drop_first = True)"
   ]
  },
  {
   "cell_type": "code",
   "execution_count": 28,
   "id": "401d583b",
   "metadata": {
    "execution": {
     "iopub.execute_input": "2024-09-05T12:40:23.719395Z",
     "iopub.status.busy": "2024-09-05T12:40:23.718352Z",
     "iopub.status.idle": "2024-09-05T12:40:23.729904Z",
     "shell.execute_reply": "2024-09-05T12:40:23.728708Z"
    },
    "papermill": {
     "duration": 0.054776,
     "end_time": "2024-09-05T12:40:23.732540",
     "exception": false,
     "start_time": "2024-09-05T12:40:23.677764",
     "status": "completed"
    },
    "tags": []
   },
   "outputs": [],
   "source": [
    "df_test = pd.get_dummies(df_test, columns = onehot_cols, dtype = int, drop_first = True)"
   ]
  },
  {
   "cell_type": "code",
   "execution_count": 29,
   "id": "b503914d",
   "metadata": {
    "execution": {
     "iopub.execute_input": "2024-09-05T12:40:23.815602Z",
     "iopub.status.busy": "2024-09-05T12:40:23.815103Z",
     "iopub.status.idle": "2024-09-05T12:40:23.820254Z",
     "shell.execute_reply": "2024-09-05T12:40:23.818953Z"
    },
    "papermill": {
     "duration": 0.0502,
     "end_time": "2024-09-05T12:40:23.823005",
     "exception": false,
     "start_time": "2024-09-05T12:40:23.772805",
     "status": "completed"
    },
    "tags": []
   },
   "outputs": [],
   "source": [
    "# OR"
   ]
  },
  {
   "cell_type": "code",
   "execution_count": 30,
   "id": "6f4cce57",
   "metadata": {
    "execution": {
     "iopub.execute_input": "2024-09-05T12:40:23.904786Z",
     "iopub.status.busy": "2024-09-05T12:40:23.903520Z",
     "iopub.status.idle": "2024-09-05T12:40:23.909311Z",
     "shell.execute_reply": "2024-09-05T12:40:23.907858Z"
    },
    "papermill": {
     "duration": 0.049665,
     "end_time": "2024-09-05T12:40:23.912014",
     "exception": false,
     "start_time": "2024-09-05T12:40:23.862349",
     "status": "completed"
    },
    "tags": []
   },
   "outputs": [],
   "source": [
    "#onehotEncoder = OneHotEncoder(handle_unknown  = 'ignore', sparse = False, drop = 'first')"
   ]
  },
  {
   "cell_type": "code",
   "execution_count": 31,
   "id": "7885c63e",
   "metadata": {
    "execution": {
     "iopub.execute_input": "2024-09-05T12:40:23.993955Z",
     "iopub.status.busy": "2024-09-05T12:40:23.992494Z",
     "iopub.status.idle": "2024-09-05T12:40:23.998353Z",
     "shell.execute_reply": "2024-09-05T12:40:23.997208Z"
    },
    "papermill": {
     "duration": 0.049654,
     "end_time": "2024-09-05T12:40:24.001005",
     "exception": false,
     "start_time": "2024-09-05T12:40:23.951351",
     "status": "completed"
    },
    "tags": []
   },
   "outputs": [],
   "source": [
    "#df_oh = pd.DataFrame(data = onehotEncoder.fit_transform(df[onehot_cols]), columns = onehotEncoder.get_feature_names_out(onehot_cols)).astype(int)\n",
    "\n",
    "#df = df.drop(onehot_cols, axis = 1)\n",
    "#df = pd.concat([df, df_oh], axis = 1)"
   ]
  },
  {
   "cell_type": "code",
   "execution_count": 32,
   "id": "542b45e0",
   "metadata": {
    "execution": {
     "iopub.execute_input": "2024-09-05T12:40:24.081327Z",
     "iopub.status.busy": "2024-09-05T12:40:24.080358Z",
     "iopub.status.idle": "2024-09-05T12:40:24.085879Z",
     "shell.execute_reply": "2024-09-05T12:40:24.084687Z"
    },
    "papermill": {
     "duration": 0.048444,
     "end_time": "2024-09-05T12:40:24.088491",
     "exception": false,
     "start_time": "2024-09-05T12:40:24.040047",
     "status": "completed"
    },
    "tags": []
   },
   "outputs": [],
   "source": [
    "#df_test_oh = pd.DataFrame(data = onehotEncoder.transform(df_test[onehot_cols]), columns = onehotEncoder.get_feature_names_out(onehot_cols)).astype(int)\n",
    "\n",
    "#df_test = df_test.drop(onehot_cols, axis = 1)\n",
    "#df_test = pd.concat([df_test, df_test_oh], axis = 1)"
   ]
  },
  {
   "cell_type": "markdown",
   "id": "cf59bc83",
   "metadata": {
    "papermill": {
     "duration": 0.038666,
     "end_time": "2024-09-05T12:40:24.167188",
     "exception": false,
     "start_time": "2024-09-05T12:40:24.128522",
     "status": "completed"
    },
    "tags": []
   },
   "source": [
    "## c) Feature engineering"
   ]
  },
  {
   "cell_type": "markdown",
   "id": "e6ac1c99",
   "metadata": {
    "papermill": {
     "duration": 0.039171,
     "end_time": "2024-09-05T12:40:24.251014",
     "exception": false,
     "start_time": "2024-09-05T12:40:24.211843",
     "status": "completed"
    },
    "tags": []
   },
   "source": [
    "**Features created :-**\n",
    "1. Cabin_letter (cabin deck)\n",
    "2. Cabin_missing\n",
    "3. Ticket_freq\n",
    "4. Family_size\n",
    "5. Age_group"
   ]
  },
  {
   "cell_type": "code",
   "execution_count": 33,
   "id": "2be16f33",
   "metadata": {
    "execution": {
     "iopub.execute_input": "2024-09-05T12:40:24.333612Z",
     "iopub.status.busy": "2024-09-05T12:40:24.332690Z",
     "iopub.status.idle": "2024-09-05T12:40:24.340025Z",
     "shell.execute_reply": "2024-09-05T12:40:24.338858Z"
    },
    "papermill": {
     "duration": 0.052667,
     "end_time": "2024-09-05T12:40:24.342966",
     "exception": false,
     "start_time": "2024-09-05T12:40:24.290299",
     "status": "completed"
    },
    "tags": []
   },
   "outputs": [
    {
     "name": "stdout",
     "output_type": "stream",
     "text": [
      "680\n",
      "146\n"
     ]
    }
   ],
   "source": [
    "print(df.Ticket.nunique())\n",
    "print(df.Cabin.nunique())"
   ]
  },
  {
   "cell_type": "code",
   "execution_count": 34,
   "id": "d154bc1d",
   "metadata": {
    "execution": {
     "iopub.execute_input": "2024-09-05T12:40:24.436375Z",
     "iopub.status.busy": "2024-09-05T12:40:24.435575Z",
     "iopub.status.idle": "2024-09-05T12:40:24.455224Z",
     "shell.execute_reply": "2024-09-05T12:40:24.453627Z"
    },
    "papermill": {
     "duration": 0.072718,
     "end_time": "2024-09-05T12:40:24.458398",
     "exception": false,
     "start_time": "2024-09-05T12:40:24.385680",
     "status": "completed"
    },
    "tags": []
   },
   "outputs": [
    {
     "data": {
      "text/html": [
       "<div>\n",
       "<style scoped>\n",
       "    .dataframe tbody tr th:only-of-type {\n",
       "        vertical-align: middle;\n",
       "    }\n",
       "\n",
       "    .dataframe tbody tr th {\n",
       "        vertical-align: top;\n",
       "    }\n",
       "\n",
       "    .dataframe thead th {\n",
       "        text-align: right;\n",
       "    }\n",
       "</style>\n",
       "<table border=\"1\" class=\"dataframe\">\n",
       "  <thead>\n",
       "    <tr style=\"text-align: right;\">\n",
       "      <th></th>\n",
       "      <th>Pclass</th>\n",
       "      <th>Ticket</th>\n",
       "      <th>Cabin</th>\n",
       "    </tr>\n",
       "  </thead>\n",
       "  <tbody>\n",
       "    <tr>\n",
       "      <th>0</th>\n",
       "      <td>3</td>\n",
       "      <td>A/5 21171</td>\n",
       "      <td>NaN</td>\n",
       "    </tr>\n",
       "    <tr>\n",
       "      <th>1</th>\n",
       "      <td>1</td>\n",
       "      <td>PC 17599</td>\n",
       "      <td>C85</td>\n",
       "    </tr>\n",
       "    <tr>\n",
       "      <th>2</th>\n",
       "      <td>3</td>\n",
       "      <td>STON/O2. 3101282</td>\n",
       "      <td>NaN</td>\n",
       "    </tr>\n",
       "    <tr>\n",
       "      <th>3</th>\n",
       "      <td>1</td>\n",
       "      <td>113803</td>\n",
       "      <td>C123</td>\n",
       "    </tr>\n",
       "    <tr>\n",
       "      <th>4</th>\n",
       "      <td>3</td>\n",
       "      <td>373450</td>\n",
       "      <td>NaN</td>\n",
       "    </tr>\n",
       "    <tr>\n",
       "      <th>5</th>\n",
       "      <td>3</td>\n",
       "      <td>330877</td>\n",
       "      <td>NaN</td>\n",
       "    </tr>\n",
       "    <tr>\n",
       "      <th>6</th>\n",
       "      <td>1</td>\n",
       "      <td>17463</td>\n",
       "      <td>E46</td>\n",
       "    </tr>\n",
       "    <tr>\n",
       "      <th>7</th>\n",
       "      <td>3</td>\n",
       "      <td>349909</td>\n",
       "      <td>NaN</td>\n",
       "    </tr>\n",
       "    <tr>\n",
       "      <th>8</th>\n",
       "      <td>3</td>\n",
       "      <td>347742</td>\n",
       "      <td>NaN</td>\n",
       "    </tr>\n",
       "    <tr>\n",
       "      <th>9</th>\n",
       "      <td>2</td>\n",
       "      <td>237736</td>\n",
       "      <td>NaN</td>\n",
       "    </tr>\n",
       "    <tr>\n",
       "      <th>10</th>\n",
       "      <td>3</td>\n",
       "      <td>PP 9549</td>\n",
       "      <td>G6</td>\n",
       "    </tr>\n",
       "    <tr>\n",
       "      <th>11</th>\n",
       "      <td>1</td>\n",
       "      <td>113783</td>\n",
       "      <td>C103</td>\n",
       "    </tr>\n",
       "    <tr>\n",
       "      <th>12</th>\n",
       "      <td>3</td>\n",
       "      <td>A/5. 2151</td>\n",
       "      <td>NaN</td>\n",
       "    </tr>\n",
       "    <tr>\n",
       "      <th>13</th>\n",
       "      <td>3</td>\n",
       "      <td>347082</td>\n",
       "      <td>NaN</td>\n",
       "    </tr>\n",
       "    <tr>\n",
       "      <th>14</th>\n",
       "      <td>3</td>\n",
       "      <td>350406</td>\n",
       "      <td>NaN</td>\n",
       "    </tr>\n",
       "    <tr>\n",
       "      <th>15</th>\n",
       "      <td>2</td>\n",
       "      <td>248706</td>\n",
       "      <td>NaN</td>\n",
       "    </tr>\n",
       "    <tr>\n",
       "      <th>16</th>\n",
       "      <td>3</td>\n",
       "      <td>382652</td>\n",
       "      <td>NaN</td>\n",
       "    </tr>\n",
       "    <tr>\n",
       "      <th>17</th>\n",
       "      <td>2</td>\n",
       "      <td>244373</td>\n",
       "      <td>NaN</td>\n",
       "    </tr>\n",
       "    <tr>\n",
       "      <th>18</th>\n",
       "      <td>3</td>\n",
       "      <td>345763</td>\n",
       "      <td>NaN</td>\n",
       "    </tr>\n",
       "    <tr>\n",
       "      <th>19</th>\n",
       "      <td>3</td>\n",
       "      <td>2649</td>\n",
       "      <td>NaN</td>\n",
       "    </tr>\n",
       "  </tbody>\n",
       "</table>\n",
       "</div>"
      ],
      "text/plain": [
       "    Pclass            Ticket Cabin\n",
       "0        3         A/5 21171   NaN\n",
       "1        1          PC 17599   C85\n",
       "2        3  STON/O2. 3101282   NaN\n",
       "3        1            113803  C123\n",
       "4        3            373450   NaN\n",
       "5        3            330877   NaN\n",
       "6        1             17463   E46\n",
       "7        3            349909   NaN\n",
       "8        3            347742   NaN\n",
       "9        2            237736   NaN\n",
       "10       3           PP 9549    G6\n",
       "11       1            113783  C103\n",
       "12       3         A/5. 2151   NaN\n",
       "13       3            347082   NaN\n",
       "14       3            350406   NaN\n",
       "15       2            248706   NaN\n",
       "16       3            382652   NaN\n",
       "17       2            244373   NaN\n",
       "18       3            345763   NaN\n",
       "19       3              2649   NaN"
      ]
     },
     "execution_count": 34,
     "metadata": {},
     "output_type": "execute_result"
    }
   ],
   "source": [
    "df[['Pclass', 'Ticket', 'Cabin']].head(20)"
   ]
  },
  {
   "cell_type": "markdown",
   "id": "8637c3b3",
   "metadata": {
    "papermill": {
     "duration": 0.038756,
     "end_time": "2024-09-05T12:40:24.536471",
     "exception": false,
     "start_time": "2024-09-05T12:40:24.497715",
     "status": "completed"
    },
    "tags": []
   },
   "source": [
    "**1. Cabin_letter**"
   ]
  },
  {
   "cell_type": "code",
   "execution_count": 35,
   "id": "20c44e25",
   "metadata": {
    "execution": {
     "iopub.execute_input": "2024-09-05T12:40:24.617724Z",
     "iopub.status.busy": "2024-09-05T12:40:24.616756Z",
     "iopub.status.idle": "2024-09-05T12:40:24.627073Z",
     "shell.execute_reply": "2024-09-05T12:40:24.625821Z"
    },
    "papermill": {
     "duration": 0.053785,
     "end_time": "2024-09-05T12:40:24.629712",
     "exception": false,
     "start_time": "2024-09-05T12:40:24.575927",
     "status": "completed"
    },
    "tags": []
   },
   "outputs": [
    {
     "data": {
      "text/plain": [
       "0"
      ]
     },
     "execution_count": 35,
     "metadata": {},
     "output_type": "execute_result"
    }
   ],
   "source": [
    "flag = 0\n",
    "\n",
    "for cabin_num in df.Cabin:\n",
    "    if not(('A' <= str(cabin_num)[0] <= 'Z') or ('a' <= str(cabin_num)[0] <= 'z')):\n",
    "        flag = 1\n",
    "        break\n",
    "\n",
    "flag"
   ]
  },
  {
   "cell_type": "code",
   "execution_count": 36,
   "id": "3f6e6cda",
   "metadata": {
    "execution": {
     "iopub.execute_input": "2024-09-05T12:40:24.711078Z",
     "iopub.status.busy": "2024-09-05T12:40:24.710654Z",
     "iopub.status.idle": "2024-09-05T12:40:24.717744Z",
     "shell.execute_reply": "2024-09-05T12:40:24.716298Z"
    },
    "papermill": {
     "duration": 0.050552,
     "end_time": "2024-09-05T12:40:24.720097",
     "exception": false,
     "start_time": "2024-09-05T12:40:24.669545",
     "status": "completed"
    },
    "tags": []
   },
   "outputs": [],
   "source": [
    "df['Cabin_letter'] = df.Cabin.str[0]"
   ]
  },
  {
   "cell_type": "code",
   "execution_count": 37,
   "id": "b66cf50a",
   "metadata": {
    "execution": {
     "iopub.execute_input": "2024-09-05T12:40:24.819116Z",
     "iopub.status.busy": "2024-09-05T12:40:24.818063Z",
     "iopub.status.idle": "2024-09-05T12:40:24.825333Z",
     "shell.execute_reply": "2024-09-05T12:40:24.824149Z"
    },
    "papermill": {
     "duration": 0.068137,
     "end_time": "2024-09-05T12:40:24.827940",
     "exception": false,
     "start_time": "2024-09-05T12:40:24.759803",
     "status": "completed"
    },
    "tags": []
   },
   "outputs": [],
   "source": [
    "df_test['Cabin_letter'] = df_test.Cabin.str[0]"
   ]
  },
  {
   "cell_type": "code",
   "execution_count": 38,
   "id": "5cc80a89",
   "metadata": {
    "execution": {
     "iopub.execute_input": "2024-09-05T12:40:24.909919Z",
     "iopub.status.busy": "2024-09-05T12:40:24.909362Z",
     "iopub.status.idle": "2024-09-05T12:40:25.250900Z",
     "shell.execute_reply": "2024-09-05T12:40:25.249723Z"
    },
    "papermill": {
     "duration": 0.385474,
     "end_time": "2024-09-05T12:40:25.253728",
     "exception": false,
     "start_time": "2024-09-05T12:40:24.868254",
     "status": "completed"
    },
    "tags": []
   },
   "outputs": [
    {
     "data": {
      "text/plain": [
       "Text(0.5, 1.0, 'Passengers in cabin')"
      ]
     },
     "execution_count": 38,
     "metadata": {},
     "output_type": "execute_result"
    },
    {
     "data": {
      "image/png": "[encoded data removed]",
      "text/plain": [
       "<Figure size 640x480 with 1 Axes>"
      ]
     },
     "metadata": {},
     "output_type": "display_data"
    }
   ],
   "source": [
    "cabin_freq = df.Cabin_letter.value_counts()\n",
    "\n",
    "sns.countplot(x = df.Cabin_letter, order = cabin_freq.index)\n",
    "plt.title('Passengers in cabin')"
   ]
  },
  {
   "cell_type": "code",
   "execution_count": 39,
   "id": "12d9dc19",
   "metadata": {
    "execution": {
     "iopub.execute_input": "2024-09-05T12:40:25.352410Z",
     "iopub.status.busy": "2024-09-05T12:40:25.351951Z",
     "iopub.status.idle": "2024-09-05T12:40:25.782863Z",
     "shell.execute_reply": "2024-09-05T12:40:25.781455Z"
    },
    "papermill": {
     "duration": 0.477063,
     "end_time": "2024-09-05T12:40:25.785823",
     "exception": false,
     "start_time": "2024-09-05T12:40:25.308760",
     "status": "completed"
    },
    "tags": []
   },
   "outputs": [
    {
     "data": {
      "text/plain": [
       "<matplotlib.legend.Legend at 0x7b0dafd668f0>"
      ]
     },
     "execution_count": 39,
     "metadata": {},
     "output_type": "execute_result"
    },
    {
     "data": {
      "image/png": "[encoded data removed]",
      "text/plain": [
       "<Figure size 640x480 with 1 Axes>"
      ]
     },
     "metadata": {},
     "output_type": "display_data"
    }
   ],
   "source": [
    "sns.countplot(x = df.Cabin_letter, hue = df.Survived, order = cabin_freq.index)\n",
    "plt.title('Survival by Cabin')\n",
    "plt.legend(labels = ['Not survived', 'Survived'])"
   ]
  },
  {
   "cell_type": "markdown",
   "id": "218dfdbd",
   "metadata": {
    "papermill": {
     "duration": 0.040103,
     "end_time": "2024-09-05T12:40:25.866732",
     "exception": false,
     "start_time": "2024-09-05T12:40:25.826629",
     "status": "completed"
    },
    "tags": []
   },
   "source": [
    "*Removing cabin letter T, as it is an outlier*"
   ]
  },
  {
   "cell_type": "code",
   "execution_count": 40,
   "id": "6d5ce063",
   "metadata": {
    "execution": {
     "iopub.execute_input": "2024-09-05T12:40:25.951920Z",
     "iopub.status.busy": "2024-09-05T12:40:25.950789Z",
     "iopub.status.idle": "2024-09-05T12:40:25.961390Z",
     "shell.execute_reply": "2024-09-05T12:40:25.960085Z"
    },
    "papermill": {
     "duration": 0.056098,
     "end_time": "2024-09-05T12:40:25.963935",
     "exception": false,
     "start_time": "2024-09-05T12:40:25.907837",
     "status": "completed"
    },
    "tags": []
   },
   "outputs": [
    {
     "data": {
      "text/plain": [
       "Cabin_letter\n",
       "C    59\n",
       "B    45\n",
       "D    33\n",
       "E    32\n",
       "A    15\n",
       "F    13\n",
       "G     4\n",
       "T     1\n",
       "Name: count, dtype: int64"
      ]
     },
     "execution_count": 40,
     "metadata": {},
     "output_type": "execute_result"
    }
   ],
   "source": [
    "df.Cabin_letter.value_counts()"
   ]
  },
  {
   "cell_type": "code",
   "execution_count": 41,
   "id": "1216763e",
   "metadata": {
    "execution": {
     "iopub.execute_input": "2024-09-05T12:40:26.048152Z",
     "iopub.status.busy": "2024-09-05T12:40:26.047273Z",
     "iopub.status.idle": "2024-09-05T12:40:26.054454Z",
     "shell.execute_reply": "2024-09-05T12:40:26.053448Z"
    },
    "papermill": {
     "duration": 0.051978,
     "end_time": "2024-09-05T12:40:26.056905",
     "exception": false,
     "start_time": "2024-09-05T12:40:26.004927",
     "status": "completed"
    },
    "tags": []
   },
   "outputs": [],
   "source": [
    "df = df[(df.Cabin_letter != 'T')]"
   ]
  },
  {
   "cell_type": "markdown",
   "id": "f68bff53",
   "metadata": {
    "papermill": {
     "duration": 0.040619,
     "end_time": "2024-09-05T12:40:26.138306",
     "exception": false,
     "start_time": "2024-09-05T12:40:26.097687",
     "status": "completed"
    },
    "tags": []
   },
   "source": [
    "*Encoding cabin letter*"
   ]
  },
  {
   "cell_type": "code",
   "execution_count": 42,
   "id": "1c6e7215",
   "metadata": {
    "execution": {
     "iopub.execute_input": "2024-09-05T12:40:26.222388Z",
     "iopub.status.busy": "2024-09-05T12:40:26.221338Z",
     "iopub.status.idle": "2024-09-05T12:40:26.230783Z",
     "shell.execute_reply": "2024-09-05T12:40:26.229802Z"
    },
    "papermill": {
     "duration": 0.05435,
     "end_time": "2024-09-05T12:40:26.233254",
     "exception": false,
     "start_time": "2024-09-05T12:40:26.178904",
     "status": "completed"
    },
    "tags": []
   },
   "outputs": [],
   "source": [
    "df = pd.get_dummies(df, columns = ['Cabin_letter'], dtype = int, drop_first = True)"
   ]
  },
  {
   "cell_type": "code",
   "execution_count": 43,
   "id": "bb1d3dd3",
   "metadata": {
    "execution": {
     "iopub.execute_input": "2024-09-05T12:40:26.317707Z",
     "iopub.status.busy": "2024-09-05T12:40:26.317220Z",
     "iopub.status.idle": "2024-09-05T12:40:26.327582Z",
     "shell.execute_reply": "2024-09-05T12:40:26.326483Z"
    },
    "papermill": {
     "duration": 0.056208,
     "end_time": "2024-09-05T12:40:26.330103",
     "exception": false,
     "start_time": "2024-09-05T12:40:26.273895",
     "status": "completed"
    },
    "tags": []
   },
   "outputs": [],
   "source": [
    "df_test = pd.get_dummies(df_test, columns = ['Cabin_letter'], dtype = int, drop_first = True)"
   ]
  },
  {
   "cell_type": "markdown",
   "id": "e7dcec71",
   "metadata": {
    "papermill": {
     "duration": 0.040492,
     "end_time": "2024-09-05T12:40:26.411435",
     "exception": false,
     "start_time": "2024-09-05T12:40:26.370943",
     "status": "completed"
    },
    "tags": []
   },
   "source": [
    "**2. Cabin_missing**"
   ]
  },
  {
   "cell_type": "code",
   "execution_count": 44,
   "id": "e84fb2a4",
   "metadata": {
    "execution": {
     "iopub.execute_input": "2024-09-05T12:40:26.495059Z",
     "iopub.status.busy": "2024-09-05T12:40:26.494608Z",
     "iopub.status.idle": "2024-09-05T12:40:26.501716Z",
     "shell.execute_reply": "2024-09-05T12:40:26.500527Z"
    },
    "papermill": {
     "duration": 0.051869,
     "end_time": "2024-09-05T12:40:26.504225",
     "exception": false,
     "start_time": "2024-09-05T12:40:26.452356",
     "status": "completed"
    },
    "tags": []
   },
   "outputs": [],
   "source": [
    "df['Cabin_missing'] = df.Cabin.isna().astype(int)"
   ]
  },
  {
   "cell_type": "code",
   "execution_count": 45,
   "id": "2faf01b5",
   "metadata": {
    "execution": {
     "iopub.execute_input": "2024-09-05T12:40:26.587116Z",
     "iopub.status.busy": "2024-09-05T12:40:26.586663Z",
     "iopub.status.idle": "2024-09-05T12:40:26.593700Z",
     "shell.execute_reply": "2024-09-05T12:40:26.592530Z"
    },
    "papermill": {
     "duration": 0.051384,
     "end_time": "2024-09-05T12:40:26.596127",
     "exception": false,
     "start_time": "2024-09-05T12:40:26.544743",
     "status": "completed"
    },
    "tags": []
   },
   "outputs": [],
   "source": [
    "df_test['Cabin_missing'] = df_test.Cabin.isna().astype(int)"
   ]
  },
  {
   "cell_type": "code",
   "execution_count": 46,
   "id": "8612a5cc",
   "metadata": {
    "execution": {
     "iopub.execute_input": "2024-09-05T12:40:26.680141Z",
     "iopub.status.busy": "2024-09-05T12:40:26.679662Z",
     "iopub.status.idle": "2024-09-05T12:40:26.689677Z",
     "shell.execute_reply": "2024-09-05T12:40:26.688463Z"
    },
    "papermill": {
     "duration": 0.055515,
     "end_time": "2024-09-05T12:40:26.692247",
     "exception": false,
     "start_time": "2024-09-05T12:40:26.636732",
     "status": "completed"
    },
    "tags": []
   },
   "outputs": [
    {
     "data": {
      "text/plain": [
       "0       NaN\n",
       "1       C85\n",
       "2       NaN\n",
       "3      C123\n",
       "4       NaN\n",
       "       ... \n",
       "886     NaN\n",
       "887     B42\n",
       "888     NaN\n",
       "889    C148\n",
       "890     NaN\n",
       "Name: Cabin, Length: 888, dtype: object"
      ]
     },
     "execution_count": 46,
     "metadata": {},
     "output_type": "execute_result"
    }
   ],
   "source": [
    "df.pop('Cabin')"
   ]
  },
  {
   "cell_type": "code",
   "execution_count": 47,
   "id": "7e8186d5",
   "metadata": {
    "execution": {
     "iopub.execute_input": "2024-09-05T12:40:26.776533Z",
     "iopub.status.busy": "2024-09-05T12:40:26.776081Z",
     "iopub.status.idle": "2024-09-05T12:40:26.786215Z",
     "shell.execute_reply": "2024-09-05T12:40:26.784961Z"
    },
    "papermill": {
     "duration": 0.055648,
     "end_time": "2024-09-05T12:40:26.788786",
     "exception": false,
     "start_time": "2024-09-05T12:40:26.733138",
     "status": "completed"
    },
    "tags": []
   },
   "outputs": [
    {
     "data": {
      "text/plain": [
       "0       NaN\n",
       "1       NaN\n",
       "2       NaN\n",
       "3       NaN\n",
       "4       NaN\n",
       "       ... \n",
       "413     NaN\n",
       "414    C105\n",
       "415     NaN\n",
       "416     NaN\n",
       "417     NaN\n",
       "Name: Cabin, Length: 418, dtype: object"
      ]
     },
     "execution_count": 47,
     "metadata": {},
     "output_type": "execute_result"
    }
   ],
   "source": [
    "df_test.pop('Cabin')"
   ]
  },
  {
   "cell_type": "markdown",
   "id": "ab1b33fe",
   "metadata": {
    "papermill": {
     "duration": 0.040879,
     "end_time": "2024-09-05T12:40:26.871573",
     "exception": false,
     "start_time": "2024-09-05T12:40:26.830694",
     "status": "completed"
    },
    "tags": []
   },
   "source": [
    "**3. Ticket_freq**"
   ]
  },
  {
   "cell_type": "code",
   "execution_count": 48,
   "id": "8edab56b",
   "metadata": {
    "execution": {
     "iopub.execute_input": "2024-09-05T12:40:26.956530Z",
     "iopub.status.busy": "2024-09-05T12:40:26.956063Z",
     "iopub.status.idle": "2024-09-05T12:40:26.966204Z",
     "shell.execute_reply": "2024-09-05T12:40:26.964783Z"
    },
    "papermill": {
     "duration": 0.055248,
     "end_time": "2024-09-05T12:40:26.968745",
     "exception": false,
     "start_time": "2024-09-05T12:40:26.913497",
     "status": "completed"
    },
    "tags": []
   },
   "outputs": [],
   "source": [
    "ticket_freq = df['Ticket'].value_counts().to_dict()\n",
    "df['Ticket_freq'] = df['Ticket'].map(ticket_freq)"
   ]
  },
  {
   "cell_type": "code",
   "execution_count": 49,
   "id": "6e0038d2",
   "metadata": {
    "execution": {
     "iopub.execute_input": "2024-09-05T12:40:27.053212Z",
     "iopub.status.busy": "2024-09-05T12:40:27.052741Z",
     "iopub.status.idle": "2024-09-05T12:40:27.061679Z",
     "shell.execute_reply": "2024-09-05T12:40:27.060397Z"
    },
    "papermill": {
     "duration": 0.05428,
     "end_time": "2024-09-05T12:40:27.064273",
     "exception": false,
     "start_time": "2024-09-05T12:40:27.009993",
     "status": "completed"
    },
    "tags": []
   },
   "outputs": [],
   "source": [
    "ticket_freq_test = df_test.Ticket.value_counts().to_dict()\n",
    "df_test['Ticket_freq'] = df_test.Ticket.map(ticket_freq_test)"
   ]
  },
  {
   "cell_type": "code",
   "execution_count": 50,
   "id": "ec1adcc8",
   "metadata": {
    "execution": {
     "iopub.execute_input": "2024-09-05T12:40:27.148858Z",
     "iopub.status.busy": "2024-09-05T12:40:27.148386Z",
     "iopub.status.idle": "2024-09-05T12:40:27.158504Z",
     "shell.execute_reply": "2024-09-05T12:40:27.157318Z"
    },
    "papermill": {
     "duration": 0.055035,
     "end_time": "2024-09-05T12:40:27.160866",
     "exception": false,
     "start_time": "2024-09-05T12:40:27.105831",
     "status": "completed"
    },
    "tags": []
   },
   "outputs": [
    {
     "data": {
      "text/plain": [
       "0             A/5 21171\n",
       "1              PC 17599\n",
       "2      STON/O2. 3101282\n",
       "3                113803\n",
       "4                373450\n",
       "             ...       \n",
       "886              211536\n",
       "887              112053\n",
       "888          W./C. 6607\n",
       "889              111369\n",
       "890              370376\n",
       "Name: Ticket, Length: 888, dtype: object"
      ]
     },
     "execution_count": 50,
     "metadata": {},
     "output_type": "execute_result"
    }
   ],
   "source": [
    "df.pop('Ticket')"
   ]
  },
  {
   "cell_type": "code",
   "execution_count": 51,
   "id": "76bbb734",
   "metadata": {
    "execution": {
     "iopub.execute_input": "2024-09-05T12:40:27.247063Z",
     "iopub.status.busy": "2024-09-05T12:40:27.246600Z",
     "iopub.status.idle": "2024-09-05T12:40:27.256603Z",
     "shell.execute_reply": "2024-09-05T12:40:27.255532Z"
    },
    "papermill": {
     "duration": 0.057123,
     "end_time": "2024-09-05T12:40:27.259246",
     "exception": false,
     "start_time": "2024-09-05T12:40:27.202123",
     "status": "completed"
    },
    "tags": []
   },
   "outputs": [
    {
     "data": {
      "text/plain": [
       "0                  330911\n",
       "1                  363272\n",
       "2                  240276\n",
       "3                  315154\n",
       "4                 3101298\n",
       "              ...        \n",
       "413             A.5. 3236\n",
       "414              PC 17758\n",
       "415    SOTON/O.Q. 3101262\n",
       "416                359309\n",
       "417                  2668\n",
       "Name: Ticket, Length: 418, dtype: object"
      ]
     },
     "execution_count": 51,
     "metadata": {},
     "output_type": "execute_result"
    }
   ],
   "source": [
    "df_test.pop('Ticket')"
   ]
  },
  {
   "cell_type": "markdown",
   "id": "c75d30d7",
   "metadata": {
    "papermill": {
     "duration": 0.043811,
     "end_time": "2024-09-05T12:40:27.344822",
     "exception": false,
     "start_time": "2024-09-05T12:40:27.301011",
     "status": "completed"
    },
    "tags": []
   },
   "source": [
    "**4. Family_size**"
   ]
  },
  {
   "cell_type": "code",
   "execution_count": 52,
   "id": "225e4016",
   "metadata": {
    "execution": {
     "iopub.execute_input": "2024-09-05T12:40:27.430315Z",
     "iopub.status.busy": "2024-09-05T12:40:27.429846Z",
     "iopub.status.idle": "2024-09-05T12:40:27.437046Z",
     "shell.execute_reply": "2024-09-05T12:40:27.435720Z"
    },
    "papermill": {
     "duration": 0.052725,
     "end_time": "2024-09-05T12:40:27.439597",
     "exception": false,
     "start_time": "2024-09-05T12:40:27.386872",
     "status": "completed"
    },
    "tags": []
   },
   "outputs": [],
   "source": [
    "df['Family_size'] = df.SibSp + df.Parch + 1"
   ]
  },
  {
   "cell_type": "code",
   "execution_count": 53,
   "id": "e0e90b9e",
   "metadata": {
    "execution": {
     "iopub.execute_input": "2024-09-05T12:40:27.526178Z",
     "iopub.status.busy": "2024-09-05T12:40:27.525707Z",
     "iopub.status.idle": "2024-09-05T12:40:27.532813Z",
     "shell.execute_reply": "2024-09-05T12:40:27.531488Z"
    },
    "papermill": {
     "duration": 0.0527,
     "end_time": "2024-09-05T12:40:27.535444",
     "exception": false,
     "start_time": "2024-09-05T12:40:27.482744",
     "status": "completed"
    },
    "tags": []
   },
   "outputs": [],
   "source": [
    "df_test['Family_size'] = df_test.SibSp + df_test.Parch + 1"
   ]
  },
  {
   "cell_type": "markdown",
   "id": "eca5300f",
   "metadata": {
    "papermill": {
     "duration": 0.041539,
     "end_time": "2024-09-05T12:40:27.620386",
     "exception": false,
     "start_time": "2024-09-05T12:40:27.578847",
     "status": "completed"
    },
    "tags": []
   },
   "source": [
    "**5. Age_group**"
   ]
  },
  {
   "cell_type": "code",
   "execution_count": 54,
   "id": "bd061c32",
   "metadata": {
    "execution": {
     "iopub.execute_input": "2024-09-05T12:40:27.705564Z",
     "iopub.status.busy": "2024-09-05T12:40:27.705099Z",
     "iopub.status.idle": "2024-09-05T12:40:27.717943Z",
     "shell.execute_reply": "2024-09-05T12:40:27.716567Z"
    },
    "papermill": {
     "duration": 0.059083,
     "end_time": "2024-09-05T12:40:27.720661",
     "exception": false,
     "start_time": "2024-09-05T12:40:27.661578",
     "status": "completed"
    },
    "tags": []
   },
   "outputs": [
    {
     "data": {
      "text/plain": [
       "count    888.000000\n",
       "mean      28.500191\n",
       "std       13.158593\n",
       "min        0.420000\n",
       "25%       22.000000\n",
       "50%       24.000000\n",
       "75%       35.000000\n",
       "max       80.000000\n",
       "Name: Age, dtype: float64"
      ]
     },
     "execution_count": 54,
     "metadata": {},
     "output_type": "execute_result"
    }
   ],
   "source": [
    "df.Age.describe()"
   ]
  },
  {
   "cell_type": "code",
   "execution_count": 55,
   "id": "58d8b4cf",
   "metadata": {
    "execution": {
     "iopub.execute_input": "2024-09-05T12:40:27.807539Z",
     "iopub.status.busy": "2024-09-05T12:40:27.807073Z",
     "iopub.status.idle": "2024-09-05T12:40:27.835127Z",
     "shell.execute_reply": "2024-09-05T12:40:27.833880Z"
    },
    "papermill": {
     "duration": 0.074989,
     "end_time": "2024-09-05T12:40:27.837579",
     "exception": false,
     "start_time": "2024-09-05T12:40:27.762590",
     "status": "completed"
    },
    "tags": []
   },
   "outputs": [
    {
     "data": {
      "text/html": [
       "<div>\n",
       "<style scoped>\n",
       "    .dataframe tbody tr th:only-of-type {\n",
       "        vertical-align: middle;\n",
       "    }\n",
       "\n",
       "    .dataframe tbody tr th {\n",
       "        vertical-align: top;\n",
       "    }\n",
       "\n",
       "    .dataframe thead th {\n",
       "        text-align: right;\n",
       "    }\n",
       "</style>\n",
       "<table border=\"1\" class=\"dataframe\">\n",
       "  <thead>\n",
       "    <tr style=\"text-align: right;\">\n",
       "      <th></th>\n",
       "      <th>PassengerId</th>\n",
       "      <th>Survived</th>\n",
       "      <th>Pclass</th>\n",
       "      <th>Age</th>\n",
       "      <th>SibSp</th>\n",
       "      <th>Parch</th>\n",
       "      <th>Fare</th>\n",
       "      <th>Sex_male</th>\n",
       "      <th>Embarked_Q</th>\n",
       "      <th>Embarked_S</th>\n",
       "      <th>Cabin_letter_B</th>\n",
       "      <th>Cabin_letter_C</th>\n",
       "      <th>Cabin_letter_D</th>\n",
       "      <th>Cabin_letter_E</th>\n",
       "      <th>Cabin_letter_F</th>\n",
       "      <th>Cabin_letter_G</th>\n",
       "      <th>Cabin_missing</th>\n",
       "      <th>Ticket_freq</th>\n",
       "      <th>Family_size</th>\n",
       "      <th>Age_group</th>\n",
       "    </tr>\n",
       "  </thead>\n",
       "  <tbody>\n",
       "    <tr>\n",
       "      <th>0</th>\n",
       "      <td>1</td>\n",
       "      <td>0</td>\n",
       "      <td>3</td>\n",
       "      <td>22.0</td>\n",
       "      <td>1</td>\n",
       "      <td>0</td>\n",
       "      <td>7.2500</td>\n",
       "      <td>1</td>\n",
       "      <td>0</td>\n",
       "      <td>1</td>\n",
       "      <td>0</td>\n",
       "      <td>0</td>\n",
       "      <td>0</td>\n",
       "      <td>0</td>\n",
       "      <td>0</td>\n",
       "      <td>0</td>\n",
       "      <td>1</td>\n",
       "      <td>1</td>\n",
       "      <td>2</td>\n",
       "      <td>young adult</td>\n",
       "    </tr>\n",
       "    <tr>\n",
       "      <th>1</th>\n",
       "      <td>2</td>\n",
       "      <td>1</td>\n",
       "      <td>1</td>\n",
       "      <td>38.0</td>\n",
       "      <td>1</td>\n",
       "      <td>0</td>\n",
       "      <td>71.2833</td>\n",
       "      <td>0</td>\n",
       "      <td>0</td>\n",
       "      <td>0</td>\n",
       "      <td>0</td>\n",
       "      <td>1</td>\n",
       "      <td>0</td>\n",
       "      <td>0</td>\n",
       "      <td>0</td>\n",
       "      <td>0</td>\n",
       "      <td>0</td>\n",
       "      <td>1</td>\n",
       "      <td>2</td>\n",
       "      <td>adult</td>\n",
       "    </tr>\n",
       "    <tr>\n",
       "      <th>2</th>\n",
       "      <td>3</td>\n",
       "      <td>1</td>\n",
       "      <td>3</td>\n",
       "      <td>26.0</td>\n",
       "      <td>0</td>\n",
       "      <td>0</td>\n",
       "      <td>7.9250</td>\n",
       "      <td>0</td>\n",
       "      <td>0</td>\n",
       "      <td>1</td>\n",
       "      <td>0</td>\n",
       "      <td>0</td>\n",
       "      <td>0</td>\n",
       "      <td>0</td>\n",
       "      <td>0</td>\n",
       "      <td>0</td>\n",
       "      <td>1</td>\n",
       "      <td>1</td>\n",
       "      <td>1</td>\n",
       "      <td>young adult</td>\n",
       "    </tr>\n",
       "    <tr>\n",
       "      <th>3</th>\n",
       "      <td>4</td>\n",
       "      <td>1</td>\n",
       "      <td>1</td>\n",
       "      <td>35.0</td>\n",
       "      <td>1</td>\n",
       "      <td>0</td>\n",
       "      <td>53.1000</td>\n",
       "      <td>0</td>\n",
       "      <td>0</td>\n",
       "      <td>1</td>\n",
       "      <td>0</td>\n",
       "      <td>1</td>\n",
       "      <td>0</td>\n",
       "      <td>0</td>\n",
       "      <td>0</td>\n",
       "      <td>0</td>\n",
       "      <td>0</td>\n",
       "      <td>2</td>\n",
       "      <td>2</td>\n",
       "      <td>young adult</td>\n",
       "    </tr>\n",
       "    <tr>\n",
       "      <th>4</th>\n",
       "      <td>5</td>\n",
       "      <td>0</td>\n",
       "      <td>3</td>\n",
       "      <td>35.0</td>\n",
       "      <td>0</td>\n",
       "      <td>0</td>\n",
       "      <td>8.0500</td>\n",
       "      <td>1</td>\n",
       "      <td>0</td>\n",
       "      <td>1</td>\n",
       "      <td>0</td>\n",
       "      <td>0</td>\n",
       "      <td>0</td>\n",
       "      <td>0</td>\n",
       "      <td>0</td>\n",
       "      <td>0</td>\n",
       "      <td>1</td>\n",
       "      <td>1</td>\n",
       "      <td>1</td>\n",
       "      <td>young adult</td>\n",
       "    </tr>\n",
       "  </tbody>\n",
       "</table>\n",
       "</div>"
      ],
      "text/plain": [
       "   PassengerId  Survived  Pclass   Age  SibSp  Parch     Fare  Sex_male  \\\n",
       "0            1         0       3  22.0      1      0   7.2500         1   \n",
       "1            2         1       1  38.0      1      0  71.2833         0   \n",
       "2            3         1       3  26.0      0      0   7.9250         0   \n",
       "3            4         1       1  35.0      1      0  53.1000         0   \n",
       "4            5         0       3  35.0      0      0   8.0500         1   \n",
       "\n",
       "   Embarked_Q  Embarked_S  Cabin_letter_B  Cabin_letter_C  Cabin_letter_D  \\\n",
       "0           0           1               0               0               0   \n",
       "1           0           0               0               1               0   \n",
       "2           0           1               0               0               0   \n",
       "3           0           1               0               1               0   \n",
       "4           0           1               0               0               0   \n",
       "\n",
       "   Cabin_letter_E  Cabin_letter_F  Cabin_letter_G  Cabin_missing  Ticket_freq  \\\n",
       "0               0               0               0              1            1   \n",
       "1               0               0               0              0            1   \n",
       "2               0               0               0              1            1   \n",
       "3               0               0               0              0            2   \n",
       "4               0               0               0              1            1   \n",
       "\n",
       "   Family_size    Age_group  \n",
       "0            2  young adult  \n",
       "1            2        adult  \n",
       "2            1  young adult  \n",
       "3            2  young adult  \n",
       "4            1  young adult  "
      ]
     },
     "execution_count": 55,
     "metadata": {},
     "output_type": "execute_result"
    }
   ],
   "source": [
    "age_bins = [0, 12, 19, 35, 50, 70, 100]\n",
    "age_labels = ['child', 'teen', 'young adult', 'adult', 'senior', 'old']\n",
    "\n",
    "df['Age_group'] = pd.cut(df.Age, bins = age_bins, labels = age_labels,  right = True)\n",
    "df.head()"
   ]
  },
  {
   "cell_type": "code",
   "execution_count": 56,
   "id": "94415ce6",
   "metadata": {
    "execution": {
     "iopub.execute_input": "2024-09-05T12:40:27.924898Z",
     "iopub.status.busy": "2024-09-05T12:40:27.924448Z",
     "iopub.status.idle": "2024-09-05T12:40:27.949687Z",
     "shell.execute_reply": "2024-09-05T12:40:27.948374Z"
    },
    "papermill": {
     "duration": 0.072541,
     "end_time": "2024-09-05T12:40:27.952101",
     "exception": false,
     "start_time": "2024-09-05T12:40:27.879560",
     "status": "completed"
    },
    "tags": []
   },
   "outputs": [
    {
     "data": {
      "text/html": [
       "<div>\n",
       "<style scoped>\n",
       "    .dataframe tbody tr th:only-of-type {\n",
       "        vertical-align: middle;\n",
       "    }\n",
       "\n",
       "    .dataframe tbody tr th {\n",
       "        vertical-align: top;\n",
       "    }\n",
       "\n",
       "    .dataframe thead th {\n",
       "        text-align: right;\n",
       "    }\n",
       "</style>\n",
       "<table border=\"1\" class=\"dataframe\">\n",
       "  <thead>\n",
       "    <tr style=\"text-align: right;\">\n",
       "      <th></th>\n",
       "      <th>PassengerId</th>\n",
       "      <th>Pclass</th>\n",
       "      <th>Age</th>\n",
       "      <th>SibSp</th>\n",
       "      <th>Parch</th>\n",
       "      <th>Fare</th>\n",
       "      <th>Sex_male</th>\n",
       "      <th>Embarked_Q</th>\n",
       "      <th>Embarked_S</th>\n",
       "      <th>Cabin_letter_B</th>\n",
       "      <th>Cabin_letter_C</th>\n",
       "      <th>Cabin_letter_D</th>\n",
       "      <th>Cabin_letter_E</th>\n",
       "      <th>Cabin_letter_F</th>\n",
       "      <th>Cabin_letter_G</th>\n",
       "      <th>Cabin_missing</th>\n",
       "      <th>Ticket_freq</th>\n",
       "      <th>Family_size</th>\n",
       "      <th>Age_group</th>\n",
       "    </tr>\n",
       "  </thead>\n",
       "  <tbody>\n",
       "    <tr>\n",
       "      <th>0</th>\n",
       "      <td>892</td>\n",
       "      <td>3</td>\n",
       "      <td>34.5</td>\n",
       "      <td>0</td>\n",
       "      <td>0</td>\n",
       "      <td>7.8292</td>\n",
       "      <td>1</td>\n",
       "      <td>1</td>\n",
       "      <td>0</td>\n",
       "      <td>0</td>\n",
       "      <td>0</td>\n",
       "      <td>0</td>\n",
       "      <td>0</td>\n",
       "      <td>0</td>\n",
       "      <td>0</td>\n",
       "      <td>1</td>\n",
       "      <td>1</td>\n",
       "      <td>1</td>\n",
       "      <td>young adult</td>\n",
       "    </tr>\n",
       "    <tr>\n",
       "      <th>1</th>\n",
       "      <td>893</td>\n",
       "      <td>3</td>\n",
       "      <td>47.0</td>\n",
       "      <td>1</td>\n",
       "      <td>0</td>\n",
       "      <td>7.0000</td>\n",
       "      <td>0</td>\n",
       "      <td>0</td>\n",
       "      <td>1</td>\n",
       "      <td>0</td>\n",
       "      <td>0</td>\n",
       "      <td>0</td>\n",
       "      <td>0</td>\n",
       "      <td>0</td>\n",
       "      <td>0</td>\n",
       "      <td>1</td>\n",
       "      <td>1</td>\n",
       "      <td>2</td>\n",
       "      <td>adult</td>\n",
       "    </tr>\n",
       "    <tr>\n",
       "      <th>2</th>\n",
       "      <td>894</td>\n",
       "      <td>2</td>\n",
       "      <td>62.0</td>\n",
       "      <td>0</td>\n",
       "      <td>0</td>\n",
       "      <td>9.6875</td>\n",
       "      <td>1</td>\n",
       "      <td>1</td>\n",
       "      <td>0</td>\n",
       "      <td>0</td>\n",
       "      <td>0</td>\n",
       "      <td>0</td>\n",
       "      <td>0</td>\n",
       "      <td>0</td>\n",
       "      <td>0</td>\n",
       "      <td>1</td>\n",
       "      <td>1</td>\n",
       "      <td>1</td>\n",
       "      <td>senior</td>\n",
       "    </tr>\n",
       "    <tr>\n",
       "      <th>3</th>\n",
       "      <td>895</td>\n",
       "      <td>3</td>\n",
       "      <td>27.0</td>\n",
       "      <td>0</td>\n",
       "      <td>0</td>\n",
       "      <td>8.6625</td>\n",
       "      <td>1</td>\n",
       "      <td>0</td>\n",
       "      <td>1</td>\n",
       "      <td>0</td>\n",
       "      <td>0</td>\n",
       "      <td>0</td>\n",
       "      <td>0</td>\n",
       "      <td>0</td>\n",
       "      <td>0</td>\n",
       "      <td>1</td>\n",
       "      <td>1</td>\n",
       "      <td>1</td>\n",
       "      <td>young adult</td>\n",
       "    </tr>\n",
       "    <tr>\n",
       "      <th>4</th>\n",
       "      <td>896</td>\n",
       "      <td>3</td>\n",
       "      <td>22.0</td>\n",
       "      <td>1</td>\n",
       "      <td>1</td>\n",
       "      <td>12.2875</td>\n",
       "      <td>0</td>\n",
       "      <td>0</td>\n",
       "      <td>1</td>\n",
       "      <td>0</td>\n",
       "      <td>0</td>\n",
       "      <td>0</td>\n",
       "      <td>0</td>\n",
       "      <td>0</td>\n",
       "      <td>0</td>\n",
       "      <td>1</td>\n",
       "      <td>1</td>\n",
       "      <td>3</td>\n",
       "      <td>young adult</td>\n",
       "    </tr>\n",
       "  </tbody>\n",
       "</table>\n",
       "</div>"
      ],
      "text/plain": [
       "   PassengerId  Pclass   Age  SibSp  Parch     Fare  Sex_male  Embarked_Q  \\\n",
       "0          892       3  34.5      0      0   7.8292         1           1   \n",
       "1          893       3  47.0      1      0   7.0000         0           0   \n",
       "2          894       2  62.0      0      0   9.6875         1           1   \n",
       "3          895       3  27.0      0      0   8.6625         1           0   \n",
       "4          896       3  22.0      1      1  12.2875         0           0   \n",
       "\n",
       "   Embarked_S  Cabin_letter_B  Cabin_letter_C  Cabin_letter_D  Cabin_letter_E  \\\n",
       "0           0               0               0               0               0   \n",
       "1           1               0               0               0               0   \n",
       "2           0               0               0               0               0   \n",
       "3           1               0               0               0               0   \n",
       "4           1               0               0               0               0   \n",
       "\n",
       "   Cabin_letter_F  Cabin_letter_G  Cabin_missing  Ticket_freq  Family_size  \\\n",
       "0               0               0              1            1            1   \n",
       "1               0               0              1            1            2   \n",
       "2               0               0              1            1            1   \n",
       "3               0               0              1            1            1   \n",
       "4               0               0              1            1            3   \n",
       "\n",
       "     Age_group  \n",
       "0  young adult  \n",
       "1        adult  \n",
       "2       senior  \n",
       "3  young adult  \n",
       "4  young adult  "
      ]
     },
     "execution_count": 56,
     "metadata": {},
     "output_type": "execute_result"
    }
   ],
   "source": [
    "df_test['Age_group'] = pd.cut(df_test.Age, labels = age_labels, bins = age_bins, right = True)\n",
    "df_test.head()"
   ]
  },
  {
   "cell_type": "markdown",
   "id": "299e992f",
   "metadata": {
    "papermill": {
     "duration": 0.041647,
     "end_time": "2024-09-05T12:40:28.036401",
     "exception": false,
     "start_time": "2024-09-05T12:40:27.994754",
     "status": "completed"
    },
    "tags": []
   },
   "source": [
    "*Encoding Age_group*"
   ]
  },
  {
   "cell_type": "code",
   "execution_count": 57,
   "id": "e7a84901",
   "metadata": {
    "execution": {
     "iopub.execute_input": "2024-09-05T12:40:28.122531Z",
     "iopub.status.busy": "2024-09-05T12:40:28.122082Z",
     "iopub.status.idle": "2024-09-05T12:40:28.132468Z",
     "shell.execute_reply": "2024-09-05T12:40:28.131383Z"
    },
    "papermill": {
     "duration": 0.056501,
     "end_time": "2024-09-05T12:40:28.135191",
     "exception": false,
     "start_time": "2024-09-05T12:40:28.078690",
     "status": "completed"
    },
    "tags": []
   },
   "outputs": [],
   "source": [
    "df = pd.get_dummies(df, columns = ['Age_group'], dtype = int, drop_first = True)"
   ]
  },
  {
   "cell_type": "code",
   "execution_count": 58,
   "id": "dae63fd4",
   "metadata": {
    "execution": {
     "iopub.execute_input": "2024-09-05T12:40:28.222275Z",
     "iopub.status.busy": "2024-09-05T12:40:28.221856Z",
     "iopub.status.idle": "2024-09-05T12:40:28.231533Z",
     "shell.execute_reply": "2024-09-05T12:40:28.230548Z"
    },
    "papermill": {
     "duration": 0.055941,
     "end_time": "2024-09-05T12:40:28.234115",
     "exception": false,
     "start_time": "2024-09-05T12:40:28.178174",
     "status": "completed"
    },
    "tags": []
   },
   "outputs": [],
   "source": [
    "df_test = pd.get_dummies(df_test, columns = ['Age_group'], dtype = int, drop_first = True)"
   ]
  },
  {
   "cell_type": "code",
   "execution_count": 59,
   "id": "d43688ea",
   "metadata": {
    "execution": {
     "iopub.execute_input": "2024-09-05T12:40:28.321470Z",
     "iopub.status.busy": "2024-09-05T12:40:28.320278Z",
     "iopub.status.idle": "2024-09-05T12:40:28.344121Z",
     "shell.execute_reply": "2024-09-05T12:40:28.342958Z"
    },
    "papermill": {
     "duration": 0.070608,
     "end_time": "2024-09-05T12:40:28.346840",
     "exception": false,
     "start_time": "2024-09-05T12:40:28.276232",
     "status": "completed"
    },
    "tags": []
   },
   "outputs": [
    {
     "data": {
      "text/html": [
       "<div>\n",
       "<style scoped>\n",
       "    .dataframe tbody tr th:only-of-type {\n",
       "        vertical-align: middle;\n",
       "    }\n",
       "\n",
       "    .dataframe tbody tr th {\n",
       "        vertical-align: top;\n",
       "    }\n",
       "\n",
       "    .dataframe thead th {\n",
       "        text-align: right;\n",
       "    }\n",
       "</style>\n",
       "<table border=\"1\" class=\"dataframe\">\n",
       "  <thead>\n",
       "    <tr style=\"text-align: right;\">\n",
       "      <th></th>\n",
       "      <th>PassengerId</th>\n",
       "      <th>Survived</th>\n",
       "      <th>Pclass</th>\n",
       "      <th>Age</th>\n",
       "      <th>SibSp</th>\n",
       "      <th>Parch</th>\n",
       "      <th>Fare</th>\n",
       "      <th>Sex_male</th>\n",
       "      <th>Embarked_Q</th>\n",
       "      <th>Embarked_S</th>\n",
       "      <th>Cabin_letter_B</th>\n",
       "      <th>Cabin_letter_C</th>\n",
       "      <th>Cabin_letter_D</th>\n",
       "      <th>Cabin_letter_E</th>\n",
       "      <th>Cabin_letter_F</th>\n",
       "      <th>Cabin_letter_G</th>\n",
       "      <th>Cabin_missing</th>\n",
       "      <th>Ticket_freq</th>\n",
       "      <th>Family_size</th>\n",
       "      <th>Age_group_teen</th>\n",
       "      <th>Age_group_young adult</th>\n",
       "      <th>Age_group_adult</th>\n",
       "      <th>Age_group_senior</th>\n",
       "      <th>Age_group_old</th>\n",
       "    </tr>\n",
       "  </thead>\n",
       "  <tbody>\n",
       "    <tr>\n",
       "      <th>0</th>\n",
       "      <td>1</td>\n",
       "      <td>0</td>\n",
       "      <td>3</td>\n",
       "      <td>22.0</td>\n",
       "      <td>1</td>\n",
       "      <td>0</td>\n",
       "      <td>7.2500</td>\n",
       "      <td>1</td>\n",
       "      <td>0</td>\n",
       "      <td>1</td>\n",
       "      <td>0</td>\n",
       "      <td>0</td>\n",
       "      <td>0</td>\n",
       "      <td>0</td>\n",
       "      <td>0</td>\n",
       "      <td>0</td>\n",
       "      <td>1</td>\n",
       "      <td>1</td>\n",
       "      <td>2</td>\n",
       "      <td>0</td>\n",
       "      <td>1</td>\n",
       "      <td>0</td>\n",
       "      <td>0</td>\n",
       "      <td>0</td>\n",
       "    </tr>\n",
       "    <tr>\n",
       "      <th>1</th>\n",
       "      <td>2</td>\n",
       "      <td>1</td>\n",
       "      <td>1</td>\n",
       "      <td>38.0</td>\n",
       "      <td>1</td>\n",
       "      <td>0</td>\n",
       "      <td>71.2833</td>\n",
       "      <td>0</td>\n",
       "      <td>0</td>\n",
       "      <td>0</td>\n",
       "      <td>0</td>\n",
       "      <td>1</td>\n",
       "      <td>0</td>\n",
       "      <td>0</td>\n",
       "      <td>0</td>\n",
       "      <td>0</td>\n",
       "      <td>0</td>\n",
       "      <td>1</td>\n",
       "      <td>2</td>\n",
       "      <td>0</td>\n",
       "      <td>0</td>\n",
       "      <td>1</td>\n",
       "      <td>0</td>\n",
       "      <td>0</td>\n",
       "    </tr>\n",
       "    <tr>\n",
       "      <th>2</th>\n",
       "      <td>3</td>\n",
       "      <td>1</td>\n",
       "      <td>3</td>\n",
       "      <td>26.0</td>\n",
       "      <td>0</td>\n",
       "      <td>0</td>\n",
       "      <td>7.9250</td>\n",
       "      <td>0</td>\n",
       "      <td>0</td>\n",
       "      <td>1</td>\n",
       "      <td>0</td>\n",
       "      <td>0</td>\n",
       "      <td>0</td>\n",
       "      <td>0</td>\n",
       "      <td>0</td>\n",
       "      <td>0</td>\n",
       "      <td>1</td>\n",
       "      <td>1</td>\n",
       "      <td>1</td>\n",
       "      <td>0</td>\n",
       "      <td>1</td>\n",
       "      <td>0</td>\n",
       "      <td>0</td>\n",
       "      <td>0</td>\n",
       "    </tr>\n",
       "    <tr>\n",
       "      <th>3</th>\n",
       "      <td>4</td>\n",
       "      <td>1</td>\n",
       "      <td>1</td>\n",
       "      <td>35.0</td>\n",
       "      <td>1</td>\n",
       "      <td>0</td>\n",
       "      <td>53.1000</td>\n",
       "      <td>0</td>\n",
       "      <td>0</td>\n",
       "      <td>1</td>\n",
       "      <td>0</td>\n",
       "      <td>1</td>\n",
       "      <td>0</td>\n",
       "      <td>0</td>\n",
       "      <td>0</td>\n",
       "      <td>0</td>\n",
       "      <td>0</td>\n",
       "      <td>2</td>\n",
       "      <td>2</td>\n",
       "      <td>0</td>\n",
       "      <td>1</td>\n",
       "      <td>0</td>\n",
       "      <td>0</td>\n",
       "      <td>0</td>\n",
       "    </tr>\n",
       "    <tr>\n",
       "      <th>4</th>\n",
       "      <td>5</td>\n",
       "      <td>0</td>\n",
       "      <td>3</td>\n",
       "      <td>35.0</td>\n",
       "      <td>0</td>\n",
       "      <td>0</td>\n",
       "      <td>8.0500</td>\n",
       "      <td>1</td>\n",
       "      <td>0</td>\n",
       "      <td>1</td>\n",
       "      <td>0</td>\n",
       "      <td>0</td>\n",
       "      <td>0</td>\n",
       "      <td>0</td>\n",
       "      <td>0</td>\n",
       "      <td>0</td>\n",
       "      <td>1</td>\n",
       "      <td>1</td>\n",
       "      <td>1</td>\n",
       "      <td>0</td>\n",
       "      <td>1</td>\n",
       "      <td>0</td>\n",
       "      <td>0</td>\n",
       "      <td>0</td>\n",
       "    </tr>\n",
       "  </tbody>\n",
       "</table>\n",
       "</div>"
      ],
      "text/plain": [
       "   PassengerId  Survived  Pclass   Age  SibSp  Parch     Fare  Sex_male  \\\n",
       "0            1         0       3  22.0      1      0   7.2500         1   \n",
       "1            2         1       1  38.0      1      0  71.2833         0   \n",
       "2            3         1       3  26.0      0      0   7.9250         0   \n",
       "3            4         1       1  35.0      1      0  53.1000         0   \n",
       "4            5         0       3  35.0      0      0   8.0500         1   \n",
       "\n",
       "   Embarked_Q  Embarked_S  Cabin_letter_B  Cabin_letter_C  Cabin_letter_D  \\\n",
       "0           0           1               0               0               0   \n",
       "1           0           0               0               1               0   \n",
       "2           0           1               0               0               0   \n",
       "3           0           1               0               1               0   \n",
       "4           0           1               0               0               0   \n",
       "\n",
       "   Cabin_letter_E  Cabin_letter_F  Cabin_letter_G  Cabin_missing  Ticket_freq  \\\n",
       "0               0               0               0              1            1   \n",
       "1               0               0               0              0            1   \n",
       "2               0               0               0              1            1   \n",
       "3               0               0               0              0            2   \n",
       "4               0               0               0              1            1   \n",
       "\n",
       "   Family_size  Age_group_teen  Age_group_young adult  Age_group_adult  \\\n",
       "0            2               0                      1                0   \n",
       "1            2               0                      0                1   \n",
       "2            1               0                      1                0   \n",
       "3            2               0                      1                0   \n",
       "4            1               0                      1                0   \n",
       "\n",
       "   Age_group_senior  Age_group_old  \n",
       "0                 0              0  \n",
       "1                 0              0  \n",
       "2                 0              0  \n",
       "3                 0              0  \n",
       "4                 0              0  "
      ]
     },
     "execution_count": 59,
     "metadata": {},
     "output_type": "execute_result"
    }
   ],
   "source": [
    "df.head()"
   ]
  },
  {
   "cell_type": "code",
   "execution_count": 60,
   "id": "68fdea56",
   "metadata": {
    "execution": {
     "iopub.execute_input": "2024-09-05T12:40:28.436558Z",
     "iopub.status.busy": "2024-09-05T12:40:28.435454Z",
     "iopub.status.idle": "2024-09-05T12:40:28.458271Z",
     "shell.execute_reply": "2024-09-05T12:40:28.456944Z"
    },
    "papermill": {
     "duration": 0.070433,
     "end_time": "2024-09-05T12:40:28.460892",
     "exception": false,
     "start_time": "2024-09-05T12:40:28.390459",
     "status": "completed"
    },
    "tags": []
   },
   "outputs": [
    {
     "data": {
      "text/html": [
       "<div>\n",
       "<style scoped>\n",
       "    .dataframe tbody tr th:only-of-type {\n",
       "        vertical-align: middle;\n",
       "    }\n",
       "\n",
       "    .dataframe tbody tr th {\n",
       "        vertical-align: top;\n",
       "    }\n",
       "\n",
       "    .dataframe thead th {\n",
       "        text-align: right;\n",
       "    }\n",
       "</style>\n",
       "<table border=\"1\" class=\"dataframe\">\n",
       "  <thead>\n",
       "    <tr style=\"text-align: right;\">\n",
       "      <th></th>\n",
       "      <th>PassengerId</th>\n",
       "      <th>Pclass</th>\n",
       "      <th>Age</th>\n",
       "      <th>SibSp</th>\n",
       "      <th>Parch</th>\n",
       "      <th>Fare</th>\n",
       "      <th>Sex_male</th>\n",
       "      <th>Embarked_Q</th>\n",
       "      <th>Embarked_S</th>\n",
       "      <th>Cabin_letter_B</th>\n",
       "      <th>Cabin_letter_C</th>\n",
       "      <th>Cabin_letter_D</th>\n",
       "      <th>Cabin_letter_E</th>\n",
       "      <th>Cabin_letter_F</th>\n",
       "      <th>Cabin_letter_G</th>\n",
       "      <th>Cabin_missing</th>\n",
       "      <th>Ticket_freq</th>\n",
       "      <th>Family_size</th>\n",
       "      <th>Age_group_teen</th>\n",
       "      <th>Age_group_young adult</th>\n",
       "      <th>Age_group_adult</th>\n",
       "      <th>Age_group_senior</th>\n",
       "      <th>Age_group_old</th>\n",
       "    </tr>\n",
       "  </thead>\n",
       "  <tbody>\n",
       "    <tr>\n",
       "      <th>0</th>\n",
       "      <td>892</td>\n",
       "      <td>3</td>\n",
       "      <td>34.5</td>\n",
       "      <td>0</td>\n",
       "      <td>0</td>\n",
       "      <td>7.8292</td>\n",
       "      <td>1</td>\n",
       "      <td>1</td>\n",
       "      <td>0</td>\n",
       "      <td>0</td>\n",
       "      <td>0</td>\n",
       "      <td>0</td>\n",
       "      <td>0</td>\n",
       "      <td>0</td>\n",
       "      <td>0</td>\n",
       "      <td>1</td>\n",
       "      <td>1</td>\n",
       "      <td>1</td>\n",
       "      <td>0</td>\n",
       "      <td>1</td>\n",
       "      <td>0</td>\n",
       "      <td>0</td>\n",
       "      <td>0</td>\n",
       "    </tr>\n",
       "    <tr>\n",
       "      <th>1</th>\n",
       "      <td>893</td>\n",
       "      <td>3</td>\n",
       "      <td>47.0</td>\n",
       "      <td>1</td>\n",
       "      <td>0</td>\n",
       "      <td>7.0000</td>\n",
       "      <td>0</td>\n",
       "      <td>0</td>\n",
       "      <td>1</td>\n",
       "      <td>0</td>\n",
       "      <td>0</td>\n",
       "      <td>0</td>\n",
       "      <td>0</td>\n",
       "      <td>0</td>\n",
       "      <td>0</td>\n",
       "      <td>1</td>\n",
       "      <td>1</td>\n",
       "      <td>2</td>\n",
       "      <td>0</td>\n",
       "      <td>0</td>\n",
       "      <td>1</td>\n",
       "      <td>0</td>\n",
       "      <td>0</td>\n",
       "    </tr>\n",
       "    <tr>\n",
       "      <th>2</th>\n",
       "      <td>894</td>\n",
       "      <td>2</td>\n",
       "      <td>62.0</td>\n",
       "      <td>0</td>\n",
       "      <td>0</td>\n",
       "      <td>9.6875</td>\n",
       "      <td>1</td>\n",
       "      <td>1</td>\n",
       "      <td>0</td>\n",
       "      <td>0</td>\n",
       "      <td>0</td>\n",
       "      <td>0</td>\n",
       "      <td>0</td>\n",
       "      <td>0</td>\n",
       "      <td>0</td>\n",
       "      <td>1</td>\n",
       "      <td>1</td>\n",
       "      <td>1</td>\n",
       "      <td>0</td>\n",
       "      <td>0</td>\n",
       "      <td>0</td>\n",
       "      <td>1</td>\n",
       "      <td>0</td>\n",
       "    </tr>\n",
       "    <tr>\n",
       "      <th>3</th>\n",
       "      <td>895</td>\n",
       "      <td>3</td>\n",
       "      <td>27.0</td>\n",
       "      <td>0</td>\n",
       "      <td>0</td>\n",
       "      <td>8.6625</td>\n",
       "      <td>1</td>\n",
       "      <td>0</td>\n",
       "      <td>1</td>\n",
       "      <td>0</td>\n",
       "      <td>0</td>\n",
       "      <td>0</td>\n",
       "      <td>0</td>\n",
       "      <td>0</td>\n",
       "      <td>0</td>\n",
       "      <td>1</td>\n",
       "      <td>1</td>\n",
       "      <td>1</td>\n",
       "      <td>0</td>\n",
       "      <td>1</td>\n",
       "      <td>0</td>\n",
       "      <td>0</td>\n",
       "      <td>0</td>\n",
       "    </tr>\n",
       "    <tr>\n",
       "      <th>4</th>\n",
       "      <td>896</td>\n",
       "      <td>3</td>\n",
       "      <td>22.0</td>\n",
       "      <td>1</td>\n",
       "      <td>1</td>\n",
       "      <td>12.2875</td>\n",
       "      <td>0</td>\n",
       "      <td>0</td>\n",
       "      <td>1</td>\n",
       "      <td>0</td>\n",
       "      <td>0</td>\n",
       "      <td>0</td>\n",
       "      <td>0</td>\n",
       "      <td>0</td>\n",
       "      <td>0</td>\n",
       "      <td>1</td>\n",
       "      <td>1</td>\n",
       "      <td>3</td>\n",
       "      <td>0</td>\n",
       "      <td>1</td>\n",
       "      <td>0</td>\n",
       "      <td>0</td>\n",
       "      <td>0</td>\n",
       "    </tr>\n",
       "  </tbody>\n",
       "</table>\n",
       "</div>"
      ],
      "text/plain": [
       "   PassengerId  Pclass   Age  SibSp  Parch     Fare  Sex_male  Embarked_Q  \\\n",
       "0          892       3  34.5      0      0   7.8292         1           1   \n",
       "1          893       3  47.0      1      0   7.0000         0           0   \n",
       "2          894       2  62.0      0      0   9.6875         1           1   \n",
       "3          895       3  27.0      0      0   8.6625         1           0   \n",
       "4          896       3  22.0      1      1  12.2875         0           0   \n",
       "\n",
       "   Embarked_S  Cabin_letter_B  Cabin_letter_C  Cabin_letter_D  Cabin_letter_E  \\\n",
       "0           0               0               0               0               0   \n",
       "1           1               0               0               0               0   \n",
       "2           0               0               0               0               0   \n",
       "3           1               0               0               0               0   \n",
       "4           1               0               0               0               0   \n",
       "\n",
       "   Cabin_letter_F  Cabin_letter_G  Cabin_missing  Ticket_freq  Family_size  \\\n",
       "0               0               0              1            1            1   \n",
       "1               0               0              1            1            2   \n",
       "2               0               0              1            1            1   \n",
       "3               0               0              1            1            1   \n",
       "4               0               0              1            1            3   \n",
       "\n",
       "   Age_group_teen  Age_group_young adult  Age_group_adult  Age_group_senior  \\\n",
       "0               0                      1                0                 0   \n",
       "1               0                      0                1                 0   \n",
       "2               0                      0                0                 1   \n",
       "3               0                      1                0                 0   \n",
       "4               0                      1                0                 0   \n",
       "\n",
       "   Age_group_old  \n",
       "0              0  \n",
       "1              0  \n",
       "2              0  \n",
       "3              0  \n",
       "4              0  "
      ]
     },
     "execution_count": 60,
     "metadata": {},
     "output_type": "execute_result"
    }
   ],
   "source": [
    "df_test.head()"
   ]
  },
  {
   "cell_type": "markdown",
   "id": "c94549e5",
   "metadata": {
    "papermill": {
     "duration": 0.043823,
     "end_time": "2024-09-05T12:40:28.549637",
     "exception": false,
     "start_time": "2024-09-05T12:40:28.505814",
     "status": "completed"
    },
    "tags": []
   },
   "source": [
    "## d) Removing PassengerId"
   ]
  },
  {
   "cell_type": "code",
   "execution_count": 61,
   "id": "e07c870e",
   "metadata": {
    "execution": {
     "iopub.execute_input": "2024-09-05T12:40:28.638600Z",
     "iopub.status.busy": "2024-09-05T12:40:28.638063Z",
     "iopub.status.idle": "2024-09-05T12:40:28.644739Z",
     "shell.execute_reply": "2024-09-05T12:40:28.643667Z"
    },
    "papermill": {
     "duration": 0.054179,
     "end_time": "2024-09-05T12:40:28.647277",
     "exception": false,
     "start_time": "2024-09-05T12:40:28.593098",
     "status": "completed"
    },
    "tags": []
   },
   "outputs": [],
   "source": [
    "df_copy = df.copy()\n",
    "df_test_copy = df_test.copy()"
   ]
  },
  {
   "cell_type": "code",
   "execution_count": 62,
   "id": "8a25d526",
   "metadata": {
    "execution": {
     "iopub.execute_input": "2024-09-05T12:40:28.738575Z",
     "iopub.status.busy": "2024-09-05T12:40:28.738090Z",
     "iopub.status.idle": "2024-09-05T12:40:28.764076Z",
     "shell.execute_reply": "2024-09-05T12:40:28.762891Z"
    },
    "papermill": {
     "duration": 0.07397,
     "end_time": "2024-09-05T12:40:28.766599",
     "exception": false,
     "start_time": "2024-09-05T12:40:28.692629",
     "status": "completed"
    },
    "tags": []
   },
   "outputs": [
    {
     "data": {
      "text/html": [
       "<div>\n",
       "<style scoped>\n",
       "    .dataframe tbody tr th:only-of-type {\n",
       "        vertical-align: middle;\n",
       "    }\n",
       "\n",
       "    .dataframe tbody tr th {\n",
       "        vertical-align: top;\n",
       "    }\n",
       "\n",
       "    .dataframe thead th {\n",
       "        text-align: right;\n",
       "    }\n",
       "</style>\n",
       "<table border=\"1\" class=\"dataframe\">\n",
       "  <thead>\n",
       "    <tr style=\"text-align: right;\">\n",
       "      <th></th>\n",
       "      <th>Survived</th>\n",
       "      <th>Pclass</th>\n",
       "      <th>Age</th>\n",
       "      <th>SibSp</th>\n",
       "      <th>Parch</th>\n",
       "      <th>Fare</th>\n",
       "      <th>Sex_male</th>\n",
       "      <th>Embarked_Q</th>\n",
       "      <th>Embarked_S</th>\n",
       "      <th>Cabin_letter_B</th>\n",
       "      <th>Cabin_letter_C</th>\n",
       "      <th>Cabin_letter_D</th>\n",
       "      <th>Cabin_letter_E</th>\n",
       "      <th>Cabin_letter_F</th>\n",
       "      <th>Cabin_letter_G</th>\n",
       "      <th>Cabin_missing</th>\n",
       "      <th>Ticket_freq</th>\n",
       "      <th>Family_size</th>\n",
       "      <th>Age_group_teen</th>\n",
       "      <th>Age_group_young adult</th>\n",
       "      <th>Age_group_adult</th>\n",
       "      <th>Age_group_senior</th>\n",
       "      <th>Age_group_old</th>\n",
       "    </tr>\n",
       "  </thead>\n",
       "  <tbody>\n",
       "    <tr>\n",
       "      <th>0</th>\n",
       "      <td>0</td>\n",
       "      <td>3</td>\n",
       "      <td>22.0</td>\n",
       "      <td>1</td>\n",
       "      <td>0</td>\n",
       "      <td>7.2500</td>\n",
       "      <td>1</td>\n",
       "      <td>0</td>\n",
       "      <td>1</td>\n",
       "      <td>0</td>\n",
       "      <td>0</td>\n",
       "      <td>0</td>\n",
       "      <td>0</td>\n",
       "      <td>0</td>\n",
       "      <td>0</td>\n",
       "      <td>1</td>\n",
       "      <td>1</td>\n",
       "      <td>2</td>\n",
       "      <td>0</td>\n",
       "      <td>1</td>\n",
       "      <td>0</td>\n",
       "      <td>0</td>\n",
       "      <td>0</td>\n",
       "    </tr>\n",
       "    <tr>\n",
       "      <th>1</th>\n",
       "      <td>1</td>\n",
       "      <td>1</td>\n",
       "      <td>38.0</td>\n",
       "      <td>1</td>\n",
       "      <td>0</td>\n",
       "      <td>71.2833</td>\n",
       "      <td>0</td>\n",
       "      <td>0</td>\n",
       "      <td>0</td>\n",
       "      <td>0</td>\n",
       "      <td>1</td>\n",
       "      <td>0</td>\n",
       "      <td>0</td>\n",
       "      <td>0</td>\n",
       "      <td>0</td>\n",
       "      <td>0</td>\n",
       "      <td>1</td>\n",
       "      <td>2</td>\n",
       "      <td>0</td>\n",
       "      <td>0</td>\n",
       "      <td>1</td>\n",
       "      <td>0</td>\n",
       "      <td>0</td>\n",
       "    </tr>\n",
       "    <tr>\n",
       "      <th>2</th>\n",
       "      <td>1</td>\n",
       "      <td>3</td>\n",
       "      <td>26.0</td>\n",
       "      <td>0</td>\n",
       "      <td>0</td>\n",
       "      <td>7.9250</td>\n",
       "      <td>0</td>\n",
       "      <td>0</td>\n",
       "      <td>1</td>\n",
       "      <td>0</td>\n",
       "      <td>0</td>\n",
       "      <td>0</td>\n",
       "      <td>0</td>\n",
       "      <td>0</td>\n",
       "      <td>0</td>\n",
       "      <td>1</td>\n",
       "      <td>1</td>\n",
       "      <td>1</td>\n",
       "      <td>0</td>\n",
       "      <td>1</td>\n",
       "      <td>0</td>\n",
       "      <td>0</td>\n",
       "      <td>0</td>\n",
       "    </tr>\n",
       "    <tr>\n",
       "      <th>3</th>\n",
       "      <td>1</td>\n",
       "      <td>1</td>\n",
       "      <td>35.0</td>\n",
       "      <td>1</td>\n",
       "      <td>0</td>\n",
       "      <td>53.1000</td>\n",
       "      <td>0</td>\n",
       "      <td>0</td>\n",
       "      <td>1</td>\n",
       "      <td>0</td>\n",
       "      <td>1</td>\n",
       "      <td>0</td>\n",
       "      <td>0</td>\n",
       "      <td>0</td>\n",
       "      <td>0</td>\n",
       "      <td>0</td>\n",
       "      <td>2</td>\n",
       "      <td>2</td>\n",
       "      <td>0</td>\n",
       "      <td>1</td>\n",
       "      <td>0</td>\n",
       "      <td>0</td>\n",
       "      <td>0</td>\n",
       "    </tr>\n",
       "    <tr>\n",
       "      <th>4</th>\n",
       "      <td>0</td>\n",
       "      <td>3</td>\n",
       "      <td>35.0</td>\n",
       "      <td>0</td>\n",
       "      <td>0</td>\n",
       "      <td>8.0500</td>\n",
       "      <td>1</td>\n",
       "      <td>0</td>\n",
       "      <td>1</td>\n",
       "      <td>0</td>\n",
       "      <td>0</td>\n",
       "      <td>0</td>\n",
       "      <td>0</td>\n",
       "      <td>0</td>\n",
       "      <td>0</td>\n",
       "      <td>1</td>\n",
       "      <td>1</td>\n",
       "      <td>1</td>\n",
       "      <td>0</td>\n",
       "      <td>1</td>\n",
       "      <td>0</td>\n",
       "      <td>0</td>\n",
       "      <td>0</td>\n",
       "    </tr>\n",
       "  </tbody>\n",
       "</table>\n",
       "</div>"
      ],
      "text/plain": [
       "   Survived  Pclass   Age  SibSp  Parch     Fare  Sex_male  Embarked_Q  \\\n",
       "0         0       3  22.0      1      0   7.2500         1           0   \n",
       "1         1       1  38.0      1      0  71.2833         0           0   \n",
       "2         1       3  26.0      0      0   7.9250         0           0   \n",
       "3         1       1  35.0      1      0  53.1000         0           0   \n",
       "4         0       3  35.0      0      0   8.0500         1           0   \n",
       "\n",
       "   Embarked_S  Cabin_letter_B  Cabin_letter_C  Cabin_letter_D  Cabin_letter_E  \\\n",
       "0           1               0               0               0               0   \n",
       "1           0               0               1               0               0   \n",
       "2           1               0               0               0               0   \n",
       "3           1               0               1               0               0   \n",
       "4           1               0               0               0               0   \n",
       "\n",
       "   Cabin_letter_F  Cabin_letter_G  Cabin_missing  Ticket_freq  Family_size  \\\n",
       "0               0               0              1            1            2   \n",
       "1               0               0              0            1            2   \n",
       "2               0               0              1            1            1   \n",
       "3               0               0              0            2            2   \n",
       "4               0               0              1            1            1   \n",
       "\n",
       "   Age_group_teen  Age_group_young adult  Age_group_adult  Age_group_senior  \\\n",
       "0               0                      1                0                 0   \n",
       "1               0                      0                1                 0   \n",
       "2               0                      1                0                 0   \n",
       "3               0                      1                0                 0   \n",
       "4               0                      1                0                 0   \n",
       "\n",
       "   Age_group_old  \n",
       "0              0  \n",
       "1              0  \n",
       "2              0  \n",
       "3              0  \n",
       "4              0  "
      ]
     },
     "execution_count": 62,
     "metadata": {},
     "output_type": "execute_result"
    }
   ],
   "source": [
    "df.pop('PassengerId')\n",
    "df.head()"
   ]
  },
  {
   "cell_type": "code",
   "execution_count": 63,
   "id": "4e4eab5f",
   "metadata": {
    "execution": {
     "iopub.execute_input": "2024-09-05T12:40:28.856291Z",
     "iopub.status.busy": "2024-09-05T12:40:28.855356Z",
     "iopub.status.idle": "2024-09-05T12:40:28.878334Z",
     "shell.execute_reply": "2024-09-05T12:40:28.876923Z"
    },
    "papermill": {
     "duration": 0.070711,
     "end_time": "2024-09-05T12:40:28.881067",
     "exception": false,
     "start_time": "2024-09-05T12:40:28.810356",
     "status": "completed"
    },
    "tags": []
   },
   "outputs": [
    {
     "data": {
      "text/html": [
       "<div>\n",
       "<style scoped>\n",
       "    .dataframe tbody tr th:only-of-type {\n",
       "        vertical-align: middle;\n",
       "    }\n",
       "\n",
       "    .dataframe tbody tr th {\n",
       "        vertical-align: top;\n",
       "    }\n",
       "\n",
       "    .dataframe thead th {\n",
       "        text-align: right;\n",
       "    }\n",
       "</style>\n",
       "<table border=\"1\" class=\"dataframe\">\n",
       "  <thead>\n",
       "    <tr style=\"text-align: right;\">\n",
       "      <th></th>\n",
       "      <th>Pclass</th>\n",
       "      <th>Age</th>\n",
       "      <th>SibSp</th>\n",
       "      <th>Parch</th>\n",
       "      <th>Fare</th>\n",
       "      <th>Sex_male</th>\n",
       "      <th>Embarked_Q</th>\n",
       "      <th>Embarked_S</th>\n",
       "      <th>Cabin_letter_B</th>\n",
       "      <th>Cabin_letter_C</th>\n",
       "      <th>Cabin_letter_D</th>\n",
       "      <th>Cabin_letter_E</th>\n",
       "      <th>Cabin_letter_F</th>\n",
       "      <th>Cabin_letter_G</th>\n",
       "      <th>Cabin_missing</th>\n",
       "      <th>Ticket_freq</th>\n",
       "      <th>Family_size</th>\n",
       "      <th>Age_group_teen</th>\n",
       "      <th>Age_group_young adult</th>\n",
       "      <th>Age_group_adult</th>\n",
       "      <th>Age_group_senior</th>\n",
       "      <th>Age_group_old</th>\n",
       "    </tr>\n",
       "  </thead>\n",
       "  <tbody>\n",
       "    <tr>\n",
       "      <th>0</th>\n",
       "      <td>3</td>\n",
       "      <td>34.5</td>\n",
       "      <td>0</td>\n",
       "      <td>0</td>\n",
       "      <td>7.8292</td>\n",
       "      <td>1</td>\n",
       "      <td>1</td>\n",
       "      <td>0</td>\n",
       "      <td>0</td>\n",
       "      <td>0</td>\n",
       "      <td>0</td>\n",
       "      <td>0</td>\n",
       "      <td>0</td>\n",
       "      <td>0</td>\n",
       "      <td>1</td>\n",
       "      <td>1</td>\n",
       "      <td>1</td>\n",
       "      <td>0</td>\n",
       "      <td>1</td>\n",
       "      <td>0</td>\n",
       "      <td>0</td>\n",
       "      <td>0</td>\n",
       "    </tr>\n",
       "    <tr>\n",
       "      <th>1</th>\n",
       "      <td>3</td>\n",
       "      <td>47.0</td>\n",
       "      <td>1</td>\n",
       "      <td>0</td>\n",
       "      <td>7.0000</td>\n",
       "      <td>0</td>\n",
       "      <td>0</td>\n",
       "      <td>1</td>\n",
       "      <td>0</td>\n",
       "      <td>0</td>\n",
       "      <td>0</td>\n",
       "      <td>0</td>\n",
       "      <td>0</td>\n",
       "      <td>0</td>\n",
       "      <td>1</td>\n",
       "      <td>1</td>\n",
       "      <td>2</td>\n",
       "      <td>0</td>\n",
       "      <td>0</td>\n",
       "      <td>1</td>\n",
       "      <td>0</td>\n",
       "      <td>0</td>\n",
       "    </tr>\n",
       "    <tr>\n",
       "      <th>2</th>\n",
       "      <td>2</td>\n",
       "      <td>62.0</td>\n",
       "      <td>0</td>\n",
       "      <td>0</td>\n",
       "      <td>9.6875</td>\n",
       "      <td>1</td>\n",
       "      <td>1</td>\n",
       "      <td>0</td>\n",
       "      <td>0</td>\n",
       "      <td>0</td>\n",
       "      <td>0</td>\n",
       "      <td>0</td>\n",
       "      <td>0</td>\n",
       "      <td>0</td>\n",
       "      <td>1</td>\n",
       "      <td>1</td>\n",
       "      <td>1</td>\n",
       "      <td>0</td>\n",
       "      <td>0</td>\n",
       "      <td>0</td>\n",
       "      <td>1</td>\n",
       "      <td>0</td>\n",
       "    </tr>\n",
       "    <tr>\n",
       "      <th>3</th>\n",
       "      <td>3</td>\n",
       "      <td>27.0</td>\n",
       "      <td>0</td>\n",
       "      <td>0</td>\n",
       "      <td>8.6625</td>\n",
       "      <td>1</td>\n",
       "      <td>0</td>\n",
       "      <td>1</td>\n",
       "      <td>0</td>\n",
       "      <td>0</td>\n",
       "      <td>0</td>\n",
       "      <td>0</td>\n",
       "      <td>0</td>\n",
       "      <td>0</td>\n",
       "      <td>1</td>\n",
       "      <td>1</td>\n",
       "      <td>1</td>\n",
       "      <td>0</td>\n",
       "      <td>1</td>\n",
       "      <td>0</td>\n",
       "      <td>0</td>\n",
       "      <td>0</td>\n",
       "    </tr>\n",
       "    <tr>\n",
       "      <th>4</th>\n",
       "      <td>3</td>\n",
       "      <td>22.0</td>\n",
       "      <td>1</td>\n",
       "      <td>1</td>\n",
       "      <td>12.2875</td>\n",
       "      <td>0</td>\n",
       "      <td>0</td>\n",
       "      <td>1</td>\n",
       "      <td>0</td>\n",
       "      <td>0</td>\n",
       "      <td>0</td>\n",
       "      <td>0</td>\n",
       "      <td>0</td>\n",
       "      <td>0</td>\n",
       "      <td>1</td>\n",
       "      <td>1</td>\n",
       "      <td>3</td>\n",
       "      <td>0</td>\n",
       "      <td>1</td>\n",
       "      <td>0</td>\n",
       "      <td>0</td>\n",
       "      <td>0</td>\n",
       "    </tr>\n",
       "  </tbody>\n",
       "</table>\n",
       "</div>"
      ],
      "text/plain": [
       "   Pclass   Age  SibSp  Parch     Fare  Sex_male  Embarked_Q  Embarked_S  \\\n",
       "0       3  34.5      0      0   7.8292         1           1           0   \n",
       "1       3  47.0      1      0   7.0000         0           0           1   \n",
       "2       2  62.0      0      0   9.6875         1           1           0   \n",
       "3       3  27.0      0      0   8.6625         1           0           1   \n",
       "4       3  22.0      1      1  12.2875         0           0           1   \n",
       "\n",
       "   Cabin_letter_B  Cabin_letter_C  Cabin_letter_D  Cabin_letter_E  \\\n",
       "0               0               0               0               0   \n",
       "1               0               0               0               0   \n",
       "2               0               0               0               0   \n",
       "3               0               0               0               0   \n",
       "4               0               0               0               0   \n",
       "\n",
       "   Cabin_letter_F  Cabin_letter_G  Cabin_missing  Ticket_freq  Family_size  \\\n",
       "0               0               0              1            1            1   \n",
       "1               0               0              1            1            2   \n",
       "2               0               0              1            1            1   \n",
       "3               0               0              1            1            1   \n",
       "4               0               0              1            1            3   \n",
       "\n",
       "   Age_group_teen  Age_group_young adult  Age_group_adult  Age_group_senior  \\\n",
       "0               0                      1                0                 0   \n",
       "1               0                      0                1                 0   \n",
       "2               0                      0                0                 1   \n",
       "3               0                      1                0                 0   \n",
       "4               0                      1                0                 0   \n",
       "\n",
       "   Age_group_old  \n",
       "0              0  \n",
       "1              0  \n",
       "2              0  \n",
       "3              0  \n",
       "4              0  "
      ]
     },
     "execution_count": 63,
     "metadata": {},
     "output_type": "execute_result"
    }
   ],
   "source": [
    "df_test.pop('PassengerId')\n",
    "df_test.head()"
   ]
  },
  {
   "cell_type": "markdown",
   "id": "aeee0406",
   "metadata": {
    "papermill": {
     "duration": 0.044215,
     "end_time": "2024-09-05T12:40:28.969430",
     "exception": false,
     "start_time": "2024-09-05T12:40:28.925215",
     "status": "completed"
    },
    "tags": []
   },
   "source": [
    "# Model building and evaluation"
   ]
  },
  {
   "cell_type": "markdown",
   "id": "b812f78e",
   "metadata": {
    "papermill": {
     "duration": 0.043644,
     "end_time": "2024-09-05T12:40:29.060603",
     "exception": false,
     "start_time": "2024-09-05T12:40:29.016959",
     "status": "completed"
    },
    "tags": []
   },
   "source": [
    "**Splitting the dataset**"
   ]
  },
  {
   "cell_type": "code",
   "execution_count": 64,
   "id": "bf167402",
   "metadata": {
    "execution": {
     "iopub.execute_input": "2024-09-05T12:40:29.152338Z",
     "iopub.status.busy": "2024-09-05T12:40:29.151881Z",
     "iopub.status.idle": "2024-09-05T12:40:29.159333Z",
     "shell.execute_reply": "2024-09-05T12:40:29.158145Z"
    },
    "papermill": {
     "duration": 0.057207,
     "end_time": "2024-09-05T12:40:29.162171",
     "exception": false,
     "start_time": "2024-09-05T12:40:29.104964",
     "status": "completed"
    },
    "tags": []
   },
   "outputs": [],
   "source": [
    "X = df.drop(['Survived'], axis = 1)\n",
    "y = df['Survived']"
   ]
  },
  {
   "cell_type": "code",
   "execution_count": 65,
   "id": "2e44c23b",
   "metadata": {
    "execution": {
     "iopub.execute_input": "2024-09-05T12:40:29.252522Z",
     "iopub.status.busy": "2024-09-05T12:40:29.252036Z",
     "iopub.status.idle": "2024-09-05T12:40:29.263838Z",
     "shell.execute_reply": "2024-09-05T12:40:29.262560Z"
    },
    "papermill": {
     "duration": 0.06038,
     "end_time": "2024-09-05T12:40:29.266822",
     "exception": false,
     "start_time": "2024-09-05T12:40:29.206442",
     "status": "completed"
    },
    "tags": []
   },
   "outputs": [],
   "source": [
    "X_train, X_val, y_train, y_val = train_test_split(X, y, test_size = 0.2, random_state = 42, stratify = y)"
   ]
  },
  {
   "cell_type": "markdown",
   "id": "b911d955",
   "metadata": {
    "papermill": {
     "duration": 0.045776,
     "end_time": "2024-09-05T12:40:29.361708",
     "exception": false,
     "start_time": "2024-09-05T12:40:29.315932",
     "status": "completed"
    },
    "tags": []
   },
   "source": [
    "## a) Random Forest"
   ]
  },
  {
   "cell_type": "markdown",
   "id": "d29b41f6",
   "metadata": {
    "papermill": {
     "duration": 0.04435,
     "end_time": "2024-09-05T12:40:29.450144",
     "exception": false,
     "start_time": "2024-09-05T12:40:29.405794",
     "status": "completed"
    },
    "tags": []
   },
   "source": [
    "**Hyperparameter Tuning**"
   ]
  },
  {
   "cell_type": "code",
   "execution_count": 66,
   "id": "f476b89e",
   "metadata": {
    "execution": {
     "iopub.execute_input": "2024-09-05T12:40:29.543252Z",
     "iopub.status.busy": "2024-09-05T12:40:29.542795Z",
     "iopub.status.idle": "2024-09-05T12:40:29.549033Z",
     "shell.execute_reply": "2024-09-05T12:40:29.547777Z"
    },
    "papermill": {
     "duration": 0.056575,
     "end_time": "2024-09-05T12:40:29.551687",
     "exception": false,
     "start_time": "2024-09-05T12:40:29.495112",
     "status": "completed"
    },
    "tags": []
   },
   "outputs": [],
   "source": [
    "param_grid = {\n",
    "    'n_estimators': [100, 200],\n",
    "    'max_features': ['sqrt', 'log2', None],\n",
    "    'max_depth': [None, 10, 20],\n",
    "    'min_samples_split': [2, 5],\n",
    "    'min_samples_leaf': [1, 2]\n",
    "}"
   ]
  },
  {
   "cell_type": "code",
   "execution_count": 67,
   "id": "a2a2f4ad",
   "metadata": {
    "execution": {
     "iopub.execute_input": "2024-09-05T12:40:29.643544Z",
     "iopub.status.busy": "2024-09-05T12:40:29.642349Z",
     "iopub.status.idle": "2024-09-05T12:40:29.648129Z",
     "shell.execute_reply": "2024-09-05T12:40:29.646962Z"
    },
    "papermill": {
     "duration": 0.053997,
     "end_time": "2024-09-05T12:40:29.650743",
     "exception": false,
     "start_time": "2024-09-05T12:40:29.596746",
     "status": "completed"
    },
    "tags": []
   },
   "outputs": [],
   "source": [
    "rf = RandomForestClassifier(random_state = 42)"
   ]
  },
  {
   "cell_type": "code",
   "execution_count": 68,
   "id": "88e4b56c",
   "metadata": {
    "execution": {
     "iopub.execute_input": "2024-09-05T12:40:29.742523Z",
     "iopub.status.busy": "2024-09-05T12:40:29.742017Z",
     "iopub.status.idle": "2024-09-05T12:43:15.311219Z",
     "shell.execute_reply": "2024-09-05T12:43:15.309947Z"
    },
    "papermill": {
     "duration": 165.663321,
     "end_time": "2024-09-05T12:43:15.359012",
     "exception": false,
     "start_time": "2024-09-05T12:40:29.695691",
     "status": "completed"
    },
    "tags": []
   },
   "outputs": [
    {
     "name": "stdout",
     "output_type": "stream",
     "text": [
      "CPU times: user 2min 44s, sys: 1.01 s, total: 2min 45s\n",
      "Wall time: 2min 45s\n"
     ]
    },
    {
     "data": {
      "text/html": [
       "<style>#sk-container-id-1 {color: black;background-color: white;}#sk-container-id-1 pre{padding: 0;}#sk-container-id-1 div.sk-toggleable {background-color: white;}#sk-container-id-1 label.sk-toggleable__label {cursor: pointer;display: block;width: 100%;margin-bottom: 0;padding: 0.3em;box-sizing: border-box;text-align: center;}#sk-container-id-1 label.sk-toggleable__label-arrow:before {content: \"▸\";float: left;margin-right: 0.25em;color: #696969;}#sk-container-id-1 label.sk-toggleable__label-arrow:hover:before {color: black;}#sk-container-id-1 div.sk-estimator:hover label.sk-toggleable__label-arrow:before {color: black;}#sk-container-id-1 div.sk-toggleable__content {max-height: 0;max-width: 0;overflow: hidden;text-align: left;background-color: #f0f8ff;}#sk-container-id-1 div.sk-toggleable__content pre {margin: 0.2em;color: black;border-radius: 0.25em;background-color: #f0f8ff;}#sk-container-id-1 input.sk-toggleable__control:checked~div.sk-toggleable__content {max-height: 200px;max-width: 100%;overflow: auto;}#sk-container-id-1 input.sk-toggleable__control:checked~label.sk-toggleable__label-arrow:before {content: \"▾\";}#sk-container-id-1 div.sk-estimator input.sk-toggleable__control:checked~label.sk-toggleable__label {background-color: #d4ebff;}#sk-container-id-1 div.sk-label input.sk-toggleable__control:checked~label.sk-toggleable__label {background-color: #d4ebff;}#sk-container-id-1 input.sk-hidden--visually {border: 0;clip: rect(1px 1px 1px 1px);clip: rect(1px, 1px, 1px, 1px);height: 1px;margin: -1px;overflow: hidden;padding: 0;position: absolute;width: 1px;}#sk-container-id-1 div.sk-estimator {font-family: monospace;background-color: #f0f8ff;border: 1px dotted black;border-radius: 0.25em;box-sizing: border-box;margin-bottom: 0.5em;}#sk-container-id-1 div.sk-estimator:hover {background-color: #d4ebff;}#sk-container-id-1 div.sk-parallel-item::after {content: \"\";width: 100%;border-bottom: 1px solid gray;flex-grow: 1;}#sk-container-id-1 div.sk-label:hover label.sk-toggleable__label {background-color: #d4ebff;}#sk-container-id-1 div.sk-serial::before {content: \"\";position: absolute;border-left: 1px solid gray;box-sizing: border-box;top: 0;bottom: 0;left: 50%;z-index: 0;}#sk-container-id-1 div.sk-serial {display: flex;flex-direction: column;align-items: center;background-color: white;padding-right: 0.2em;padding-left: 0.2em;position: relative;}#sk-container-id-1 div.sk-item {position: relative;z-index: 1;}#sk-container-id-1 div.sk-parallel {display: flex;align-items: stretch;justify-content: center;background-color: white;position: relative;}#sk-container-id-1 div.sk-item::before, #sk-container-id-1 div.sk-parallel-item::before {content: \"\";position: absolute;border-left: 1px solid gray;box-sizing: border-box;top: 0;bottom: 0;left: 50%;z-index: -1;}#sk-container-id-1 div.sk-parallel-item {display: flex;flex-direction: column;z-index: 1;position: relative;background-color: white;}#sk-container-id-1 div.sk-parallel-item:first-child::after {align-self: flex-end;width: 50%;}#sk-container-id-1 div.sk-parallel-item:last-child::after {align-self: flex-start;width: 50%;}#sk-container-id-1 div.sk-parallel-item:only-child::after {width: 0;}#sk-container-id-1 div.sk-dashed-wrapped {border: 1px dashed gray;margin: 0 0.4em 0.5em 0.4em;box-sizing: border-box;padding-bottom: 0.4em;background-color: white;}#sk-container-id-1 div.sk-label label {font-family: monospace;font-weight: bold;display: inline-block;line-height: 1.2em;}#sk-container-id-1 div.sk-label-container {text-align: center;}#sk-container-id-1 div.sk-container {/* jupyter's `normalize.less` sets `[hidden] { display: none; }` but bootstrap.min.css set `[hidden] { display: none !important; }` so we also need the `!important` here to be able to override the default hidden behavior on the sphinx rendered scikit-learn.org. See: https://github.com/scikit-learn/scikit-learn/issues/21755 */display: inline-block !important;position: relative;}#sk-container-id-1 div.sk-text-repr-fallback {display: none;}</style><div id=\"sk-container-id-1\" class=\"sk-top-container\"><div class=\"sk-text-repr-fallback\"><pre>GridSearchCV(cv=5, estimator=RandomForestClassifier(random_state=42),\n",
       "             param_grid={&#x27;max_depth&#x27;: [None, 10, 20],\n",
       "                         &#x27;max_features&#x27;: [&#x27;sqrt&#x27;, &#x27;log2&#x27;, None],\n",
       "                         &#x27;min_samples_leaf&#x27;: [1, 2],\n",
       "                         &#x27;min_samples_split&#x27;: [2, 5],\n",
       "                         &#x27;n_estimators&#x27;: [100, 200]},\n",
       "             scoring=&#x27;accuracy&#x27;)</pre><b>In a Jupyter environment, please rerun this cell to show the HTML representation or trust the notebook. <br />On GitHub, the HTML representation is unable to render, please try loading this page with nbviewer.org.</b></div><div class=\"sk-container\" hidden><div class=\"sk-item sk-dashed-wrapped\"><div class=\"sk-label-container\"><div class=\"sk-label sk-toggleable\"><input class=\"sk-toggleable__control sk-hidden--visually\" id=\"sk-estimator-id-1\" type=\"checkbox\" ><label for=\"sk-estimator-id-1\" class=\"sk-toggleable__label sk-toggleable__label-arrow\">GridSearchCV</label><div class=\"sk-toggleable__content\"><pre>GridSearchCV(cv=5, estimator=RandomForestClassifier(random_state=42),\n",
       "             param_grid={&#x27;max_depth&#x27;: [None, 10, 20],\n",
       "                         &#x27;max_features&#x27;: [&#x27;sqrt&#x27;, &#x27;log2&#x27;, None],\n",
       "                         &#x27;min_samples_leaf&#x27;: [1, 2],\n",
       "                         &#x27;min_samples_split&#x27;: [2, 5],\n",
       "                         &#x27;n_estimators&#x27;: [100, 200]},\n",
       "             scoring=&#x27;accuracy&#x27;)</pre></div></div></div><div class=\"sk-parallel\"><div class=\"sk-parallel-item\"><div class=\"sk-item\"><div class=\"sk-label-container\"><div class=\"sk-label sk-toggleable\"><input class=\"sk-toggleable__control sk-hidden--visually\" id=\"sk-estimator-id-2\" type=\"checkbox\" ><label for=\"sk-estimator-id-2\" class=\"sk-toggleable__label sk-toggleable__label-arrow\">estimator: RandomForestClassifier</label><div class=\"sk-toggleable__content\"><pre>RandomForestClassifier(random_state=42)</pre></div></div></div><div class=\"sk-serial\"><div class=\"sk-item\"><div class=\"sk-estimator sk-toggleable\"><input class=\"sk-toggleable__control sk-hidden--visually\" id=\"sk-estimator-id-3\" type=\"checkbox\" ><label for=\"sk-estimator-id-3\" class=\"sk-toggleable__label sk-toggleable__label-arrow\">RandomForestClassifier</label><div class=\"sk-toggleable__content\"><pre>RandomForestClassifier(random_state=42)</pre></div></div></div></div></div></div></div></div></div></div>"
      ],
      "text/plain": [
       "GridSearchCV(cv=5, estimator=RandomForestClassifier(random_state=42),\n",
       "             param_grid={'max_depth': [None, 10, 20],\n",
       "                         'max_features': ['sqrt', 'log2', None],\n",
       "                         'min_samples_leaf': [1, 2],\n",
       "                         'min_samples_split': [2, 5],\n",
       "                         'n_estimators': [100, 200]},\n",
       "             scoring='accuracy')"
      ]
     },
     "execution_count": 68,
     "metadata": {},
     "output_type": "execute_result"
    }
   ],
   "source": [
    "%%time\n",
    "\n",
    "grid_search = GridSearchCV(\n",
    "    estimator = rf,\n",
    "    param_grid = param_grid,\n",
    "    cv = 5,\n",
    "    scoring = 'accuracy'\n",
    ")\n",
    "\n",
    "grid_search.fit(X_train, y_train)"
   ]
  },
  {
   "cell_type": "code",
   "execution_count": 69,
   "id": "39870570",
   "metadata": {
    "execution": {
     "iopub.execute_input": "2024-09-05T12:43:15.452604Z",
     "iopub.status.busy": "2024-09-05T12:43:15.452098Z",
     "iopub.status.idle": "2024-09-05T12:43:15.459212Z",
     "shell.execute_reply": "2024-09-05T12:43:15.458065Z"
    },
    "papermill": {
     "duration": 0.057263,
     "end_time": "2024-09-05T12:43:15.461874",
     "exception": false,
     "start_time": "2024-09-05T12:43:15.404611",
     "status": "completed"
    },
    "tags": []
   },
   "outputs": [
    {
     "name": "stdout",
     "output_type": "stream",
     "text": [
      "0.8267605633802816\n",
      "{'max_depth': None, 'max_features': None, 'min_samples_leaf': 2, 'min_samples_split': 5, 'n_estimators': 100}\n",
      "RandomForestClassifier(max_features=None, min_samples_leaf=2,\n",
      "                       min_samples_split=5, random_state=42)\n"
     ]
    }
   ],
   "source": [
    "print(grid_search.best_score_)\n",
    "print(grid_search.best_params_)\n",
    "print(grid_search.best_estimator_)"
   ]
  },
  {
   "cell_type": "code",
   "execution_count": 70,
   "id": "3c80336b",
   "metadata": {
    "execution": {
     "iopub.execute_input": "2024-09-05T12:43:15.555338Z",
     "iopub.status.busy": "2024-09-05T12:43:15.554595Z",
     "iopub.status.idle": "2024-09-05T12:43:15.560535Z",
     "shell.execute_reply": "2024-09-05T12:43:15.559179Z"
    },
    "papermill": {
     "duration": 0.055216,
     "end_time": "2024-09-05T12:43:15.563055",
     "exception": false,
     "start_time": "2024-09-05T12:43:15.507839",
     "status": "completed"
    },
    "tags": []
   },
   "outputs": [],
   "source": [
    "best_rf = grid_search.best_estimator_"
   ]
  },
  {
   "cell_type": "code",
   "execution_count": 71,
   "id": "780b3eff",
   "metadata": {
    "execution": {
     "iopub.execute_input": "2024-09-05T12:43:15.656496Z",
     "iopub.status.busy": "2024-09-05T12:43:15.656042Z",
     "iopub.status.idle": "2024-09-05T12:43:15.674681Z",
     "shell.execute_reply": "2024-09-05T12:43:15.673545Z"
    },
    "papermill": {
     "duration": 0.068621,
     "end_time": "2024-09-05T12:43:15.677623",
     "exception": false,
     "start_time": "2024-09-05T12:43:15.609002",
     "status": "completed"
    },
    "tags": []
   },
   "outputs": [],
   "source": [
    "y_pred = best_rf.predict(X_val)"
   ]
  },
  {
   "cell_type": "markdown",
   "id": "90096161",
   "metadata": {
    "papermill": {
     "duration": 0.044646,
     "end_time": "2024-09-05T12:43:15.767759",
     "exception": false,
     "start_time": "2024-09-05T12:43:15.723113",
     "status": "completed"
    },
    "tags": []
   },
   "source": [
    "### Evaluation"
   ]
  },
  {
   "cell_type": "markdown",
   "id": "395d9166",
   "metadata": {
    "papermill": {
     "duration": 0.04554,
     "end_time": "2024-09-05T12:43:15.858689",
     "exception": false,
     "start_time": "2024-09-05T12:43:15.813149",
     "status": "completed"
    },
    "tags": []
   },
   "source": [
    "**1. Permutation importance**"
   ]
  },
  {
   "cell_type": "code",
   "execution_count": 72,
   "id": "09728415",
   "metadata": {
    "execution": {
     "iopub.execute_input": "2024-09-05T12:43:15.950486Z",
     "iopub.status.busy": "2024-09-05T12:43:15.950006Z",
     "iopub.status.idle": "2024-09-05T12:43:17.351755Z",
     "shell.execute_reply": "2024-09-05T12:43:17.350493Z"
    },
    "papermill": {
     "duration": 1.451261,
     "end_time": "2024-09-05T12:43:17.354909",
     "exception": false,
     "start_time": "2024-09-05T12:43:15.903648",
     "status": "completed"
    },
    "tags": []
   },
   "outputs": [
    {
     "data": {
      "text/html": [
       "<style>#sk-container-id-2 {color: black;background-color: white;}#sk-container-id-2 pre{padding: 0;}#sk-container-id-2 div.sk-toggleable {background-color: white;}#sk-container-id-2 label.sk-toggleable__label {cursor: pointer;display: block;width: 100%;margin-bottom: 0;padding: 0.3em;box-sizing: border-box;text-align: center;}#sk-container-id-2 label.sk-toggleable__label-arrow:before {content: \"▸\";float: left;margin-right: 0.25em;color: #696969;}#sk-container-id-2 label.sk-toggleable__label-arrow:hover:before {color: black;}#sk-container-id-2 div.sk-estimator:hover label.sk-toggleable__label-arrow:before {color: black;}#sk-container-id-2 div.sk-toggleable__content {max-height: 0;max-width: 0;overflow: hidden;text-align: left;background-color: #f0f8ff;}#sk-container-id-2 div.sk-toggleable__content pre {margin: 0.2em;color: black;border-radius: 0.25em;background-color: #f0f8ff;}#sk-container-id-2 input.sk-toggleable__control:checked~div.sk-toggleable__content {max-height: 200px;max-width: 100%;overflow: auto;}#sk-container-id-2 input.sk-toggleable__control:checked~label.sk-toggleable__label-arrow:before {content: \"▾\";}#sk-container-id-2 div.sk-estimator input.sk-toggleable__control:checked~label.sk-toggleable__label {background-color: #d4ebff;}#sk-container-id-2 div.sk-label input.sk-toggleable__control:checked~label.sk-toggleable__label {background-color: #d4ebff;}#sk-container-id-2 input.sk-hidden--visually {border: 0;clip: rect(1px 1px 1px 1px);clip: rect(1px, 1px, 1px, 1px);height: 1px;margin: -1px;overflow: hidden;padding: 0;position: absolute;width: 1px;}#sk-container-id-2 div.sk-estimator {font-family: monospace;background-color: #f0f8ff;border: 1px dotted black;border-radius: 0.25em;box-sizing: border-box;margin-bottom: 0.5em;}#sk-container-id-2 div.sk-estimator:hover {background-color: #d4ebff;}#sk-container-id-2 div.sk-parallel-item::after {content: \"\";width: 100%;border-bottom: 1px solid gray;flex-grow: 1;}#sk-container-id-2 div.sk-label:hover label.sk-toggleable__label {background-color: #d4ebff;}#sk-container-id-2 div.sk-serial::before {content: \"\";position: absolute;border-left: 1px solid gray;box-sizing: border-box;top: 0;bottom: 0;left: 50%;z-index: 0;}#sk-container-id-2 div.sk-serial {display: flex;flex-direction: column;align-items: center;background-color: white;padding-right: 0.2em;padding-left: 0.2em;position: relative;}#sk-container-id-2 div.sk-item {position: relative;z-index: 1;}#sk-container-id-2 div.sk-parallel {display: flex;align-items: stretch;justify-content: center;background-color: white;position: relative;}#sk-container-id-2 div.sk-item::before, #sk-container-id-2 div.sk-parallel-item::before {content: \"\";position: absolute;border-left: 1px solid gray;box-sizing: border-box;top: 0;bottom: 0;left: 50%;z-index: -1;}#sk-container-id-2 div.sk-parallel-item {display: flex;flex-direction: column;z-index: 1;position: relative;background-color: white;}#sk-container-id-2 div.sk-parallel-item:first-child::after {align-self: flex-end;width: 50%;}#sk-container-id-2 div.sk-parallel-item:last-child::after {align-self: flex-start;width: 50%;}#sk-container-id-2 div.sk-parallel-item:only-child::after {width: 0;}#sk-container-id-2 div.sk-dashed-wrapped {border: 1px dashed gray;margin: 0 0.4em 0.5em 0.4em;box-sizing: border-box;padding-bottom: 0.4em;background-color: white;}#sk-container-id-2 div.sk-label label {font-family: monospace;font-weight: bold;display: inline-block;line-height: 1.2em;}#sk-container-id-2 div.sk-label-container {text-align: center;}#sk-container-id-2 div.sk-container {/* jupyter's `normalize.less` sets `[hidden] { display: none; }` but bootstrap.min.css set `[hidden] { display: none !important; }` so we also need the `!important` here to be able to override the default hidden behavior on the sphinx rendered scikit-learn.org. See: https://github.com/scikit-learn/scikit-learn/issues/21755 */display: inline-block !important;position: relative;}#sk-container-id-2 div.sk-text-repr-fallback {display: none;}</style><div id=\"sk-container-id-2\" class=\"sk-top-container\"><div class=\"sk-text-repr-fallback\"><pre>PermutationImportance(estimator=RandomForestClassifier(max_features=None,\n",
       "                                                       min_samples_leaf=2,\n",
       "                                                       min_samples_split=5,\n",
       "                                                       random_state=42),\n",
       "                      random_state=42)</pre><b>In a Jupyter environment, please rerun this cell to show the HTML representation or trust the notebook. <br />On GitHub, the HTML representation is unable to render, please try loading this page with nbviewer.org.</b></div><div class=\"sk-container\" hidden><div class=\"sk-item sk-dashed-wrapped\"><div class=\"sk-label-container\"><div class=\"sk-label sk-toggleable\"><input class=\"sk-toggleable__control sk-hidden--visually\" id=\"sk-estimator-id-4\" type=\"checkbox\" ><label for=\"sk-estimator-id-4\" class=\"sk-toggleable__label sk-toggleable__label-arrow\">PermutationImportance</label><div class=\"sk-toggleable__content\"><pre>PermutationImportance(estimator=RandomForestClassifier(max_features=None,\n",
       "                                                       min_samples_leaf=2,\n",
       "                                                       min_samples_split=5,\n",
       "                                                       random_state=42),\n",
       "                      random_state=42)</pre></div></div></div><div class=\"sk-parallel\"><div class=\"sk-parallel-item\"><div class=\"sk-item\"><div class=\"sk-label-container\"><div class=\"sk-label sk-toggleable\"><input class=\"sk-toggleable__control sk-hidden--visually\" id=\"sk-estimator-id-5\" type=\"checkbox\" ><label for=\"sk-estimator-id-5\" class=\"sk-toggleable__label sk-toggleable__label-arrow\">estimator: RandomForestClassifier</label><div class=\"sk-toggleable__content\"><pre>RandomForestClassifier(max_features=None, min_samples_leaf=2,\n",
       "                       min_samples_split=5, random_state=42)</pre></div></div></div><div class=\"sk-serial\"><div class=\"sk-item\"><div class=\"sk-estimator sk-toggleable\"><input class=\"sk-toggleable__control sk-hidden--visually\" id=\"sk-estimator-id-6\" type=\"checkbox\" ><label for=\"sk-estimator-id-6\" class=\"sk-toggleable__label sk-toggleable__label-arrow\">RandomForestClassifier</label><div class=\"sk-toggleable__content\"><pre>RandomForestClassifier(max_features=None, min_samples_leaf=2,\n",
       "                       min_samples_split=5, random_state=42)</pre></div></div></div></div></div></div></div></div></div></div>"
      ],
      "text/plain": [
       "PermutationImportance(estimator=RandomForestClassifier(max_features=None,\n",
       "                                                       min_samples_leaf=2,\n",
       "                                                       min_samples_split=5,\n",
       "                                                       random_state=42),\n",
       "                      random_state=42)"
      ]
     },
     "execution_count": 72,
     "metadata": {},
     "output_type": "execute_result"
    }
   ],
   "source": [
    "perm = PermutationImportance(best_rf, random_state = 42)\n",
    "perm.fit(X_val, y_val)"
   ]
  },
  {
   "cell_type": "code",
   "execution_count": 73,
   "id": "1fb8f958",
   "metadata": {
    "execution": {
     "iopub.execute_input": "2024-09-05T12:43:17.448292Z",
     "iopub.status.busy": "2024-09-05T12:43:17.447878Z",
     "iopub.status.idle": "2024-09-05T12:43:17.490206Z",
     "shell.execute_reply": "2024-09-05T12:43:17.489041Z"
    },
    "papermill": {
     "duration": 0.092273,
     "end_time": "2024-09-05T12:43:17.493038",
     "exception": false,
     "start_time": "2024-09-05T12:43:17.400765",
     "status": "completed"
    },
    "tags": []
   },
   "outputs": [
    {
     "data": {
      "text/html": [
       "\n",
       "    <style>\n",
       "    table.eli5-weights tr:hover {\n",
       "        filter: brightness(85%);\n",
       "    }\n",
       "</style>\n",
       "\n",
       "\n",
       "\n",
       "    \n",
       "\n",
       "    \n",
       "\n",
       "    \n",
       "\n",
       "    \n",
       "\n",
       "    \n",
       "\n",
       "    \n",
       "\n",
       "\n",
       "    \n",
       "\n",
       "    \n",
       "\n",
       "    \n",
       "\n",
       "    \n",
       "\n",
       "    \n",
       "\n",
       "    \n",
       "\n",
       "\n",
       "    \n",
       "\n",
       "    \n",
       "\n",
       "    \n",
       "\n",
       "    \n",
       "\n",
       "    \n",
       "        <table class=\"eli5-weights eli5-feature-importances\" style=\"border-collapse: collapse; border: none; margin-top: 0em; table-layout: auto;\">\n",
       "    <thead>\n",
       "    <tr style=\"border: none;\">\n",
       "        <th style=\"padding: 0 1em 0 0.5em; text-align: right; border: none;\">Weight</th>\n",
       "        <th style=\"padding: 0 0.5em 0 0.5em; text-align: left; border: none;\">Feature</th>\n",
       "    </tr>\n",
       "    </thead>\n",
       "    <tbody>\n",
       "    \n",
       "        <tr style=\"background-color: hsl(120, 100.00%, 80.00%); border: none;\">\n",
       "            <td style=\"padding: 0 1em 0 0.5em; text-align: right; border: none;\">\n",
       "                0.1652\n",
       "                \n",
       "                    &plusmn; 0.0453\n",
       "                \n",
       "            </td>\n",
       "            <td style=\"padding: 0 0.5em 0 0.5em; text-align: left; border: none;\">\n",
       "                Sex_male\n",
       "            </td>\n",
       "        </tr>\n",
       "    \n",
       "        <tr style=\"background-color: hsl(120, 100.00%, 85.05%); border: none;\">\n",
       "            <td style=\"padding: 0 1em 0 0.5em; text-align: right; border: none;\">\n",
       "                0.1090\n",
       "                \n",
       "                    &plusmn; 0.0183\n",
       "                \n",
       "            </td>\n",
       "            <td style=\"padding: 0 0.5em 0 0.5em; text-align: left; border: none;\">\n",
       "                Pclass\n",
       "            </td>\n",
       "        </tr>\n",
       "    \n",
       "        <tr style=\"background-color: hsl(120, 100.00%, 93.58%); border: none;\">\n",
       "            <td style=\"padding: 0 1em 0 0.5em; text-align: right; border: none;\">\n",
       "                0.0326\n",
       "                \n",
       "                    &plusmn; 0.0279\n",
       "                \n",
       "            </td>\n",
       "            <td style=\"padding: 0 0.5em 0 0.5em; text-align: left; border: none;\">\n",
       "                Age\n",
       "            </td>\n",
       "        </tr>\n",
       "    \n",
       "        <tr style=\"background-color: hsl(120, 100.00%, 97.87%); border: none;\">\n",
       "            <td style=\"padding: 0 1em 0 0.5em; text-align: right; border: none;\">\n",
       "                0.0067\n",
       "                \n",
       "                    &plusmn; 0.0131\n",
       "                \n",
       "            </td>\n",
       "            <td style=\"padding: 0 0.5em 0 0.5em; text-align: left; border: none;\">\n",
       "                Cabin_letter_E\n",
       "            </td>\n",
       "        </tr>\n",
       "    \n",
       "        <tr style=\"background-color: hsl(120, 100.00%, 98.12%); border: none;\">\n",
       "            <td style=\"padding: 0 1em 0 0.5em; text-align: right; border: none;\">\n",
       "                0.0056\n",
       "                \n",
       "                    &plusmn; 0.0188\n",
       "                \n",
       "            </td>\n",
       "            <td style=\"padding: 0 0.5em 0 0.5em; text-align: left; border: none;\">\n",
       "                Fare\n",
       "            </td>\n",
       "        </tr>\n",
       "    \n",
       "        <tr style=\"background-color: hsl(120, 100.00%, 98.69%); border: none;\">\n",
       "            <td style=\"padding: 0 1em 0 0.5em; text-align: right; border: none;\">\n",
       "                0.0034\n",
       "                \n",
       "                    &plusmn; 0.0220\n",
       "                \n",
       "            </td>\n",
       "            <td style=\"padding: 0 0.5em 0 0.5em; text-align: left; border: none;\">\n",
       "                Ticket_freq\n",
       "            </td>\n",
       "        </tr>\n",
       "    \n",
       "        <tr style=\"background-color: hsl(120, 100.00%, 99.01%); border: none;\">\n",
       "            <td style=\"padding: 0 1em 0 0.5em; text-align: right; border: none;\">\n",
       "                0.0022\n",
       "                \n",
       "                    &plusmn; 0.0055\n",
       "                \n",
       "            </td>\n",
       "            <td style=\"padding: 0 0.5em 0 0.5em; text-align: left; border: none;\">\n",
       "                Age_group_young adult\n",
       "            </td>\n",
       "        </tr>\n",
       "    \n",
       "        <tr style=\"background-color: hsl(120, 100.00%, 99.39%); border: none;\">\n",
       "            <td style=\"padding: 0 1em 0 0.5em; text-align: right; border: none;\">\n",
       "                0.0011\n",
       "                \n",
       "                    &plusmn; 0.0045\n",
       "                \n",
       "            </td>\n",
       "            <td style=\"padding: 0 0.5em 0 0.5em; text-align: left; border: none;\">\n",
       "                Embarked_Q\n",
       "            </td>\n",
       "        </tr>\n",
       "    \n",
       "        <tr style=\"background-color: hsl(120, 100.00%, 99.39%); border: none;\">\n",
       "            <td style=\"padding: 0 1em 0 0.5em; text-align: right; border: none;\">\n",
       "                0.0011\n",
       "                \n",
       "                    &plusmn; 0.0131\n",
       "                \n",
       "            </td>\n",
       "            <td style=\"padding: 0 0.5em 0 0.5em; text-align: left; border: none;\">\n",
       "                Embarked_S\n",
       "            </td>\n",
       "        </tr>\n",
       "    \n",
       "        <tr style=\"background-color: hsl(0, 100.00%, 100.00%); border: none;\">\n",
       "            <td style=\"padding: 0 1em 0 0.5em; text-align: right; border: none;\">\n",
       "                0\n",
       "                \n",
       "                    &plusmn; 0.0000\n",
       "                \n",
       "            </td>\n",
       "            <td style=\"padding: 0 0.5em 0 0.5em; text-align: left; border: none;\">\n",
       "                Age_group_teen\n",
       "            </td>\n",
       "        </tr>\n",
       "    \n",
       "        <tr style=\"background-color: hsl(0, 100.00%, 100.00%); border: none;\">\n",
       "            <td style=\"padding: 0 1em 0 0.5em; text-align: right; border: none;\">\n",
       "                0\n",
       "                \n",
       "                    &plusmn; 0.0000\n",
       "                \n",
       "            </td>\n",
       "            <td style=\"padding: 0 0.5em 0 0.5em; text-align: left; border: none;\">\n",
       "                Cabin_letter_G\n",
       "            </td>\n",
       "        </tr>\n",
       "    \n",
       "        <tr style=\"background-color: hsl(0, 100.00%, 100.00%); border: none;\">\n",
       "            <td style=\"padding: 0 1em 0 0.5em; text-align: right; border: none;\">\n",
       "                0\n",
       "                \n",
       "                    &plusmn; 0.0000\n",
       "                \n",
       "            </td>\n",
       "            <td style=\"padding: 0 0.5em 0 0.5em; text-align: left; border: none;\">\n",
       "                Age_group_old\n",
       "            </td>\n",
       "        </tr>\n",
       "    \n",
       "        <tr style=\"background-color: hsl(0, 100.00%, 100.00%); border: none;\">\n",
       "            <td style=\"padding: 0 1em 0 0.5em; text-align: right; border: none;\">\n",
       "                0\n",
       "                \n",
       "                    &plusmn; 0.0000\n",
       "                \n",
       "            </td>\n",
       "            <td style=\"padding: 0 0.5em 0 0.5em; text-align: left; border: none;\">\n",
       "                Age_group_senior\n",
       "            </td>\n",
       "        </tr>\n",
       "    \n",
       "        <tr style=\"background-color: hsl(0, 100.00%, 100.00%); border: none;\">\n",
       "            <td style=\"padding: 0 1em 0 0.5em; text-align: right; border: none;\">\n",
       "                0\n",
       "                \n",
       "                    &plusmn; 0.0000\n",
       "                \n",
       "            </td>\n",
       "            <td style=\"padding: 0 0.5em 0 0.5em; text-align: left; border: none;\">\n",
       "                Cabin_letter_D\n",
       "            </td>\n",
       "        </tr>\n",
       "    \n",
       "        <tr style=\"background-color: hsl(0, 100.00%, 100.00%); border: none;\">\n",
       "            <td style=\"padding: 0 1em 0 0.5em; text-align: right; border: none;\">\n",
       "                0\n",
       "                \n",
       "                    &plusmn; 0.0000\n",
       "                \n",
       "            </td>\n",
       "            <td style=\"padding: 0 0.5em 0 0.5em; text-align: left; border: none;\">\n",
       "                Cabin_letter_C\n",
       "            </td>\n",
       "        </tr>\n",
       "    \n",
       "        <tr style=\"background-color: hsl(0, 100.00%, 100.00%); border: none;\">\n",
       "            <td style=\"padding: 0 1em 0 0.5em; text-align: right; border: none;\">\n",
       "                0.0000\n",
       "                \n",
       "                    &plusmn; 0.0100\n",
       "                \n",
       "            </td>\n",
       "            <td style=\"padding: 0 0.5em 0 0.5em; text-align: left; border: none;\">\n",
       "                Parch\n",
       "            </td>\n",
       "        </tr>\n",
       "    \n",
       "        <tr style=\"background-color: hsl(0, 100.00%, 100.00%); border: none;\">\n",
       "            <td style=\"padding: 0 1em 0 0.5em; text-align: right; border: none;\">\n",
       "                0\n",
       "                \n",
       "                    &plusmn; 0.0000\n",
       "                \n",
       "            </td>\n",
       "            <td style=\"padding: 0 0.5em 0 0.5em; text-align: left; border: none;\">\n",
       "                Cabin_letter_F\n",
       "            </td>\n",
       "        </tr>\n",
       "    \n",
       "        <tr style=\"background-color: hsl(0, 100.00%, 99.39%); border: none;\">\n",
       "            <td style=\"padding: 0 1em 0 0.5em; text-align: right; border: none;\">\n",
       "                -0.0011\n",
       "                \n",
       "                    &plusmn; 0.0131\n",
       "                \n",
       "            </td>\n",
       "            <td style=\"padding: 0 0.5em 0 0.5em; text-align: left; border: none;\">\n",
       "                Family_size\n",
       "            </td>\n",
       "        </tr>\n",
       "    \n",
       "        <tr style=\"background-color: hsl(0, 100.00%, 99.39%); border: none;\">\n",
       "            <td style=\"padding: 0 1em 0 0.5em; text-align: right; border: none;\">\n",
       "                -0.0011\n",
       "                \n",
       "                    &plusmn; 0.0045\n",
       "                \n",
       "            </td>\n",
       "            <td style=\"padding: 0 0.5em 0 0.5em; text-align: left; border: none;\">\n",
       "                Cabin_letter_B\n",
       "            </td>\n",
       "        </tr>\n",
       "    \n",
       "        <tr style=\"background-color: hsl(0, 100.00%, 98.40%); border: none;\">\n",
       "            <td style=\"padding: 0 1em 0 0.5em; text-align: right; border: none;\">\n",
       "                -0.0045\n",
       "                \n",
       "                    &plusmn; 0.0084\n",
       "                \n",
       "            </td>\n",
       "            <td style=\"padding: 0 0.5em 0 0.5em; text-align: left; border: none;\">\n",
       "                Age_group_adult\n",
       "            </td>\n",
       "        </tr>\n",
       "    \n",
       "    \n",
       "        \n",
       "            <tr style=\"background-color: hsl(0, 100.00%, 98.40%); border: none;\">\n",
       "                <td colspan=\"2\" style=\"padding: 0 0.5em 0 0.5em; text-align: center; border: none; white-space: nowrap;\">\n",
       "                    <i>&hellip; 2 more &hellip;</i>\n",
       "                </td>\n",
       "            </tr>\n",
       "        \n",
       "    \n",
       "    </tbody>\n",
       "</table>\n",
       "    \n",
       "\n",
       "    \n",
       "\n",
       "\n",
       "    \n",
       "\n",
       "    \n",
       "\n",
       "    \n",
       "\n",
       "    \n",
       "\n",
       "    \n",
       "\n",
       "    \n",
       "\n",
       "\n",
       "\n"
      ],
      "text/plain": [
       "<IPython.core.display.HTML object>"
      ]
     },
     "execution_count": 73,
     "metadata": {},
     "output_type": "execute_result"
    }
   ],
   "source": [
    "eli5.show_weights(perm, feature_names = X_val.columns.tolist())"
   ]
  },
  {
   "cell_type": "markdown",
   "id": "a764e51f",
   "metadata": {
    "papermill": {
     "duration": 0.048429,
     "end_time": "2024-09-05T12:43:17.587727",
     "exception": false,
     "start_time": "2024-09-05T12:43:17.539298",
     "status": "completed"
    },
    "tags": []
   },
   "source": [
    "**2. Feature importance**"
   ]
  },
  {
   "cell_type": "code",
   "execution_count": 74,
   "id": "3fdd714d",
   "metadata": {
    "execution": {
     "iopub.execute_input": "2024-09-05T12:43:17.683391Z",
     "iopub.status.busy": "2024-09-05T12:43:17.682964Z",
     "iopub.status.idle": "2024-09-05T12:43:17.705441Z",
     "shell.execute_reply": "2024-09-05T12:43:17.704073Z"
    },
    "papermill": {
     "duration": 0.073248,
     "end_time": "2024-09-05T12:43:17.708062",
     "exception": false,
     "start_time": "2024-09-05T12:43:17.634814",
     "status": "completed"
    },
    "tags": []
   },
   "outputs": [
    {
     "data": {
      "text/html": [
       "<div>\n",
       "<style scoped>\n",
       "    .dataframe tbody tr th:only-of-type {\n",
       "        vertical-align: middle;\n",
       "    }\n",
       "\n",
       "    .dataframe tbody tr th {\n",
       "        vertical-align: top;\n",
       "    }\n",
       "\n",
       "    .dataframe thead th {\n",
       "        text-align: right;\n",
       "    }\n",
       "</style>\n",
       "<table border=\"1\" class=\"dataframe\">\n",
       "  <thead>\n",
       "    <tr style=\"text-align: right;\">\n",
       "      <th></th>\n",
       "      <th>gini_importance</th>\n",
       "    </tr>\n",
       "  </thead>\n",
       "  <tbody>\n",
       "    <tr>\n",
       "      <th>Sex_male</th>\n",
       "      <td>0.380617</td>\n",
       "    </tr>\n",
       "    <tr>\n",
       "      <th>Age</th>\n",
       "      <td>0.167270</td>\n",
       "    </tr>\n",
       "    <tr>\n",
       "      <th>Fare</th>\n",
       "      <td>0.161875</td>\n",
       "    </tr>\n",
       "    <tr>\n",
       "      <th>Pclass</th>\n",
       "      <td>0.095180</td>\n",
       "    </tr>\n",
       "    <tr>\n",
       "      <th>Ticket_freq</th>\n",
       "      <td>0.037726</td>\n",
       "    </tr>\n",
       "    <tr>\n",
       "      <th>Family_size</th>\n",
       "      <td>0.031145</td>\n",
       "    </tr>\n",
       "    <tr>\n",
       "      <th>Cabin_missing</th>\n",
       "      <td>0.027819</td>\n",
       "    </tr>\n",
       "    <tr>\n",
       "      <th>SibSp</th>\n",
       "      <td>0.024090</td>\n",
       "    </tr>\n",
       "    <tr>\n",
       "      <th>Embarked_S</th>\n",
       "      <td>0.016651</td>\n",
       "    </tr>\n",
       "    <tr>\n",
       "      <th>Parch</th>\n",
       "      <td>0.012883</td>\n",
       "    </tr>\n",
       "  </tbody>\n",
       "</table>\n",
       "</div>"
      ],
      "text/plain": [
       "               gini_importance\n",
       "Sex_male              0.380617\n",
       "Age                   0.167270\n",
       "Fare                  0.161875\n",
       "Pclass                0.095180\n",
       "Ticket_freq           0.037726\n",
       "Family_size           0.031145\n",
       "Cabin_missing         0.027819\n",
       "SibSp                 0.024090\n",
       "Embarked_S            0.016651\n",
       "Parch                 0.012883"
      ]
     },
     "execution_count": 74,
     "metadata": {},
     "output_type": "execute_result"
    }
   ],
   "source": [
    "forest_importance = pd.DataFrame(grid_search.best_estimator_.feature_importances_, \n",
    "                                 columns = ['gini_importance'], \n",
    "                                 index = X.columns\n",
    "                                )\n",
    "forest_importance = forest_importance.sort_values(by = 'gini_importance', ascending = False)\n",
    "\n",
    "#Only extracting the features with importances > 0 and only taking the first 10 features\n",
    "forest_importance = forest_importance[forest_importance['gini_importance'] != 0]\n",
    "forest_importance = forest_importance.head(10)\n",
    "forest_importance"
   ]
  },
  {
   "cell_type": "code",
   "execution_count": 75,
   "id": "48338c26",
   "metadata": {
    "execution": {
     "iopub.execute_input": "2024-09-05T12:43:17.803218Z",
     "iopub.status.busy": "2024-09-05T12:43:17.802356Z",
     "iopub.status.idle": "2024-09-05T12:43:18.150296Z",
     "shell.execute_reply": "2024-09-05T12:43:18.148868Z"
    },
    "papermill": {
     "duration": 0.398507,
     "end_time": "2024-09-05T12:43:18.153450",
     "exception": false,
     "start_time": "2024-09-05T12:43:17.754943",
     "status": "completed"
    },
    "tags": []
   },
   "outputs": [
    {
     "data": {
      "text/plain": [
       "Text(0.5, 0, 'Importance')"
      ]
     },
     "execution_count": 75,
     "metadata": {},
     "output_type": "execute_result"
    },
    {
     "data": {
      "image/png": "[encoded data removed]",
      "text/plain": [
       "<Figure size 640x480 with 1 Axes>"
      ]
     },
     "metadata": {},
     "output_type": "display_data"
    }
   ],
   "source": [
    "sns.barplot(data = forest_importance, x = \"gini_importance\", y = forest_importance.index, orient = 'h')\n",
    "plt.title(\"Feature importance\")\n",
    "plt.ylabel(\"Feature\")\n",
    "plt.xlabel(\"Importance\")"
   ]
  },
  {
   "cell_type": "markdown",
   "id": "fd42bf0d",
   "metadata": {
    "papermill": {
     "duration": 0.046861,
     "end_time": "2024-09-05T12:43:18.248272",
     "exception": false,
     "start_time": "2024-09-05T12:43:18.201411",
     "status": "completed"
    },
    "tags": []
   },
   "source": [
    "**3. Confusion matrix**"
   ]
  },
  {
   "cell_type": "code",
   "execution_count": 76,
   "id": "b12639b1",
   "metadata": {
    "execution": {
     "iopub.execute_input": "2024-09-05T12:43:18.346923Z",
     "iopub.status.busy": "2024-09-05T12:43:18.346445Z",
     "iopub.status.idle": "2024-09-05T12:43:18.638103Z",
     "shell.execute_reply": "2024-09-05T12:43:18.636894Z"
    },
    "papermill": {
     "duration": 0.344416,
     "end_time": "2024-09-05T12:43:18.640794",
     "exception": false,
     "start_time": "2024-09-05T12:43:18.296378",
     "status": "completed"
    },
    "tags": []
   },
   "outputs": [
    {
     "data": {
      "text/plain": [
       "<sklearn.metrics._plot.confusion_matrix.ConfusionMatrixDisplay at 0x7b0d08660eb0>"
      ]
     },
     "execution_count": 76,
     "metadata": {},
     "output_type": "execute_result"
    },
    {
     "data": {
      "image/png": "[encoded data removed]",
      "text/plain": [
       "<Figure size 640x480 with 2 Axes>"
      ]
     },
     "metadata": {},
     "output_type": "display_data"
    }
   ],
   "source": [
    "cm = confusion_matrix(y_val, y_pred, labels = best_rf.classes_)\n",
    "disp = ConfusionMatrixDisplay(cm, display_labels = best_rf.classes_)\n",
    "disp.plot(values_format = '')"
   ]
  },
  {
   "cell_type": "markdown",
   "id": "f5ee114f",
   "metadata": {
    "papermill": {
     "duration": 0.048655,
     "end_time": "2024-09-05T12:43:18.737580",
     "exception": false,
     "start_time": "2024-09-05T12:43:18.688925",
     "status": "completed"
    },
    "tags": []
   },
   "source": [
    "**4. Accuracy**"
   ]
  },
  {
   "cell_type": "code",
   "execution_count": 77,
   "id": "fd6cb050",
   "metadata": {
    "execution": {
     "iopub.execute_input": "2024-09-05T12:43:18.836689Z",
     "iopub.status.busy": "2024-09-05T12:43:18.836185Z",
     "iopub.status.idle": "2024-09-05T12:43:18.846359Z",
     "shell.execute_reply": "2024-09-05T12:43:18.845182Z"
    },
    "papermill": {
     "duration": 0.062675,
     "end_time": "2024-09-05T12:43:18.848970",
     "exception": false,
     "start_time": "2024-09-05T12:43:18.786295",
     "status": "completed"
    },
    "tags": []
   },
   "outputs": [
    {
     "data": {
      "text/plain": [
       "82.02247191011236"
      ]
     },
     "execution_count": 77,
     "metadata": {},
     "output_type": "execute_result"
    }
   ],
   "source": [
    "accuracy_score(y_val, y_pred) * 100"
   ]
  },
  {
   "cell_type": "markdown",
   "id": "141711d3",
   "metadata": {
    "papermill": {
     "duration": 0.047985,
     "end_time": "2024-09-05T12:43:18.947437",
     "exception": false,
     "start_time": "2024-09-05T12:43:18.899452",
     "status": "completed"
    },
    "tags": []
   },
   "source": [
    "## b) XGBoost"
   ]
  },
  {
   "cell_type": "code",
   "execution_count": 78,
   "id": "3db3b74a",
   "metadata": {
    "execution": {
     "iopub.execute_input": "2024-09-05T12:43:19.047588Z",
     "iopub.status.busy": "2024-09-05T12:43:19.046362Z",
     "iopub.status.idle": "2024-09-05T12:43:19.053230Z",
     "shell.execute_reply": "2024-09-05T12:43:19.052046Z"
    },
    "papermill": {
     "duration": 0.059993,
     "end_time": "2024-09-05T12:43:19.055880",
     "exception": false,
     "start_time": "2024-09-05T12:43:18.995887",
     "status": "completed"
    },
    "tags": []
   },
   "outputs": [],
   "source": [
    "param_grid_xgb = {\n",
    "    'n_estimators': [50, 100, 200],\n",
    "    'learning_rate': [0.01, 0.1, 0.2],\n",
    "    'max_depth': [3, 5, 7],\n",
    "    'min_child_weight': [1, 3, 5],\n",
    "    'subsample': [0.6, 0.8, 1.0]\n",
    "}"
   ]
  },
  {
   "cell_type": "code",
   "execution_count": 79,
   "id": "6f98311d",
   "metadata": {
    "execution": {
     "iopub.execute_input": "2024-09-05T12:43:19.155990Z",
     "iopub.status.busy": "2024-09-05T12:43:19.155543Z",
     "iopub.status.idle": "2024-09-05T12:43:19.160960Z",
     "shell.execute_reply": "2024-09-05T12:43:19.159792Z"
    },
    "papermill": {
     "duration": 0.057589,
     "end_time": "2024-09-05T12:43:19.163648",
     "exception": false,
     "start_time": "2024-09-05T12:43:19.106059",
     "status": "completed"
    },
    "tags": []
   },
   "outputs": [],
   "source": [
    "xgb = XGBClassifier(random_state = 42)"
   ]
  },
  {
   "cell_type": "code",
   "execution_count": 80,
   "id": "cae97953",
   "metadata": {
    "execution": {
     "iopub.execute_input": "2024-09-05T12:43:19.264014Z",
     "iopub.status.busy": "2024-09-05T12:43:19.263562Z",
     "iopub.status.idle": "2024-09-05T12:45:14.356203Z",
     "shell.execute_reply": "2024-09-05T12:45:14.355279Z"
    },
    "papermill": {
     "duration": 115.216818,
     "end_time": "2024-09-05T12:45:14.429361",
     "exception": false,
     "start_time": "2024-09-05T12:43:19.212543",
     "status": "completed"
    },
    "tags": []
   },
   "outputs": [
    {
     "name": "stdout",
     "output_type": "stream",
     "text": [
      "CPU times: user 7min 21s, sys: 9.63 s, total: 7min 30s\n",
      "Wall time: 1min 55s\n"
     ]
    },
    {
     "data": {
      "text/html": [
       "<style>#sk-container-id-3 {color: black;background-color: white;}#sk-container-id-3 pre{padding: 0;}#sk-container-id-3 div.sk-toggleable {background-color: white;}#sk-container-id-3 label.sk-toggleable__label {cursor: pointer;display: block;width: 100%;margin-bottom: 0;padding: 0.3em;box-sizing: border-box;text-align: center;}#sk-container-id-3 label.sk-toggleable__label-arrow:before {content: \"▸\";float: left;margin-right: 0.25em;color: #696969;}#sk-container-id-3 label.sk-toggleable__label-arrow:hover:before {color: black;}#sk-container-id-3 div.sk-estimator:hover label.sk-toggleable__label-arrow:before {color: black;}#sk-container-id-3 div.sk-toggleable__content {max-height: 0;max-width: 0;overflow: hidden;text-align: left;background-color: #f0f8ff;}#sk-container-id-3 div.sk-toggleable__content pre {margin: 0.2em;color: black;border-radius: 0.25em;background-color: #f0f8ff;}#sk-container-id-3 input.sk-toggleable__control:checked~div.sk-toggleable__content {max-height: 200px;max-width: 100%;overflow: auto;}#sk-container-id-3 input.sk-toggleable__control:checked~label.sk-toggleable__label-arrow:before {content: \"▾\";}#sk-container-id-3 div.sk-estimator input.sk-toggleable__control:checked~label.sk-toggleable__label {background-color: #d4ebff;}#sk-container-id-3 div.sk-label input.sk-toggleable__control:checked~label.sk-toggleable__label {background-color: #d4ebff;}#sk-container-id-3 input.sk-hidden--visually {border: 0;clip: rect(1px 1px 1px 1px);clip: rect(1px, 1px, 1px, 1px);height: 1px;margin: -1px;overflow: hidden;padding: 0;position: absolute;width: 1px;}#sk-container-id-3 div.sk-estimator {font-family: monospace;background-color: #f0f8ff;border: 1px dotted black;border-radius: 0.25em;box-sizing: border-box;margin-bottom: 0.5em;}#sk-container-id-3 div.sk-estimator:hover {background-color: #d4ebff;}#sk-container-id-3 div.sk-parallel-item::after {content: \"\";width: 100%;border-bottom: 1px solid gray;flex-grow: 1;}#sk-container-id-3 div.sk-label:hover label.sk-toggleable__label {background-color: #d4ebff;}#sk-container-id-3 div.sk-serial::before {content: \"\";position: absolute;border-left: 1px solid gray;box-sizing: border-box;top: 0;bottom: 0;left: 50%;z-index: 0;}#sk-container-id-3 div.sk-serial {display: flex;flex-direction: column;align-items: center;background-color: white;padding-right: 0.2em;padding-left: 0.2em;position: relative;}#sk-container-id-3 div.sk-item {position: relative;z-index: 1;}#sk-container-id-3 div.sk-parallel {display: flex;align-items: stretch;justify-content: center;background-color: white;position: relative;}#sk-container-id-3 div.sk-item::before, #sk-container-id-3 div.sk-parallel-item::before {content: \"\";position: absolute;border-left: 1px solid gray;box-sizing: border-box;top: 0;bottom: 0;left: 50%;z-index: -1;}#sk-container-id-3 div.sk-parallel-item {display: flex;flex-direction: column;z-index: 1;position: relative;background-color: white;}#sk-container-id-3 div.sk-parallel-item:first-child::after {align-self: flex-end;width: 50%;}#sk-container-id-3 div.sk-parallel-item:last-child::after {align-self: flex-start;width: 50%;}#sk-container-id-3 div.sk-parallel-item:only-child::after {width: 0;}#sk-container-id-3 div.sk-dashed-wrapped {border: 1px dashed gray;margin: 0 0.4em 0.5em 0.4em;box-sizing: border-box;padding-bottom: 0.4em;background-color: white;}#sk-container-id-3 div.sk-label label {font-family: monospace;font-weight: bold;display: inline-block;line-height: 1.2em;}#sk-container-id-3 div.sk-label-container {text-align: center;}#sk-container-id-3 div.sk-container {/* jupyter's `normalize.less` sets `[hidden] { display: none; }` but bootstrap.min.css set `[hidden] { display: none !important; }` so we also need the `!important` here to be able to override the default hidden behavior on the sphinx rendered scikit-learn.org. See: https://github.com/scikit-learn/scikit-learn/issues/21755 */display: inline-block !important;position: relative;}#sk-container-id-3 div.sk-text-repr-fallback {display: none;}</style><div id=\"sk-container-id-3\" class=\"sk-top-container\"><div class=\"sk-text-repr-fallback\"><pre>GridSearchCV(cv=5,\n",
       "             estimator=XGBClassifier(base_score=None, booster=None,\n",
       "                                     callbacks=None, colsample_bylevel=None,\n",
       "                                     colsample_bynode=None,\n",
       "                                     colsample_bytree=None, device=None,\n",
       "                                     early_stopping_rounds=None,\n",
       "                                     enable_categorical=False, eval_metric=None,\n",
       "                                     feature_types=None, gamma=None,\n",
       "                                     grow_policy=None, importance_type=None,\n",
       "                                     interaction_constraints=None,\n",
       "                                     learning_rate=None,...\n",
       "                                     max_delta_step=None, max_depth=None,\n",
       "                                     max_leaves=None, min_child_weight=None,\n",
       "                                     missing=nan, monotone_constraints=None,\n",
       "                                     multi_strategy=None, n_estimators=None,\n",
       "                                     n_jobs=None, num_parallel_tree=None,\n",
       "                                     random_state=42, ...),\n",
       "             param_grid={&#x27;learning_rate&#x27;: [0.01, 0.1, 0.2],\n",
       "                         &#x27;max_depth&#x27;: [3, 5, 7], &#x27;min_child_weight&#x27;: [1, 3, 5],\n",
       "                         &#x27;n_estimators&#x27;: [50, 100, 200],\n",
       "                         &#x27;subsample&#x27;: [0.6, 0.8, 1.0]},\n",
       "             scoring=&#x27;accuracy&#x27;)</pre><b>In a Jupyter environment, please rerun this cell to show the HTML representation or trust the notebook. <br />On GitHub, the HTML representation is unable to render, please try loading this page with nbviewer.org.</b></div><div class=\"sk-container\" hidden><div class=\"sk-item sk-dashed-wrapped\"><div class=\"sk-label-container\"><div class=\"sk-label sk-toggleable\"><input class=\"sk-toggleable__control sk-hidden--visually\" id=\"sk-estimator-id-7\" type=\"checkbox\" ><label for=\"sk-estimator-id-7\" class=\"sk-toggleable__label sk-toggleable__label-arrow\">GridSearchCV</label><div class=\"sk-toggleable__content\"><pre>GridSearchCV(cv=5,\n",
       "             estimator=XGBClassifier(base_score=None, booster=None,\n",
       "                                     callbacks=None, colsample_bylevel=None,\n",
       "                                     colsample_bynode=None,\n",
       "                                     colsample_bytree=None, device=None,\n",
       "                                     early_stopping_rounds=None,\n",
       "                                     enable_categorical=False, eval_metric=None,\n",
       "                                     feature_types=None, gamma=None,\n",
       "                                     grow_policy=None, importance_type=None,\n",
       "                                     interaction_constraints=None,\n",
       "                                     learning_rate=None,...\n",
       "                                     max_delta_step=None, max_depth=None,\n",
       "                                     max_leaves=None, min_child_weight=None,\n",
       "                                     missing=nan, monotone_constraints=None,\n",
       "                                     multi_strategy=None, n_estimators=None,\n",
       "                                     n_jobs=None, num_parallel_tree=None,\n",
       "                                     random_state=42, ...),\n",
       "             param_grid={&#x27;learning_rate&#x27;: [0.01, 0.1, 0.2],\n",
       "                         &#x27;max_depth&#x27;: [3, 5, 7], &#x27;min_child_weight&#x27;: [1, 3, 5],\n",
       "                         &#x27;n_estimators&#x27;: [50, 100, 200],\n",
       "                         &#x27;subsample&#x27;: [0.6, 0.8, 1.0]},\n",
       "             scoring=&#x27;accuracy&#x27;)</pre></div></div></div><div class=\"sk-parallel\"><div class=\"sk-parallel-item\"><div class=\"sk-item\"><div class=\"sk-label-container\"><div class=\"sk-label sk-toggleable\"><input class=\"sk-toggleable__control sk-hidden--visually\" id=\"sk-estimator-id-8\" type=\"checkbox\" ><label for=\"sk-estimator-id-8\" class=\"sk-toggleable__label sk-toggleable__label-arrow\">estimator: XGBClassifier</label><div class=\"sk-toggleable__content\"><pre>XGBClassifier(base_score=None, booster=None, callbacks=None,\n",
       "              colsample_bylevel=None, colsample_bynode=None,\n",
       "              colsample_bytree=None, device=None, early_stopping_rounds=None,\n",
       "              enable_categorical=False, eval_metric=None, feature_types=None,\n",
       "              gamma=None, grow_policy=None, importance_type=None,\n",
       "              interaction_constraints=None, learning_rate=None, max_bin=None,\n",
       "              max_cat_threshold=None, max_cat_to_onehot=None,\n",
       "              max_delta_step=None, max_depth=None, max_leaves=None,\n",
       "              min_child_weight=None, missing=nan, monotone_constraints=None,\n",
       "              multi_strategy=None, n_estimators=None, n_jobs=None,\n",
       "              num_parallel_tree=None, random_state=42, ...)</pre></div></div></div><div class=\"sk-serial\"><div class=\"sk-item\"><div class=\"sk-estimator sk-toggleable\"><input class=\"sk-toggleable__control sk-hidden--visually\" id=\"sk-estimator-id-9\" type=\"checkbox\" ><label for=\"sk-estimator-id-9\" class=\"sk-toggleable__label sk-toggleable__label-arrow\">XGBClassifier</label><div class=\"sk-toggleable__content\"><pre>XGBClassifier(base_score=None, booster=None, callbacks=None,\n",
       "              colsample_bylevel=None, colsample_bynode=None,\n",
       "              colsample_bytree=None, device=None, early_stopping_rounds=None,\n",
       "              enable_categorical=False, eval_metric=None, feature_types=None,\n",
       "              gamma=None, grow_policy=None, importance_type=None,\n",
       "              interaction_constraints=None, learning_rate=None, max_bin=None,\n",
       "              max_cat_threshold=None, max_cat_to_onehot=None,\n",
       "              max_delta_step=None, max_depth=None, max_leaves=None,\n",
       "              min_child_weight=None, missing=nan, monotone_constraints=None,\n",
       "              multi_strategy=None, n_estimators=None, n_jobs=None,\n",
       "              num_parallel_tree=None, random_state=42, ...)</pre></div></div></div></div></div></div></div></div></div></div>"
      ],
      "text/plain": [
       "GridSearchCV(cv=5,\n",
       "             estimator=XGBClassifier(base_score=None, booster=None,\n",
       "                                     callbacks=None, colsample_bylevel=None,\n",
       "                                     colsample_bynode=None,\n",
       "                                     colsample_bytree=None, device=None,\n",
       "                                     early_stopping_rounds=None,\n",
       "                                     enable_categorical=False, eval_metric=None,\n",
       "                                     feature_types=None, gamma=None,\n",
       "                                     grow_policy=None, importance_type=None,\n",
       "                                     interaction_constraints=None,\n",
       "                                     learning_rate=None,...\n",
       "                                     max_delta_step=None, max_depth=None,\n",
       "                                     max_leaves=None, min_child_weight=None,\n",
       "                                     missing=nan, monotone_constraints=None,\n",
       "                                     multi_strategy=None, n_estimators=None,\n",
       "                                     n_jobs=None, num_parallel_tree=None,\n",
       "                                     random_state=42, ...),\n",
       "             param_grid={'learning_rate': [0.01, 0.1, 0.2],\n",
       "                         'max_depth': [3, 5, 7], 'min_child_weight': [1, 3, 5],\n",
       "                         'n_estimators': [50, 100, 200],\n",
       "                         'subsample': [0.6, 0.8, 1.0]},\n",
       "             scoring='accuracy')"
      ]
     },
     "execution_count": 80,
     "metadata": {},
     "output_type": "execute_result"
    }
   ],
   "source": [
    "%%time\n",
    "\n",
    "grid_search_xgb = GridSearchCV(\n",
    "    estimator = xgb,\n",
    "    param_grid = param_grid_xgb,\n",
    "    cv = 5,\n",
    "    scoring = 'accuracy'\n",
    "    )\n",
    "\n",
    "grid_search_xgb.fit(X_train, y_train)"
   ]
  },
  {
   "cell_type": "code",
   "execution_count": 81,
   "id": "c4c3e018",
   "metadata": {
    "execution": {
     "iopub.execute_input": "2024-09-05T12:45:14.535636Z",
     "iopub.status.busy": "2024-09-05T12:45:14.535135Z",
     "iopub.status.idle": "2024-09-05T12:45:14.543637Z",
     "shell.execute_reply": "2024-09-05T12:45:14.542242Z"
    },
    "papermill": {
     "duration": 0.061371,
     "end_time": "2024-09-05T12:45:14.546384",
     "exception": false,
     "start_time": "2024-09-05T12:45:14.485013",
     "status": "completed"
    },
    "tags": []
   },
   "outputs": [
    {
     "name": "stdout",
     "output_type": "stream",
     "text": [
      "0.8352112676056338\n",
      "{'learning_rate': 0.01, 'max_depth': 5, 'min_child_weight': 3, 'n_estimators': 200, 'subsample': 1.0}\n",
      "XGBClassifier(base_score=None, booster=None, callbacks=None,\n",
      "              colsample_bylevel=None, colsample_bynode=None,\n",
      "              colsample_bytree=None, device=None, early_stopping_rounds=None,\n",
      "              enable_categorical=False, eval_metric=None, feature_types=None,\n",
      "              gamma=None, grow_policy=None, importance_type=None,\n",
      "              interaction_constraints=None, learning_rate=0.01, max_bin=None,\n",
      "              max_cat_threshold=None, max_cat_to_onehot=None,\n",
      "              max_delta_step=None, max_depth=5, max_leaves=None,\n",
      "              min_child_weight=3, missing=nan, monotone_constraints=None,\n",
      "              multi_strategy=None, n_estimators=200, n_jobs=None,\n",
      "              num_parallel_tree=None, random_state=42, ...)\n"
     ]
    }
   ],
   "source": [
    "print(grid_search_xgb.best_score_)\n",
    "print(grid_search_xgb.best_params_)\n",
    "print(grid_search_xgb.best_estimator_)"
   ]
  },
  {
   "cell_type": "code",
   "execution_count": 82,
   "id": "40a7a7c8",
   "metadata": {
    "execution": {
     "iopub.execute_input": "2024-09-05T12:45:14.650020Z",
     "iopub.status.busy": "2024-09-05T12:45:14.649587Z",
     "iopub.status.idle": "2024-09-05T12:45:14.655321Z",
     "shell.execute_reply": "2024-09-05T12:45:14.654110Z"
    },
    "papermill": {
     "duration": 0.060597,
     "end_time": "2024-09-05T12:45:14.657981",
     "exception": false,
     "start_time": "2024-09-05T12:45:14.597384",
     "status": "completed"
    },
    "tags": []
   },
   "outputs": [],
   "source": [
    "best_xgb = grid_search_xgb.best_estimator_"
   ]
  },
  {
   "cell_type": "code",
   "execution_count": 83,
   "id": "d232d82f",
   "metadata": {
    "execution": {
     "iopub.execute_input": "2024-09-05T12:45:14.757383Z",
     "iopub.status.busy": "2024-09-05T12:45:14.756924Z",
     "iopub.status.idle": "2024-09-05T12:45:14.769750Z",
     "shell.execute_reply": "2024-09-05T12:45:14.768753Z"
    },
    "papermill": {
     "duration": 0.065868,
     "end_time": "2024-09-05T12:45:14.772549",
     "exception": false,
     "start_time": "2024-09-05T12:45:14.706681",
     "status": "completed"
    },
    "tags": []
   },
   "outputs": [],
   "source": [
    "y_pred_xgb = best_xgb.predict(X_val)"
   ]
  },
  {
   "cell_type": "markdown",
   "id": "218c7f3a",
   "metadata": {
    "papermill": {
     "duration": 0.048364,
     "end_time": "2024-09-05T12:45:14.872702",
     "exception": false,
     "start_time": "2024-09-05T12:45:14.824338",
     "status": "completed"
    },
    "tags": []
   },
   "source": [
    "### Evaluation"
   ]
  },
  {
   "cell_type": "markdown",
   "id": "435b83da",
   "metadata": {
    "papermill": {
     "duration": 0.049218,
     "end_time": "2024-09-05T12:45:14.970625",
     "exception": false,
     "start_time": "2024-09-05T12:45:14.921407",
     "status": "completed"
    },
    "tags": []
   },
   "source": [
    "**1. Permutation importance**"
   ]
  },
  {
   "cell_type": "code",
   "execution_count": 84,
   "id": "bf1530c9",
   "metadata": {
    "execution": {
     "iopub.execute_input": "2024-09-05T12:45:15.070982Z",
     "iopub.status.busy": "2024-09-05T12:45:15.070527Z",
     "iopub.status.idle": "2024-09-05T12:45:15.853011Z",
     "shell.execute_reply": "2024-09-05T12:45:15.851218Z"
    },
    "papermill": {
     "duration": 0.835586,
     "end_time": "2024-09-05T12:45:15.855916",
     "exception": false,
     "start_time": "2024-09-05T12:45:15.020330",
     "status": "completed"
    },
    "tags": []
   },
   "outputs": [
    {
     "data": {
      "text/html": [
       "<style>#sk-container-id-4 {color: black;background-color: white;}#sk-container-id-4 pre{padding: 0;}#sk-container-id-4 div.sk-toggleable {background-color: white;}#sk-container-id-4 label.sk-toggleable__label {cursor: pointer;display: block;width: 100%;margin-bottom: 0;padding: 0.3em;box-sizing: border-box;text-align: center;}#sk-container-id-4 label.sk-toggleable__label-arrow:before {content: \"▸\";float: left;margin-right: 0.25em;color: #696969;}#sk-container-id-4 label.sk-toggleable__label-arrow:hover:before {color: black;}#sk-container-id-4 div.sk-estimator:hover label.sk-toggleable__label-arrow:before {color: black;}#sk-container-id-4 div.sk-toggleable__content {max-height: 0;max-width: 0;overflow: hidden;text-align: left;background-color: #f0f8ff;}#sk-container-id-4 div.sk-toggleable__content pre {margin: 0.2em;color: black;border-radius: 0.25em;background-color: #f0f8ff;}#sk-container-id-4 input.sk-toggleable__control:checked~div.sk-toggleable__content {max-height: 200px;max-width: 100%;overflow: auto;}#sk-container-id-4 input.sk-toggleable__control:checked~label.sk-toggleable__label-arrow:before {content: \"▾\";}#sk-container-id-4 div.sk-estimator input.sk-toggleable__control:checked~label.sk-toggleable__label {background-color: #d4ebff;}#sk-container-id-4 div.sk-label input.sk-toggleable__control:checked~label.sk-toggleable__label {background-color: #d4ebff;}#sk-container-id-4 input.sk-hidden--visually {border: 0;clip: rect(1px 1px 1px 1px);clip: rect(1px, 1px, 1px, 1px);height: 1px;margin: -1px;overflow: hidden;padding: 0;position: absolute;width: 1px;}#sk-container-id-4 div.sk-estimator {font-family: monospace;background-color: #f0f8ff;border: 1px dotted black;border-radius: 0.25em;box-sizing: border-box;margin-bottom: 0.5em;}#sk-container-id-4 div.sk-estimator:hover {background-color: #d4ebff;}#sk-container-id-4 div.sk-parallel-item::after {content: \"\";width: 100%;border-bottom: 1px solid gray;flex-grow: 1;}#sk-container-id-4 div.sk-label:hover label.sk-toggleable__label {background-color: #d4ebff;}#sk-container-id-4 div.sk-serial::before {content: \"\";position: absolute;border-left: 1px solid gray;box-sizing: border-box;top: 0;bottom: 0;left: 50%;z-index: 0;}#sk-container-id-4 div.sk-serial {display: flex;flex-direction: column;align-items: center;background-color: white;padding-right: 0.2em;padding-left: 0.2em;position: relative;}#sk-container-id-4 div.sk-item {position: relative;z-index: 1;}#sk-container-id-4 div.sk-parallel {display: flex;align-items: stretch;justify-content: center;background-color: white;position: relative;}#sk-container-id-4 div.sk-item::before, #sk-container-id-4 div.sk-parallel-item::before {content: \"\";position: absolute;border-left: 1px solid gray;box-sizing: border-box;top: 0;bottom: 0;left: 50%;z-index: -1;}#sk-container-id-4 div.sk-parallel-item {display: flex;flex-direction: column;z-index: 1;position: relative;background-color: white;}#sk-container-id-4 div.sk-parallel-item:first-child::after {align-self: flex-end;width: 50%;}#sk-container-id-4 div.sk-parallel-item:last-child::after {align-self: flex-start;width: 50%;}#sk-container-id-4 div.sk-parallel-item:only-child::after {width: 0;}#sk-container-id-4 div.sk-dashed-wrapped {border: 1px dashed gray;margin: 0 0.4em 0.5em 0.4em;box-sizing: border-box;padding-bottom: 0.4em;background-color: white;}#sk-container-id-4 div.sk-label label {font-family: monospace;font-weight: bold;display: inline-block;line-height: 1.2em;}#sk-container-id-4 div.sk-label-container {text-align: center;}#sk-container-id-4 div.sk-container {/* jupyter's `normalize.less` sets `[hidden] { display: none; }` but bootstrap.min.css set `[hidden] { display: none !important; }` so we also need the `!important` here to be able to override the default hidden behavior on the sphinx rendered scikit-learn.org. See: https://github.com/scikit-learn/scikit-learn/issues/21755 */display: inline-block !important;position: relative;}#sk-container-id-4 div.sk-text-repr-fallback {display: none;}</style><div id=\"sk-container-id-4\" class=\"sk-top-container\"><div class=\"sk-text-repr-fallback\"><pre>PermutationImportance(estimator=XGBClassifier(base_score=None, booster=None,\n",
       "                                              callbacks=None,\n",
       "                                              colsample_bylevel=None,\n",
       "                                              colsample_bynode=None,\n",
       "                                              colsample_bytree=None,\n",
       "                                              device=None,\n",
       "                                              early_stopping_rounds=None,\n",
       "                                              enable_categorical=False,\n",
       "                                              eval_metric=None,\n",
       "                                              feature_types=None, gamma=None,\n",
       "                                              grow_policy=None,\n",
       "                                              importance_type=None,\n",
       "                                              interaction_constraints=None,\n",
       "                                              learning_rate=0.01, max_bin=None,\n",
       "                                              max_cat_threshold=None,\n",
       "                                              max_cat_to_onehot=None,\n",
       "                                              max_delta_step=None, max_depth=5,\n",
       "                                              max_leaves=None,\n",
       "                                              min_child_weight=3, missing=nan,\n",
       "                                              monotone_constraints=None,\n",
       "                                              multi_strategy=None,\n",
       "                                              n_estimators=200, n_jobs=None,\n",
       "                                              num_parallel_tree=None,\n",
       "                                              random_state=42, ...),\n",
       "                      random_state=42)</pre><b>In a Jupyter environment, please rerun this cell to show the HTML representation or trust the notebook. <br />On GitHub, the HTML representation is unable to render, please try loading this page with nbviewer.org.</b></div><div class=\"sk-container\" hidden><div class=\"sk-item sk-dashed-wrapped\"><div class=\"sk-label-container\"><div class=\"sk-label sk-toggleable\"><input class=\"sk-toggleable__control sk-hidden--visually\" id=\"sk-estimator-id-10\" type=\"checkbox\" ><label for=\"sk-estimator-id-10\" class=\"sk-toggleable__label sk-toggleable__label-arrow\">PermutationImportance</label><div class=\"sk-toggleable__content\"><pre>PermutationImportance(estimator=XGBClassifier(base_score=None, booster=None,\n",
       "                                              callbacks=None,\n",
       "                                              colsample_bylevel=None,\n",
       "                                              colsample_bynode=None,\n",
       "                                              colsample_bytree=None,\n",
       "                                              device=None,\n",
       "                                              early_stopping_rounds=None,\n",
       "                                              enable_categorical=False,\n",
       "                                              eval_metric=None,\n",
       "                                              feature_types=None, gamma=None,\n",
       "                                              grow_policy=None,\n",
       "                                              importance_type=None,\n",
       "                                              interaction_constraints=None,\n",
       "                                              learning_rate=0.01, max_bin=None,\n",
       "                                              max_cat_threshold=None,\n",
       "                                              max_cat_to_onehot=None,\n",
       "                                              max_delta_step=None, max_depth=5,\n",
       "                                              max_leaves=None,\n",
       "                                              min_child_weight=3, missing=nan,\n",
       "                                              monotone_constraints=None,\n",
       "                                              multi_strategy=None,\n",
       "                                              n_estimators=200, n_jobs=None,\n",
       "                                              num_parallel_tree=None,\n",
       "                                              random_state=42, ...),\n",
       "                      random_state=42)</pre></div></div></div><div class=\"sk-parallel\"><div class=\"sk-parallel-item\"><div class=\"sk-item\"><div class=\"sk-label-container\"><div class=\"sk-label sk-toggleable\"><input class=\"sk-toggleable__control sk-hidden--visually\" id=\"sk-estimator-id-11\" type=\"checkbox\" ><label for=\"sk-estimator-id-11\" class=\"sk-toggleable__label sk-toggleable__label-arrow\">estimator: XGBClassifier</label><div class=\"sk-toggleable__content\"><pre>XGBClassifier(base_score=None, booster=None, callbacks=None,\n",
       "              colsample_bylevel=None, colsample_bynode=None,\n",
       "              colsample_bytree=None, device=None, early_stopping_rounds=None,\n",
       "              enable_categorical=False, eval_metric=None, feature_types=None,\n",
       "              gamma=None, grow_policy=None, importance_type=None,\n",
       "              interaction_constraints=None, learning_rate=0.01, max_bin=None,\n",
       "              max_cat_threshold=None, max_cat_to_onehot=None,\n",
       "              max_delta_step=None, max_depth=5, max_leaves=None,\n",
       "              min_child_weight=3, missing=nan, monotone_constraints=None,\n",
       "              multi_strategy=None, n_estimators=200, n_jobs=None,\n",
       "              num_parallel_tree=None, random_state=42, ...)</pre></div></div></div><div class=\"sk-serial\"><div class=\"sk-item\"><div class=\"sk-estimator sk-toggleable\"><input class=\"sk-toggleable__control sk-hidden--visually\" id=\"sk-estimator-id-12\" type=\"checkbox\" ><label for=\"sk-estimator-id-12\" class=\"sk-toggleable__label sk-toggleable__label-arrow\">XGBClassifier</label><div class=\"sk-toggleable__content\"><pre>XGBClassifier(base_score=None, booster=None, callbacks=None,\n",
       "              colsample_bylevel=None, colsample_bynode=None,\n",
       "              colsample_bytree=None, device=None, early_stopping_rounds=None,\n",
       "              enable_categorical=False, eval_metric=None, feature_types=None,\n",
       "              gamma=None, grow_policy=None, importance_type=None,\n",
       "              interaction_constraints=None, learning_rate=0.01, max_bin=None,\n",
       "              max_cat_threshold=None, max_cat_to_onehot=None,\n",
       "              max_delta_step=None, max_depth=5, max_leaves=None,\n",
       "              min_child_weight=3, missing=nan, monotone_constraints=None,\n",
       "              multi_strategy=None, n_estimators=200, n_jobs=None,\n",
       "              num_parallel_tree=None, random_state=42, ...)</pre></div></div></div></div></div></div></div></div></div></div>"
      ],
      "text/plain": [
       "PermutationImportance(estimator=XGBClassifier(base_score=None, booster=None,\n",
       "                                              callbacks=None,\n",
       "                                              colsample_bylevel=None,\n",
       "                                              colsample_bynode=None,\n",
       "                                              colsample_bytree=None,\n",
       "                                              device=None,\n",
       "                                              early_stopping_rounds=None,\n",
       "                                              enable_categorical=False,\n",
       "                                              eval_metric=None,\n",
       "                                              feature_types=None, gamma=None,\n",
       "                                              grow_policy=None,\n",
       "                                              importance_type=None,\n",
       "                                              interaction_constraints=None,\n",
       "                                              learning_rate=0.01, max_bin=None,\n",
       "                                              max_cat_threshold=None,\n",
       "                                              max_cat_to_onehot=None,\n",
       "                                              max_delta_step=None, max_depth=5,\n",
       "                                              max_leaves=None,\n",
       "                                              min_child_weight=3, missing=nan,\n",
       "                                              monotone_constraints=None,\n",
       "                                              multi_strategy=None,\n",
       "                                              n_estimators=200, n_jobs=None,\n",
       "                                              num_parallel_tree=None,\n",
       "                                              random_state=42, ...),\n",
       "                      random_state=42)"
      ]
     },
     "execution_count": 84,
     "metadata": {},
     "output_type": "execute_result"
    }
   ],
   "source": [
    "perm = PermutationImportance(best_xgb, random_state = 42)\n",
    "perm.fit(X_val, y_val)"
   ]
  },
  {
   "cell_type": "code",
   "execution_count": 85,
   "id": "0f732af4",
   "metadata": {
    "execution": {
     "iopub.execute_input": "2024-09-05T12:45:15.958697Z",
     "iopub.status.busy": "2024-09-05T12:45:15.958226Z",
     "iopub.status.idle": "2024-09-05T12:45:15.972548Z",
     "shell.execute_reply": "2024-09-05T12:45:15.971224Z"
    },
    "papermill": {
     "duration": 0.069505,
     "end_time": "2024-09-05T12:45:15.975724",
     "exception": false,
     "start_time": "2024-09-05T12:45:15.906219",
     "status": "completed"
    },
    "tags": []
   },
   "outputs": [
    {
     "data": {
      "text/html": [
       "\n",
       "    <style>\n",
       "    table.eli5-weights tr:hover {\n",
       "        filter: brightness(85%);\n",
       "    }\n",
       "</style>\n",
       "\n",
       "\n",
       "\n",
       "    \n",
       "\n",
       "    \n",
       "\n",
       "    \n",
       "\n",
       "    \n",
       "\n",
       "    \n",
       "\n",
       "    \n",
       "\n",
       "\n",
       "    \n",
       "\n",
       "    \n",
       "\n",
       "    \n",
       "\n",
       "    \n",
       "\n",
       "    \n",
       "\n",
       "    \n",
       "\n",
       "\n",
       "    \n",
       "\n",
       "    \n",
       "\n",
       "    \n",
       "\n",
       "    \n",
       "\n",
       "    \n",
       "        <table class=\"eli5-weights eli5-feature-importances\" style=\"border-collapse: collapse; border: none; margin-top: 0em; table-layout: auto;\">\n",
       "    <thead>\n",
       "    <tr style=\"border: none;\">\n",
       "        <th style=\"padding: 0 1em 0 0.5em; text-align: right; border: none;\">Weight</th>\n",
       "        <th style=\"padding: 0 0.5em 0 0.5em; text-align: left; border: none;\">Feature</th>\n",
       "    </tr>\n",
       "    </thead>\n",
       "    <tbody>\n",
       "    \n",
       "        <tr style=\"background-color: hsl(120, 100.00%, 80.00%); border: none;\">\n",
       "            <td style=\"padding: 0 1em 0 0.5em; text-align: right; border: none;\">\n",
       "                0.1663\n",
       "                \n",
       "                    &plusmn; 0.0315\n",
       "                \n",
       "            </td>\n",
       "            <td style=\"padding: 0 0.5em 0 0.5em; text-align: left; border: none;\">\n",
       "                Sex_male\n",
       "            </td>\n",
       "        </tr>\n",
       "    \n",
       "        <tr style=\"background-color: hsl(120, 100.00%, 84.91%); border: none;\">\n",
       "            <td style=\"padding: 0 1em 0 0.5em; text-align: right; border: none;\">\n",
       "                0.1112\n",
       "                \n",
       "                    &plusmn; 0.0206\n",
       "                \n",
       "            </td>\n",
       "            <td style=\"padding: 0 0.5em 0 0.5em; text-align: left; border: none;\">\n",
       "                Pclass\n",
       "            </td>\n",
       "        </tr>\n",
       "    \n",
       "        <tr style=\"background-color: hsl(120, 100.00%, 95.60%); border: none;\">\n",
       "            <td style=\"padding: 0 1em 0 0.5em; text-align: right; border: none;\">\n",
       "                0.0191\n",
       "                \n",
       "                    &plusmn; 0.0298\n",
       "                \n",
       "            </td>\n",
       "            <td style=\"padding: 0 0.5em 0 0.5em; text-align: left; border: none;\">\n",
       "                Age\n",
       "            </td>\n",
       "        </tr>\n",
       "    \n",
       "        <tr style=\"background-color: hsl(120, 100.00%, 99.39%); border: none;\">\n",
       "            <td style=\"padding: 0 1em 0 0.5em; text-align: right; border: none;\">\n",
       "                0.0011\n",
       "                \n",
       "                    &plusmn; 0.0240\n",
       "                \n",
       "            </td>\n",
       "            <td style=\"padding: 0 0.5em 0 0.5em; text-align: left; border: none;\">\n",
       "                Fare\n",
       "            </td>\n",
       "        </tr>\n",
       "    \n",
       "        <tr style=\"background-color: hsl(0, 100.00%, 100.00%); border: none;\">\n",
       "            <td style=\"padding: 0 1em 0 0.5em; text-align: right; border: none;\">\n",
       "                0\n",
       "                \n",
       "                    &plusmn; 0.0000\n",
       "                \n",
       "            </td>\n",
       "            <td style=\"padding: 0 0.5em 0 0.5em; text-align: left; border: none;\">\n",
       "                Cabin_letter_E\n",
       "            </td>\n",
       "        </tr>\n",
       "    \n",
       "        <tr style=\"background-color: hsl(0, 100.00%, 100.00%); border: none;\">\n",
       "            <td style=\"padding: 0 1em 0 0.5em; text-align: right; border: none;\">\n",
       "                0\n",
       "                \n",
       "                    &plusmn; 0.0000\n",
       "                \n",
       "            </td>\n",
       "            <td style=\"padding: 0 0.5em 0 0.5em; text-align: left; border: none;\">\n",
       "                Age_group_adult\n",
       "            </td>\n",
       "        </tr>\n",
       "    \n",
       "        <tr style=\"background-color: hsl(0, 100.00%, 100.00%); border: none;\">\n",
       "            <td style=\"padding: 0 1em 0 0.5em; text-align: right; border: none;\">\n",
       "                0\n",
       "                \n",
       "                    &plusmn; 0.0000\n",
       "                \n",
       "            </td>\n",
       "            <td style=\"padding: 0 0.5em 0 0.5em; text-align: left; border: none;\">\n",
       "                Age_group_young adult\n",
       "            </td>\n",
       "        </tr>\n",
       "    \n",
       "        <tr style=\"background-color: hsl(0, 100.00%, 100.00%); border: none;\">\n",
       "            <td style=\"padding: 0 1em 0 0.5em; text-align: right; border: none;\">\n",
       "                0\n",
       "                \n",
       "                    &plusmn; 0.0000\n",
       "                \n",
       "            </td>\n",
       "            <td style=\"padding: 0 0.5em 0 0.5em; text-align: left; border: none;\">\n",
       "                Age_group_teen\n",
       "            </td>\n",
       "        </tr>\n",
       "    \n",
       "        <tr style=\"background-color: hsl(0, 100.00%, 100.00%); border: none;\">\n",
       "            <td style=\"padding: 0 1em 0 0.5em; text-align: right; border: none;\">\n",
       "                0\n",
       "                \n",
       "                    &plusmn; 0.0000\n",
       "                \n",
       "            </td>\n",
       "            <td style=\"padding: 0 0.5em 0 0.5em; text-align: left; border: none;\">\n",
       "                Ticket_freq\n",
       "            </td>\n",
       "        </tr>\n",
       "    \n",
       "        <tr style=\"background-color: hsl(0, 100.00%, 100.00%); border: none;\">\n",
       "            <td style=\"padding: 0 1em 0 0.5em; text-align: right; border: none;\">\n",
       "                0\n",
       "                \n",
       "                    &plusmn; 0.0000\n",
       "                \n",
       "            </td>\n",
       "            <td style=\"padding: 0 0.5em 0 0.5em; text-align: left; border: none;\">\n",
       "                Cabin_letter_G\n",
       "            </td>\n",
       "        </tr>\n",
       "    \n",
       "        <tr style=\"background-color: hsl(0, 100.00%, 100.00%); border: none;\">\n",
       "            <td style=\"padding: 0 1em 0 0.5em; text-align: right; border: none;\">\n",
       "                0\n",
       "                \n",
       "                    &plusmn; 0.0000\n",
       "                \n",
       "            </td>\n",
       "            <td style=\"padding: 0 0.5em 0 0.5em; text-align: left; border: none;\">\n",
       "                Age_group_old\n",
       "            </td>\n",
       "        </tr>\n",
       "    \n",
       "        <tr style=\"background-color: hsl(0, 100.00%, 100.00%); border: none;\">\n",
       "            <td style=\"padding: 0 1em 0 0.5em; text-align: right; border: none;\">\n",
       "                0\n",
       "                \n",
       "                    &plusmn; 0.0000\n",
       "                \n",
       "            </td>\n",
       "            <td style=\"padding: 0 0.5em 0 0.5em; text-align: left; border: none;\">\n",
       "                Age_group_senior\n",
       "            </td>\n",
       "        </tr>\n",
       "    \n",
       "        <tr style=\"background-color: hsl(0, 100.00%, 100.00%); border: none;\">\n",
       "            <td style=\"padding: 0 1em 0 0.5em; text-align: right; border: none;\">\n",
       "                0\n",
       "                \n",
       "                    &plusmn; 0.0000\n",
       "                \n",
       "            </td>\n",
       "            <td style=\"padding: 0 0.5em 0 0.5em; text-align: left; border: none;\">\n",
       "                Cabin_letter_D\n",
       "            </td>\n",
       "        </tr>\n",
       "    \n",
       "        <tr style=\"background-color: hsl(0, 100.00%, 100.00%); border: none;\">\n",
       "            <td style=\"padding: 0 1em 0 0.5em; text-align: right; border: none;\">\n",
       "                0\n",
       "                \n",
       "                    &plusmn; 0.0000\n",
       "                \n",
       "            </td>\n",
       "            <td style=\"padding: 0 0.5em 0 0.5em; text-align: left; border: none;\">\n",
       "                Cabin_letter_C\n",
       "            </td>\n",
       "        </tr>\n",
       "    \n",
       "        <tr style=\"background-color: hsl(0, 100.00%, 100.00%); border: none;\">\n",
       "            <td style=\"padding: 0 1em 0 0.5em; text-align: right; border: none;\">\n",
       "                0\n",
       "                \n",
       "                    &plusmn; 0.0000\n",
       "                \n",
       "            </td>\n",
       "            <td style=\"padding: 0 0.5em 0 0.5em; text-align: left; border: none;\">\n",
       "                Cabin_letter_B\n",
       "            </td>\n",
       "        </tr>\n",
       "    \n",
       "        <tr style=\"background-color: hsl(0, 100.00%, 100.00%); border: none;\">\n",
       "            <td style=\"padding: 0 1em 0 0.5em; text-align: right; border: none;\">\n",
       "                0\n",
       "                \n",
       "                    &plusmn; 0.0000\n",
       "                \n",
       "            </td>\n",
       "            <td style=\"padding: 0 0.5em 0 0.5em; text-align: left; border: none;\">\n",
       "                Embarked_S\n",
       "            </td>\n",
       "        </tr>\n",
       "    \n",
       "        <tr style=\"background-color: hsl(0, 100.00%, 100.00%); border: none;\">\n",
       "            <td style=\"padding: 0 1em 0 0.5em; text-align: right; border: none;\">\n",
       "                0.0000\n",
       "                \n",
       "                    &plusmn; 0.0071\n",
       "                \n",
       "            </td>\n",
       "            <td style=\"padding: 0 0.5em 0 0.5em; text-align: left; border: none;\">\n",
       "                SibSp\n",
       "            </td>\n",
       "        </tr>\n",
       "    \n",
       "        <tr style=\"background-color: hsl(0, 100.00%, 100.00%); border: none;\">\n",
       "            <td style=\"padding: 0 1em 0 0.5em; text-align: right; border: none;\">\n",
       "                0\n",
       "                \n",
       "                    &plusmn; 0.0000\n",
       "                \n",
       "            </td>\n",
       "            <td style=\"padding: 0 0.5em 0 0.5em; text-align: left; border: none;\">\n",
       "                Cabin_letter_F\n",
       "            </td>\n",
       "        </tr>\n",
       "    \n",
       "        <tr style=\"background-color: hsl(0, 100.00%, 99.39%); border: none;\">\n",
       "            <td style=\"padding: 0 1em 0 0.5em; text-align: right; border: none;\">\n",
       "                -0.0011\n",
       "                \n",
       "                    &plusmn; 0.0084\n",
       "                \n",
       "            </td>\n",
       "            <td style=\"padding: 0 0.5em 0 0.5em; text-align: left; border: none;\">\n",
       "                Family_size\n",
       "            </td>\n",
       "        </tr>\n",
       "    \n",
       "        <tr style=\"background-color: hsl(0, 100.00%, 99.02%); border: none;\">\n",
       "            <td style=\"padding: 0 1em 0 0.5em; text-align: right; border: none;\">\n",
       "                -0.0022\n",
       "                \n",
       "                    &plusmn; 0.0090\n",
       "                \n",
       "            </td>\n",
       "            <td style=\"padding: 0 0.5em 0 0.5em; text-align: left; border: none;\">\n",
       "                Embarked_Q\n",
       "            </td>\n",
       "        </tr>\n",
       "    \n",
       "    \n",
       "        \n",
       "            <tr style=\"background-color: hsl(0, 100.00%, 99.02%); border: none;\">\n",
       "                <td colspan=\"2\" style=\"padding: 0 0.5em 0 0.5em; text-align: center; border: none; white-space: nowrap;\">\n",
       "                    <i>&hellip; 2 more &hellip;</i>\n",
       "                </td>\n",
       "            </tr>\n",
       "        \n",
       "    \n",
       "    </tbody>\n",
       "</table>\n",
       "    \n",
       "\n",
       "    \n",
       "\n",
       "\n",
       "    \n",
       "\n",
       "    \n",
       "\n",
       "    \n",
       "\n",
       "    \n",
       "\n",
       "    \n",
       "\n",
       "    \n",
       "\n",
       "\n",
       "\n"
      ],
      "text/plain": [
       "<IPython.core.display.HTML object>"
      ]
     },
     "execution_count": 85,
     "metadata": {},
     "output_type": "execute_result"
    }
   ],
   "source": [
    "eli5.show_weights(perm, feature_names = X_val.columns.tolist())"
   ]
  },
  {
   "cell_type": "markdown",
   "id": "ecefaf35",
   "metadata": {
    "papermill": {
     "duration": 0.05052,
     "end_time": "2024-09-05T12:45:16.077714",
     "exception": false,
     "start_time": "2024-09-05T12:45:16.027194",
     "status": "completed"
    },
    "tags": []
   },
   "source": [
    "**2. Feature importance**"
   ]
  },
  {
   "cell_type": "code",
   "execution_count": 86,
   "id": "9a422856",
   "metadata": {
    "execution": {
     "iopub.execute_input": "2024-09-05T12:45:16.187658Z",
     "iopub.status.busy": "2024-09-05T12:45:16.187190Z",
     "iopub.status.idle": "2024-09-05T12:45:16.627006Z",
     "shell.execute_reply": "2024-09-05T12:45:16.625924Z"
    },
    "papermill": {
     "duration": 0.495844,
     "end_time": "2024-09-05T12:45:16.629896",
     "exception": false,
     "start_time": "2024-09-05T12:45:16.134052",
     "status": "completed"
    },
    "tags": []
   },
   "outputs": [
    {
     "data": {
      "text/plain": [
       "<Axes: title={'center': 'Feature importance'}, xlabel='F score', ylabel='Features'>"
      ]
     },
     "execution_count": 86,
     "metadata": {},
     "output_type": "execute_result"
    },
    {
     "data": {
      "image/png": "[encoded data removed]",
      "text/plain": [
       "<Figure size 640x480 with 1 Axes>"
      ]
     },
     "metadata": {},
     "output_type": "display_data"
    }
   ],
   "source": [
    "plot_importance(grid_search_xgb.best_estimator_)"
   ]
  },
  {
   "cell_type": "markdown",
   "id": "31c7af3a",
   "metadata": {
    "papermill": {
     "duration": 0.05148,
     "end_time": "2024-09-05T12:45:16.734378",
     "exception": false,
     "start_time": "2024-09-05T12:45:16.682898",
     "status": "completed"
    },
    "tags": []
   },
   "source": [
    "**3. Confusion Matrix**"
   ]
  },
  {
   "cell_type": "code",
   "execution_count": 87,
   "id": "747a4630",
   "metadata": {
    "execution": {
     "iopub.execute_input": "2024-09-05T12:45:16.838410Z",
     "iopub.status.busy": "2024-09-05T12:45:16.837969Z",
     "iopub.status.idle": "2024-09-05T12:45:17.157535Z",
     "shell.execute_reply": "2024-09-05T12:45:17.156082Z"
    },
    "papermill": {
     "duration": 0.374915,
     "end_time": "2024-09-05T12:45:17.160373",
     "exception": false,
     "start_time": "2024-09-05T12:45:16.785458",
     "status": "completed"
    },
    "tags": []
   },
   "outputs": [
    {
     "data": {
      "text/plain": [
       "<sklearn.metrics._plot.confusion_matrix.ConfusionMatrixDisplay at 0x7b0d08661c00>"
      ]
     },
     "execution_count": 87,
     "metadata": {},
     "output_type": "execute_result"
    },
    {
     "data": {
      "image/png": "[encoded data removed]",
      "text/plain": [
       "<Figure size 640x480 with 2 Axes>"
      ]
     },
     "metadata": {},
     "output_type": "display_data"
    }
   ],
   "source": [
    "cm_xgb = confusion_matrix(y_val, y_pred_xgb, labels = best_xgb.classes_)\n",
    "disp_xgb = ConfusionMatrixDisplay(cm_xgb, display_labels = best_xgb.classes_)\n",
    "disp_xgb.plot()"
   ]
  },
  {
   "cell_type": "markdown",
   "id": "4ff2de6a",
   "metadata": {
    "papermill": {
     "duration": 0.051376,
     "end_time": "2024-09-05T12:45:17.263220",
     "exception": false,
     "start_time": "2024-09-05T12:45:17.211844",
     "status": "completed"
    },
    "tags": []
   },
   "source": [
    "**4. Accuracy**"
   ]
  },
  {
   "cell_type": "code",
   "execution_count": 88,
   "id": "e1f9a60d",
   "metadata": {
    "execution": {
     "iopub.execute_input": "2024-09-05T12:45:17.368532Z",
     "iopub.status.busy": "2024-09-05T12:45:17.367418Z",
     "iopub.status.idle": "2024-09-05T12:45:17.376959Z",
     "shell.execute_reply": "2024-09-05T12:45:17.375776Z"
    },
    "papermill": {
     "duration": 0.0651,
     "end_time": "2024-09-05T12:45:17.379514",
     "exception": false,
     "start_time": "2024-09-05T12:45:17.314414",
     "status": "completed"
    },
    "tags": []
   },
   "outputs": [
    {
     "data": {
      "text/plain": [
       "80.33707865168539"
      ]
     },
     "execution_count": 88,
     "metadata": {},
     "output_type": "execute_result"
    }
   ],
   "source": [
    "accuracy_score(y_val, y_pred_xgb) * 100"
   ]
  },
  {
   "cell_type": "markdown",
   "id": "b7536e46",
   "metadata": {
    "papermill": {
     "duration": 0.052679,
     "end_time": "2024-09-05T12:45:17.484245",
     "exception": false,
     "start_time": "2024-09-05T12:45:17.431566",
     "status": "completed"
    },
    "tags": []
   },
   "source": [
    "# Final predictions and Creating submission file"
   ]
  },
  {
   "cell_type": "code",
   "execution_count": 89,
   "id": "7d92152d",
   "metadata": {
    "execution": {
     "iopub.execute_input": "2024-09-05T12:45:17.589565Z",
     "iopub.status.busy": "2024-09-05T12:45:17.589086Z",
     "iopub.status.idle": "2024-09-05T12:45:17.611448Z",
     "shell.execute_reply": "2024-09-05T12:45:17.610176Z"
    },
    "papermill": {
     "duration": 0.079052,
     "end_time": "2024-09-05T12:45:17.614462",
     "exception": false,
     "start_time": "2024-09-05T12:45:17.535410",
     "status": "completed"
    },
    "tags": []
   },
   "outputs": [],
   "source": [
    "final_pred = best_rf.predict(df_test)"
   ]
  },
  {
   "cell_type": "code",
   "execution_count": 90,
   "id": "e2c214fb",
   "metadata": {
    "execution": {
     "iopub.execute_input": "2024-09-05T12:45:17.720257Z",
     "iopub.status.busy": "2024-09-05T12:45:17.719829Z",
     "iopub.status.idle": "2024-09-05T12:45:17.730144Z",
     "shell.execute_reply": "2024-09-05T12:45:17.729045Z"
    },
    "papermill": {
     "duration": 0.066564,
     "end_time": "2024-09-05T12:45:17.732896",
     "exception": false,
     "start_time": "2024-09-05T12:45:17.666332",
     "status": "completed"
    },
    "tags": []
   },
   "outputs": [],
   "source": [
    "submission = pd.DataFrame({\n",
    "    'PassengerId': df_test_copy['PassengerId'],\n",
    "    'Survived': final_pred\n",
    "})\n",
    "\n",
    "submission.to_csv('submission.csv', index = False)"
   ]
  }
 ],
 "metadata": {
  "kaggle": {
   "accelerator": "none",
   "dataSources": [
    {
     "databundleVersionId": 26502,
     "sourceId": 3136,
     "sourceType": "competition"
    }
   ],
   "dockerImageVersionId": 30761,
   "isGpuEnabled": false,
   "isInternetEnabled": true,
   "language": "python",
   "sourceType": "notebook"
  },
  "kernelspec": {
   "display_name": "Python 3",
   "language": "python",
   "name": "python3"
  },
  "language_info": {
   "codemirror_mode": {
    "name": "ipython",
    "version": 3
   },
   "file_extension": ".py",
   "mimetype": "text/x-python",
   "name": "python",
   "nbconvert_exporter": "python",
   "pygments_lexer": "ipython3",
   "version": "3.10.14"
  },
  "papermill": {
   "default_parameters": {},
   "duration": 324.832087,
   "end_time": "2024-09-05T12:45:20.665833",
   "environment_variables": {},
   "exception": null,
   "input_path": "__notebook__.ipynb",
   "output_path": "__notebook__.ipynb",
   "parameters": {},
   "start_time": "2024-09-05T12:39:55.833746",
   "version": "2.6.0"
  }
 },
 "nbformat": 4,
 "nbformat_minor": 5
}
